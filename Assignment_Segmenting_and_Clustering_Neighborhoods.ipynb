{
 "cells": [
  {
   "cell_type": "markdown",
   "metadata": {},
   "source": [
    "## Read Wikipedia Table"
   ]
  },
  {
   "cell_type": "code",
   "execution_count": 11,
   "metadata": {},
   "outputs": [],
   "source": [
    "import numpy as np\n",
    "import pandas as pd"
   ]
  },
  {
   "cell_type": "code",
   "execution_count": 12,
   "metadata": {},
   "outputs": [],
   "source": [
    "url = 'https://en.wikipedia.org/wiki/List_of_postal_codes_of_Canada:_M'\n",
    "table = pd.read_html(url)"
   ]
  },
  {
   "cell_type": "code",
   "execution_count": 13,
   "metadata": {},
   "outputs": [
    {
     "data": {
      "text/html": [
       "<div>\n",
       "<style scoped>\n",
       "    .dataframe tbody tr th:only-of-type {\n",
       "        vertical-align: middle;\n",
       "    }\n",
       "\n",
       "    .dataframe tbody tr th {\n",
       "        vertical-align: top;\n",
       "    }\n",
       "\n",
       "    .dataframe thead th {\n",
       "        text-align: right;\n",
       "    }\n",
       "</style>\n",
       "<table border=\"1\" class=\"dataframe\">\n",
       "  <thead>\n",
       "    <tr style=\"text-align: right;\">\n",
       "      <th></th>\n",
       "      <th>PostalCode</th>\n",
       "      <th>Borough</th>\n",
       "      <th>Neighborhood</th>\n",
       "    </tr>\n",
       "  </thead>\n",
       "  <tbody>\n",
       "    <tr>\n",
       "      <th>0</th>\n",
       "      <td>M1A</td>\n",
       "      <td>Not assigned</td>\n",
       "      <td>Not assigned</td>\n",
       "    </tr>\n",
       "    <tr>\n",
       "      <th>1</th>\n",
       "      <td>M2A</td>\n",
       "      <td>Not assigned</td>\n",
       "      <td>Not assigned</td>\n",
       "    </tr>\n",
       "    <tr>\n",
       "      <th>2</th>\n",
       "      <td>M3A</td>\n",
       "      <td>North York</td>\n",
       "      <td>Parkwoods</td>\n",
       "    </tr>\n",
       "    <tr>\n",
       "      <th>3</th>\n",
       "      <td>M4A</td>\n",
       "      <td>North York</td>\n",
       "      <td>Victoria Village</td>\n",
       "    </tr>\n",
       "    <tr>\n",
       "      <th>4</th>\n",
       "      <td>M5A</td>\n",
       "      <td>Downtown Toronto</td>\n",
       "      <td>Harbourfront</td>\n",
       "    </tr>\n",
       "  </tbody>\n",
       "</table>\n",
       "</div>"
      ],
      "text/plain": [
       "  PostalCode           Borough      Neighborhood\n",
       "0        M1A      Not assigned      Not assigned\n",
       "1        M2A      Not assigned      Not assigned\n",
       "2        M3A        North York         Parkwoods\n",
       "3        M4A        North York  Victoria Village\n",
       "4        M5A  Downtown Toronto      Harbourfront"
      ]
     },
     "execution_count": 13,
     "metadata": {},
     "output_type": "execute_result"
    }
   ],
   "source": [
    "# Acuiring neighborhood table\n",
    "neighborhood = table[0]\n",
    "neighborhood.columns = ['PostalCode','Borough','Neighborhood']\n",
    "neighborhood.head()"
   ]
  },
  {
   "cell_type": "code",
   "execution_count": 14,
   "metadata": {},
   "outputs": [
    {
     "data": {
      "text/html": [
       "<div>\n",
       "<style scoped>\n",
       "    .dataframe tbody tr th:only-of-type {\n",
       "        vertical-align: middle;\n",
       "    }\n",
       "\n",
       "    .dataframe tbody tr th {\n",
       "        vertical-align: top;\n",
       "    }\n",
       "\n",
       "    .dataframe thead th {\n",
       "        text-align: right;\n",
       "    }\n",
       "</style>\n",
       "<table border=\"1\" class=\"dataframe\">\n",
       "  <thead>\n",
       "    <tr style=\"text-align: right;\">\n",
       "      <th></th>\n",
       "      <th>PostalCode</th>\n",
       "      <th>Borough</th>\n",
       "      <th>Neighborhood</th>\n",
       "    </tr>\n",
       "  </thead>\n",
       "  <tbody>\n",
       "    <tr>\n",
       "      <th>0</th>\n",
       "      <td>M3A</td>\n",
       "      <td>North York</td>\n",
       "      <td>Parkwoods</td>\n",
       "    </tr>\n",
       "    <tr>\n",
       "      <th>1</th>\n",
       "      <td>M4A</td>\n",
       "      <td>North York</td>\n",
       "      <td>Victoria Village</td>\n",
       "    </tr>\n",
       "    <tr>\n",
       "      <th>2</th>\n",
       "      <td>M5A</td>\n",
       "      <td>Downtown Toronto</td>\n",
       "      <td>Harbourfront</td>\n",
       "    </tr>\n",
       "    <tr>\n",
       "      <th>3</th>\n",
       "      <td>M5A</td>\n",
       "      <td>Downtown Toronto</td>\n",
       "      <td>Regent Park</td>\n",
       "    </tr>\n",
       "    <tr>\n",
       "      <th>4</th>\n",
       "      <td>M6A</td>\n",
       "      <td>North York</td>\n",
       "      <td>Lawrence Heights</td>\n",
       "    </tr>\n",
       "  </tbody>\n",
       "</table>\n",
       "</div>"
      ],
      "text/plain": [
       "  PostalCode           Borough      Neighborhood\n",
       "0        M3A        North York         Parkwoods\n",
       "1        M4A        North York  Victoria Village\n",
       "2        M5A  Downtown Toronto      Harbourfront\n",
       "3        M5A  Downtown Toronto       Regent Park\n",
       "4        M6A        North York  Lawrence Heights"
      ]
     },
     "execution_count": 14,
     "metadata": {},
     "output_type": "execute_result"
    }
   ],
   "source": [
    "# Drop 'Not assigned' in the Borough column\n",
    "neighborhood_dropped = neighborhood[~neighborhood['Borough'].str.contains('Not assigned')].reset_index(drop = True)\n",
    "neighborhood_dropped.head()"
   ]
  },
  {
   "cell_type": "code",
   "execution_count": 15,
   "metadata": {},
   "outputs": [],
   "source": [
    "# Remove 'not assigned' in the Neighborhood column\n",
    "post_lst = []\n",
    "borough_lst = []\n",
    "neighbor_lst = []\n",
    "\n",
    "for index, row in neighborhood_dropped.iterrows():\n",
    "    Postal = row['PostalCode']\n",
    "    Borough = row['Borough']\n",
    "    if row['Neighborhood'] == 'Not assigned':\n",
    "        Neighborhood = Borough\n",
    "    else:\n",
    "        Neighborhood = row['Neighborhood']\n",
    "    post_lst.append(Postal)\n",
    "    borough_lst.append(Borough)\n",
    "    neighbor_lst.append(Neighborhood)\n",
    "    \n",
    "neighbor_df_non_na = pd.DataFrame({'PostalCode':post_lst, 'Borough':borough_lst, 'Neighborhood':neighbor_lst})"
   ]
  },
  {
   "cell_type": "code",
   "execution_count": 16,
   "metadata": {},
   "outputs": [
    {
     "data": {
      "text/html": [
       "<div>\n",
       "<style scoped>\n",
       "    .dataframe tbody tr th:only-of-type {\n",
       "        vertical-align: middle;\n",
       "    }\n",
       "\n",
       "    .dataframe tbody tr th {\n",
       "        vertical-align: top;\n",
       "    }\n",
       "\n",
       "    .dataframe thead th {\n",
       "        text-align: right;\n",
       "    }\n",
       "</style>\n",
       "<table border=\"1\" class=\"dataframe\">\n",
       "  <thead>\n",
       "    <tr style=\"text-align: right;\">\n",
       "      <th></th>\n",
       "      <th>PostalCode</th>\n",
       "      <th>Borough</th>\n",
       "      <th>Neighborhood</th>\n",
       "    </tr>\n",
       "  </thead>\n",
       "  <tbody>\n",
       "    <tr>\n",
       "      <th>0</th>\n",
       "      <td>M3A</td>\n",
       "      <td>North York</td>\n",
       "      <td>Parkwoods</td>\n",
       "    </tr>\n",
       "    <tr>\n",
       "      <th>1</th>\n",
       "      <td>M4A</td>\n",
       "      <td>North York</td>\n",
       "      <td>Victoria Village</td>\n",
       "    </tr>\n",
       "    <tr>\n",
       "      <th>2</th>\n",
       "      <td>M5A</td>\n",
       "      <td>Downtown Toronto</td>\n",
       "      <td>Harbourfront</td>\n",
       "    </tr>\n",
       "    <tr>\n",
       "      <th>3</th>\n",
       "      <td>M5A</td>\n",
       "      <td>Downtown Toronto</td>\n",
       "      <td>Regent Park</td>\n",
       "    </tr>\n",
       "    <tr>\n",
       "      <th>4</th>\n",
       "      <td>M6A</td>\n",
       "      <td>North York</td>\n",
       "      <td>Lawrence Heights</td>\n",
       "    </tr>\n",
       "  </tbody>\n",
       "</table>\n",
       "</div>"
      ],
      "text/plain": [
       "  PostalCode           Borough      Neighborhood\n",
       "0        M3A        North York         Parkwoods\n",
       "1        M4A        North York  Victoria Village\n",
       "2        M5A  Downtown Toronto      Harbourfront\n",
       "3        M5A  Downtown Toronto       Regent Park\n",
       "4        M6A        North York  Lawrence Heights"
      ]
     },
     "execution_count": 16,
     "metadata": {},
     "output_type": "execute_result"
    }
   ],
   "source": [
    "neighbor_df_non_na.head()"
   ]
  },
  {
   "cell_type": "code",
   "execution_count": 17,
   "metadata": {},
   "outputs": [
    {
     "name": "stdout",
     "output_type": "stream",
     "text": [
      "(103, 3)\n"
     ]
    },
    {
     "data": {
      "text/html": [
       "<div>\n",
       "<style scoped>\n",
       "    .dataframe tbody tr th:only-of-type {\n",
       "        vertical-align: middle;\n",
       "    }\n",
       "\n",
       "    .dataframe tbody tr th {\n",
       "        vertical-align: top;\n",
       "    }\n",
       "\n",
       "    .dataframe thead th {\n",
       "        text-align: right;\n",
       "    }\n",
       "</style>\n",
       "<table border=\"1\" class=\"dataframe\">\n",
       "  <thead>\n",
       "    <tr style=\"text-align: right;\">\n",
       "      <th></th>\n",
       "      <th>PostalCode</th>\n",
       "      <th>Borough</th>\n",
       "      <th>Neighborhood</th>\n",
       "    </tr>\n",
       "  </thead>\n",
       "  <tbody>\n",
       "    <tr>\n",
       "      <th>0</th>\n",
       "      <td>M1B</td>\n",
       "      <td>Scarborough</td>\n",
       "      <td>Rouge, Malvern</td>\n",
       "    </tr>\n",
       "    <tr>\n",
       "      <th>1</th>\n",
       "      <td>M1C</td>\n",
       "      <td>Scarborough</td>\n",
       "      <td>Highland Creek, Rouge Hill, Port Union</td>\n",
       "    </tr>\n",
       "    <tr>\n",
       "      <th>2</th>\n",
       "      <td>M1E</td>\n",
       "      <td>Scarborough</td>\n",
       "      <td>Guildwood, Morningside, West Hill</td>\n",
       "    </tr>\n",
       "    <tr>\n",
       "      <th>3</th>\n",
       "      <td>M1G</td>\n",
       "      <td>Scarborough</td>\n",
       "      <td>Woburn</td>\n",
       "    </tr>\n",
       "    <tr>\n",
       "      <th>4</th>\n",
       "      <td>M1H</td>\n",
       "      <td>Scarborough</td>\n",
       "      <td>Cedarbrae</td>\n",
       "    </tr>\n",
       "  </tbody>\n",
       "</table>\n",
       "</div>"
      ],
      "text/plain": [
       "  PostalCode      Borough                            Neighborhood\n",
       "0        M1B  Scarborough                          Rouge, Malvern\n",
       "1        M1C  Scarborough  Highland Creek, Rouge Hill, Port Union\n",
       "2        M1E  Scarborough       Guildwood, Morningside, West Hill\n",
       "3        M1G  Scarborough                                  Woburn\n",
       "4        M1H  Scarborough                               Cedarbrae"
      ]
     },
     "execution_count": 17,
     "metadata": {},
     "output_type": "execute_result"
    }
   ],
   "source": [
    "# Merge PostalCode\n",
    "neighbor_df = neighbor_df_non_na.groupby(['PostalCode', 'Borough']).Neighborhood.agg([('Neighborhood', ', '.join)]).reset_index()\n",
    "print(neighbor_df.shape)\n",
    "neighbor_df.head()"
   ]
  },
  {
   "cell_type": "markdown",
   "metadata": {},
   "source": [
    "## Add lat - lon"
   ]
  },
  {
   "cell_type": "code",
   "execution_count": null,
   "metadata": {},
   "outputs": [],
   "source": [
    "## Did produce an error\n",
    "import geocoder\n",
    "\n",
    "lat_lng_coords = None\n",
    "\n",
    "while(lat_lng_coords is None):\n",
    "    g = geocoder.google('{}, Toronto, Ontario'.format(neighbor_df['PostalCode']))\n",
    "    lat_lng_coords = g.latlng\n",
    "latitude = lat_lng_coords[0]\n",
    "longitude = lat_lng_coords[1]"
   ]
  },
  {
   "cell_type": "code",
   "execution_count": 47,
   "metadata": {},
   "outputs": [
    {
     "data": {
      "text/html": [
       "<div>\n",
       "<style scoped>\n",
       "    .dataframe tbody tr th:only-of-type {\n",
       "        vertical-align: middle;\n",
       "    }\n",
       "\n",
       "    .dataframe tbody tr th {\n",
       "        vertical-align: top;\n",
       "    }\n",
       "\n",
       "    .dataframe thead th {\n",
       "        text-align: right;\n",
       "    }\n",
       "</style>\n",
       "<table border=\"1\" class=\"dataframe\">\n",
       "  <thead>\n",
       "    <tr style=\"text-align: right;\">\n",
       "      <th></th>\n",
       "      <th>Postal Code</th>\n",
       "      <th>Latitude</th>\n",
       "      <th>Longitude</th>\n",
       "    </tr>\n",
       "  </thead>\n",
       "  <tbody>\n",
       "    <tr>\n",
       "      <th>0</th>\n",
       "      <td>M1B</td>\n",
       "      <td>43.806686</td>\n",
       "      <td>-79.194353</td>\n",
       "    </tr>\n",
       "    <tr>\n",
       "      <th>1</th>\n",
       "      <td>M1C</td>\n",
       "      <td>43.784535</td>\n",
       "      <td>-79.160497</td>\n",
       "    </tr>\n",
       "    <tr>\n",
       "      <th>2</th>\n",
       "      <td>M1E</td>\n",
       "      <td>43.763573</td>\n",
       "      <td>-79.188711</td>\n",
       "    </tr>\n",
       "    <tr>\n",
       "      <th>3</th>\n",
       "      <td>M1G</td>\n",
       "      <td>43.770992</td>\n",
       "      <td>-79.216917</td>\n",
       "    </tr>\n",
       "    <tr>\n",
       "      <th>4</th>\n",
       "      <td>M1H</td>\n",
       "      <td>43.773136</td>\n",
       "      <td>-79.239476</td>\n",
       "    </tr>\n",
       "  </tbody>\n",
       "</table>\n",
       "</div>"
      ],
      "text/plain": [
       "  Postal Code   Latitude  Longitude\n",
       "0         M1B  43.806686 -79.194353\n",
       "1         M1C  43.784535 -79.160497\n",
       "2         M1E  43.763573 -79.188711\n",
       "3         M1G  43.770992 -79.216917\n",
       "4         M1H  43.773136 -79.239476"
      ]
     },
     "execution_count": 47,
     "metadata": {},
     "output_type": "execute_result"
    }
   ],
   "source": [
    "## Instead of geocoder, use csv file.\n",
    "lat_lon = pd.read_csv('http://cocl.us/Geospatial_data/Geospatial_Coordinates.csv')\n",
    "#lat_lon.columns = ['PostalCode', 'Latitude', 'Longitude']\n",
    "lat_lon.head()"
   ]
  },
  {
   "cell_type": "code",
   "execution_count": 63,
   "metadata": {},
   "outputs": [
    {
     "data": {
      "text/html": [
       "<div>\n",
       "<style scoped>\n",
       "    .dataframe tbody tr th:only-of-type {\n",
       "        vertical-align: middle;\n",
       "    }\n",
       "\n",
       "    .dataframe tbody tr th {\n",
       "        vertical-align: top;\n",
       "    }\n",
       "\n",
       "    .dataframe thead th {\n",
       "        text-align: right;\n",
       "    }\n",
       "</style>\n",
       "<table border=\"1\" class=\"dataframe\">\n",
       "  <thead>\n",
       "    <tr style=\"text-align: right;\">\n",
       "      <th></th>\n",
       "      <th>PostalCode</th>\n",
       "      <th>Borough</th>\n",
       "      <th>Neighborhood</th>\n",
       "      <th>Latitude</th>\n",
       "      <th>Longitude</th>\n",
       "    </tr>\n",
       "  </thead>\n",
       "  <tbody>\n",
       "    <tr>\n",
       "      <th>0</th>\n",
       "      <td>M1B</td>\n",
       "      <td>Scarborough</td>\n",
       "      <td>Rouge, Malvern</td>\n",
       "      <td>43.806686</td>\n",
       "      <td>-79.194353</td>\n",
       "    </tr>\n",
       "    <tr>\n",
       "      <th>1</th>\n",
       "      <td>M1C</td>\n",
       "      <td>Scarborough</td>\n",
       "      <td>Highland Creek, Rouge Hill, Port Union</td>\n",
       "      <td>43.784535</td>\n",
       "      <td>-79.160497</td>\n",
       "    </tr>\n",
       "    <tr>\n",
       "      <th>2</th>\n",
       "      <td>M1E</td>\n",
       "      <td>Scarborough</td>\n",
       "      <td>Guildwood, Morningside, West Hill</td>\n",
       "      <td>43.763573</td>\n",
       "      <td>-79.188711</td>\n",
       "    </tr>\n",
       "    <tr>\n",
       "      <th>3</th>\n",
       "      <td>M1G</td>\n",
       "      <td>Scarborough</td>\n",
       "      <td>Woburn</td>\n",
       "      <td>43.770992</td>\n",
       "      <td>-79.216917</td>\n",
       "    </tr>\n",
       "    <tr>\n",
       "      <th>4</th>\n",
       "      <td>M1H</td>\n",
       "      <td>Scarborough</td>\n",
       "      <td>Cedarbrae</td>\n",
       "      <td>43.773136</td>\n",
       "      <td>-79.239476</td>\n",
       "    </tr>\n",
       "  </tbody>\n",
       "</table>\n",
       "</div>"
      ],
      "text/plain": [
       "  PostalCode      Borough                            Neighborhood   Latitude  \\\n",
       "0        M1B  Scarborough                          Rouge, Malvern  43.806686   \n",
       "1        M1C  Scarborough  Highland Creek, Rouge Hill, Port Union  43.784535   \n",
       "2        M1E  Scarborough       Guildwood, Morningside, West Hill  43.763573   \n",
       "3        M1G  Scarborough                                  Woburn  43.770992   \n",
       "4        M1H  Scarborough                               Cedarbrae  43.773136   \n",
       "\n",
       "   Longitude  \n",
       "0 -79.194353  \n",
       "1 -79.160497  \n",
       "2 -79.188711  \n",
       "3 -79.216917  \n",
       "4 -79.239476  "
      ]
     },
     "execution_count": 63,
     "metadata": {},
     "output_type": "execute_result"
    }
   ],
   "source": [
    "# merge two datasets\n",
    "neighbor_df_ll = pd.merge(neighbor_df, lat_lon, left_on = 'PostalCode', right_on = 'Postal Code').drop(columns = ['Postal Code'])\n",
    "neighbor_df_ll.head()"
   ]
  },
  {
   "cell_type": "markdown",
   "metadata": {},
   "source": [
    "## Foursquare API"
   ]
  },
  {
   "cell_type": "code",
   "execution_count": 65,
   "metadata": {},
   "outputs": [],
   "source": [
    "import requests\n",
    "from pandas.io.json import json_normalize\n",
    "import matplotlib.cm as cm\n",
    "import matplotlib.colors as colors\n",
    "from sklearn.cluster import KMeans\n",
    "import folium"
   ]
  },
  {
   "cell_type": "code",
   "execution_count": 58,
   "metadata": {},
   "outputs": [],
   "source": [
    "CLIENT_ID = '####' # your Foursquare ID\n",
    "CLIENT_SECRET = '#####' # your Foursquare Secret\n",
    "VERSION = '20180605' # Foursquare API version\n",
    "LIMIT = 100\n",
    "radius = 500"
   ]
  },
  {
   "cell_type": "markdown",
   "metadata": {},
   "source": [
    "#### Define downloading functions."
   ]
  },
  {
   "cell_type": "code",
   "execution_count": 67,
   "metadata": {},
   "outputs": [],
   "source": [
    "def getNearbyVenues(names, latitudes, longitudes, radius=500):\n",
    "    \n",
    "    venues_list=[]\n",
    "    for name, lat, lng in zip(names, latitudes, longitudes):\n",
    "        print(name)\n",
    "            \n",
    "        # create the API request URL\n",
    "        url = 'https://api.foursquare.com/v2/venues/explore?&client_id={}&client_secret={}&v={}&ll={},{}&radius={}&limit={}'.format(\n",
    "            CLIENT_ID, \n",
    "            CLIENT_SECRET, \n",
    "            VERSION, \n",
    "            lat, \n",
    "            lng, \n",
    "            radius, \n",
    "            LIMIT)\n",
    "            \n",
    "        # make the GET request\n",
    "        results = requests.get(url, verify = False).json()[\"response\"]['groups'][0]['items']\n",
    "        \n",
    "        # return only relevant information for each nearby venue\n",
    "        venues_list.append([(\n",
    "            name, \n",
    "            lat, \n",
    "            lng, \n",
    "            v['venue']['name'], \n",
    "            v['venue']['location']['lat'], \n",
    "            v['venue']['location']['lng'],  \n",
    "            v['venue']['categories'][0]['name']) for v in results])\n",
    "\n",
    "    nearby_venues = pd.DataFrame([item for venue_list in venues_list for item in venue_list])\n",
    "    nearby_venues.columns = ['Neighborhood', \n",
    "                  'Neighborhood Latitude', \n",
    "                  'Neighborhood Longitude', \n",
    "                  'Venue', \n",
    "                  'Venue Latitude', \n",
    "                  'Venue Longitude', \n",
    "                  'Venue Category']\n",
    "    \n",
    "    return(nearby_venues)"
   ]
  },
  {
   "cell_type": "code",
   "execution_count": 68,
   "metadata": {},
   "outputs": [
    {
     "name": "stdout",
     "output_type": "stream",
     "text": [
      "Rouge, Malvern\n"
     ]
    },
    {
     "name": "stderr",
     "output_type": "stream",
     "text": [
      "C:\\WBG\\Anaconda\\lib\\site-packages\\urllib3\\connectionpool.py:847: InsecureRequestWarning: Unverified HTTPS request is being made. Adding certificate verification is strongly advised. See: https://urllib3.readthedocs.io/en/latest/advanced-usage.html#ssl-warnings\n",
      "  InsecureRequestWarning)\n"
     ]
    },
    {
     "name": "stdout",
     "output_type": "stream",
     "text": [
      "Highland Creek, Rouge Hill, Port Union\n",
      "Guildwood, Morningside, West Hill\n"
     ]
    },
    {
     "name": "stderr",
     "output_type": "stream",
     "text": [
      "C:\\WBG\\Anaconda\\lib\\site-packages\\urllib3\\connectionpool.py:847: InsecureRequestWarning: Unverified HTTPS request is being made. Adding certificate verification is strongly advised. See: https://urllib3.readthedocs.io/en/latest/advanced-usage.html#ssl-warnings\n",
      "  InsecureRequestWarning)\n",
      "C:\\WBG\\Anaconda\\lib\\site-packages\\urllib3\\connectionpool.py:847: InsecureRequestWarning: Unverified HTTPS request is being made. Adding certificate verification is strongly advised. See: https://urllib3.readthedocs.io/en/latest/advanced-usage.html#ssl-warnings\n",
      "  InsecureRequestWarning)\n"
     ]
    },
    {
     "name": "stdout",
     "output_type": "stream",
     "text": [
      "Woburn\n",
      "Cedarbrae\n"
     ]
    },
    {
     "name": "stderr",
     "output_type": "stream",
     "text": [
      "C:\\WBG\\Anaconda\\lib\\site-packages\\urllib3\\connectionpool.py:847: InsecureRequestWarning: Unverified HTTPS request is being made. Adding certificate verification is strongly advised. See: https://urllib3.readthedocs.io/en/latest/advanced-usage.html#ssl-warnings\n",
      "  InsecureRequestWarning)\n",
      "C:\\WBG\\Anaconda\\lib\\site-packages\\urllib3\\connectionpool.py:847: InsecureRequestWarning: Unverified HTTPS request is being made. Adding certificate verification is strongly advised. See: https://urllib3.readthedocs.io/en/latest/advanced-usage.html#ssl-warnings\n",
      "  InsecureRequestWarning)\n"
     ]
    },
    {
     "name": "stdout",
     "output_type": "stream",
     "text": [
      "Scarborough Village\n",
      "East Birchmount Park, Ionview, Kennedy Park\n"
     ]
    },
    {
     "name": "stderr",
     "output_type": "stream",
     "text": [
      "C:\\WBG\\Anaconda\\lib\\site-packages\\urllib3\\connectionpool.py:847: InsecureRequestWarning: Unverified HTTPS request is being made. Adding certificate verification is strongly advised. See: https://urllib3.readthedocs.io/en/latest/advanced-usage.html#ssl-warnings\n",
      "  InsecureRequestWarning)\n",
      "C:\\WBG\\Anaconda\\lib\\site-packages\\urllib3\\connectionpool.py:847: InsecureRequestWarning: Unverified HTTPS request is being made. Adding certificate verification is strongly advised. See: https://urllib3.readthedocs.io/en/latest/advanced-usage.html#ssl-warnings\n",
      "  InsecureRequestWarning)\n"
     ]
    },
    {
     "name": "stdout",
     "output_type": "stream",
     "text": [
      "Clairlea, Golden Mile, Oakridge\n",
      "Cliffcrest, Cliffside, Scarborough Village West\n"
     ]
    },
    {
     "name": "stderr",
     "output_type": "stream",
     "text": [
      "C:\\WBG\\Anaconda\\lib\\site-packages\\urllib3\\connectionpool.py:847: InsecureRequestWarning: Unverified HTTPS request is being made. Adding certificate verification is strongly advised. See: https://urllib3.readthedocs.io/en/latest/advanced-usage.html#ssl-warnings\n",
      "  InsecureRequestWarning)\n",
      "C:\\WBG\\Anaconda\\lib\\site-packages\\urllib3\\connectionpool.py:847: InsecureRequestWarning: Unverified HTTPS request is being made. Adding certificate verification is strongly advised. See: https://urllib3.readthedocs.io/en/latest/advanced-usage.html#ssl-warnings\n",
      "  InsecureRequestWarning)\n"
     ]
    },
    {
     "name": "stdout",
     "output_type": "stream",
     "text": [
      "Birch Cliff, Cliffside West\n",
      "Dorset Park, Scarborough Town Centre, Wexford Heights\n"
     ]
    },
    {
     "name": "stderr",
     "output_type": "stream",
     "text": [
      "C:\\WBG\\Anaconda\\lib\\site-packages\\urllib3\\connectionpool.py:847: InsecureRequestWarning: Unverified HTTPS request is being made. Adding certificate verification is strongly advised. See: https://urllib3.readthedocs.io/en/latest/advanced-usage.html#ssl-warnings\n",
      "  InsecureRequestWarning)\n",
      "C:\\WBG\\Anaconda\\lib\\site-packages\\urllib3\\connectionpool.py:847: InsecureRequestWarning: Unverified HTTPS request is being made. Adding certificate verification is strongly advised. See: https://urllib3.readthedocs.io/en/latest/advanced-usage.html#ssl-warnings\n",
      "  InsecureRequestWarning)\n"
     ]
    },
    {
     "name": "stdout",
     "output_type": "stream",
     "text": [
      "Maryvale, Wexford\n",
      "Agincourt\n"
     ]
    },
    {
     "name": "stderr",
     "output_type": "stream",
     "text": [
      "C:\\WBG\\Anaconda\\lib\\site-packages\\urllib3\\connectionpool.py:847: InsecureRequestWarning: Unverified HTTPS request is being made. Adding certificate verification is strongly advised. See: https://urllib3.readthedocs.io/en/latest/advanced-usage.html#ssl-warnings\n",
      "  InsecureRequestWarning)\n",
      "C:\\WBG\\Anaconda\\lib\\site-packages\\urllib3\\connectionpool.py:847: InsecureRequestWarning: Unverified HTTPS request is being made. Adding certificate verification is strongly advised. See: https://urllib3.readthedocs.io/en/latest/advanced-usage.html#ssl-warnings\n",
      "  InsecureRequestWarning)\n"
     ]
    },
    {
     "name": "stdout",
     "output_type": "stream",
     "text": [
      "Clarks Corners, Sullivan, Tam O'Shanter\n"
     ]
    },
    {
     "name": "stderr",
     "output_type": "stream",
     "text": [
      "C:\\WBG\\Anaconda\\lib\\site-packages\\urllib3\\connectionpool.py:847: InsecureRequestWarning: Unverified HTTPS request is being made. Adding certificate verification is strongly advised. See: https://urllib3.readthedocs.io/en/latest/advanced-usage.html#ssl-warnings\n",
      "  InsecureRequestWarning)\n"
     ]
    },
    {
     "name": "stdout",
     "output_type": "stream",
     "text": [
      "Agincourt North, L'Amoreaux East, Milliken, Steeles East\n",
      "L'Amoreaux West\n"
     ]
    },
    {
     "name": "stderr",
     "output_type": "stream",
     "text": [
      "C:\\WBG\\Anaconda\\lib\\site-packages\\urllib3\\connectionpool.py:847: InsecureRequestWarning: Unverified HTTPS request is being made. Adding certificate verification is strongly advised. See: https://urllib3.readthedocs.io/en/latest/advanced-usage.html#ssl-warnings\n",
      "  InsecureRequestWarning)\n",
      "C:\\WBG\\Anaconda\\lib\\site-packages\\urllib3\\connectionpool.py:847: InsecureRequestWarning: Unverified HTTPS request is being made. Adding certificate verification is strongly advised. See: https://urllib3.readthedocs.io/en/latest/advanced-usage.html#ssl-warnings\n",
      "  InsecureRequestWarning)\n"
     ]
    },
    {
     "name": "stdout",
     "output_type": "stream",
     "text": [
      "Upper Rouge\n",
      "Hillcrest Village\n"
     ]
    },
    {
     "name": "stderr",
     "output_type": "stream",
     "text": [
      "C:\\WBG\\Anaconda\\lib\\site-packages\\urllib3\\connectionpool.py:847: InsecureRequestWarning: Unverified HTTPS request is being made. Adding certificate verification is strongly advised. See: https://urllib3.readthedocs.io/en/latest/advanced-usage.html#ssl-warnings\n",
      "  InsecureRequestWarning)\n",
      "C:\\WBG\\Anaconda\\lib\\site-packages\\urllib3\\connectionpool.py:847: InsecureRequestWarning: Unverified HTTPS request is being made. Adding certificate verification is strongly advised. See: https://urllib3.readthedocs.io/en/latest/advanced-usage.html#ssl-warnings\n",
      "  InsecureRequestWarning)\n"
     ]
    },
    {
     "name": "stdout",
     "output_type": "stream",
     "text": [
      "Fairview, Henry Farm, Oriole\n"
     ]
    },
    {
     "name": "stderr",
     "output_type": "stream",
     "text": [
      "C:\\WBG\\Anaconda\\lib\\site-packages\\urllib3\\connectionpool.py:847: InsecureRequestWarning: Unverified HTTPS request is being made. Adding certificate verification is strongly advised. See: https://urllib3.readthedocs.io/en/latest/advanced-usage.html#ssl-warnings\n",
      "  InsecureRequestWarning)\n"
     ]
    },
    {
     "name": "stdout",
     "output_type": "stream",
     "text": [
      "Bayview Village\n",
      "Silver Hills, York Mills\n"
     ]
    },
    {
     "name": "stderr",
     "output_type": "stream",
     "text": [
      "C:\\WBG\\Anaconda\\lib\\site-packages\\urllib3\\connectionpool.py:847: InsecureRequestWarning: Unverified HTTPS request is being made. Adding certificate verification is strongly advised. See: https://urllib3.readthedocs.io/en/latest/advanced-usage.html#ssl-warnings\n",
      "  InsecureRequestWarning)\n",
      "C:\\WBG\\Anaconda\\lib\\site-packages\\urllib3\\connectionpool.py:847: InsecureRequestWarning: Unverified HTTPS request is being made. Adding certificate verification is strongly advised. See: https://urllib3.readthedocs.io/en/latest/advanced-usage.html#ssl-warnings\n",
      "  InsecureRequestWarning)\n"
     ]
    },
    {
     "name": "stdout",
     "output_type": "stream",
     "text": [
      "Newtonbrook, Willowdale\n",
      "Willowdale South\n"
     ]
    },
    {
     "name": "stderr",
     "output_type": "stream",
     "text": [
      "C:\\WBG\\Anaconda\\lib\\site-packages\\urllib3\\connectionpool.py:847: InsecureRequestWarning: Unverified HTTPS request is being made. Adding certificate verification is strongly advised. See: https://urllib3.readthedocs.io/en/latest/advanced-usage.html#ssl-warnings\n",
      "  InsecureRequestWarning)\n",
      "C:\\WBG\\Anaconda\\lib\\site-packages\\urllib3\\connectionpool.py:847: InsecureRequestWarning: Unverified HTTPS request is being made. Adding certificate verification is strongly advised. See: https://urllib3.readthedocs.io/en/latest/advanced-usage.html#ssl-warnings\n",
      "  InsecureRequestWarning)\n"
     ]
    },
    {
     "name": "stdout",
     "output_type": "stream",
     "text": [
      "York Mills West\n",
      "Willowdale West\n"
     ]
    },
    {
     "name": "stderr",
     "output_type": "stream",
     "text": [
      "C:\\WBG\\Anaconda\\lib\\site-packages\\urllib3\\connectionpool.py:847: InsecureRequestWarning: Unverified HTTPS request is being made. Adding certificate verification is strongly advised. See: https://urllib3.readthedocs.io/en/latest/advanced-usage.html#ssl-warnings\n",
      "  InsecureRequestWarning)\n",
      "C:\\WBG\\Anaconda\\lib\\site-packages\\urllib3\\connectionpool.py:847: InsecureRequestWarning: Unverified HTTPS request is being made. Adding certificate verification is strongly advised. See: https://urllib3.readthedocs.io/en/latest/advanced-usage.html#ssl-warnings\n",
      "  InsecureRequestWarning)\n"
     ]
    },
    {
     "name": "stdout",
     "output_type": "stream",
     "text": [
      "Parkwoods\n",
      "Don Mills North\n"
     ]
    },
    {
     "name": "stderr",
     "output_type": "stream",
     "text": [
      "C:\\WBG\\Anaconda\\lib\\site-packages\\urllib3\\connectionpool.py:847: InsecureRequestWarning: Unverified HTTPS request is being made. Adding certificate verification is strongly advised. See: https://urllib3.readthedocs.io/en/latest/advanced-usage.html#ssl-warnings\n",
      "  InsecureRequestWarning)\n",
      "C:\\WBG\\Anaconda\\lib\\site-packages\\urllib3\\connectionpool.py:847: InsecureRequestWarning: Unverified HTTPS request is being made. Adding certificate verification is strongly advised. See: https://urllib3.readthedocs.io/en/latest/advanced-usage.html#ssl-warnings\n",
      "  InsecureRequestWarning)\n"
     ]
    },
    {
     "name": "stdout",
     "output_type": "stream",
     "text": [
      "Flemingdon Park, Don Mills South\n"
     ]
    },
    {
     "name": "stderr",
     "output_type": "stream",
     "text": [
      "C:\\WBG\\Anaconda\\lib\\site-packages\\urllib3\\connectionpool.py:847: InsecureRequestWarning: Unverified HTTPS request is being made. Adding certificate verification is strongly advised. See: https://urllib3.readthedocs.io/en/latest/advanced-usage.html#ssl-warnings\n",
      "  InsecureRequestWarning)\n"
     ]
    },
    {
     "name": "stdout",
     "output_type": "stream",
     "text": [
      "Bathurst Manor, Downsview North, Wilson Heights\n",
      "Northwood Park, York University\n"
     ]
    },
    {
     "name": "stderr",
     "output_type": "stream",
     "text": [
      "C:\\WBG\\Anaconda\\lib\\site-packages\\urllib3\\connectionpool.py:847: InsecureRequestWarning: Unverified HTTPS request is being made. Adding certificate verification is strongly advised. See: https://urllib3.readthedocs.io/en/latest/advanced-usage.html#ssl-warnings\n",
      "  InsecureRequestWarning)\n",
      "C:\\WBG\\Anaconda\\lib\\site-packages\\urllib3\\connectionpool.py:847: InsecureRequestWarning: Unverified HTTPS request is being made. Adding certificate verification is strongly advised. See: https://urllib3.readthedocs.io/en/latest/advanced-usage.html#ssl-warnings\n",
      "  InsecureRequestWarning)\n",
      "C:\\WBG\\Anaconda\\lib\\site-packages\\urllib3\\connectionpool.py:847: InsecureRequestWarning: Unverified HTTPS request is being made. Adding certificate verification is strongly advised. See: https://urllib3.readthedocs.io/en/latest/advanced-usage.html#ssl-warnings\n",
      "  InsecureRequestWarning)\n"
     ]
    },
    {
     "name": "stdout",
     "output_type": "stream",
     "text": [
      "CFB Toronto, Downsview East\n",
      "Downsview West\n"
     ]
    },
    {
     "name": "stderr",
     "output_type": "stream",
     "text": [
      "C:\\WBG\\Anaconda\\lib\\site-packages\\urllib3\\connectionpool.py:847: InsecureRequestWarning: Unverified HTTPS request is being made. Adding certificate verification is strongly advised. See: https://urllib3.readthedocs.io/en/latest/advanced-usage.html#ssl-warnings\n",
      "  InsecureRequestWarning)\n"
     ]
    },
    {
     "name": "stdout",
     "output_type": "stream",
     "text": [
      "Downsview Central\n",
      "Downsview Northwest\n"
     ]
    },
    {
     "name": "stderr",
     "output_type": "stream",
     "text": [
      "C:\\WBG\\Anaconda\\lib\\site-packages\\urllib3\\connectionpool.py:847: InsecureRequestWarning: Unverified HTTPS request is being made. Adding certificate verification is strongly advised. See: https://urllib3.readthedocs.io/en/latest/advanced-usage.html#ssl-warnings\n",
      "  InsecureRequestWarning)\n",
      "C:\\WBG\\Anaconda\\lib\\site-packages\\urllib3\\connectionpool.py:847: InsecureRequestWarning: Unverified HTTPS request is being made. Adding certificate verification is strongly advised. See: https://urllib3.readthedocs.io/en/latest/advanced-usage.html#ssl-warnings\n",
      "  InsecureRequestWarning)\n"
     ]
    },
    {
     "name": "stdout",
     "output_type": "stream",
     "text": [
      "Victoria Village\n",
      "Woodbine Gardens, Parkview Hill\n"
     ]
    },
    {
     "name": "stderr",
     "output_type": "stream",
     "text": [
      "C:\\WBG\\Anaconda\\lib\\site-packages\\urllib3\\connectionpool.py:847: InsecureRequestWarning: Unverified HTTPS request is being made. Adding certificate verification is strongly advised. See: https://urllib3.readthedocs.io/en/latest/advanced-usage.html#ssl-warnings\n",
      "  InsecureRequestWarning)\n",
      "C:\\WBG\\Anaconda\\lib\\site-packages\\urllib3\\connectionpool.py:847: InsecureRequestWarning: Unverified HTTPS request is being made. Adding certificate verification is strongly advised. See: https://urllib3.readthedocs.io/en/latest/advanced-usage.html#ssl-warnings\n",
      "  InsecureRequestWarning)\n"
     ]
    },
    {
     "name": "stdout",
     "output_type": "stream",
     "text": [
      "Woodbine Heights\n",
      "The Beaches\n"
     ]
    },
    {
     "name": "stderr",
     "output_type": "stream",
     "text": [
      "C:\\WBG\\Anaconda\\lib\\site-packages\\urllib3\\connectionpool.py:847: InsecureRequestWarning: Unverified HTTPS request is being made. Adding certificate verification is strongly advised. See: https://urllib3.readthedocs.io/en/latest/advanced-usage.html#ssl-warnings\n",
      "  InsecureRequestWarning)\n",
      "C:\\WBG\\Anaconda\\lib\\site-packages\\urllib3\\connectionpool.py:847: InsecureRequestWarning: Unverified HTTPS request is being made. Adding certificate verification is strongly advised. See: https://urllib3.readthedocs.io/en/latest/advanced-usage.html#ssl-warnings\n",
      "  InsecureRequestWarning)\n"
     ]
    },
    {
     "name": "stdout",
     "output_type": "stream",
     "text": [
      "Leaside\n"
     ]
    },
    {
     "name": "stderr",
     "output_type": "stream",
     "text": [
      "C:\\WBG\\Anaconda\\lib\\site-packages\\urllib3\\connectionpool.py:847: InsecureRequestWarning: Unverified HTTPS request is being made. Adding certificate verification is strongly advised. See: https://urllib3.readthedocs.io/en/latest/advanced-usage.html#ssl-warnings\n",
      "  InsecureRequestWarning)\n"
     ]
    },
    {
     "name": "stdout",
     "output_type": "stream",
     "text": [
      "Thorncliffe Park\n",
      "East Toronto\n"
     ]
    },
    {
     "name": "stderr",
     "output_type": "stream",
     "text": [
      "C:\\WBG\\Anaconda\\lib\\site-packages\\urllib3\\connectionpool.py:847: InsecureRequestWarning: Unverified HTTPS request is being made. Adding certificate verification is strongly advised. See: https://urllib3.readthedocs.io/en/latest/advanced-usage.html#ssl-warnings\n",
      "  InsecureRequestWarning)\n",
      "C:\\WBG\\Anaconda\\lib\\site-packages\\urllib3\\connectionpool.py:847: InsecureRequestWarning: Unverified HTTPS request is being made. Adding certificate verification is strongly advised. See: https://urllib3.readthedocs.io/en/latest/advanced-usage.html#ssl-warnings\n",
      "  InsecureRequestWarning)\n"
     ]
    },
    {
     "name": "stdout",
     "output_type": "stream",
     "text": [
      "The Danforth West, Riverdale\n"
     ]
    },
    {
     "name": "stderr",
     "output_type": "stream",
     "text": [
      "C:\\WBG\\Anaconda\\lib\\site-packages\\urllib3\\connectionpool.py:847: InsecureRequestWarning: Unverified HTTPS request is being made. Adding certificate verification is strongly advised. See: https://urllib3.readthedocs.io/en/latest/advanced-usage.html#ssl-warnings\n",
      "  InsecureRequestWarning)\n"
     ]
    },
    {
     "name": "stdout",
     "output_type": "stream",
     "text": [
      "The Beaches West, India Bazaar\n"
     ]
    },
    {
     "name": "stderr",
     "output_type": "stream",
     "text": [
      "C:\\WBG\\Anaconda\\lib\\site-packages\\urllib3\\connectionpool.py:847: InsecureRequestWarning: Unverified HTTPS request is being made. Adding certificate verification is strongly advised. See: https://urllib3.readthedocs.io/en/latest/advanced-usage.html#ssl-warnings\n",
      "  InsecureRequestWarning)\n"
     ]
    },
    {
     "name": "stdout",
     "output_type": "stream",
     "text": [
      "Studio District\n"
     ]
    },
    {
     "name": "stderr",
     "output_type": "stream",
     "text": [
      "C:\\WBG\\Anaconda\\lib\\site-packages\\urllib3\\connectionpool.py:847: InsecureRequestWarning: Unverified HTTPS request is being made. Adding certificate verification is strongly advised. See: https://urllib3.readthedocs.io/en/latest/advanced-usage.html#ssl-warnings\n",
      "  InsecureRequestWarning)\n"
     ]
    },
    {
     "name": "stdout",
     "output_type": "stream",
     "text": [
      "Lawrence Park\n",
      "Davisville North\n"
     ]
    },
    {
     "name": "stderr",
     "output_type": "stream",
     "text": [
      "C:\\WBG\\Anaconda\\lib\\site-packages\\urllib3\\connectionpool.py:847: InsecureRequestWarning: Unverified HTTPS request is being made. Adding certificate verification is strongly advised. See: https://urllib3.readthedocs.io/en/latest/advanced-usage.html#ssl-warnings\n",
      "  InsecureRequestWarning)\n",
      "C:\\WBG\\Anaconda\\lib\\site-packages\\urllib3\\connectionpool.py:847: InsecureRequestWarning: Unverified HTTPS request is being made. Adding certificate verification is strongly advised. See: https://urllib3.readthedocs.io/en/latest/advanced-usage.html#ssl-warnings\n",
      "  InsecureRequestWarning)\n"
     ]
    },
    {
     "name": "stdout",
     "output_type": "stream",
     "text": [
      "North Toronto West\n",
      "Davisville"
     ]
    },
    {
     "name": "stderr",
     "output_type": "stream",
     "text": [
      "C:\\WBG\\Anaconda\\lib\\site-packages\\urllib3\\connectionpool.py:847: InsecureRequestWarning: Unverified HTTPS request is being made. Adding certificate verification is strongly advised. See: https://urllib3.readthedocs.io/en/latest/advanced-usage.html#ssl-warnings\n",
      "  InsecureRequestWarning)\n",
      "C:\\WBG\\Anaconda\\lib\\site-packages\\urllib3\\connectionpool.py:847: InsecureRequestWarning: Unverified HTTPS request is being made. Adding certificate verification is strongly advised. See: https://urllib3.readthedocs.io/en/latest/advanced-usage.html#ssl-warnings\n",
      "  InsecureRequestWarning)\n"
     ]
    },
    {
     "name": "stdout",
     "output_type": "stream",
     "text": [
      "\n",
      "Moore Park, Summerhill East\n"
     ]
    },
    {
     "name": "stderr",
     "output_type": "stream",
     "text": [
      "C:\\WBG\\Anaconda\\lib\\site-packages\\urllib3\\connectionpool.py:847: InsecureRequestWarning: Unverified HTTPS request is being made. Adding certificate verification is strongly advised. See: https://urllib3.readthedocs.io/en/latest/advanced-usage.html#ssl-warnings\n",
      "  InsecureRequestWarning)\n"
     ]
    },
    {
     "name": "stdout",
     "output_type": "stream",
     "text": [
      "Deer Park, Forest Hill SE, Rathnelly, South Hill, Summerhill West\n",
      "Rosedale\n"
     ]
    },
    {
     "name": "stderr",
     "output_type": "stream",
     "text": [
      "C:\\WBG\\Anaconda\\lib\\site-packages\\urllib3\\connectionpool.py:847: InsecureRequestWarning: Unverified HTTPS request is being made. Adding certificate verification is strongly advised. See: https://urllib3.readthedocs.io/en/latest/advanced-usage.html#ssl-warnings\n",
      "  InsecureRequestWarning)\n",
      "C:\\WBG\\Anaconda\\lib\\site-packages\\urllib3\\connectionpool.py:847: InsecureRequestWarning: Unverified HTTPS request is being made. Adding certificate verification is strongly advised. See: https://urllib3.readthedocs.io/en/latest/advanced-usage.html#ssl-warnings\n",
      "  InsecureRequestWarning)\n"
     ]
    },
    {
     "name": "stdout",
     "output_type": "stream",
     "text": [
      "Cabbagetown, St. James Town\n"
     ]
    },
    {
     "name": "stderr",
     "output_type": "stream",
     "text": [
      "C:\\WBG\\Anaconda\\lib\\site-packages\\urllib3\\connectionpool.py:847: InsecureRequestWarning: Unverified HTTPS request is being made. Adding certificate verification is strongly advised. See: https://urllib3.readthedocs.io/en/latest/advanced-usage.html#ssl-warnings\n",
      "  InsecureRequestWarning)\n"
     ]
    },
    {
     "name": "stdout",
     "output_type": "stream",
     "text": [
      "Church and Wellesley\n"
     ]
    },
    {
     "name": "stderr",
     "output_type": "stream",
     "text": [
      "C:\\WBG\\Anaconda\\lib\\site-packages\\urllib3\\connectionpool.py:847: InsecureRequestWarning: Unverified HTTPS request is being made. Adding certificate verification is strongly advised. See: https://urllib3.readthedocs.io/en/latest/advanced-usage.html#ssl-warnings\n",
      "  InsecureRequestWarning)\n"
     ]
    },
    {
     "name": "stdout",
     "output_type": "stream",
     "text": [
      "Harbourfront, Regent Park\n"
     ]
    },
    {
     "name": "stderr",
     "output_type": "stream",
     "text": [
      "C:\\WBG\\Anaconda\\lib\\site-packages\\urllib3\\connectionpool.py:847: InsecureRequestWarning: Unverified HTTPS request is being made. Adding certificate verification is strongly advised. See: https://urllib3.readthedocs.io/en/latest/advanced-usage.html#ssl-warnings\n",
      "  InsecureRequestWarning)\n"
     ]
    },
    {
     "name": "stdout",
     "output_type": "stream",
     "text": [
      "Ryerson, Garden District\n"
     ]
    },
    {
     "name": "stderr",
     "output_type": "stream",
     "text": [
      "C:\\WBG\\Anaconda\\lib\\site-packages\\urllib3\\connectionpool.py:847: InsecureRequestWarning: Unverified HTTPS request is being made. Adding certificate verification is strongly advised. See: https://urllib3.readthedocs.io/en/latest/advanced-usage.html#ssl-warnings\n",
      "  InsecureRequestWarning)\n"
     ]
    },
    {
     "name": "stdout",
     "output_type": "stream",
     "text": [
      "St. James Town\n"
     ]
    },
    {
     "name": "stderr",
     "output_type": "stream",
     "text": [
      "C:\\WBG\\Anaconda\\lib\\site-packages\\urllib3\\connectionpool.py:847: InsecureRequestWarning: Unverified HTTPS request is being made. Adding certificate verification is strongly advised. See: https://urllib3.readthedocs.io/en/latest/advanced-usage.html#ssl-warnings\n",
      "  InsecureRequestWarning)\n"
     ]
    },
    {
     "name": "stdout",
     "output_type": "stream",
     "text": [
      "Berczy Park\n"
     ]
    },
    {
     "name": "stderr",
     "output_type": "stream",
     "text": [
      "C:\\WBG\\Anaconda\\lib\\site-packages\\urllib3\\connectionpool.py:847: InsecureRequestWarning: Unverified HTTPS request is being made. Adding certificate verification is strongly advised. See: https://urllib3.readthedocs.io/en/latest/advanced-usage.html#ssl-warnings\n",
      "  InsecureRequestWarning)\n"
     ]
    },
    {
     "name": "stdout",
     "output_type": "stream",
     "text": [
      "Central Bay Street\n"
     ]
    },
    {
     "name": "stderr",
     "output_type": "stream",
     "text": [
      "C:\\WBG\\Anaconda\\lib\\site-packages\\urllib3\\connectionpool.py:847: InsecureRequestWarning: Unverified HTTPS request is being made. Adding certificate verification is strongly advised. See: https://urllib3.readthedocs.io/en/latest/advanced-usage.html#ssl-warnings\n",
      "  InsecureRequestWarning)\n"
     ]
    },
    {
     "name": "stdout",
     "output_type": "stream",
     "text": [
      "Adelaide, King, Richmond\n"
     ]
    },
    {
     "name": "stderr",
     "output_type": "stream",
     "text": [
      "C:\\WBG\\Anaconda\\lib\\site-packages\\urllib3\\connectionpool.py:847: InsecureRequestWarning: Unverified HTTPS request is being made. Adding certificate verification is strongly advised. See: https://urllib3.readthedocs.io/en/latest/advanced-usage.html#ssl-warnings\n",
      "  InsecureRequestWarning)\n"
     ]
    },
    {
     "name": "stdout",
     "output_type": "stream",
     "text": [
      "Harbourfront East, Toronto Islands, Union Station\n"
     ]
    },
    {
     "name": "stderr",
     "output_type": "stream",
     "text": [
      "C:\\WBG\\Anaconda\\lib\\site-packages\\urllib3\\connectionpool.py:847: InsecureRequestWarning: Unverified HTTPS request is being made. Adding certificate verification is strongly advised. See: https://urllib3.readthedocs.io/en/latest/advanced-usage.html#ssl-warnings\n",
      "  InsecureRequestWarning)\n"
     ]
    },
    {
     "name": "stdout",
     "output_type": "stream",
     "text": [
      "Design Exchange, Toronto Dominion Centre\n"
     ]
    },
    {
     "name": "stderr",
     "output_type": "stream",
     "text": [
      "C:\\WBG\\Anaconda\\lib\\site-packages\\urllib3\\connectionpool.py:847: InsecureRequestWarning: Unverified HTTPS request is being made. Adding certificate verification is strongly advised. See: https://urllib3.readthedocs.io/en/latest/advanced-usage.html#ssl-warnings\n",
      "  InsecureRequestWarning)\n"
     ]
    },
    {
     "name": "stdout",
     "output_type": "stream",
     "text": [
      "Commerce Court, Victoria Hotel\n"
     ]
    },
    {
     "name": "stderr",
     "output_type": "stream",
     "text": [
      "C:\\WBG\\Anaconda\\lib\\site-packages\\urllib3\\connectionpool.py:847: InsecureRequestWarning: Unverified HTTPS request is being made. Adding certificate verification is strongly advised. See: https://urllib3.readthedocs.io/en/latest/advanced-usage.html#ssl-warnings\n",
      "  InsecureRequestWarning)\n"
     ]
    },
    {
     "name": "stdout",
     "output_type": "stream",
     "text": [
      "Bedford Park, Lawrence Manor East\n"
     ]
    },
    {
     "name": "stderr",
     "output_type": "stream",
     "text": [
      "C:\\WBG\\Anaconda\\lib\\site-packages\\urllib3\\connectionpool.py:847: InsecureRequestWarning: Unverified HTTPS request is being made. Adding certificate verification is strongly advised. See: https://urllib3.readthedocs.io/en/latest/advanced-usage.html#ssl-warnings\n",
      "  InsecureRequestWarning)\n"
     ]
    },
    {
     "name": "stdout",
     "output_type": "stream",
     "text": [
      "Roselawn\n",
      "Forest Hill North, Forest Hill West\n"
     ]
    },
    {
     "name": "stderr",
     "output_type": "stream",
     "text": [
      "C:\\WBG\\Anaconda\\lib\\site-packages\\urllib3\\connectionpool.py:847: InsecureRequestWarning: Unverified HTTPS request is being made. Adding certificate verification is strongly advised. See: https://urllib3.readthedocs.io/en/latest/advanced-usage.html#ssl-warnings\n",
      "  InsecureRequestWarning)\n",
      "C:\\WBG\\Anaconda\\lib\\site-packages\\urllib3\\connectionpool.py:847: InsecureRequestWarning: Unverified HTTPS request is being made. Adding certificate verification is strongly advised. See: https://urllib3.readthedocs.io/en/latest/advanced-usage.html#ssl-warnings\n",
      "  InsecureRequestWarning)\n"
     ]
    },
    {
     "name": "stdout",
     "output_type": "stream",
     "text": [
      "The Annex, North Midtown, Yorkville\n",
      "Harbord, University of Toronto\n"
     ]
    },
    {
     "name": "stderr",
     "output_type": "stream",
     "text": [
      "C:\\WBG\\Anaconda\\lib\\site-packages\\urllib3\\connectionpool.py:847: InsecureRequestWarning: Unverified HTTPS request is being made. Adding certificate verification is strongly advised. See: https://urllib3.readthedocs.io/en/latest/advanced-usage.html#ssl-warnings\n",
      "  InsecureRequestWarning)\n",
      "C:\\WBG\\Anaconda\\lib\\site-packages\\urllib3\\connectionpool.py:847: InsecureRequestWarning: Unverified HTTPS request is being made. Adding certificate verification is strongly advised. See: https://urllib3.readthedocs.io/en/latest/advanced-usage.html#ssl-warnings\n",
      "  InsecureRequestWarning)\n"
     ]
    },
    {
     "name": "stdout",
     "output_type": "stream",
     "text": [
      "Chinatown, Grange Park, Kensington Market\n"
     ]
    },
    {
     "name": "stderr",
     "output_type": "stream",
     "text": [
      "C:\\WBG\\Anaconda\\lib\\site-packages\\urllib3\\connectionpool.py:847: InsecureRequestWarning: Unverified HTTPS request is being made. Adding certificate verification is strongly advised. See: https://urllib3.readthedocs.io/en/latest/advanced-usage.html#ssl-warnings\n",
      "  InsecureRequestWarning)\n"
     ]
    },
    {
     "name": "stdout",
     "output_type": "stream",
     "text": [
      "CN Tower, Bathurst Quay, Island airport, Harbourfront West, King and Spadina, Railway Lands, South Niagara\n",
      "Stn A PO Boxes 25 The Esplanade\n"
     ]
    },
    {
     "name": "stderr",
     "output_type": "stream",
     "text": [
      "C:\\WBG\\Anaconda\\lib\\site-packages\\urllib3\\connectionpool.py:847: InsecureRequestWarning: Unverified HTTPS request is being made. Adding certificate verification is strongly advised. See: https://urllib3.readthedocs.io/en/latest/advanced-usage.html#ssl-warnings\n",
      "  InsecureRequestWarning)\n",
      "C:\\WBG\\Anaconda\\lib\\site-packages\\urllib3\\connectionpool.py:847: InsecureRequestWarning: Unverified HTTPS request is being made. Adding certificate verification is strongly advised. See: https://urllib3.readthedocs.io/en/latest/advanced-usage.html#ssl-warnings\n",
      "  InsecureRequestWarning)\n"
     ]
    },
    {
     "name": "stdout",
     "output_type": "stream",
     "text": [
      "First Canadian Place, Underground city\n"
     ]
    },
    {
     "name": "stderr",
     "output_type": "stream",
     "text": [
      "C:\\WBG\\Anaconda\\lib\\site-packages\\urllib3\\connectionpool.py:847: InsecureRequestWarning: Unverified HTTPS request is being made. Adding certificate verification is strongly advised. See: https://urllib3.readthedocs.io/en/latest/advanced-usage.html#ssl-warnings\n",
      "  InsecureRequestWarning)\n"
     ]
    },
    {
     "name": "stdout",
     "output_type": "stream",
     "text": [
      "Lawrence Heights, Lawrence Manor\n",
      "Glencairn\n"
     ]
    },
    {
     "name": "stderr",
     "output_type": "stream",
     "text": [
      "C:\\WBG\\Anaconda\\lib\\site-packages\\urllib3\\connectionpool.py:847: InsecureRequestWarning: Unverified HTTPS request is being made. Adding certificate verification is strongly advised. See: https://urllib3.readthedocs.io/en/latest/advanced-usage.html#ssl-warnings\n",
      "  InsecureRequestWarning)\n",
      "C:\\WBG\\Anaconda\\lib\\site-packages\\urllib3\\connectionpool.py:847: InsecureRequestWarning: Unverified HTTPS request is being made. Adding certificate verification is strongly advised. See: https://urllib3.readthedocs.io/en/latest/advanced-usage.html#ssl-warnings\n",
      "  InsecureRequestWarning)\n"
     ]
    },
    {
     "name": "stdout",
     "output_type": "stream",
     "text": [
      "Humewood-Cedarvale\n",
      "Caledonia-Fairbanks\n"
     ]
    },
    {
     "name": "stderr",
     "output_type": "stream",
     "text": [
      "C:\\WBG\\Anaconda\\lib\\site-packages\\urllib3\\connectionpool.py:847: InsecureRequestWarning: Unverified HTTPS request is being made. Adding certificate verification is strongly advised. See: https://urllib3.readthedocs.io/en/latest/advanced-usage.html#ssl-warnings\n",
      "  InsecureRequestWarning)\n",
      "C:\\WBG\\Anaconda\\lib\\site-packages\\urllib3\\connectionpool.py:847: InsecureRequestWarning: Unverified HTTPS request is being made. Adding certificate verification is strongly advised. See: https://urllib3.readthedocs.io/en/latest/advanced-usage.html#ssl-warnings\n",
      "  InsecureRequestWarning)\n"
     ]
    },
    {
     "name": "stdout",
     "output_type": "stream",
     "text": [
      "Christie\n",
      "Dovercourt Village, Dufferin\n"
     ]
    },
    {
     "name": "stderr",
     "output_type": "stream",
     "text": [
      "C:\\WBG\\Anaconda\\lib\\site-packages\\urllib3\\connectionpool.py:847: InsecureRequestWarning: Unverified HTTPS request is being made. Adding certificate verification is strongly advised. See: https://urllib3.readthedocs.io/en/latest/advanced-usage.html#ssl-warnings\n",
      "  InsecureRequestWarning)\n",
      "C:\\WBG\\Anaconda\\lib\\site-packages\\urllib3\\connectionpool.py:847: InsecureRequestWarning: Unverified HTTPS request is being made. Adding certificate verification is strongly advised. See: https://urllib3.readthedocs.io/en/latest/advanced-usage.html#ssl-warnings\n",
      "  InsecureRequestWarning)\n"
     ]
    },
    {
     "name": "stdout",
     "output_type": "stream",
     "text": [
      "Little Portugal, Trinity\n"
     ]
    },
    {
     "name": "stderr",
     "output_type": "stream",
     "text": [
      "C:\\WBG\\Anaconda\\lib\\site-packages\\urllib3\\connectionpool.py:847: InsecureRequestWarning: Unverified HTTPS request is being made. Adding certificate verification is strongly advised. See: https://urllib3.readthedocs.io/en/latest/advanced-usage.html#ssl-warnings\n",
      "  InsecureRequestWarning)\n"
     ]
    },
    {
     "name": "stdout",
     "output_type": "stream",
     "text": [
      "Brockton, Exhibition Place, Parkdale Village\n"
     ]
    },
    {
     "name": "stderr",
     "output_type": "stream",
     "text": [
      "C:\\WBG\\Anaconda\\lib\\site-packages\\urllib3\\connectionpool.py:847: InsecureRequestWarning: Unverified HTTPS request is being made. Adding certificate verification is strongly advised. See: https://urllib3.readthedocs.io/en/latest/advanced-usage.html#ssl-warnings\n",
      "  InsecureRequestWarning)\n"
     ]
    },
    {
     "name": "stdout",
     "output_type": "stream",
     "text": [
      "Downsview, North Park, Upwood Park\n",
      "Del Ray, Keelesdale, Mount Dennis, Silverthorn\n"
     ]
    },
    {
     "name": "stderr",
     "output_type": "stream",
     "text": [
      "C:\\WBG\\Anaconda\\lib\\site-packages\\urllib3\\connectionpool.py:847: InsecureRequestWarning: Unverified HTTPS request is being made. Adding certificate verification is strongly advised. See: https://urllib3.readthedocs.io/en/latest/advanced-usage.html#ssl-warnings\n",
      "  InsecureRequestWarning)\n",
      "C:\\WBG\\Anaconda\\lib\\site-packages\\urllib3\\connectionpool.py:847: InsecureRequestWarning: Unverified HTTPS request is being made. Adding certificate verification is strongly advised. See: https://urllib3.readthedocs.io/en/latest/advanced-usage.html#ssl-warnings\n",
      "  InsecureRequestWarning)\n"
     ]
    },
    {
     "name": "stdout",
     "output_type": "stream",
     "text": [
      "The Junction North, Runnymede\n",
      "High Park, The Junction South\n"
     ]
    },
    {
     "name": "stderr",
     "output_type": "stream",
     "text": [
      "C:\\WBG\\Anaconda\\lib\\site-packages\\urllib3\\connectionpool.py:847: InsecureRequestWarning: Unverified HTTPS request is being made. Adding certificate verification is strongly advised. See: https://urllib3.readthedocs.io/en/latest/advanced-usage.html#ssl-warnings\n",
      "  InsecureRequestWarning)\n",
      "C:\\WBG\\Anaconda\\lib\\site-packages\\urllib3\\connectionpool.py:847: InsecureRequestWarning: Unverified HTTPS request is being made. Adding certificate verification is strongly advised. See: https://urllib3.readthedocs.io/en/latest/advanced-usage.html#ssl-warnings\n",
      "  InsecureRequestWarning)\n"
     ]
    },
    {
     "name": "stdout",
     "output_type": "stream",
     "text": [
      "Parkdale, Roncesvalles\n",
      "Runnymede, Swansea\n"
     ]
    },
    {
     "name": "stderr",
     "output_type": "stream",
     "text": [
      "C:\\WBG\\Anaconda\\lib\\site-packages\\urllib3\\connectionpool.py:847: InsecureRequestWarning: Unverified HTTPS request is being made. Adding certificate verification is strongly advised. See: https://urllib3.readthedocs.io/en/latest/advanced-usage.html#ssl-warnings\n",
      "  InsecureRequestWarning)\n",
      "C:\\WBG\\Anaconda\\lib\\site-packages\\urllib3\\connectionpool.py:847: InsecureRequestWarning: Unverified HTTPS request is being made. Adding certificate verification is strongly advised. See: https://urllib3.readthedocs.io/en/latest/advanced-usage.html#ssl-warnings\n",
      "  InsecureRequestWarning)\n"
     ]
    },
    {
     "name": "stdout",
     "output_type": "stream",
     "text": [
      "Queen's Park\n"
     ]
    },
    {
     "name": "stderr",
     "output_type": "stream",
     "text": [
      "C:\\WBG\\Anaconda\\lib\\site-packages\\urllib3\\connectionpool.py:847: InsecureRequestWarning: Unverified HTTPS request is being made. Adding certificate verification is strongly advised. See: https://urllib3.readthedocs.io/en/latest/advanced-usage.html#ssl-warnings\n",
      "  InsecureRequestWarning)\n"
     ]
    },
    {
     "name": "stdout",
     "output_type": "stream",
     "text": [
      "Canada Post Gateway Processing Centre\n",
      "Business Reply Mail Processing Centre 969 Eastern\n"
     ]
    },
    {
     "name": "stderr",
     "output_type": "stream",
     "text": [
      "C:\\WBG\\Anaconda\\lib\\site-packages\\urllib3\\connectionpool.py:847: InsecureRequestWarning: Unverified HTTPS request is being made. Adding certificate verification is strongly advised. See: https://urllib3.readthedocs.io/en/latest/advanced-usage.html#ssl-warnings\n",
      "  InsecureRequestWarning)\n",
      "C:\\WBG\\Anaconda\\lib\\site-packages\\urllib3\\connectionpool.py:847: InsecureRequestWarning: Unverified HTTPS request is being made. Adding certificate verification is strongly advised. See: https://urllib3.readthedocs.io/en/latest/advanced-usage.html#ssl-warnings\n",
      "  InsecureRequestWarning)\n"
     ]
    },
    {
     "name": "stdout",
     "output_type": "stream",
     "text": [
      "Humber Bay Shores, Mimico South, New Toronto\n",
      "Alderwood, Long Branch\n"
     ]
    },
    {
     "name": "stderr",
     "output_type": "stream",
     "text": [
      "C:\\WBG\\Anaconda\\lib\\site-packages\\urllib3\\connectionpool.py:847: InsecureRequestWarning: Unverified HTTPS request is being made. Adding certificate verification is strongly advised. See: https://urllib3.readthedocs.io/en/latest/advanced-usage.html#ssl-warnings\n",
      "  InsecureRequestWarning)\n",
      "C:\\WBG\\Anaconda\\lib\\site-packages\\urllib3\\connectionpool.py:847: InsecureRequestWarning: Unverified HTTPS request is being made. Adding certificate verification is strongly advised. See: https://urllib3.readthedocs.io/en/latest/advanced-usage.html#ssl-warnings\n",
      "  InsecureRequestWarning)\n"
     ]
    },
    {
     "name": "stdout",
     "output_type": "stream",
     "text": [
      "The Kingsway, Montgomery Road, Old Mill North\n",
      "Humber Bay, King's Mill Park, Kingsway Park South East, Mimico NE, Old Mill South, The Queensway East, Royal York South East, Sunnylea\n"
     ]
    },
    {
     "name": "stderr",
     "output_type": "stream",
     "text": [
      "C:\\WBG\\Anaconda\\lib\\site-packages\\urllib3\\connectionpool.py:847: InsecureRequestWarning: Unverified HTTPS request is being made. Adding certificate verification is strongly advised. See: https://urllib3.readthedocs.io/en/latest/advanced-usage.html#ssl-warnings\n",
      "  InsecureRequestWarning)\n",
      "C:\\WBG\\Anaconda\\lib\\site-packages\\urllib3\\connectionpool.py:847: InsecureRequestWarning: Unverified HTTPS request is being made. Adding certificate verification is strongly advised. See: https://urllib3.readthedocs.io/en/latest/advanced-usage.html#ssl-warnings\n",
      "  InsecureRequestWarning)\n"
     ]
    },
    {
     "name": "stdout",
     "output_type": "stream",
     "text": [
      "Kingsway Park South West, Mimico NW, The Queensway West, Royal York South West, South of Bloor\n"
     ]
    },
    {
     "name": "stderr",
     "output_type": "stream",
     "text": [
      "C:\\WBG\\Anaconda\\lib\\site-packages\\urllib3\\connectionpool.py:847: InsecureRequestWarning: Unverified HTTPS request is being made. Adding certificate verification is strongly advised. See: https://urllib3.readthedocs.io/en/latest/advanced-usage.html#ssl-warnings\n",
      "  InsecureRequestWarning)\n"
     ]
    },
    {
     "name": "stdout",
     "output_type": "stream",
     "text": [
      "Islington Avenue\n",
      "Cloverdale, Islington, Martin Grove, Princess Gardens, West Deane Park\n"
     ]
    },
    {
     "name": "stderr",
     "output_type": "stream",
     "text": [
      "C:\\WBG\\Anaconda\\lib\\site-packages\\urllib3\\connectionpool.py:847: InsecureRequestWarning: Unverified HTTPS request is being made. Adding certificate verification is strongly advised. See: https://urllib3.readthedocs.io/en/latest/advanced-usage.html#ssl-warnings\n",
      "  InsecureRequestWarning)\n",
      "C:\\WBG\\Anaconda\\lib\\site-packages\\urllib3\\connectionpool.py:847: InsecureRequestWarning: Unverified HTTPS request is being made. Adding certificate verification is strongly advised. See: https://urllib3.readthedocs.io/en/latest/advanced-usage.html#ssl-warnings\n",
      "  InsecureRequestWarning)\n"
     ]
    },
    {
     "name": "stdout",
     "output_type": "stream",
     "text": [
      "Bloordale Gardens, Eringate, Markland Wood, Old Burnhamthorpe\n"
     ]
    },
    {
     "name": "stderr",
     "output_type": "stream",
     "text": [
      "C:\\WBG\\Anaconda\\lib\\site-packages\\urllib3\\connectionpool.py:847: InsecureRequestWarning: Unverified HTTPS request is being made. Adding certificate verification is strongly advised. See: https://urllib3.readthedocs.io/en/latest/advanced-usage.html#ssl-warnings\n",
      "  InsecureRequestWarning)\n"
     ]
    },
    {
     "name": "stdout",
     "output_type": "stream",
     "text": [
      "Humber Summit\n",
      "Emery, Humberlea\n"
     ]
    },
    {
     "name": "stderr",
     "output_type": "stream",
     "text": [
      "C:\\WBG\\Anaconda\\lib\\site-packages\\urllib3\\connectionpool.py:847: InsecureRequestWarning: Unverified HTTPS request is being made. Adding certificate verification is strongly advised. See: https://urllib3.readthedocs.io/en/latest/advanced-usage.html#ssl-warnings\n",
      "  InsecureRequestWarning)\n",
      "C:\\WBG\\Anaconda\\lib\\site-packages\\urllib3\\connectionpool.py:847: InsecureRequestWarning: Unverified HTTPS request is being made. Adding certificate verification is strongly advised. See: https://urllib3.readthedocs.io/en/latest/advanced-usage.html#ssl-warnings\n",
      "  InsecureRequestWarning)\n"
     ]
    },
    {
     "name": "stdout",
     "output_type": "stream",
     "text": [
      "Weston\n",
      "Westmount\n"
     ]
    },
    {
     "name": "stderr",
     "output_type": "stream",
     "text": [
      "C:\\WBG\\Anaconda\\lib\\site-packages\\urllib3\\connectionpool.py:847: InsecureRequestWarning: Unverified HTTPS request is being made. Adding certificate verification is strongly advised. See: https://urllib3.readthedocs.io/en/latest/advanced-usage.html#ssl-warnings\n",
      "  InsecureRequestWarning)\n",
      "C:\\WBG\\Anaconda\\lib\\site-packages\\urllib3\\connectionpool.py:847: InsecureRequestWarning: Unverified HTTPS request is being made. Adding certificate verification is strongly advised. See: https://urllib3.readthedocs.io/en/latest/advanced-usage.html#ssl-warnings\n",
      "  InsecureRequestWarning)\n"
     ]
    },
    {
     "name": "stdout",
     "output_type": "stream",
     "text": [
      "Kingsview Village, Martin Grove Gardens, Richview Gardens, St. Phillips\n",
      "Albion Gardens, Beaumond Heights, Humbergate, Jamestown, Mount Olive, Silverstone, South Steeles, Thistletown\n"
     ]
    },
    {
     "name": "stderr",
     "output_type": "stream",
     "text": [
      "C:\\WBG\\Anaconda\\lib\\site-packages\\urllib3\\connectionpool.py:847: InsecureRequestWarning: Unverified HTTPS request is being made. Adding certificate verification is strongly advised. See: https://urllib3.readthedocs.io/en/latest/advanced-usage.html#ssl-warnings\n",
      "  InsecureRequestWarning)\n",
      "C:\\WBG\\Anaconda\\lib\\site-packages\\urllib3\\connectionpool.py:847: InsecureRequestWarning: Unverified HTTPS request is being made. Adding certificate verification is strongly advised. See: https://urllib3.readthedocs.io/en/latest/advanced-usage.html#ssl-warnings\n",
      "  InsecureRequestWarning)\n"
     ]
    },
    {
     "name": "stdout",
     "output_type": "stream",
     "text": [
      "Northwest\n"
     ]
    },
    {
     "name": "stderr",
     "output_type": "stream",
     "text": [
      "C:\\WBG\\Anaconda\\lib\\site-packages\\urllib3\\connectionpool.py:847: InsecureRequestWarning: Unverified HTTPS request is being made. Adding certificate verification is strongly advised. See: https://urllib3.readthedocs.io/en/latest/advanced-usage.html#ssl-warnings\n",
      "  InsecureRequestWarning)\n"
     ]
    }
   ],
   "source": [
    "toronto_venues = getNearbyVenues(names = neighbor_df_ll['Neighborhood'],\n",
    "                                   latitudes = neighbor_df_ll['Latitude'],\n",
    "                                   longitudes = neighbor_df_ll['Longitude']\n",
    "                                  )"
   ]
  },
  {
   "cell_type": "code",
   "execution_count": 69,
   "metadata": {},
   "outputs": [
    {
     "data": {
      "text/html": [
       "<div>\n",
       "<style scoped>\n",
       "    .dataframe tbody tr th:only-of-type {\n",
       "        vertical-align: middle;\n",
       "    }\n",
       "\n",
       "    .dataframe tbody tr th {\n",
       "        vertical-align: top;\n",
       "    }\n",
       "\n",
       "    .dataframe thead th {\n",
       "        text-align: right;\n",
       "    }\n",
       "</style>\n",
       "<table border=\"1\" class=\"dataframe\">\n",
       "  <thead>\n",
       "    <tr style=\"text-align: right;\">\n",
       "      <th></th>\n",
       "      <th>Neighborhood</th>\n",
       "      <th>Neighborhood Latitude</th>\n",
       "      <th>Neighborhood Longitude</th>\n",
       "      <th>Venue</th>\n",
       "      <th>Venue Latitude</th>\n",
       "      <th>Venue Longitude</th>\n",
       "      <th>Venue Category</th>\n",
       "    </tr>\n",
       "  </thead>\n",
       "  <tbody>\n",
       "    <tr>\n",
       "      <th>0</th>\n",
       "      <td>Rouge, Malvern</td>\n",
       "      <td>43.806686</td>\n",
       "      <td>-79.194353</td>\n",
       "      <td>Wendy's</td>\n",
       "      <td>43.807448</td>\n",
       "      <td>-79.199056</td>\n",
       "      <td>Fast Food Restaurant</td>\n",
       "    </tr>\n",
       "    <tr>\n",
       "      <th>1</th>\n",
       "      <td>Rouge, Malvern</td>\n",
       "      <td>43.806686</td>\n",
       "      <td>-79.194353</td>\n",
       "      <td>Interprovincial Group</td>\n",
       "      <td>43.805630</td>\n",
       "      <td>-79.200378</td>\n",
       "      <td>Print Shop</td>\n",
       "    </tr>\n",
       "    <tr>\n",
       "      <th>2</th>\n",
       "      <td>Highland Creek, Rouge Hill, Port Union</td>\n",
       "      <td>43.784535</td>\n",
       "      <td>-79.160497</td>\n",
       "      <td>Chris Effects Painting</td>\n",
       "      <td>43.784343</td>\n",
       "      <td>-79.163742</td>\n",
       "      <td>Construction &amp; Landscaping</td>\n",
       "    </tr>\n",
       "    <tr>\n",
       "      <th>3</th>\n",
       "      <td>Highland Creek, Rouge Hill, Port Union</td>\n",
       "      <td>43.784535</td>\n",
       "      <td>-79.160497</td>\n",
       "      <td>Royal Canadian Legion</td>\n",
       "      <td>43.782533</td>\n",
       "      <td>-79.163085</td>\n",
       "      <td>Bar</td>\n",
       "    </tr>\n",
       "    <tr>\n",
       "      <th>4</th>\n",
       "      <td>Guildwood, Morningside, West Hill</td>\n",
       "      <td>43.763573</td>\n",
       "      <td>-79.188711</td>\n",
       "      <td>Swiss Chalet Rotisserie &amp; Grill</td>\n",
       "      <td>43.767697</td>\n",
       "      <td>-79.189914</td>\n",
       "      <td>Pizza Place</td>\n",
       "    </tr>\n",
       "  </tbody>\n",
       "</table>\n",
       "</div>"
      ],
      "text/plain": [
       "                             Neighborhood  Neighborhood Latitude  \\\n",
       "0                          Rouge, Malvern              43.806686   \n",
       "1                          Rouge, Malvern              43.806686   \n",
       "2  Highland Creek, Rouge Hill, Port Union              43.784535   \n",
       "3  Highland Creek, Rouge Hill, Port Union              43.784535   \n",
       "4       Guildwood, Morningside, West Hill              43.763573   \n",
       "\n",
       "   Neighborhood Longitude                            Venue  Venue Latitude  \\\n",
       "0              -79.194353                          Wendy's       43.807448   \n",
       "1              -79.194353            Interprovincial Group       43.805630   \n",
       "2              -79.160497           Chris Effects Painting       43.784343   \n",
       "3              -79.160497            Royal Canadian Legion       43.782533   \n",
       "4              -79.188711  Swiss Chalet Rotisserie & Grill       43.767697   \n",
       "\n",
       "   Venue Longitude              Venue Category  \n",
       "0       -79.199056        Fast Food Restaurant  \n",
       "1       -79.200378                  Print Shop  \n",
       "2       -79.163742  Construction & Landscaping  \n",
       "3       -79.163085                         Bar  \n",
       "4       -79.189914                 Pizza Place  "
      ]
     },
     "execution_count": 69,
     "metadata": {},
     "output_type": "execute_result"
    }
   ],
   "source": [
    "toronto_venues.head()"
   ]
  },
  {
   "cell_type": "code",
   "execution_count": 71,
   "metadata": {},
   "outputs": [
    {
     "data": {
      "text/html": [
       "<div>\n",
       "<style scoped>\n",
       "    .dataframe tbody tr th:only-of-type {\n",
       "        vertical-align: middle;\n",
       "    }\n",
       "\n",
       "    .dataframe tbody tr th {\n",
       "        vertical-align: top;\n",
       "    }\n",
       "\n",
       "    .dataframe thead th {\n",
       "        text-align: right;\n",
       "    }\n",
       "</style>\n",
       "<table border=\"1\" class=\"dataframe\">\n",
       "  <thead>\n",
       "    <tr style=\"text-align: right;\">\n",
       "      <th></th>\n",
       "      <th>Neighborhood Latitude</th>\n",
       "      <th>Neighborhood Longitude</th>\n",
       "      <th>Venue</th>\n",
       "      <th>Venue Latitude</th>\n",
       "      <th>Venue Longitude</th>\n",
       "      <th>Venue Category</th>\n",
       "    </tr>\n",
       "    <tr>\n",
       "      <th>Neighborhood</th>\n",
       "      <th></th>\n",
       "      <th></th>\n",
       "      <th></th>\n",
       "      <th></th>\n",
       "      <th></th>\n",
       "      <th></th>\n",
       "    </tr>\n",
       "  </thead>\n",
       "  <tbody>\n",
       "    <tr>\n",
       "      <th>Adelaide, King, Richmond</th>\n",
       "      <td>100</td>\n",
       "      <td>100</td>\n",
       "      <td>100</td>\n",
       "      <td>100</td>\n",
       "      <td>100</td>\n",
       "      <td>100</td>\n",
       "    </tr>\n",
       "    <tr>\n",
       "      <th>Agincourt</th>\n",
       "      <td>5</td>\n",
       "      <td>5</td>\n",
       "      <td>5</td>\n",
       "      <td>5</td>\n",
       "      <td>5</td>\n",
       "      <td>5</td>\n",
       "    </tr>\n",
       "    <tr>\n",
       "      <th>Agincourt North, L'Amoreaux East, Milliken, Steeles East</th>\n",
       "      <td>3</td>\n",
       "      <td>3</td>\n",
       "      <td>3</td>\n",
       "      <td>3</td>\n",
       "      <td>3</td>\n",
       "      <td>3</td>\n",
       "    </tr>\n",
       "    <tr>\n",
       "      <th>Albion Gardens, Beaumond Heights, Humbergate, Jamestown, Mount Olive, Silverstone, South Steeles, Thistletown</th>\n",
       "      <td>10</td>\n",
       "      <td>10</td>\n",
       "      <td>10</td>\n",
       "      <td>10</td>\n",
       "      <td>10</td>\n",
       "      <td>10</td>\n",
       "    </tr>\n",
       "    <tr>\n",
       "      <th>Alderwood, Long Branch</th>\n",
       "      <td>9</td>\n",
       "      <td>9</td>\n",
       "      <td>9</td>\n",
       "      <td>9</td>\n",
       "      <td>9</td>\n",
       "      <td>9</td>\n",
       "    </tr>\n",
       "  </tbody>\n",
       "</table>\n",
       "</div>"
      ],
      "text/plain": [
       "                                                    Neighborhood Latitude  \\\n",
       "Neighborhood                                                                \n",
       "Adelaide, King, Richmond                                              100   \n",
       "Agincourt                                                               5   \n",
       "Agincourt North, L'Amoreaux East, Milliken, Ste...                      3   \n",
       "Albion Gardens, Beaumond Heights, Humbergate, J...                     10   \n",
       "Alderwood, Long Branch                                                  9   \n",
       "\n",
       "                                                    Neighborhood Longitude  \\\n",
       "Neighborhood                                                                 \n",
       "Adelaide, King, Richmond                                               100   \n",
       "Agincourt                                                                5   \n",
       "Agincourt North, L'Amoreaux East, Milliken, Ste...                       3   \n",
       "Albion Gardens, Beaumond Heights, Humbergate, J...                      10   \n",
       "Alderwood, Long Branch                                                   9   \n",
       "\n",
       "                                                    Venue  Venue Latitude  \\\n",
       "Neighborhood                                                                \n",
       "Adelaide, King, Richmond                              100             100   \n",
       "Agincourt                                               5               5   \n",
       "Agincourt North, L'Amoreaux East, Milliken, Ste...      3               3   \n",
       "Albion Gardens, Beaumond Heights, Humbergate, J...     10              10   \n",
       "Alderwood, Long Branch                                  9               9   \n",
       "\n",
       "                                                    Venue Longitude  \\\n",
       "Neighborhood                                                          \n",
       "Adelaide, King, Richmond                                        100   \n",
       "Agincourt                                                         5   \n",
       "Agincourt North, L'Amoreaux East, Milliken, Ste...                3   \n",
       "Albion Gardens, Beaumond Heights, Humbergate, J...               10   \n",
       "Alderwood, Long Branch                                            9   \n",
       "\n",
       "                                                    Venue Category  \n",
       "Neighborhood                                                        \n",
       "Adelaide, King, Richmond                                       100  \n",
       "Agincourt                                                        5  \n",
       "Agincourt North, L'Amoreaux East, Milliken, Ste...               3  \n",
       "Albion Gardens, Beaumond Heights, Humbergate, J...              10  \n",
       "Alderwood, Long Branch                                           9  "
      ]
     },
     "execution_count": 71,
     "metadata": {},
     "output_type": "execute_result"
    }
   ],
   "source": [
    "toronto_venues.groupby('Neighborhood').count().head()"
   ]
  },
  {
   "cell_type": "code",
   "execution_count": 72,
   "metadata": {},
   "outputs": [
    {
     "data": {
      "text/html": [
       "<div>\n",
       "<style scoped>\n",
       "    .dataframe tbody tr th:only-of-type {\n",
       "        vertical-align: middle;\n",
       "    }\n",
       "\n",
       "    .dataframe tbody tr th {\n",
       "        vertical-align: top;\n",
       "    }\n",
       "\n",
       "    .dataframe thead th {\n",
       "        text-align: right;\n",
       "    }\n",
       "</style>\n",
       "<table border=\"1\" class=\"dataframe\">\n",
       "  <thead>\n",
       "    <tr style=\"text-align: right;\">\n",
       "      <th></th>\n",
       "      <th>Yoga Studio</th>\n",
       "      <th>Accessories Store</th>\n",
       "      <th>Afghan Restaurant</th>\n",
       "      <th>Airport</th>\n",
       "      <th>Airport Food Court</th>\n",
       "      <th>Airport Gate</th>\n",
       "      <th>Airport Lounge</th>\n",
       "      <th>Airport Service</th>\n",
       "      <th>Airport Terminal</th>\n",
       "      <th>American Restaurant</th>\n",
       "      <th>...</th>\n",
       "      <th>Trail</th>\n",
       "      <th>Train Station</th>\n",
       "      <th>Vegetarian / Vegan Restaurant</th>\n",
       "      <th>Video Game Store</th>\n",
       "      <th>Video Store</th>\n",
       "      <th>Vietnamese Restaurant</th>\n",
       "      <th>Warehouse Store</th>\n",
       "      <th>Wine Bar</th>\n",
       "      <th>Wings Joint</th>\n",
       "      <th>Women's Store</th>\n",
       "    </tr>\n",
       "  </thead>\n",
       "  <tbody>\n",
       "    <tr>\n",
       "      <th>0</th>\n",
       "      <td>0</td>\n",
       "      <td>0</td>\n",
       "      <td>0</td>\n",
       "      <td>0</td>\n",
       "      <td>0</td>\n",
       "      <td>0</td>\n",
       "      <td>0</td>\n",
       "      <td>0</td>\n",
       "      <td>0</td>\n",
       "      <td>0</td>\n",
       "      <td>...</td>\n",
       "      <td>0</td>\n",
       "      <td>0</td>\n",
       "      <td>0</td>\n",
       "      <td>0</td>\n",
       "      <td>0</td>\n",
       "      <td>0</td>\n",
       "      <td>0</td>\n",
       "      <td>0</td>\n",
       "      <td>0</td>\n",
       "      <td>0</td>\n",
       "    </tr>\n",
       "    <tr>\n",
       "      <th>1</th>\n",
       "      <td>0</td>\n",
       "      <td>0</td>\n",
       "      <td>0</td>\n",
       "      <td>0</td>\n",
       "      <td>0</td>\n",
       "      <td>0</td>\n",
       "      <td>0</td>\n",
       "      <td>0</td>\n",
       "      <td>0</td>\n",
       "      <td>0</td>\n",
       "      <td>...</td>\n",
       "      <td>0</td>\n",
       "      <td>0</td>\n",
       "      <td>0</td>\n",
       "      <td>0</td>\n",
       "      <td>0</td>\n",
       "      <td>0</td>\n",
       "      <td>0</td>\n",
       "      <td>0</td>\n",
       "      <td>0</td>\n",
       "      <td>0</td>\n",
       "    </tr>\n",
       "    <tr>\n",
       "      <th>2</th>\n",
       "      <td>0</td>\n",
       "      <td>0</td>\n",
       "      <td>0</td>\n",
       "      <td>0</td>\n",
       "      <td>0</td>\n",
       "      <td>0</td>\n",
       "      <td>0</td>\n",
       "      <td>0</td>\n",
       "      <td>0</td>\n",
       "      <td>0</td>\n",
       "      <td>...</td>\n",
       "      <td>0</td>\n",
       "      <td>0</td>\n",
       "      <td>0</td>\n",
       "      <td>0</td>\n",
       "      <td>0</td>\n",
       "      <td>0</td>\n",
       "      <td>0</td>\n",
       "      <td>0</td>\n",
       "      <td>0</td>\n",
       "      <td>0</td>\n",
       "    </tr>\n",
       "    <tr>\n",
       "      <th>3</th>\n",
       "      <td>0</td>\n",
       "      <td>0</td>\n",
       "      <td>0</td>\n",
       "      <td>0</td>\n",
       "      <td>0</td>\n",
       "      <td>0</td>\n",
       "      <td>0</td>\n",
       "      <td>0</td>\n",
       "      <td>0</td>\n",
       "      <td>0</td>\n",
       "      <td>...</td>\n",
       "      <td>0</td>\n",
       "      <td>0</td>\n",
       "      <td>0</td>\n",
       "      <td>0</td>\n",
       "      <td>0</td>\n",
       "      <td>0</td>\n",
       "      <td>0</td>\n",
       "      <td>0</td>\n",
       "      <td>0</td>\n",
       "      <td>0</td>\n",
       "    </tr>\n",
       "    <tr>\n",
       "      <th>4</th>\n",
       "      <td>0</td>\n",
       "      <td>0</td>\n",
       "      <td>0</td>\n",
       "      <td>0</td>\n",
       "      <td>0</td>\n",
       "      <td>0</td>\n",
       "      <td>0</td>\n",
       "      <td>0</td>\n",
       "      <td>0</td>\n",
       "      <td>0</td>\n",
       "      <td>...</td>\n",
       "      <td>0</td>\n",
       "      <td>0</td>\n",
       "      <td>0</td>\n",
       "      <td>0</td>\n",
       "      <td>0</td>\n",
       "      <td>0</td>\n",
       "      <td>0</td>\n",
       "      <td>0</td>\n",
       "      <td>0</td>\n",
       "      <td>0</td>\n",
       "    </tr>\n",
       "  </tbody>\n",
       "</table>\n",
       "<p>5 rows × 278 columns</p>\n",
       "</div>"
      ],
      "text/plain": [
       "   Yoga Studio  Accessories Store  Afghan Restaurant  Airport  \\\n",
       "0            0                  0                  0        0   \n",
       "1            0                  0                  0        0   \n",
       "2            0                  0                  0        0   \n",
       "3            0                  0                  0        0   \n",
       "4            0                  0                  0        0   \n",
       "\n",
       "   Airport Food Court  Airport Gate  Airport Lounge  Airport Service  \\\n",
       "0                   0             0               0                0   \n",
       "1                   0             0               0                0   \n",
       "2                   0             0               0                0   \n",
       "3                   0             0               0                0   \n",
       "4                   0             0               0                0   \n",
       "\n",
       "   Airport Terminal  American Restaurant  ...  Trail  Train Station  \\\n",
       "0                 0                    0  ...      0              0   \n",
       "1                 0                    0  ...      0              0   \n",
       "2                 0                    0  ...      0              0   \n",
       "3                 0                    0  ...      0              0   \n",
       "4                 0                    0  ...      0              0   \n",
       "\n",
       "   Vegetarian / Vegan Restaurant  Video Game Store  Video Store  \\\n",
       "0                              0                 0            0   \n",
       "1                              0                 0            0   \n",
       "2                              0                 0            0   \n",
       "3                              0                 0            0   \n",
       "4                              0                 0            0   \n",
       "\n",
       "   Vietnamese Restaurant  Warehouse Store  Wine Bar  Wings Joint  \\\n",
       "0                      0                0         0            0   \n",
       "1                      0                0         0            0   \n",
       "2                      0                0         0            0   \n",
       "3                      0                0         0            0   \n",
       "4                      0                0         0            0   \n",
       "\n",
       "   Women's Store  \n",
       "0              0  \n",
       "1              0  \n",
       "2              0  \n",
       "3              0  \n",
       "4              0  \n",
       "\n",
       "[5 rows x 278 columns]"
      ]
     },
     "execution_count": 72,
     "metadata": {},
     "output_type": "execute_result"
    }
   ],
   "source": [
    "# one hot encoding\n",
    "toronto_onehot = pd.get_dummies(toronto_venues[['Venue Category']], prefix=\"\", prefix_sep=\"\")\n",
    "\n",
    "# add neighborhood column back to dataframe\n",
    "toronto_onehot['Neighborhood'] = toronto_venues['Neighborhood'] \n",
    "\n",
    "# move neighborhood column to the first column\n",
    "fixed_columns = [toronto_onehot.columns[-1]] + list(toronto_onehot.columns[:-1])\n",
    "toronto_onehot = toronto_onehot[fixed_columns]\n",
    "\n",
    "toronto_onehot.head()"
   ]
  },
  {
   "cell_type": "code",
   "execution_count": 73,
   "metadata": {},
   "outputs": [
    {
     "data": {
      "text/html": [
       "<div>\n",
       "<style scoped>\n",
       "    .dataframe tbody tr th:only-of-type {\n",
       "        vertical-align: middle;\n",
       "    }\n",
       "\n",
       "    .dataframe tbody tr th {\n",
       "        vertical-align: top;\n",
       "    }\n",
       "\n",
       "    .dataframe thead th {\n",
       "        text-align: right;\n",
       "    }\n",
       "</style>\n",
       "<table border=\"1\" class=\"dataframe\">\n",
       "  <thead>\n",
       "    <tr style=\"text-align: right;\">\n",
       "      <th></th>\n",
       "      <th>Neighborhood</th>\n",
       "      <th>Yoga Studio</th>\n",
       "      <th>Accessories Store</th>\n",
       "      <th>Afghan Restaurant</th>\n",
       "      <th>Airport</th>\n",
       "      <th>Airport Food Court</th>\n",
       "      <th>Airport Gate</th>\n",
       "      <th>Airport Lounge</th>\n",
       "      <th>Airport Service</th>\n",
       "      <th>Airport Terminal</th>\n",
       "      <th>...</th>\n",
       "      <th>Trail</th>\n",
       "      <th>Train Station</th>\n",
       "      <th>Vegetarian / Vegan Restaurant</th>\n",
       "      <th>Video Game Store</th>\n",
       "      <th>Video Store</th>\n",
       "      <th>Vietnamese Restaurant</th>\n",
       "      <th>Warehouse Store</th>\n",
       "      <th>Wine Bar</th>\n",
       "      <th>Wings Joint</th>\n",
       "      <th>Women's Store</th>\n",
       "    </tr>\n",
       "  </thead>\n",
       "  <tbody>\n",
       "    <tr>\n",
       "      <th>0</th>\n",
       "      <td>Adelaide, King, Richmond</td>\n",
       "      <td>0.0</td>\n",
       "      <td>0.0</td>\n",
       "      <td>0.0</td>\n",
       "      <td>0.0</td>\n",
       "      <td>0.0</td>\n",
       "      <td>0.0</td>\n",
       "      <td>0.0</td>\n",
       "      <td>0.0</td>\n",
       "      <td>0.0</td>\n",
       "      <td>...</td>\n",
       "      <td>0.0</td>\n",
       "      <td>0.0</td>\n",
       "      <td>0.01</td>\n",
       "      <td>0.0</td>\n",
       "      <td>0.0</td>\n",
       "      <td>0.0</td>\n",
       "      <td>0.0</td>\n",
       "      <td>0.01</td>\n",
       "      <td>0.0</td>\n",
       "      <td>0.0</td>\n",
       "    </tr>\n",
       "    <tr>\n",
       "      <th>1</th>\n",
       "      <td>Agincourt</td>\n",
       "      <td>0.0</td>\n",
       "      <td>0.0</td>\n",
       "      <td>0.0</td>\n",
       "      <td>0.0</td>\n",
       "      <td>0.0</td>\n",
       "      <td>0.0</td>\n",
       "      <td>0.0</td>\n",
       "      <td>0.0</td>\n",
       "      <td>0.0</td>\n",
       "      <td>...</td>\n",
       "      <td>0.0</td>\n",
       "      <td>0.0</td>\n",
       "      <td>0.00</td>\n",
       "      <td>0.0</td>\n",
       "      <td>0.0</td>\n",
       "      <td>0.0</td>\n",
       "      <td>0.0</td>\n",
       "      <td>0.00</td>\n",
       "      <td>0.0</td>\n",
       "      <td>0.0</td>\n",
       "    </tr>\n",
       "    <tr>\n",
       "      <th>2</th>\n",
       "      <td>Agincourt North, L'Amoreaux East, Milliken, St...</td>\n",
       "      <td>0.0</td>\n",
       "      <td>0.0</td>\n",
       "      <td>0.0</td>\n",
       "      <td>0.0</td>\n",
       "      <td>0.0</td>\n",
       "      <td>0.0</td>\n",
       "      <td>0.0</td>\n",
       "      <td>0.0</td>\n",
       "      <td>0.0</td>\n",
       "      <td>...</td>\n",
       "      <td>0.0</td>\n",
       "      <td>0.0</td>\n",
       "      <td>0.00</td>\n",
       "      <td>0.0</td>\n",
       "      <td>0.0</td>\n",
       "      <td>0.0</td>\n",
       "      <td>0.0</td>\n",
       "      <td>0.00</td>\n",
       "      <td>0.0</td>\n",
       "      <td>0.0</td>\n",
       "    </tr>\n",
       "    <tr>\n",
       "      <th>3</th>\n",
       "      <td>Albion Gardens, Beaumond Heights, Humbergate, ...</td>\n",
       "      <td>0.0</td>\n",
       "      <td>0.0</td>\n",
       "      <td>0.0</td>\n",
       "      <td>0.0</td>\n",
       "      <td>0.0</td>\n",
       "      <td>0.0</td>\n",
       "      <td>0.0</td>\n",
       "      <td>0.0</td>\n",
       "      <td>0.0</td>\n",
       "      <td>...</td>\n",
       "      <td>0.0</td>\n",
       "      <td>0.0</td>\n",
       "      <td>0.00</td>\n",
       "      <td>0.0</td>\n",
       "      <td>0.0</td>\n",
       "      <td>0.0</td>\n",
       "      <td>0.0</td>\n",
       "      <td>0.00</td>\n",
       "      <td>0.0</td>\n",
       "      <td>0.0</td>\n",
       "    </tr>\n",
       "    <tr>\n",
       "      <th>4</th>\n",
       "      <td>Alderwood, Long Branch</td>\n",
       "      <td>0.0</td>\n",
       "      <td>0.0</td>\n",
       "      <td>0.0</td>\n",
       "      <td>0.0</td>\n",
       "      <td>0.0</td>\n",
       "      <td>0.0</td>\n",
       "      <td>0.0</td>\n",
       "      <td>0.0</td>\n",
       "      <td>0.0</td>\n",
       "      <td>...</td>\n",
       "      <td>0.0</td>\n",
       "      <td>0.0</td>\n",
       "      <td>0.00</td>\n",
       "      <td>0.0</td>\n",
       "      <td>0.0</td>\n",
       "      <td>0.0</td>\n",
       "      <td>0.0</td>\n",
       "      <td>0.00</td>\n",
       "      <td>0.0</td>\n",
       "      <td>0.0</td>\n",
       "    </tr>\n",
       "  </tbody>\n",
       "</table>\n",
       "<p>5 rows × 278 columns</p>\n",
       "</div>"
      ],
      "text/plain": [
       "                                        Neighborhood  Yoga Studio  \\\n",
       "0                           Adelaide, King, Richmond          0.0   \n",
       "1                                          Agincourt          0.0   \n",
       "2  Agincourt North, L'Amoreaux East, Milliken, St...          0.0   \n",
       "3  Albion Gardens, Beaumond Heights, Humbergate, ...          0.0   \n",
       "4                             Alderwood, Long Branch          0.0   \n",
       "\n",
       "   Accessories Store  Afghan Restaurant  Airport  Airport Food Court  \\\n",
       "0                0.0                0.0      0.0                 0.0   \n",
       "1                0.0                0.0      0.0                 0.0   \n",
       "2                0.0                0.0      0.0                 0.0   \n",
       "3                0.0                0.0      0.0                 0.0   \n",
       "4                0.0                0.0      0.0                 0.0   \n",
       "\n",
       "   Airport Gate  Airport Lounge  Airport Service  Airport Terminal  ...  \\\n",
       "0           0.0             0.0              0.0               0.0  ...   \n",
       "1           0.0             0.0              0.0               0.0  ...   \n",
       "2           0.0             0.0              0.0               0.0  ...   \n",
       "3           0.0             0.0              0.0               0.0  ...   \n",
       "4           0.0             0.0              0.0               0.0  ...   \n",
       "\n",
       "   Trail  Train Station  Vegetarian / Vegan Restaurant  Video Game Store  \\\n",
       "0    0.0            0.0                           0.01               0.0   \n",
       "1    0.0            0.0                           0.00               0.0   \n",
       "2    0.0            0.0                           0.00               0.0   \n",
       "3    0.0            0.0                           0.00               0.0   \n",
       "4    0.0            0.0                           0.00               0.0   \n",
       "\n",
       "   Video Store  Vietnamese Restaurant  Warehouse Store  Wine Bar  Wings Joint  \\\n",
       "0          0.0                    0.0              0.0      0.01          0.0   \n",
       "1          0.0                    0.0              0.0      0.00          0.0   \n",
       "2          0.0                    0.0              0.0      0.00          0.0   \n",
       "3          0.0                    0.0              0.0      0.00          0.0   \n",
       "4          0.0                    0.0              0.0      0.00          0.0   \n",
       "\n",
       "   Women's Store  \n",
       "0            0.0  \n",
       "1            0.0  \n",
       "2            0.0  \n",
       "3            0.0  \n",
       "4            0.0  \n",
       "\n",
       "[5 rows x 278 columns]"
      ]
     },
     "execution_count": 73,
     "metadata": {},
     "output_type": "execute_result"
    }
   ],
   "source": [
    "toronto_grouped = toronto_onehot.groupby('Neighborhood').mean().reset_index()\n",
    "toronto_grouped.head()"
   ]
  },
  {
   "cell_type": "code",
   "execution_count": 101,
   "metadata": {},
   "outputs": [
    {
     "name": "stdout",
     "output_type": "stream",
     "text": [
      "----Adelaide, King, Richmond----\n",
      "             venue  freq\n",
      "0      Coffee Shop  0.07\n",
      "1             Café  0.05\n",
      "2              Bar  0.04\n",
      "3  Thai Restaurant  0.04\n",
      "4       Steakhouse  0.04\n",
      "\n",
      "\n",
      "----Agincourt----\n",
      "                venue  freq\n",
      "0      Sandwich Place   0.2\n",
      "1      Breakfast Spot   0.2\n",
      "2              Lounge   0.2\n",
      "3  Chinese Restaurant   0.2\n",
      "4        Skating Rink   0.2\n",
      "\n",
      "\n",
      "----Agincourt North, L'Amoreaux East, Milliken, Steeles East----\n",
      "                       venue  freq\n",
      "0                 Playground  0.33\n",
      "1                Coffee Shop  0.33\n",
      "2                       Park  0.33\n",
      "3  Middle Eastern Restaurant  0.00\n",
      "4                      Motel  0.00\n",
      "\n",
      "\n",
      "----Albion Gardens, Beaumond Heights, Humbergate, Jamestown, Mount Olive, Silverstone, South Steeles, Thistletown----\n",
      "                 venue  freq\n",
      "0          Pizza Place   0.2\n",
      "1        Grocery Store   0.2\n",
      "2           Beer Store   0.1\n",
      "3          Coffee Shop   0.1\n",
      "4  Fried Chicken Joint   0.1\n",
      "\n",
      "\n",
      "----Alderwood, Long Branch----\n",
      "                venue  freq\n",
      "0         Pizza Place  0.22\n",
      "1        Skating Rink  0.11\n",
      "2      Sandwich Place  0.11\n",
      "3  Athletics & Sports  0.11\n",
      "4                 Pub  0.11\n",
      "\n",
      "\n",
      "----Bathurst Manor, Downsview North, Wilson Heights----\n",
      "         venue  freq\n",
      "0  Coffee Shop  0.11\n",
      "1     Pharmacy  0.06\n",
      "2  Supermarket  0.06\n",
      "3         Bank  0.06\n",
      "4  Bridal Shop  0.06\n",
      "\n",
      "\n",
      "----Bayview Village----\n",
      "                 venue  freq\n",
      "0  Japanese Restaurant  0.25\n",
      "1                 Café  0.25\n",
      "2                 Bank  0.25\n",
      "3   Chinese Restaurant  0.25\n",
      "4          Music Store  0.00\n",
      "\n",
      "\n",
      "----Bedford Park, Lawrence Manor East----\n",
      "                     venue  freq\n",
      "0       Italian Restaurant  0.09\n",
      "1              Coffee Shop  0.09\n",
      "2  Comfort Food Restaurant  0.04\n",
      "3                 Pharmacy  0.04\n",
      "4                     Café  0.04\n",
      "\n",
      "\n",
      "----Berczy Park----\n",
      "                venue  freq\n",
      "0         Coffee Shop  0.09\n",
      "1        Cocktail Bar  0.05\n",
      "2         Cheese Shop  0.04\n",
      "3          Steakhouse  0.04\n",
      "4  Seafood Restaurant  0.04\n",
      "\n",
      "\n",
      "----Birch Cliff, Cliffside West----\n",
      "                   venue  freq\n",
      "0        College Stadium  0.25\n",
      "1                   Café  0.25\n",
      "2  General Entertainment  0.25\n",
      "3           Skating Rink  0.25\n",
      "4            Yoga Studio  0.00\n",
      "\n",
      "\n",
      "----Bloordale Gardens, Eringate, Markland Wood, Old Burnhamthorpe----\n",
      "               venue  freq\n",
      "0        Pizza Place   0.1\n",
      "1     Shopping Plaza   0.1\n",
      "2  Convenience Store   0.1\n",
      "3           Pharmacy   0.1\n",
      "4          Pet Store   0.1\n",
      "\n",
      "\n",
      "----Brockton, Exhibition Place, Parkdale Village----\n",
      "                venue  freq\n",
      "0      Breakfast Spot  0.10\n",
      "1         Coffee Shop  0.10\n",
      "2                Café  0.10\n",
      "3  Falafel Restaurant  0.05\n",
      "4       Grocery Store  0.05\n",
      "\n",
      "\n",
      "----Business Reply Mail Processing Centre 969 Eastern----\n",
      "                  venue  freq\n",
      "0    Light Rail Station  0.12\n",
      "1               Brewery  0.06\n",
      "2  Gym / Fitness Center  0.06\n",
      "3         Garden Center  0.06\n",
      "4            Restaurant  0.06\n",
      "\n",
      "\n",
      "----CFB Toronto, Downsview East----\n",
      "                       venue  freq\n",
      "0                    Airport   0.5\n",
      "1                       Park   0.5\n",
      "2                Yoga Studio   0.0\n",
      "3  Middle Eastern Restaurant   0.0\n",
      "4                      Motel   0.0\n",
      "\n",
      "\n",
      "----CN Tower, Bathurst Quay, Island airport, Harbourfront West, King and Spadina, Railway Lands, South Niagara----\n",
      "              venue  freq\n",
      "0   Airport Service  0.18\n",
      "1  Airport Terminal  0.12\n",
      "2    Airport Lounge  0.12\n",
      "3               Bar  0.06\n",
      "4     Boat or Ferry  0.06\n",
      "\n",
      "\n",
      "----Cabbagetown, St. James Town----\n",
      "                venue  freq\n",
      "0         Coffee Shop  0.08\n",
      "1                Café  0.04\n",
      "2  Italian Restaurant  0.04\n",
      "3                 Pub  0.04\n",
      "4          Restaurant  0.04\n",
      "\n",
      "\n",
      "----Caledonia-Fairbanks----\n",
      "                  venue  freq\n",
      "0                  Park   0.4\n",
      "1         Women's Store   0.2\n",
      "2  Fast Food Restaurant   0.2\n",
      "3                Market   0.2\n",
      "4        Medical Center   0.0\n",
      "\n",
      "\n",
      "----Canada Post Gateway Processing Centre----\n",
      "                      venue  freq\n",
      "0                     Hotel  0.18\n",
      "1               Coffee Shop  0.18\n",
      "2             Burrito Place  0.09\n",
      "3  Mediterranean Restaurant  0.09\n",
      "4            Sandwich Place  0.09\n",
      "\n",
      "\n",
      "----Cedarbrae----\n",
      "                  venue  freq\n",
      "0   Fried Chicken Joint  0.14\n",
      "1      Hakka Restaurant  0.14\n",
      "2  Caribbean Restaurant  0.14\n",
      "3       Thai Restaurant  0.14\n",
      "4    Athletics & Sports  0.14\n",
      "\n",
      "\n",
      "----Central Bay Street----\n",
      "                venue  freq\n",
      "0         Coffee Shop  0.14\n",
      "1                Café  0.05\n",
      "2  Italian Restaurant  0.05\n",
      "3      Ice Cream Shop  0.05\n",
      "4        Burger Joint  0.04\n",
      "\n",
      "\n",
      "----Chinatown, Grange Park, Kensington Market----\n",
      "                           venue  freq\n",
      "0  Vegetarian / Vegan Restaurant  0.06\n",
      "1                           Café  0.06\n",
      "2             Chinese Restaurant  0.05\n",
      "3          Vietnamese Restaurant  0.05\n",
      "4                            Bar  0.04\n",
      "\n",
      "\n",
      "----Christie----\n",
      "               venue  freq\n",
      "0      Grocery Store  0.19\n",
      "1               Café  0.19\n",
      "2               Park  0.12\n",
      "3  Convenience Store  0.06\n",
      "4          Nightclub  0.06\n",
      "\n",
      "\n",
      "----Church and Wellesley----\n",
      "                 venue  freq\n",
      "0          Coffee Shop  0.07\n",
      "1  Japanese Restaurant  0.06\n",
      "2              Gay Bar  0.05\n",
      "3     Sushi Restaurant  0.05\n",
      "4           Restaurant  0.04\n",
      "\n",
      "\n",
      "----Clairlea, Golden Mile, Oakridge----\n",
      "                  venue  freq\n",
      "0                Bakery   0.2\n",
      "1              Bus Line   0.2\n",
      "2          Soccer Field   0.1\n",
      "3  Fast Food Restaurant   0.1\n",
      "4         Metro Station   0.1\n",
      "\n",
      "\n",
      "----Clarks Corners, Sullivan, Tam O'Shanter----\n",
      "                  venue  freq\n",
      "0           Pizza Place  0.17\n",
      "1                  Bank  0.08\n",
      "2       Thai Restaurant  0.08\n",
      "3              Pharmacy  0.08\n",
      "4  Fast Food Restaurant  0.08\n",
      "\n",
      "\n",
      "----Cliffcrest, Cliffside, Scarborough Village West----\n",
      "                 venue  freq\n",
      "0  American Restaurant   0.5\n",
      "1                Motel   0.5\n",
      "2          Music Store   0.0\n",
      "3        Movie Theater   0.0\n",
      "4  Monument / Landmark   0.0\n",
      "\n",
      "\n",
      "----Cloverdale, Islington, Martin Grove, Princess Gardens, West Deane Park----\n",
      "                 venue  freq\n",
      "0                 Bank   1.0\n",
      "1          Yoga Studio   0.0\n",
      "2   Miscellaneous Shop   0.0\n",
      "3                Motel   0.0\n",
      "4  Monument / Landmark   0.0\n",
      "\n",
      "\n",
      "----Commerce Court, Victoria Hotel----\n",
      "                 venue  freq\n",
      "0          Coffee Shop  0.09\n",
      "1                 Café  0.06\n",
      "2                Hotel  0.06\n",
      "3  American Restaurant  0.04\n",
      "4           Restaurant  0.04\n",
      "\n",
      "\n",
      "----Davisville----\n",
      "            venue  freq\n",
      "0  Sandwich Place  0.09\n",
      "1    Dessert Shop  0.09\n",
      "2     Coffee Shop  0.06\n",
      "3     Pizza Place  0.06\n",
      "4            Café  0.06\n",
      "\n",
      "\n",
      "----Davisville North----\n",
      "            venue  freq\n",
      "0  Sandwich Place  0.14\n",
      "1  Breakfast Spot  0.14\n",
      "2            Park  0.14\n",
      "3             Gym  0.14\n",
      "4           Hotel  0.14\n",
      "\n",
      "\n",
      "----Deer Park, Forest Hill SE, Rathnelly, South Hill, Summerhill West----\n",
      "                venue  freq\n",
      "0         Coffee Shop  0.13\n",
      "1                 Pub  0.13\n",
      "2          Sports Bar  0.07\n",
      "3  Light Rail Station  0.07\n",
      "4         Pizza Place  0.07\n",
      "\n",
      "\n",
      "----Del Ray, Keelesdale, Mount Dennis, Silverthorn----\n",
      "                   venue  freq\n",
      "0         Discount Store  0.25\n",
      "1         Sandwich Place  0.25\n",
      "2  Check Cashing Service  0.25\n",
      "3             Restaurant  0.25\n",
      "4            Yoga Studio  0.00\n",
      "\n",
      "\n",
      "----Design Exchange, Toronto Dominion Centre----\n",
      "                venue  freq\n",
      "0         Coffee Shop  0.13\n",
      "1                Café  0.08\n",
      "2               Hotel  0.06\n",
      "3          Restaurant  0.05\n",
      "4  Italian Restaurant  0.03\n",
      "\n",
      "\n",
      "----Don Mills North----\n",
      "                  venue  freq\n",
      "0   Japanese Restaurant   0.2\n",
      "1  Caribbean Restaurant   0.2\n",
      "2                  Café   0.2\n",
      "3        Baseball Field   0.2\n",
      "4  Gym / Fitness Center   0.2\n",
      "\n",
      "\n",
      "----Dorset Park, Scarborough Town Centre, Wexford Heights----\n",
      "                   venue  freq\n",
      "0      Indian Restaurant  0.29\n",
      "1     Light Rail Station  0.14\n",
      "2              Pet Store  0.14\n",
      "3  Vietnamese Restaurant  0.14\n",
      "4     Chinese Restaurant  0.14\n",
      "\n",
      "\n",
      "----Dovercourt Village, Dufferin----\n",
      "                  venue  freq\n",
      "0              Pharmacy  0.12\n",
      "1                Bakery  0.12\n",
      "2           Supermarket  0.12\n",
      "3               Brewery  0.06\n",
      "4  Fast Food Restaurant  0.06\n",
      "\n",
      "\n",
      "----Downsview Central----\n",
      "              venue  freq\n",
      "0      Home Service  0.25\n",
      "1  Business Service  0.25\n",
      "2    Baseball Field  0.25\n",
      "3        Food Truck  0.25\n",
      "4       Yoga Studio  0.00\n",
      "\n",
      "\n",
      "----Downsview Northwest----\n"
     ]
    },
    {
     "name": "stdout",
     "output_type": "stream",
     "text": [
      "                  venue  freq\n",
      "0        Discount Store  0.25\n",
      "1  Gym / Fitness Center  0.25\n",
      "2          Liquor Store  0.25\n",
      "3         Grocery Store  0.25\n",
      "4    Miscellaneous Shop  0.00\n",
      "\n",
      "\n",
      "----Downsview West----\n",
      "           venue  freq\n",
      "0          Hotel   0.2\n",
      "1           Bank   0.2\n",
      "2           Park   0.2\n",
      "3  Grocery Store   0.2\n",
      "4  Shopping Mall   0.2\n",
      "\n",
      "\n",
      "----Downsview, North Park, Upwood Park----\n",
      "                        venue  freq\n",
      "0                      Bakery  0.25\n",
      "1  Construction & Landscaping  0.25\n",
      "2                        Park  0.25\n",
      "3            Basketball Court  0.25\n",
      "4                 Yoga Studio  0.00\n",
      "\n",
      "\n",
      "----East Birchmount Park, Ionview, Kennedy Park----\n",
      "               venue  freq\n",
      "0     Discount Store  0.50\n",
      "1   Department Store  0.25\n",
      "2        Coffee Shop  0.25\n",
      "3  Mobile Phone Shop  0.00\n",
      "4             Museum  0.00\n",
      "\n",
      "\n",
      "----East Toronto----\n",
      "               venue  freq\n",
      "0        Pizza Place   0.2\n",
      "1  Convenience Store   0.2\n",
      "2       Intersection   0.2\n",
      "3        Coffee Shop   0.2\n",
      "4               Park   0.2\n",
      "\n",
      "\n",
      "----Emery, Humberlea----\n",
      "                 venue  freq\n",
      "0       Baseball Field   1.0\n",
      "1          Yoga Studio   0.0\n",
      "2   Miscellaneous Shop   0.0\n",
      "3                Motel   0.0\n",
      "4  Monument / Landmark   0.0\n",
      "\n",
      "\n",
      "----Fairview, Henry Farm, Oriole----\n",
      "                  venue  freq\n",
      "0        Clothing Store  0.14\n",
      "1           Coffee Shop  0.08\n",
      "2  Fast Food Restaurant  0.08\n",
      "3                Bakery  0.05\n",
      "4         Women's Store  0.03\n",
      "\n",
      "\n",
      "----First Canadian Place, Underground city----\n",
      "         venue  freq\n",
      "0  Coffee Shop  0.09\n",
      "1         Café  0.07\n",
      "2   Restaurant  0.04\n",
      "3   Steakhouse  0.04\n",
      "4        Hotel  0.04\n",
      "\n",
      "\n",
      "----Flemingdon Park, Don Mills South----\n",
      "                   venue  freq\n",
      "0             Beer Store  0.10\n",
      "1            Coffee Shop  0.10\n",
      "2       Asian Restaurant  0.10\n",
      "3                    Gym  0.10\n",
      "4  General Entertainment  0.05\n",
      "\n",
      "\n",
      "----Forest Hill North, Forest Hill West----\n",
      "              venue  freq\n",
      "0             Trail  0.25\n",
      "1     Jewelry Store  0.25\n",
      "2  Sushi Restaurant  0.25\n",
      "3              Park  0.25\n",
      "4       Yoga Studio  0.00\n",
      "\n",
      "\n",
      "----Glencairn----\n",
      "                 venue  freq\n",
      "0          Pizza Place   0.4\n",
      "1                 Park   0.2\n",
      "2                  Pub   0.2\n",
      "3  Japanese Restaurant   0.2\n",
      "4   Miscellaneous Shop   0.0\n",
      "\n",
      "\n",
      "----Guildwood, Morningside, West Hill----\n",
      "                 venue  freq\n",
      "0          Pizza Place  0.14\n",
      "1   Mexican Restaurant  0.14\n",
      "2         Intersection  0.14\n",
      "3  Rental Car Location  0.14\n",
      "4    Electronics Store  0.14\n",
      "\n",
      "\n",
      "----Harbord, University of Toronto----\n",
      "                 venue  freq\n",
      "0                 Café  0.12\n",
      "1                  Bar  0.06\n",
      "2           Restaurant  0.06\n",
      "3  Japanese Restaurant  0.06\n",
      "4               Bakery  0.06\n",
      "\n",
      "\n",
      "----Harbourfront East, Toronto Islands, Union Station----\n",
      "                venue  freq\n",
      "0         Coffee Shop  0.11\n",
      "1            Aquarium  0.05\n",
      "2               Hotel  0.05\n",
      "3                Café  0.04\n",
      "4  Italian Restaurant  0.04\n",
      "\n",
      "\n",
      "----Harbourfront, Regent Park----\n",
      "         venue  freq\n",
      "0  Coffee Shop  0.19\n",
      "1         Park  0.06\n",
      "2       Bakery  0.06\n",
      "3         Café  0.06\n",
      "4   Restaurant  0.04\n",
      "\n",
      "\n",
      "----High Park, The Junction South----\n",
      "                venue  freq\n",
      "0  Mexican Restaurant  0.08\n",
      "1                Café  0.08\n",
      "2                 Bar  0.08\n",
      "3       Grocery Store  0.04\n",
      "4         Flea Market  0.04\n",
      "\n",
      "\n",
      "----Highland Creek, Rouge Hill, Port Union----\n",
      "                        venue  freq\n",
      "0  Construction & Landscaping   0.5\n",
      "1                         Bar   0.5\n",
      "2                 Yoga Studio   0.0\n",
      "3           Mobile Phone Shop   0.0\n",
      "4               Movie Theater   0.0\n",
      "\n",
      "\n",
      "----Hillcrest Village----\n",
      "                      venue  freq\n",
      "0               Golf Course  0.17\n",
      "1  Mediterranean Restaurant  0.17\n",
      "2      Fast Food Restaurant  0.17\n",
      "3                   Dog Run  0.17\n",
      "4                      Pool  0.17\n",
      "\n",
      "\n",
      "----Humber Bay Shores, Mimico South, New Toronto----\n",
      "                 venue  freq\n",
      "0                 Café  0.14\n",
      "1          Pizza Place  0.07\n",
      "2  American Restaurant  0.07\n",
      "3       Sandwich Place  0.07\n",
      "4           Restaurant  0.07\n",
      "\n",
      "\n",
      "----Humber Bay, King's Mill Park, Kingsway Park South East, Mimico NE, Old Mill South, The Queensway East, Royal York South East, Sunnylea----\n",
      "                       venue  freq\n",
      "0                       Pool  0.33\n",
      "1                  Locksmith  0.33\n",
      "2             Baseball Field  0.33\n",
      "3                Yoga Studio  0.00\n",
      "4  Middle Eastern Restaurant  0.00\n",
      "\n",
      "\n",
      "----Humber Summit----\n",
      "                 venue  freq\n",
      "0          Pizza Place   1.0\n",
      "1   Miscellaneous Shop   0.0\n",
      "2        Movie Theater   0.0\n",
      "3                Motel   0.0\n",
      "4  Monument / Landmark   0.0\n",
      "\n",
      "\n",
      "----Humewood-Cedarvale----\n",
      "          venue  freq\n",
      "0    Playground  0.25\n",
      "1         Field  0.25\n",
      "2  Hockey Arena  0.25\n",
      "3         Trail  0.25\n",
      "4   Yoga Studio  0.00\n",
      "\n",
      "\n",
      "----Kingsview Village, Martin Grove Gardens, Richview Gardens, St. Phillips----\n",
      "                venue  freq\n",
      "0         Pizza Place  0.25\n",
      "1            Bus Line  0.25\n",
      "2                Park  0.25\n",
      "3   Mobile Phone Shop  0.25\n",
      "4  Miscellaneous Shop  0.00\n",
      "\n",
      "\n",
      "----Kingsway Park South West, Mimico NW, The Queensway West, Royal York South West, South of Bloor----\n",
      "                  venue  freq\n",
      "0           Social Club  0.07\n",
      "1         Grocery Store  0.07\n",
      "2        Discount Store  0.07\n",
      "3        Sandwich Place  0.07\n",
      "4  Fast Food Restaurant  0.07\n",
      "\n",
      "\n",
      "----L'Amoreaux West----\n",
      "                  venue  freq\n",
      "0    Chinese Restaurant  0.15\n",
      "1  Fast Food Restaurant  0.15\n",
      "2                   Gym  0.08\n",
      "3        Sandwich Place  0.08\n",
      "4        Breakfast Spot  0.08\n",
      "\n",
      "\n",
      "----Lawrence Heights, Lawrence Manor----\n",
      "                    venue  freq\n",
      "0          Clothing Store  0.23\n",
      "1  Furniture / Home Store  0.15\n",
      "2             Coffee Shop  0.08\n",
      "3                Boutique  0.08\n",
      "4       Accessories Store  0.08\n",
      "\n",
      "\n",
      "----Lawrence Park----\n",
      "                venue  freq\n",
      "0         Swim School  0.33\n",
      "1                Park  0.33\n",
      "2            Bus Line  0.33\n",
      "3         Yoga Studio  0.00\n",
      "4  Miscellaneous Shop  0.00\n",
      "\n",
      "\n",
      "----Leaside----\n",
      "                    venue  freq\n",
      "0             Coffee Shop  0.11\n",
      "1     Sporting Goods Shop  0.09\n",
      "2           Shopping Mall  0.06\n",
      "3        Sushi Restaurant  0.06\n",
      "4  Furniture / Home Store  0.06\n",
      "\n",
      "\n",
      "----Little Portugal, Trinity----\n",
      "                     venue  freq\n",
      "0                      Bar  0.11\n",
      "1              Coffee Shop  0.06\n",
      "2         Asian Restaurant  0.05\n",
      "3  New American Restaurant  0.03\n",
      "4               Restaurant  0.03\n",
      "\n",
      "\n",
      "----Maryvale, Wexford----\n",
      "            venue  freq\n",
      "0  Sandwich Place  0.17\n",
      "1   Shopping Mall  0.17\n",
      "2  Breakfast Spot  0.17\n",
      "3          Bakery  0.17\n",
      "4     Auto Garage  0.17\n",
      "\n",
      "\n",
      "----Moore Park, Summerhill East----\n",
      "         venue  freq\n",
      "0   Playground  0.25\n",
      "1          Gym  0.25\n",
      "2         Park  0.25\n",
      "3  Summer Camp  0.25\n",
      "4  Yoga Studio  0.00\n",
      "\n",
      "\n",
      "----Newtonbrook, Willowdale----\n",
      "                       venue  freq\n",
      "0                  Piano Bar   0.5\n",
      "1                        Gym   0.5\n",
      "2  Middle Eastern Restaurant   0.0\n",
      "3                      Motel   0.0\n",
      "4        Monument / Landmark   0.0\n",
      "\n",
      "\n",
      "----North Toronto West----\n",
      "                    venue  freq\n",
      "0             Coffee Shop  0.11\n",
      "1     Sporting Goods Shop  0.11\n",
      "2             Yoga Studio  0.05\n",
      "3  Furniture / Home Store  0.05\n",
      "4                    Park  0.05\n",
      "\n",
      "\n",
      "----Northwest----\n",
      "                 venue  freq\n",
      "0  Rental Car Location   0.5\n",
      "1            Drugstore   0.5\n",
      "2          Yoga Studio   0.0\n",
      "3               Museum   0.0\n",
      "4                Motel   0.0\n",
      "\n",
      "\n",
      "----Northwood Park, York University----\n",
      "                  venue  freq\n",
      "0    Miscellaneous Shop  0.14\n",
      "1    Falafel Restaurant  0.14\n",
      "2  Caribbean Restaurant  0.14\n",
      "3                   Bar  0.14\n",
      "4           Coffee Shop  0.14\n",
      "\n",
      "\n",
      "----Parkdale, Roncesvalles----\n",
      "                         venue  freq\n",
      "0               Breakfast Spot  0.13\n",
      "1                    Gift Shop  0.13\n",
      "2                  Coffee Shop  0.07\n",
      "3                         Bank  0.07\n",
      "4  Eastern European Restaurant  0.07\n",
      "\n",
      "\n",
      "----Parkwoods----\n",
      "                       venue  freq\n",
      "0       Fast Food Restaurant  0.33\n",
      "1          Food & Drink Shop  0.33\n",
      "2                       Park  0.33\n",
      "3                Yoga Studio  0.00\n",
      "4  Middle Eastern Restaurant  0.00\n",
      "\n",
      "\n",
      "----Queen's Park----\n",
      "            venue  freq\n",
      "0     Coffee Shop  0.24\n",
      "1             Gym  0.05\n",
      "2            Park  0.05\n",
      "3     Yoga Studio  0.03\n",
      "4  Sandwich Place  0.03\n",
      "\n",
      "\n",
      "----Rosedale----\n",
      "                 venue  freq\n",
      "0                 Park   0.4\n",
      "1           Playground   0.2\n",
      "2                Trail   0.2\n",
      "3             Building   0.2\n",
      "4  Monument / Landmark   0.0\n",
      "\n",
      "\n",
      "----Roselawn----\n"
     ]
    },
    {
     "name": "stdout",
     "output_type": "stream",
     "text": [
      "            venue  freq\n",
      "0          Garden   0.5\n",
      "1  Ice Cream Shop   0.5\n",
      "2          Museum   0.0\n",
      "3   Movie Theater   0.0\n",
      "4           Motel   0.0\n",
      "\n",
      "\n",
      "----Rouge, Malvern----\n",
      "                       venue  freq\n",
      "0       Fast Food Restaurant   0.5\n",
      "1                 Print Shop   0.5\n",
      "2                Yoga Studio   0.0\n",
      "3  Middle Eastern Restaurant   0.0\n",
      "4                      Motel   0.0\n",
      "\n",
      "\n",
      "----Runnymede, Swansea----\n",
      "                venue  freq\n",
      "0    Sushi Restaurant  0.08\n",
      "1         Pizza Place  0.08\n",
      "2         Coffee Shop  0.08\n",
      "3                Café  0.08\n",
      "4  Italian Restaurant  0.05\n",
      "\n",
      "\n",
      "----Ryerson, Garden District----\n",
      "                       venue  freq\n",
      "0                Coffee Shop  0.09\n",
      "1             Clothing Store  0.06\n",
      "2             Cosmetics Shop  0.04\n",
      "3       Fast Food Restaurant  0.03\n",
      "4  Middle Eastern Restaurant  0.03\n",
      "\n",
      "\n",
      "----Scarborough Village----\n",
      "                     venue  freq\n",
      "0  Health & Beauty Service   0.5\n",
      "1               Playground   0.5\n",
      "2           History Museum   0.0\n",
      "3              Music Store   0.0\n",
      "4           Medical Center   0.0\n",
      "\n",
      "\n",
      "----Silver Hills, York Mills----\n",
      "                 venue  freq\n",
      "0    Martial Arts Dojo   1.0\n",
      "1   Miscellaneous Shop   0.0\n",
      "2        Movie Theater   0.0\n",
      "3                Motel   0.0\n",
      "4  Monument / Landmark   0.0\n",
      "\n",
      "\n",
      "----St. James Town----\n",
      "                venue  freq\n",
      "0         Coffee Shop  0.07\n",
      "1                Café  0.05\n",
      "2  Italian Restaurant  0.05\n",
      "3          Restaurant  0.05\n",
      "4               Hotel  0.04\n",
      "\n",
      "\n",
      "----Stn A PO Boxes 25 The Esplanade----\n",
      "          venue  freq\n",
      "0   Coffee Shop  0.10\n",
      "1          Café  0.04\n",
      "2    Restaurant  0.04\n",
      "3      Beer Bar  0.03\n",
      "4  Cocktail Bar  0.03\n",
      "\n",
      "\n",
      "----Studio District----\n",
      "                 venue  freq\n",
      "0                 Café  0.10\n",
      "1          Coffee Shop  0.08\n",
      "2  American Restaurant  0.05\n",
      "3               Bakery  0.05\n",
      "4            Gastropub  0.05\n",
      "\n",
      "\n",
      "----The Annex, North Midtown, Yorkville----\n",
      "            venue  freq\n",
      "0     Coffee Shop  0.12\n",
      "1  Sandwich Place  0.12\n",
      "2            Café  0.12\n",
      "3     Pizza Place  0.08\n",
      "4  History Museum  0.04\n",
      "\n",
      "\n",
      "----The Beaches----\n",
      "                      venue  freq\n",
      "0         Health Food Store  0.25\n",
      "1                     Trail  0.25\n",
      "2                       Pub  0.25\n",
      "3            Medical Center  0.00\n",
      "4  Mediterranean Restaurant  0.00\n",
      "\n",
      "\n",
      "----The Beaches West, India Bazaar----\n",
      "            venue  freq\n",
      "0            Park  0.10\n",
      "1  Sandwich Place  0.10\n",
      "2       Pet Store  0.05\n",
      "3             Pub  0.05\n",
      "4         Brewery  0.05\n",
      "\n",
      "\n",
      "----The Danforth West, Riverdale----\n",
      "                    venue  freq\n",
      "0        Greek Restaurant  0.22\n",
      "1             Coffee Shop  0.10\n",
      "2      Italian Restaurant  0.07\n",
      "3  Furniture / Home Store  0.05\n",
      "4          Ice Cream Shop  0.05\n",
      "\n",
      "\n",
      "----The Junction North, Runnymede----\n",
      "                  venue  freq\n",
      "0              Bus Line  0.25\n",
      "1  Caribbean Restaurant  0.25\n",
      "2               Brewery  0.25\n",
      "3         Grocery Store  0.25\n",
      "4           Yoga Studio  0.00\n",
      "\n",
      "\n",
      "----The Kingsway, Montgomery Road, Old Mill North----\n",
      "                venue  freq\n",
      "0               River   0.5\n",
      "1                Park   0.5\n",
      "2         Yoga Studio   0.0\n",
      "3  Miscellaneous Shop   0.0\n",
      "4               Motel   0.0\n",
      "\n",
      "\n",
      "----Thorncliffe Park----\n",
      "               venue  freq\n",
      "0       Burger Joint  0.13\n",
      "1  Indian Restaurant  0.13\n",
      "2        Yoga Studio  0.07\n",
      "3     Sandwich Place  0.07\n",
      "4        Supermarket  0.07\n",
      "\n",
      "\n",
      "----Victoria Village----\n",
      "                   venue  freq\n",
      "0           Hockey Arena  0.25\n",
      "1           Intersection  0.25\n",
      "2  Portuguese Restaurant  0.25\n",
      "3            Coffee Shop  0.25\n",
      "4            Yoga Studio  0.00\n",
      "\n",
      "\n",
      "----Westmount----\n",
      "                       venue  freq\n",
      "0                Pizza Place  0.29\n",
      "1             Sandwich Place  0.14\n",
      "2               Intersection  0.14\n",
      "3  Middle Eastern Restaurant  0.14\n",
      "4                Coffee Shop  0.14\n",
      "\n",
      "\n",
      "----Weston----\n",
      "                       venue  freq\n",
      "0          Convenience Store   0.5\n",
      "1                       Park   0.5\n",
      "2                Yoga Studio   0.0\n",
      "3  Middle Eastern Restaurant   0.0\n",
      "4                      Motel   0.0\n",
      "\n",
      "\n",
      "----Willowdale South----\n",
      "              venue  freq\n",
      "0       Coffee Shop  0.09\n",
      "1  Ramen Restaurant  0.09\n",
      "2       Pizza Place  0.06\n",
      "3              Café  0.06\n",
      "4    Sandwich Place  0.06\n",
      "\n",
      "\n",
      "----Willowdale West----\n",
      "            venue  freq\n",
      "0     Pizza Place  0.17\n",
      "1     Coffee Shop  0.17\n",
      "2         Butcher  0.17\n",
      "3   Grocery Store  0.17\n",
      "4  Discount Store  0.17\n",
      "\n",
      "\n",
      "----Woburn----\n",
      "               venue  freq\n",
      "0        Coffee Shop   0.4\n",
      "1       Soccer Field   0.2\n",
      "2   Insurance Office   0.2\n",
      "3  Korean Restaurant   0.2\n",
      "4        Yoga Studio   0.0\n",
      "\n",
      "\n",
      "----Woodbine Gardens, Parkview Hill----\n",
      "                  venue  freq\n",
      "0           Pizza Place  0.17\n",
      "1  Fast Food Restaurant  0.17\n",
      "2  Gym / Fitness Center  0.08\n",
      "3             Gastropub  0.08\n",
      "4        Breakfast Spot  0.08\n",
      "\n",
      "\n",
      "----Woodbine Heights----\n",
      "              venue  freq\n",
      "0      Skating Rink   0.2\n",
      "1  Asian Restaurant   0.1\n",
      "2          Pharmacy   0.1\n",
      "3    Cosmetics Shop   0.1\n",
      "4       Video Store   0.1\n",
      "\n",
      "\n",
      "----York Mills West----\n",
      "                venue  freq\n",
      "0                Park  0.50\n",
      "1                Bank  0.25\n",
      "2   Convenience Store  0.25\n",
      "3         Yoga Studio  0.00\n",
      "4  Miscellaneous Shop  0.00\n",
      "\n",
      "\n"
     ]
    }
   ],
   "source": [
    "num_top_venues = 5\n",
    "\n",
    "for hood in toronto_grouped['Neighborhood']:\n",
    "    print(\"----\"+hood+\"----\")\n",
    "    temp = toronto_grouped[toronto_grouped['Neighborhood'] == hood].T.reset_index()\n",
    "    temp.columns = ['venue','freq']\n",
    "    temp = temp.iloc[1:]\n",
    "    temp['freq'] = temp['freq'].astype(float)\n",
    "    temp = temp.round({'freq': 2})\n",
    "    print(temp.sort_values('freq', ascending=False).reset_index(drop=True).head(num_top_venues))\n",
    "    print('\\n')"
   ]
  },
  {
   "cell_type": "code",
   "execution_count": 143,
   "metadata": {},
   "outputs": [],
   "source": [
    "def return_most_common_venues(row, num_top_venues):\n",
    "    row_categories = row.iloc[1:]\n",
    "    row_categories_sorted = row_categories.sort_values(ascending=False)\n",
    "    \n",
    "    return row_categories_sorted.index.values[0:num_top_venues]"
   ]
  },
  {
   "cell_type": "code",
   "execution_count": 160,
   "metadata": {},
   "outputs": [
    {
     "data": {
      "text/html": [
       "<div>\n",
       "<style scoped>\n",
       "    .dataframe tbody tr th:only-of-type {\n",
       "        vertical-align: middle;\n",
       "    }\n",
       "\n",
       "    .dataframe tbody tr th {\n",
       "        vertical-align: top;\n",
       "    }\n",
       "\n",
       "    .dataframe thead th {\n",
       "        text-align: right;\n",
       "    }\n",
       "</style>\n",
       "<table border=\"1\" class=\"dataframe\">\n",
       "  <thead>\n",
       "    <tr style=\"text-align: right;\">\n",
       "      <th></th>\n",
       "      <th>Neighborhood</th>\n",
       "      <th>1st Most Common Venue</th>\n",
       "      <th>2nd Most Common Venue</th>\n",
       "      <th>3rd Most Common Venue</th>\n",
       "      <th>4th Most Common Venue</th>\n",
       "      <th>5th Most Common Venue</th>\n",
       "      <th>6th Most Common Venue</th>\n",
       "      <th>7th Most Common Venue</th>\n",
       "      <th>8th Most Common Venue</th>\n",
       "      <th>9th Most Common Venue</th>\n",
       "      <th>10th Most Common Venue</th>\n",
       "    </tr>\n",
       "  </thead>\n",
       "  <tbody>\n",
       "    <tr>\n",
       "      <th>0</th>\n",
       "      <td>Adelaide, King, Richmond</td>\n",
       "      <td>Coffee Shop</td>\n",
       "      <td>Café</td>\n",
       "      <td>Bar</td>\n",
       "      <td>Thai Restaurant</td>\n",
       "      <td>Steakhouse</td>\n",
       "      <td>Gym</td>\n",
       "      <td>Cosmetics Shop</td>\n",
       "      <td>Hotel</td>\n",
       "      <td>Breakfast Spot</td>\n",
       "      <td>Restaurant</td>\n",
       "    </tr>\n",
       "    <tr>\n",
       "      <th>1</th>\n",
       "      <td>Agincourt</td>\n",
       "      <td>Chinese Restaurant</td>\n",
       "      <td>Lounge</td>\n",
       "      <td>Breakfast Spot</td>\n",
       "      <td>Skating Rink</td>\n",
       "      <td>Sandwich Place</td>\n",
       "      <td>Women's Store</td>\n",
       "      <td>Dive Bar</td>\n",
       "      <td>Dog Run</td>\n",
       "      <td>Doner Restaurant</td>\n",
       "      <td>Donut Shop</td>\n",
       "    </tr>\n",
       "    <tr>\n",
       "      <th>2</th>\n",
       "      <td>Agincourt North, L'Amoreaux East, Milliken, St...</td>\n",
       "      <td>Playground</td>\n",
       "      <td>Coffee Shop</td>\n",
       "      <td>Park</td>\n",
       "      <td>Women's Store</td>\n",
       "      <td>Drugstore</td>\n",
       "      <td>Diner</td>\n",
       "      <td>Discount Store</td>\n",
       "      <td>Dive Bar</td>\n",
       "      <td>Dog Run</td>\n",
       "      <td>Doner Restaurant</td>\n",
       "    </tr>\n",
       "    <tr>\n",
       "      <th>3</th>\n",
       "      <td>Albion Gardens, Beaumond Heights, Humbergate, ...</td>\n",
       "      <td>Pizza Place</td>\n",
       "      <td>Grocery Store</td>\n",
       "      <td>Fast Food Restaurant</td>\n",
       "      <td>Fried Chicken Joint</td>\n",
       "      <td>Coffee Shop</td>\n",
       "      <td>Sandwich Place</td>\n",
       "      <td>Beer Store</td>\n",
       "      <td>Pharmacy</td>\n",
       "      <td>Gluten-free Restaurant</td>\n",
       "      <td>Gift Shop</td>\n",
       "    </tr>\n",
       "    <tr>\n",
       "      <th>4</th>\n",
       "      <td>Alderwood, Long Branch</td>\n",
       "      <td>Pizza Place</td>\n",
       "      <td>Gym</td>\n",
       "      <td>Pharmacy</td>\n",
       "      <td>Skating Rink</td>\n",
       "      <td>Coffee Shop</td>\n",
       "      <td>Sandwich Place</td>\n",
       "      <td>Athletics &amp; Sports</td>\n",
       "      <td>Pub</td>\n",
       "      <td>Women's Store</td>\n",
       "      <td>Dive Bar</td>\n",
       "    </tr>\n",
       "  </tbody>\n",
       "</table>\n",
       "</div>"
      ],
      "text/plain": [
       "                                        Neighborhood 1st Most Common Venue  \\\n",
       "0                           Adelaide, King, Richmond           Coffee Shop   \n",
       "1                                          Agincourt    Chinese Restaurant   \n",
       "2  Agincourt North, L'Amoreaux East, Milliken, St...            Playground   \n",
       "3  Albion Gardens, Beaumond Heights, Humbergate, ...           Pizza Place   \n",
       "4                             Alderwood, Long Branch           Pizza Place   \n",
       "\n",
       "  2nd Most Common Venue 3rd Most Common Venue 4th Most Common Venue  \\\n",
       "0                  Café                   Bar       Thai Restaurant   \n",
       "1                Lounge        Breakfast Spot          Skating Rink   \n",
       "2           Coffee Shop                  Park         Women's Store   \n",
       "3         Grocery Store  Fast Food Restaurant   Fried Chicken Joint   \n",
       "4                   Gym              Pharmacy          Skating Rink   \n",
       "\n",
       "  5th Most Common Venue 6th Most Common Venue 7th Most Common Venue  \\\n",
       "0            Steakhouse                   Gym        Cosmetics Shop   \n",
       "1        Sandwich Place         Women's Store              Dive Bar   \n",
       "2             Drugstore                 Diner        Discount Store   \n",
       "3           Coffee Shop        Sandwich Place            Beer Store   \n",
       "4           Coffee Shop        Sandwich Place    Athletics & Sports   \n",
       "\n",
       "  8th Most Common Venue   9th Most Common Venue 10th Most Common Venue  \n",
       "0                 Hotel          Breakfast Spot             Restaurant  \n",
       "1               Dog Run        Doner Restaurant             Donut Shop  \n",
       "2              Dive Bar                 Dog Run       Doner Restaurant  \n",
       "3              Pharmacy  Gluten-free Restaurant              Gift Shop  \n",
       "4                   Pub           Women's Store               Dive Bar  "
      ]
     },
     "execution_count": 160,
     "metadata": {},
     "output_type": "execute_result"
    }
   ],
   "source": [
    "num_top_venues = 10\n",
    "\n",
    "indicators = ['st', 'nd', 'rd']\n",
    "\n",
    "# create columns according to number of top venues\n",
    "columns = ['Neighborhood']\n",
    "for ind in np.arange(num_top_venues):\n",
    "    try:\n",
    "        columns.append('{}{} Most Common Venue'.format(ind+1, indicators[ind]))\n",
    "    except:\n",
    "        columns.append('{}th Most Common Venue'.format(ind+1))\n",
    "\n",
    "# create a new dataframe\n",
    "neighborhoods_venues_sorted = pd.DataFrame(columns=columns)\n",
    "neighborhoods_venues_sorted['Neighborhood'] = toronto_grouped['Neighborhood']\n",
    "\n",
    "for ind in np.arange(toronto_grouped.shape[0]):\n",
    "    neighborhoods_venues_sorted.iloc[ind, 1:] = return_most_common_venues(toronto_grouped.iloc[ind, :], num_top_venues)\n",
    "\n",
    "neighborhoods_venues_sorted.head()"
   ]
  },
  {
   "cell_type": "code",
   "execution_count": 161,
   "metadata": {},
   "outputs": [
    {
     "data": {
      "text/plain": [
       "array([0, 0, 1, 0, 0, 0, 0, 0, 0, 0])"
      ]
     },
     "execution_count": 161,
     "metadata": {},
     "output_type": "execute_result"
    }
   ],
   "source": [
    "# set number of clusters\n",
    "kclusters = 5\n",
    "\n",
    "toronto_grouped_clustering = toronto_grouped.drop('Neighborhood', 1)\n",
    "\n",
    "# run k-means clustering\n",
    "kmeans = KMeans(n_clusters=kclusters, random_state=0).fit(toronto_grouped_clustering)\n",
    "\n",
    "# check cluster labels generated for each row in the dataframe\n",
    "kmeans.labels_[0:10] "
   ]
  },
  {
   "cell_type": "code",
   "execution_count": 162,
   "metadata": {},
   "outputs": [
    {
     "data": {
      "text/html": [
       "<div>\n",
       "<style scoped>\n",
       "    .dataframe tbody tr th:only-of-type {\n",
       "        vertical-align: middle;\n",
       "    }\n",
       "\n",
       "    .dataframe tbody tr th {\n",
       "        vertical-align: top;\n",
       "    }\n",
       "\n",
       "    .dataframe thead th {\n",
       "        text-align: right;\n",
       "    }\n",
       "</style>\n",
       "<table border=\"1\" class=\"dataframe\">\n",
       "  <thead>\n",
       "    <tr style=\"text-align: right;\">\n",
       "      <th></th>\n",
       "      <th>PostalCode</th>\n",
       "      <th>Borough</th>\n",
       "      <th>Neighborhood</th>\n",
       "      <th>Latitude</th>\n",
       "      <th>Longitude</th>\n",
       "      <th>Cluster Labels</th>\n",
       "      <th>1st Most Common Venue</th>\n",
       "      <th>2nd Most Common Venue</th>\n",
       "      <th>3rd Most Common Venue</th>\n",
       "      <th>4th Most Common Venue</th>\n",
       "      <th>5th Most Common Venue</th>\n",
       "      <th>6th Most Common Venue</th>\n",
       "      <th>7th Most Common Venue</th>\n",
       "      <th>8th Most Common Venue</th>\n",
       "      <th>9th Most Common Venue</th>\n",
       "      <th>10th Most Common Venue</th>\n",
       "    </tr>\n",
       "  </thead>\n",
       "  <tbody>\n",
       "    <tr>\n",
       "      <th>0</th>\n",
       "      <td>M1B</td>\n",
       "      <td>Scarborough</td>\n",
       "      <td>Rouge, Malvern</td>\n",
       "      <td>43.806686</td>\n",
       "      <td>-79.194353</td>\n",
       "      <td>0.0</td>\n",
       "      <td>Fast Food Restaurant</td>\n",
       "      <td>Print Shop</td>\n",
       "      <td>Farmers Market</td>\n",
       "      <td>Falafel Restaurant</td>\n",
       "      <td>Event Space</td>\n",
       "      <td>Ethiopian Restaurant</td>\n",
       "      <td>Electronics Store</td>\n",
       "      <td>Eastern European Restaurant</td>\n",
       "      <td>Dumpling Restaurant</td>\n",
       "      <td>Dessert Shop</td>\n",
       "    </tr>\n",
       "    <tr>\n",
       "      <th>1</th>\n",
       "      <td>M1C</td>\n",
       "      <td>Scarborough</td>\n",
       "      <td>Highland Creek, Rouge Hill, Port Union</td>\n",
       "      <td>43.784535</td>\n",
       "      <td>-79.160497</td>\n",
       "      <td>0.0</td>\n",
       "      <td>Construction &amp; Landscaping</td>\n",
       "      <td>Bar</td>\n",
       "      <td>Women's Store</td>\n",
       "      <td>Dumpling Restaurant</td>\n",
       "      <td>Dive Bar</td>\n",
       "      <td>Dog Run</td>\n",
       "      <td>Doner Restaurant</td>\n",
       "      <td>Donut Shop</td>\n",
       "      <td>Drugstore</td>\n",
       "      <td>Eastern European Restaurant</td>\n",
       "    </tr>\n",
       "    <tr>\n",
       "      <th>2</th>\n",
       "      <td>M1E</td>\n",
       "      <td>Scarborough</td>\n",
       "      <td>Guildwood, Morningside, West Hill</td>\n",
       "      <td>43.763573</td>\n",
       "      <td>-79.188711</td>\n",
       "      <td>0.0</td>\n",
       "      <td>Intersection</td>\n",
       "      <td>Pizza Place</td>\n",
       "      <td>Breakfast Spot</td>\n",
       "      <td>Electronics Store</td>\n",
       "      <td>Rental Car Location</td>\n",
       "      <td>Medical Center</td>\n",
       "      <td>Mexican Restaurant</td>\n",
       "      <td>Doner Restaurant</td>\n",
       "      <td>Diner</td>\n",
       "      <td>Discount Store</td>\n",
       "    </tr>\n",
       "    <tr>\n",
       "      <th>3</th>\n",
       "      <td>M1G</td>\n",
       "      <td>Scarborough</td>\n",
       "      <td>Woburn</td>\n",
       "      <td>43.770992</td>\n",
       "      <td>-79.216917</td>\n",
       "      <td>0.0</td>\n",
       "      <td>Coffee Shop</td>\n",
       "      <td>Insurance Office</td>\n",
       "      <td>Korean Restaurant</td>\n",
       "      <td>Soccer Field</td>\n",
       "      <td>Event Space</td>\n",
       "      <td>Falafel Restaurant</td>\n",
       "      <td>Ethiopian Restaurant</td>\n",
       "      <td>Electronics Store</td>\n",
       "      <td>Eastern European Restaurant</td>\n",
       "      <td>Dim Sum Restaurant</td>\n",
       "    </tr>\n",
       "    <tr>\n",
       "      <th>4</th>\n",
       "      <td>M1H</td>\n",
       "      <td>Scarborough</td>\n",
       "      <td>Cedarbrae</td>\n",
       "      <td>43.773136</td>\n",
       "      <td>-79.239476</td>\n",
       "      <td>0.0</td>\n",
       "      <td>Bakery</td>\n",
       "      <td>Hakka Restaurant</td>\n",
       "      <td>Bank</td>\n",
       "      <td>Caribbean Restaurant</td>\n",
       "      <td>Athletics &amp; Sports</td>\n",
       "      <td>Fried Chicken Joint</td>\n",
       "      <td>Thai Restaurant</td>\n",
       "      <td>Donut Shop</td>\n",
       "      <td>Dive Bar</td>\n",
       "      <td>Dog Run</td>\n",
       "    </tr>\n",
       "  </tbody>\n",
       "</table>\n",
       "</div>"
      ],
      "text/plain": [
       "  PostalCode      Borough                            Neighborhood   Latitude  \\\n",
       "0        M1B  Scarborough                          Rouge, Malvern  43.806686   \n",
       "1        M1C  Scarborough  Highland Creek, Rouge Hill, Port Union  43.784535   \n",
       "2        M1E  Scarborough       Guildwood, Morningside, West Hill  43.763573   \n",
       "3        M1G  Scarborough                                  Woburn  43.770992   \n",
       "4        M1H  Scarborough                               Cedarbrae  43.773136   \n",
       "\n",
       "   Longitude  Cluster Labels       1st Most Common Venue  \\\n",
       "0 -79.194353             0.0        Fast Food Restaurant   \n",
       "1 -79.160497             0.0  Construction & Landscaping   \n",
       "2 -79.188711             0.0                Intersection   \n",
       "3 -79.216917             0.0                 Coffee Shop   \n",
       "4 -79.239476             0.0                      Bakery   \n",
       "\n",
       "  2nd Most Common Venue 3rd Most Common Venue 4th Most Common Venue  \\\n",
       "0            Print Shop        Farmers Market    Falafel Restaurant   \n",
       "1                   Bar         Women's Store   Dumpling Restaurant   \n",
       "2           Pizza Place        Breakfast Spot     Electronics Store   \n",
       "3      Insurance Office     Korean Restaurant          Soccer Field   \n",
       "4      Hakka Restaurant                  Bank  Caribbean Restaurant   \n",
       "\n",
       "  5th Most Common Venue 6th Most Common Venue 7th Most Common Venue  \\\n",
       "0           Event Space  Ethiopian Restaurant     Electronics Store   \n",
       "1              Dive Bar               Dog Run      Doner Restaurant   \n",
       "2   Rental Car Location        Medical Center    Mexican Restaurant   \n",
       "3           Event Space    Falafel Restaurant  Ethiopian Restaurant   \n",
       "4    Athletics & Sports   Fried Chicken Joint       Thai Restaurant   \n",
       "\n",
       "         8th Most Common Venue        9th Most Common Venue  \\\n",
       "0  Eastern European Restaurant          Dumpling Restaurant   \n",
       "1                   Donut Shop                    Drugstore   \n",
       "2             Doner Restaurant                        Diner   \n",
       "3            Electronics Store  Eastern European Restaurant   \n",
       "4                   Donut Shop                     Dive Bar   \n",
       "\n",
       "        10th Most Common Venue  \n",
       "0                 Dessert Shop  \n",
       "1  Eastern European Restaurant  \n",
       "2               Discount Store  \n",
       "3           Dim Sum Restaurant  \n",
       "4                      Dog Run  "
      ]
     },
     "execution_count": 162,
     "metadata": {},
     "output_type": "execute_result"
    }
   ],
   "source": [
    "# add clustering labels\n",
    "neighborhoods_venues_sorted.insert(0, 'Cluster Labels', kmeans.labels_)\n",
    "\n",
    "toronto_merged = neighbor_df_ll\n",
    "\n",
    "# merge toronto_grouped with toronto_data to add latitude/longitude for each neighborhood\n",
    "toronto_merged = toronto_merged.join(neighborhoods_venues_sorted.set_index('Neighborhood'), on='Neighborhood')\n",
    "\n",
    "toronto_merged.head() # check the last columns!"
   ]
  },
  {
   "cell_type": "code",
   "execution_count": 179,
   "metadata": {},
   "outputs": [
    {
     "name": "stderr",
     "output_type": "stream",
     "text": [
      "C:\\WBG\\Anaconda\\lib\\site-packages\\ipykernel_launcher.py:2: SettingWithCopyWarning: \n",
      "A value is trying to be set on a copy of a slice from a DataFrame.\n",
      "Try using .loc[row_indexer,col_indexer] = value instead\n",
      "\n",
      "See the caveats in the documentation: http://pandas.pydata.org/pandas-docs/stable/indexing.html#indexing-view-versus-copy\n",
      "  \n"
     ]
    },
    {
     "data": {
      "text/html": [
       "<div>\n",
       "<style scoped>\n",
       "    .dataframe tbody tr th:only-of-type {\n",
       "        vertical-align: middle;\n",
       "    }\n",
       "\n",
       "    .dataframe tbody tr th {\n",
       "        vertical-align: top;\n",
       "    }\n",
       "\n",
       "    .dataframe thead th {\n",
       "        text-align: right;\n",
       "    }\n",
       "</style>\n",
       "<table border=\"1\" class=\"dataframe\">\n",
       "  <thead>\n",
       "    <tr style=\"text-align: right;\">\n",
       "      <th></th>\n",
       "      <th>PostalCode</th>\n",
       "      <th>Borough</th>\n",
       "      <th>Neighborhood</th>\n",
       "      <th>Latitude</th>\n",
       "      <th>Longitude</th>\n",
       "      <th>Cluster Labels</th>\n",
       "      <th>1st Most Common Venue</th>\n",
       "      <th>2nd Most Common Venue</th>\n",
       "      <th>3rd Most Common Venue</th>\n",
       "      <th>4th Most Common Venue</th>\n",
       "      <th>5th Most Common Venue</th>\n",
       "      <th>6th Most Common Venue</th>\n",
       "      <th>7th Most Common Venue</th>\n",
       "      <th>8th Most Common Venue</th>\n",
       "      <th>9th Most Common Venue</th>\n",
       "      <th>10th Most Common Venue</th>\n",
       "    </tr>\n",
       "  </thead>\n",
       "  <tbody>\n",
       "    <tr>\n",
       "      <th>0</th>\n",
       "      <td>M1B</td>\n",
       "      <td>Scarborough</td>\n",
       "      <td>Rouge, Malvern</td>\n",
       "      <td>43.806686</td>\n",
       "      <td>-79.194353</td>\n",
       "      <td>0</td>\n",
       "      <td>Fast Food Restaurant</td>\n",
       "      <td>Print Shop</td>\n",
       "      <td>Farmers Market</td>\n",
       "      <td>Falafel Restaurant</td>\n",
       "      <td>Event Space</td>\n",
       "      <td>Ethiopian Restaurant</td>\n",
       "      <td>Electronics Store</td>\n",
       "      <td>Eastern European Restaurant</td>\n",
       "      <td>Dumpling Restaurant</td>\n",
       "      <td>Dessert Shop</td>\n",
       "    </tr>\n",
       "    <tr>\n",
       "      <th>1</th>\n",
       "      <td>M1C</td>\n",
       "      <td>Scarborough</td>\n",
       "      <td>Highland Creek, Rouge Hill, Port Union</td>\n",
       "      <td>43.784535</td>\n",
       "      <td>-79.160497</td>\n",
       "      <td>0</td>\n",
       "      <td>Construction &amp; Landscaping</td>\n",
       "      <td>Bar</td>\n",
       "      <td>Women's Store</td>\n",
       "      <td>Dumpling Restaurant</td>\n",
       "      <td>Dive Bar</td>\n",
       "      <td>Dog Run</td>\n",
       "      <td>Doner Restaurant</td>\n",
       "      <td>Donut Shop</td>\n",
       "      <td>Drugstore</td>\n",
       "      <td>Eastern European Restaurant</td>\n",
       "    </tr>\n",
       "    <tr>\n",
       "      <th>2</th>\n",
       "      <td>M1E</td>\n",
       "      <td>Scarborough</td>\n",
       "      <td>Guildwood, Morningside, West Hill</td>\n",
       "      <td>43.763573</td>\n",
       "      <td>-79.188711</td>\n",
       "      <td>0</td>\n",
       "      <td>Intersection</td>\n",
       "      <td>Pizza Place</td>\n",
       "      <td>Breakfast Spot</td>\n",
       "      <td>Electronics Store</td>\n",
       "      <td>Rental Car Location</td>\n",
       "      <td>Medical Center</td>\n",
       "      <td>Mexican Restaurant</td>\n",
       "      <td>Doner Restaurant</td>\n",
       "      <td>Diner</td>\n",
       "      <td>Discount Store</td>\n",
       "    </tr>\n",
       "    <tr>\n",
       "      <th>3</th>\n",
       "      <td>M1G</td>\n",
       "      <td>Scarborough</td>\n",
       "      <td>Woburn</td>\n",
       "      <td>43.770992</td>\n",
       "      <td>-79.216917</td>\n",
       "      <td>0</td>\n",
       "      <td>Coffee Shop</td>\n",
       "      <td>Insurance Office</td>\n",
       "      <td>Korean Restaurant</td>\n",
       "      <td>Soccer Field</td>\n",
       "      <td>Event Space</td>\n",
       "      <td>Falafel Restaurant</td>\n",
       "      <td>Ethiopian Restaurant</td>\n",
       "      <td>Electronics Store</td>\n",
       "      <td>Eastern European Restaurant</td>\n",
       "      <td>Dim Sum Restaurant</td>\n",
       "    </tr>\n",
       "    <tr>\n",
       "      <th>4</th>\n",
       "      <td>M1H</td>\n",
       "      <td>Scarborough</td>\n",
       "      <td>Cedarbrae</td>\n",
       "      <td>43.773136</td>\n",
       "      <td>-79.239476</td>\n",
       "      <td>0</td>\n",
       "      <td>Bakery</td>\n",
       "      <td>Hakka Restaurant</td>\n",
       "      <td>Bank</td>\n",
       "      <td>Caribbean Restaurant</td>\n",
       "      <td>Athletics &amp; Sports</td>\n",
       "      <td>Fried Chicken Joint</td>\n",
       "      <td>Thai Restaurant</td>\n",
       "      <td>Donut Shop</td>\n",
       "      <td>Dive Bar</td>\n",
       "      <td>Dog Run</td>\n",
       "    </tr>\n",
       "  </tbody>\n",
       "</table>\n",
       "</div>"
      ],
      "text/plain": [
       "  PostalCode      Borough                            Neighborhood   Latitude  \\\n",
       "0        M1B  Scarborough                          Rouge, Malvern  43.806686   \n",
       "1        M1C  Scarborough  Highland Creek, Rouge Hill, Port Union  43.784535   \n",
       "2        M1E  Scarborough       Guildwood, Morningside, West Hill  43.763573   \n",
       "3        M1G  Scarborough                                  Woburn  43.770992   \n",
       "4        M1H  Scarborough                               Cedarbrae  43.773136   \n",
       "\n",
       "   Longitude  Cluster Labels       1st Most Common Venue  \\\n",
       "0 -79.194353               0        Fast Food Restaurant   \n",
       "1 -79.160497               0  Construction & Landscaping   \n",
       "2 -79.188711               0                Intersection   \n",
       "3 -79.216917               0                 Coffee Shop   \n",
       "4 -79.239476               0                      Bakery   \n",
       "\n",
       "  2nd Most Common Venue 3rd Most Common Venue 4th Most Common Venue  \\\n",
       "0            Print Shop        Farmers Market    Falafel Restaurant   \n",
       "1                   Bar         Women's Store   Dumpling Restaurant   \n",
       "2           Pizza Place        Breakfast Spot     Electronics Store   \n",
       "3      Insurance Office     Korean Restaurant          Soccer Field   \n",
       "4      Hakka Restaurant                  Bank  Caribbean Restaurant   \n",
       "\n",
       "  5th Most Common Venue 6th Most Common Venue 7th Most Common Venue  \\\n",
       "0           Event Space  Ethiopian Restaurant     Electronics Store   \n",
       "1              Dive Bar               Dog Run      Doner Restaurant   \n",
       "2   Rental Car Location        Medical Center    Mexican Restaurant   \n",
       "3           Event Space    Falafel Restaurant  Ethiopian Restaurant   \n",
       "4    Athletics & Sports   Fried Chicken Joint       Thai Restaurant   \n",
       "\n",
       "         8th Most Common Venue        9th Most Common Venue  \\\n",
       "0  Eastern European Restaurant          Dumpling Restaurant   \n",
       "1                   Donut Shop                    Drugstore   \n",
       "2             Doner Restaurant                        Diner   \n",
       "3            Electronics Store  Eastern European Restaurant   \n",
       "4                   Donut Shop                     Dive Bar   \n",
       "\n",
       "        10th Most Common Venue  \n",
       "0                 Dessert Shop  \n",
       "1  Eastern European Restaurant  \n",
       "2               Discount Store  \n",
       "3           Dim Sum Restaurant  \n",
       "4                      Dog Run  "
      ]
     },
     "execution_count": 179,
     "metadata": {},
     "output_type": "execute_result"
    }
   ],
   "source": [
    "toronto_merged = toronto_merged.dropna()\n",
    "toronto_merged['Cluster Labels'] = toronto_merged['Cluster Labels'].astype(int)\n",
    "toronto_merged.head()"
   ]
  },
  {
   "cell_type": "code",
   "execution_count": 181,
   "metadata": {},
   "outputs": [
    {
     "data": {
      "text/plain": [
       "array([0, 4, 1, 2, 3], dtype=int64)"
      ]
     },
     "execution_count": 181,
     "metadata": {},
     "output_type": "execute_result"
    }
   ],
   "source": [
    "toronto_merged['Cluster Labels'].unique()"
   ]
  },
  {
   "cell_type": "code",
   "execution_count": 124,
   "metadata": {},
   "outputs": [
    {
     "name": "stdout",
     "output_type": "stream",
     "text": [
      "The geograpical coordinate of Toront are 43.653963, -79.387207.\n"
     ]
    }
   ],
   "source": [
    "address = 'Toronto, Ontario'\n",
    "\n",
    "geolocator = Nominatim(user_agent=\"trt_explorer\")\n",
    "location = geolocator.geocode(address)\n",
    "latitude = location.latitude\n",
    "longitude = location.longitude\n",
    "print('The geograpical coordinate of Toront are {}, {}.'.format(latitude, longitude))"
   ]
  },
  {
   "cell_type": "code",
   "execution_count": 185,
   "metadata": {},
   "outputs": [
    {
     "data": {
      "text/html": [
       "<div style=\"width:100%;\"><div style=\"position:relative;width:100%;height:0;padding-bottom:60%;\"><iframe src=\"data:text/html;charset=utf-8;base64,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\" style=\"position:absolute;width:100%;height:100%;left:0;top:0;border:none !important;\" allowfullscreen webkitallowfullscreen mozallowfullscreen></iframe></div></div>"
      ],
      "text/plain": [
       "<folium.folium.Map at 0x2c437625cc0>"
      ]
     },
     "execution_count": 185,
     "metadata": {},
     "output_type": "execute_result"
    }
   ],
   "source": [
    "# create map\n",
    "map_clusters = folium.Map(location=[latitude, longitude], zoom_start=10)\n",
    "\n",
    "# set color scheme for the clusters\n",
    "x = np.arange(kclusters)\n",
    "ys = [i + x + (i*x)**2 for i in range(kclusters)]\n",
    "colors_array = cm.rainbow(np.linspace(0, 1, len(ys)))\n",
    "rainbow = [colors.rgb2hex(i) for i in colors_array]\n",
    "\n",
    "# add markers to the map\n",
    "markers_colors = []\n",
    "for lat, lon, poi, cluster in zip(toronto_merged['Latitude'], toronto_merged['Longitude'], toronto_merged['Neighborhood'], toronto_merged['Cluster Labels']):\n",
    "    label = folium.Popup(str(poi) + ' Cluster ' + str(cluster), parse_html=True)\n",
    "    folium.CircleMarker(\n",
    "        [lat, lon],\n",
    "        radius=5,\n",
    "        popup=label,\n",
    "        color=rainbow[cluster-1],\n",
    "        fill=True,\n",
    "        fill_color=rainbow[cluster-1],\n",
    "        fill_opacity=0.7).add_to(map_clusters)\n",
    "       \n",
    "map_clusters"
   ]
  },
  {
   "cell_type": "code",
   "execution_count": null,
   "metadata": {},
   "outputs": [],
   "source": []
  }
 ],
 "metadata": {
  "kernelspec": {
   "display_name": "Python 3",
   "language": "python",
   "name": "python3"
  },
  "language_info": {
   "codemirror_mode": {
    "name": "ipython",
    "version": 3
   },
   "file_extension": ".py",
   "mimetype": "text/x-python",
   "name": "python",
   "nbconvert_exporter": "python",
   "pygments_lexer": "ipython3",
   "version": "3.6.7"
  }
 },
 "nbformat": 4,
 "nbformat_minor": 2
}
