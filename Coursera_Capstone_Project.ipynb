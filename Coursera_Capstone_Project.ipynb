{
 "cells": [
  {
   "cell_type": "markdown",
   "metadata": {},
   "source": [
    "# Coursera IBM Applied Data Science Capstone Project\n",
    "This notebook will be mainly used for the capstone project."
   ]
  },
  {
   "cell_type": "markdown",
   "metadata": {},
   "source": [
    "# Opening a new cafe in Ho Chi Minh City, Vietnam.\n",
    "HCMC is a thriving city with a 7.5% GDP growth rate. Population has reached over 8 million. Due to the inducing effect by the population and economic acitivites, it has been a hard choice for one to open a restaurant. In this excercise, I will analyze the neighborhood characteristics and will decide the best choice location in opening a new cafe.<br><br>\n",
    "This analysis follows the steps<br><br>\n",
    " -1. Download ward(neighborhood) shapefile, extracting longitude and latitude of the zone.<br>\n",
    " -2. Download  POI from foursquare API.<br>\n",
    " -3. Conduct K-means clustering<br>\n",
    " -4. Visualizing the K-mean cluster<br>\n",
    " -5. Getting insights on the cluster to find the new cafe location"
   ]
  },
  {
   "cell_type": "markdown",
   "metadata": {},
   "source": [
    "## Step 1: Download HCMC ward data"
   ]
  },
  {
   "cell_type": "code",
   "execution_count": 2,
   "metadata": {},
   "outputs": [
    {
     "name": "stderr",
     "output_type": "stream",
     "text": [
      "Unable to open EPSG support file gcs.csv.  Try setting the GDAL_DATA environment variable to point to the directory containing EPSG csv files.\n"
     ]
    }
   ],
   "source": [
    "import pandas as pd\n",
    "import geopandas as gpd\n",
    "import matplotlib.pyplot as plt\n",
    "import numpy as np\n",
    "%matplotlib inline\n",
    "import requests\n",
    "from pandas.io.json import json_normalize\n",
    "import matplotlib.cm as cm\n",
    "import matplotlib.colors as colors\n",
    "from sklearn.cluster import KMeans\n",
    "import folium\n",
    "from geopy.geocoders import Nominatim\n",
    "import os\n",
    "os.environ['PROJ_LIB'] = r\"C:\\WBG\\Anaconda\\Library\\share\"  "
   ]
  },
  {
   "cell_type": "markdown",
   "metadata": {},
   "source": [
    "Ward shapefile in Vietnam is available at https://opendata.hcmgis.vn/."
   ]
  },
  {
   "cell_type": "code",
   "execution_count": 3,
   "metadata": {},
   "outputs": [
    {
     "data": {
      "text/html": [
       "<div>\n",
       "<style scoped>\n",
       "    .dataframe tbody tr th:only-of-type {\n",
       "        vertical-align: middle;\n",
       "    }\n",
       "\n",
       "    .dataframe tbody tr th {\n",
       "        vertical-align: top;\n",
       "    }\n",
       "\n",
       "    .dataframe thead th {\n",
       "        text-align: right;\n",
       "    }\n",
       "</style>\n",
       "<table border=\"1\" class=\"dataframe\">\n",
       "  <thead>\n",
       "    <tr style=\"text-align: right;\">\n",
       "      <th></th>\n",
       "      <th>OBJECTID</th>\n",
       "      <th>Ma</th>\n",
       "      <th>Ten</th>\n",
       "      <th>Cap</th>\n",
       "      <th>MaQH</th>\n",
       "      <th>QuanHuyen</th>\n",
       "      <th>MaTP</th>\n",
       "      <th>Tinh_Thanh</th>\n",
       "      <th>District</th>\n",
       "      <th>Province</th>\n",
       "      <th>Name</th>\n",
       "      <th>geometry</th>\n",
       "    </tr>\n",
       "  </thead>\n",
       "  <tbody>\n",
       "    <tr>\n",
       "      <th>0</th>\n",
       "      <td>1.0</td>\n",
       "      <td>None</td>\n",
       "      <td>Trung tâm huấn luyện Cấm Sơn</td>\n",
       "      <td>None</td>\n",
       "      <td>219</td>\n",
       "      <td>Huyện Lục Ngạn</td>\n",
       "      <td>24</td>\n",
       "      <td>Tỉnh Bắc Giang</td>\n",
       "      <td>Luc Ngan District</td>\n",
       "      <td>Bac Giang Province</td>\n",
       "      <td>Trung tam huan luyen Cam Son</td>\n",
       "      <td>POLYGON ((106.8499984740001 21.51603698700006,...</td>\n",
       "    </tr>\n",
       "    <tr>\n",
       "      <th>1</th>\n",
       "      <td>2.0</td>\n",
       "      <td>None</td>\n",
       "      <td>Trung tâm huấn luyện Cấm Sơn</td>\n",
       "      <td>None</td>\n",
       "      <td>220</td>\n",
       "      <td>Huyện Sơn Động</td>\n",
       "      <td>24</td>\n",
       "      <td>Tỉnh Bắc Giang</td>\n",
       "      <td>Son Dong District</td>\n",
       "      <td>Bac Giang Province</td>\n",
       "      <td>Trung tam huan luyen Cam Son</td>\n",
       "      <td>POLYGON ((106.843231201 21.50239372300007, 106...</td>\n",
       "    </tr>\n",
       "    <tr>\n",
       "      <th>2</th>\n",
       "      <td>3.0</td>\n",
       "      <td>None</td>\n",
       "      <td>Đảo Bạch Long Vĩ</td>\n",
       "      <td>None</td>\n",
       "      <td>318</td>\n",
       "      <td>Huyện Bạch Long Vĩ</td>\n",
       "      <td>31</td>\n",
       "      <td>Thành phố Hải Phòng</td>\n",
       "      <td>Bach Long Vi District</td>\n",
       "      <td>Hai Phong City</td>\n",
       "      <td>Bach Long Vi Island</td>\n",
       "      <td>POLYGON ((107.7457122800001 20.17039680500005,...</td>\n",
       "    </tr>\n",
       "    <tr>\n",
       "      <th>3</th>\n",
       "      <td>4.0</td>\n",
       "      <td>None</td>\n",
       "      <td>Đảo Cồn Cỏ</td>\n",
       "      <td>None</td>\n",
       "      <td>471</td>\n",
       "      <td>Huyện Cồn Cỏ</td>\n",
       "      <td>45</td>\n",
       "      <td>Tỉnh Quảng Trị</td>\n",
       "      <td>Con Co District</td>\n",
       "      <td>Quang Tri Province</td>\n",
       "      <td>Con Co Insland</td>\n",
       "      <td>(POLYGON ((107.3430862430001 17.14975738500004...</td>\n",
       "    </tr>\n",
       "    <tr>\n",
       "      <th>4</th>\n",
       "      <td>5.0</td>\n",
       "      <td>00001</td>\n",
       "      <td>Phường Phúc Xá</td>\n",
       "      <td>Phường</td>\n",
       "      <td>001</td>\n",
       "      <td>Quận Ba Đình</td>\n",
       "      <td>01</td>\n",
       "      <td>Thành phố Hà Nội</td>\n",
       "      <td>Ba Dinh District</td>\n",
       "      <td>Ha Noi City</td>\n",
       "      <td>Phuc  Ward</td>\n",
       "      <td>POLYGON ((105.8492431640001 21.05437660200005,...</td>\n",
       "    </tr>\n",
       "  </tbody>\n",
       "</table>\n",
       "</div>"
      ],
      "text/plain": [
       "   OBJECTID     Ma                           Ten     Cap MaQH  \\\n",
       "0       1.0   None  Trung tâm huấn luyện Cấm Sơn    None  219   \n",
       "1       2.0   None  Trung tâm huấn luyện Cấm Sơn    None  220   \n",
       "2       3.0   None              Đảo Bạch Long Vĩ    None  318   \n",
       "3       4.0   None                    Đảo Cồn Cỏ    None  471   \n",
       "4       5.0  00001                Phường Phúc Xá  Phường  001   \n",
       "\n",
       "            QuanHuyen MaTP           Tinh_Thanh               District  \\\n",
       "0      Huyện Lục Ngạn   24       Tỉnh Bắc Giang      Luc Ngan District   \n",
       "1      Huyện Sơn Động   24       Tỉnh Bắc Giang      Son Dong District   \n",
       "2  Huyện Bạch Long Vĩ   31  Thành phố Hải Phòng  Bach Long Vi District   \n",
       "3        Huyện Cồn Cỏ   45       Tỉnh Quảng Trị        Con Co District   \n",
       "4        Quận Ba Đình   01     Thành phố Hà Nội       Ba Dinh District   \n",
       "\n",
       "             Province                          Name  \\\n",
       "0  Bac Giang Province  Trung tam huan luyen Cam Son   \n",
       "1  Bac Giang Province  Trung tam huan luyen Cam Son   \n",
       "2      Hai Phong City           Bach Long Vi Island   \n",
       "3  Quang Tri Province                Con Co Insland   \n",
       "4         Ha Noi City                    Phuc  Ward   \n",
       "\n",
       "                                            geometry  \n",
       "0  POLYGON ((106.8499984740001 21.51603698700006,...  \n",
       "1  POLYGON ((106.843231201 21.50239372300007, 106...  \n",
       "2  POLYGON ((107.7457122800001 20.17039680500005,...  \n",
       "3  (POLYGON ((107.3430862430001 17.14975738500004...  \n",
       "4  POLYGON ((105.8492431640001 21.05437660200005,...  "
      ]
     },
     "execution_count": 3,
     "metadata": {},
     "output_type": "execute_result"
    }
   ],
   "source": [
    "vietnam_ward = gpd.read_file('./document/vietnam_wards.shp', encoding = 'utf-8')\n",
    "vietnam_ward.head()"
   ]
  },
  {
   "cell_type": "markdown",
   "metadata": {},
   "source": [
    "As the shapefile contains all the ward information, I will extract only the ward in HCMC."
   ]
  },
  {
   "cell_type": "code",
   "execution_count": 4,
   "metadata": {},
   "outputs": [
    {
     "name": "stdout",
     "output_type": "stream",
     "text": [
      "(322, 12)\n"
     ]
    },
    {
     "data": {
      "text/html": [
       "<div>\n",
       "<style scoped>\n",
       "    .dataframe tbody tr th:only-of-type {\n",
       "        vertical-align: middle;\n",
       "    }\n",
       "\n",
       "    .dataframe tbody tr th {\n",
       "        vertical-align: top;\n",
       "    }\n",
       "\n",
       "    .dataframe thead th {\n",
       "        text-align: right;\n",
       "    }\n",
       "</style>\n",
       "<table border=\"1\" class=\"dataframe\">\n",
       "  <thead>\n",
       "    <tr style=\"text-align: right;\">\n",
       "      <th></th>\n",
       "      <th>OBJECTID</th>\n",
       "      <th>Ma</th>\n",
       "      <th>Ten</th>\n",
       "      <th>Cap</th>\n",
       "      <th>MaQH</th>\n",
       "      <th>QuanHuyen</th>\n",
       "      <th>MaTP</th>\n",
       "      <th>Tinh_Thanh</th>\n",
       "      <th>District</th>\n",
       "      <th>Province</th>\n",
       "      <th>Name</th>\n",
       "      <th>geometry</th>\n",
       "    </tr>\n",
       "  </thead>\n",
       "  <tbody>\n",
       "    <tr>\n",
       "      <th>0</th>\n",
       "      <td>7818.0</td>\n",
       "      <td>27070</td>\n",
       "      <td>Phường 10</td>\n",
       "      <td>Phường</td>\n",
       "      <td>768</td>\n",
       "      <td>Quận Phú Nhuận</td>\n",
       "      <td>79</td>\n",
       "      <td>Thành phố Hồ Chí Minh</td>\n",
       "      <td>Phu Nhuan District</td>\n",
       "      <td>Ho Chi Minh City</td>\n",
       "      <td>Ward 10</td>\n",
       "      <td>POLYGON ((106.6699070440001 10.79892248100003,...</td>\n",
       "    </tr>\n",
       "    <tr>\n",
       "      <th>1</th>\n",
       "      <td>7819.0</td>\n",
       "      <td>27073</td>\n",
       "      <td>Phường 11</td>\n",
       "      <td>Phường</td>\n",
       "      <td>768</td>\n",
       "      <td>Quận Phú Nhuận</td>\n",
       "      <td>79</td>\n",
       "      <td>Thành phố Hồ Chí Minh</td>\n",
       "      <td>Phu Nhuan District</td>\n",
       "      <td>Ho Chi Minh City</td>\n",
       "      <td>Ward 11</td>\n",
       "      <td>POLYGON ((106.6738949840001 10.79012047100002,...</td>\n",
       "    </tr>\n",
       "    <tr>\n",
       "      <th>2</th>\n",
       "      <td>7820.0</td>\n",
       "      <td>27076</td>\n",
       "      <td>Phường 17</td>\n",
       "      <td>Phường</td>\n",
       "      <td>768</td>\n",
       "      <td>Quận Phú Nhuận</td>\n",
       "      <td>79</td>\n",
       "      <td>Thành phố Hồ Chí Minh</td>\n",
       "      <td>Phu Nhuan District</td>\n",
       "      <td>Ho Chi Minh City</td>\n",
       "      <td>Ward 17</td>\n",
       "      <td>POLYGON ((106.683584001 10.79242040200006, 106...</td>\n",
       "    </tr>\n",
       "    <tr>\n",
       "      <th>3</th>\n",
       "      <td>9753.0</td>\n",
       "      <td>27181</td>\n",
       "      <td>Phường 9</td>\n",
       "      <td>Phường</td>\n",
       "      <td>771</td>\n",
       "      <td>Quận 10</td>\n",
       "      <td>79</td>\n",
       "      <td>Thành phố Hồ Chí Minh</td>\n",
       "      <td>District 10</td>\n",
       "      <td>Ho Chi Minh City</td>\n",
       "      <td>Ward 9</td>\n",
       "      <td>POLYGON ((106.6724178520001 10.76481844300002,...</td>\n",
       "    </tr>\n",
       "    <tr>\n",
       "      <th>4</th>\n",
       "      <td>7821.0</td>\n",
       "      <td>27079</td>\n",
       "      <td>Phường 14</td>\n",
       "      <td>Phường</td>\n",
       "      <td>768</td>\n",
       "      <td>Quận Phú Nhuận</td>\n",
       "      <td>79</td>\n",
       "      <td>Thành phố Hồ Chí Minh</td>\n",
       "      <td>Phu Nhuan District</td>\n",
       "      <td>Ho Chi Minh City</td>\n",
       "      <td>Ward 14</td>\n",
       "      <td>POLYGON ((106.668077957 10.78889551900005, 106...</td>\n",
       "    </tr>\n",
       "  </tbody>\n",
       "</table>\n",
       "</div>"
      ],
      "text/plain": [
       "   OBJECTID     Ma        Ten     Cap MaQH       QuanHuyen MaTP  \\\n",
       "0    7818.0  27070  Phường 10  Phường  768  Quận Phú Nhuận   79   \n",
       "1    7819.0  27073  Phường 11  Phường  768  Quận Phú Nhuận   79   \n",
       "2    7820.0  27076  Phường 17  Phường  768  Quận Phú Nhuận   79   \n",
       "3    9753.0  27181   Phường 9  Phường  771         Quận 10   79   \n",
       "4    7821.0  27079  Phường 14  Phường  768  Quận Phú Nhuận   79   \n",
       "\n",
       "              Tinh_Thanh            District          Province     Name  \\\n",
       "0  Thành phố Hồ Chí Minh  Phu Nhuan District  Ho Chi Minh City  Ward 10   \n",
       "1  Thành phố Hồ Chí Minh  Phu Nhuan District  Ho Chi Minh City  Ward 11   \n",
       "2  Thành phố Hồ Chí Minh  Phu Nhuan District  Ho Chi Minh City  Ward 17   \n",
       "3  Thành phố Hồ Chí Minh         District 10  Ho Chi Minh City   Ward 9   \n",
       "4  Thành phố Hồ Chí Minh  Phu Nhuan District  Ho Chi Minh City  Ward 14   \n",
       "\n",
       "                                            geometry  \n",
       "0  POLYGON ((106.6699070440001 10.79892248100003,...  \n",
       "1  POLYGON ((106.6738949840001 10.79012047100002,...  \n",
       "2  POLYGON ((106.683584001 10.79242040200006, 106...  \n",
       "3  POLYGON ((106.6724178520001 10.76481844300002,...  \n",
       "4  POLYGON ((106.668077957 10.78889551900005, 106...  "
      ]
     },
     "execution_count": 4,
     "metadata": {},
     "output_type": "execute_result"
    }
   ],
   "source": [
    "# Filtering HCMC\n",
    "HCMC_ward = vietnam_ward[vietnam_ward['Province'] == 'Ho Chi Minh City'].reset_index(drop = True)\n",
    "print(HCMC_ward.shape)\n",
    "HCMC_ward.head()"
   ]
  },
  {
   "cell_type": "markdown",
   "metadata": {},
   "source": [
    "Next, this geoDataFrame has polygondata, while, for the later K-means cluster analysis,  I need x-y coordinate. I create the centroid of each ward."
   ]
  },
  {
   "cell_type": "code",
   "execution_count": 5,
   "metadata": {},
   "outputs": [
    {
     "data": {
      "text/html": [
       "<div>\n",
       "<style scoped>\n",
       "    .dataframe tbody tr th:only-of-type {\n",
       "        vertical-align: middle;\n",
       "    }\n",
       "\n",
       "    .dataframe tbody tr th {\n",
       "        vertical-align: top;\n",
       "    }\n",
       "\n",
       "    .dataframe thead th {\n",
       "        text-align: right;\n",
       "    }\n",
       "</style>\n",
       "<table border=\"1\" class=\"dataframe\">\n",
       "  <thead>\n",
       "    <tr style=\"text-align: right;\">\n",
       "      <th></th>\n",
       "      <th>OBJECTID</th>\n",
       "      <th>Ma</th>\n",
       "      <th>Ten</th>\n",
       "      <th>Cap</th>\n",
       "      <th>MaQH</th>\n",
       "      <th>QuanHuyen</th>\n",
       "      <th>MaTP</th>\n",
       "      <th>Tinh_Thanh</th>\n",
       "      <th>District</th>\n",
       "      <th>Province</th>\n",
       "      <th>Name</th>\n",
       "      <th>geometry</th>\n",
       "      <th>centroid</th>\n",
       "    </tr>\n",
       "  </thead>\n",
       "  <tbody>\n",
       "    <tr>\n",
       "      <th>0</th>\n",
       "      <td>7818.0</td>\n",
       "      <td>27070</td>\n",
       "      <td>Phường 10</td>\n",
       "      <td>Phường</td>\n",
       "      <td>768</td>\n",
       "      <td>Quận Phú Nhuận</td>\n",
       "      <td>79</td>\n",
       "      <td>Thành phố Hồ Chí Minh</td>\n",
       "      <td>Phu Nhuan District</td>\n",
       "      <td>Ho Chi Minh City</td>\n",
       "      <td>Ward 10</td>\n",
       "      <td>POLYGON ((106.6699070440001 10.79892248100003,...</td>\n",
       "      <td>POINT (106.6710375843309 10.79545185546063)</td>\n",
       "    </tr>\n",
       "    <tr>\n",
       "      <th>1</th>\n",
       "      <td>7819.0</td>\n",
       "      <td>27073</td>\n",
       "      <td>Phường 11</td>\n",
       "      <td>Phường</td>\n",
       "      <td>768</td>\n",
       "      <td>Quận Phú Nhuận</td>\n",
       "      <td>79</td>\n",
       "      <td>Thành phố Hồ Chí Minh</td>\n",
       "      <td>Phu Nhuan District</td>\n",
       "      <td>Ho Chi Minh City</td>\n",
       "      <td>Ward 11</td>\n",
       "      <td>POLYGON ((106.6738949840001 10.79012047100002,...</td>\n",
       "      <td>POINT (106.6747730073135 10.79287978253698)</td>\n",
       "    </tr>\n",
       "    <tr>\n",
       "      <th>2</th>\n",
       "      <td>7820.0</td>\n",
       "      <td>27076</td>\n",
       "      <td>Phường 17</td>\n",
       "      <td>Phường</td>\n",
       "      <td>768</td>\n",
       "      <td>Quận Phú Nhuận</td>\n",
       "      <td>79</td>\n",
       "      <td>Thành phố Hồ Chí Minh</td>\n",
       "      <td>Phu Nhuan District</td>\n",
       "      <td>Ho Chi Minh City</td>\n",
       "      <td>Ward 17</td>\n",
       "      <td>POLYGON ((106.683584001 10.79242040200006, 106...</td>\n",
       "      <td>POINT (106.6826095315289 10.79346395171806)</td>\n",
       "    </tr>\n",
       "    <tr>\n",
       "      <th>3</th>\n",
       "      <td>9753.0</td>\n",
       "      <td>27181</td>\n",
       "      <td>Phường 9</td>\n",
       "      <td>Phường</td>\n",
       "      <td>771</td>\n",
       "      <td>Quận 10</td>\n",
       "      <td>79</td>\n",
       "      <td>Thành phố Hồ Chí Minh</td>\n",
       "      <td>District 10</td>\n",
       "      <td>Ho Chi Minh City</td>\n",
       "      <td>Ward 9</td>\n",
       "      <td>POLYGON ((106.6724178520001 10.76481844300002,...</td>\n",
       "      <td>POINT (106.6706720390022 10.76655795112036)</td>\n",
       "    </tr>\n",
       "    <tr>\n",
       "      <th>4</th>\n",
       "      <td>7821.0</td>\n",
       "      <td>27079</td>\n",
       "      <td>Phường 14</td>\n",
       "      <td>Phường</td>\n",
       "      <td>768</td>\n",
       "      <td>Quận Phú Nhuận</td>\n",
       "      <td>79</td>\n",
       "      <td>Thành phố Hồ Chí Minh</td>\n",
       "      <td>Phu Nhuan District</td>\n",
       "      <td>Ho Chi Minh City</td>\n",
       "      <td>Ward 14</td>\n",
       "      <td>POLYGON ((106.668077957 10.78889551900005, 106...</td>\n",
       "      <td>POINT (106.6683269005768 10.79155555448789)</td>\n",
       "    </tr>\n",
       "  </tbody>\n",
       "</table>\n",
       "</div>"
      ],
      "text/plain": [
       "   OBJECTID     Ma        Ten     Cap MaQH       QuanHuyen MaTP  \\\n",
       "0    7818.0  27070  Phường 10  Phường  768  Quận Phú Nhuận   79   \n",
       "1    7819.0  27073  Phường 11  Phường  768  Quận Phú Nhuận   79   \n",
       "2    7820.0  27076  Phường 17  Phường  768  Quận Phú Nhuận   79   \n",
       "3    9753.0  27181   Phường 9  Phường  771         Quận 10   79   \n",
       "4    7821.0  27079  Phường 14  Phường  768  Quận Phú Nhuận   79   \n",
       "\n",
       "              Tinh_Thanh            District          Province     Name  \\\n",
       "0  Thành phố Hồ Chí Minh  Phu Nhuan District  Ho Chi Minh City  Ward 10   \n",
       "1  Thành phố Hồ Chí Minh  Phu Nhuan District  Ho Chi Minh City  Ward 11   \n",
       "2  Thành phố Hồ Chí Minh  Phu Nhuan District  Ho Chi Minh City  Ward 17   \n",
       "3  Thành phố Hồ Chí Minh         District 10  Ho Chi Minh City   Ward 9   \n",
       "4  Thành phố Hồ Chí Minh  Phu Nhuan District  Ho Chi Minh City  Ward 14   \n",
       "\n",
       "                                            geometry  \\\n",
       "0  POLYGON ((106.6699070440001 10.79892248100003,...   \n",
       "1  POLYGON ((106.6738949840001 10.79012047100002,...   \n",
       "2  POLYGON ((106.683584001 10.79242040200006, 106...   \n",
       "3  POLYGON ((106.6724178520001 10.76481844300002,...   \n",
       "4  POLYGON ((106.668077957 10.78889551900005, 106...   \n",
       "\n",
       "                                      centroid  \n",
       "0  POINT (106.6710375843309 10.79545185546063)  \n",
       "1  POINT (106.6747730073135 10.79287978253698)  \n",
       "2  POINT (106.6826095315289 10.79346395171806)  \n",
       "3  POINT (106.6706720390022 10.76655795112036)  \n",
       "4  POINT (106.6683269005768 10.79155555448789)  "
      ]
     },
     "execution_count": 5,
     "metadata": {},
     "output_type": "execute_result"
    }
   ],
   "source": [
    "HCMC_ward['centroid'] = HCMC_ward.centroid\n",
    "HCMC_ward.head()"
   ]
  },
  {
   "cell_type": "markdown",
   "metadata": {},
   "source": [
    "Then, split the x-y coordinate into the columns of latitude and longitude"
   ]
  },
  {
   "cell_type": "code",
   "execution_count": 6,
   "metadata": {},
   "outputs": [
    {
     "data": {
      "text/html": [
       "<div>\n",
       "<style scoped>\n",
       "    .dataframe tbody tr th:only-of-type {\n",
       "        vertical-align: middle;\n",
       "    }\n",
       "\n",
       "    .dataframe tbody tr th {\n",
       "        vertical-align: top;\n",
       "    }\n",
       "\n",
       "    .dataframe thead th {\n",
       "        text-align: right;\n",
       "    }\n",
       "</style>\n",
       "<table border=\"1\" class=\"dataframe\">\n",
       "  <thead>\n",
       "    <tr style=\"text-align: right;\">\n",
       "      <th></th>\n",
       "      <th>OBJECTID</th>\n",
       "      <th>Ma</th>\n",
       "      <th>Ten</th>\n",
       "      <th>Cap</th>\n",
       "      <th>MaQH</th>\n",
       "      <th>QuanHuyen</th>\n",
       "      <th>MaTP</th>\n",
       "      <th>Tinh_Thanh</th>\n",
       "      <th>District</th>\n",
       "      <th>Province</th>\n",
       "      <th>Name</th>\n",
       "      <th>geometry</th>\n",
       "      <th>centroid</th>\n",
       "      <th>latitude</th>\n",
       "      <th>longitude</th>\n",
       "    </tr>\n",
       "  </thead>\n",
       "  <tbody>\n",
       "    <tr>\n",
       "      <th>0</th>\n",
       "      <td>7818.0</td>\n",
       "      <td>27070</td>\n",
       "      <td>Phường 10</td>\n",
       "      <td>Phường</td>\n",
       "      <td>768</td>\n",
       "      <td>Quận Phú Nhuận</td>\n",
       "      <td>79</td>\n",
       "      <td>Thành phố Hồ Chí Minh</td>\n",
       "      <td>Phu Nhuan District</td>\n",
       "      <td>Ho Chi Minh City</td>\n",
       "      <td>Ward 10</td>\n",
       "      <td>POLYGON ((106.6699070440001 10.79892248100003,...</td>\n",
       "      <td>POINT (106.6710375843309 10.79545185546063)</td>\n",
       "      <td>10.795452</td>\n",
       "      <td>106.671038</td>\n",
       "    </tr>\n",
       "    <tr>\n",
       "      <th>1</th>\n",
       "      <td>7819.0</td>\n",
       "      <td>27073</td>\n",
       "      <td>Phường 11</td>\n",
       "      <td>Phường</td>\n",
       "      <td>768</td>\n",
       "      <td>Quận Phú Nhuận</td>\n",
       "      <td>79</td>\n",
       "      <td>Thành phố Hồ Chí Minh</td>\n",
       "      <td>Phu Nhuan District</td>\n",
       "      <td>Ho Chi Minh City</td>\n",
       "      <td>Ward 11</td>\n",
       "      <td>POLYGON ((106.6738949840001 10.79012047100002,...</td>\n",
       "      <td>POINT (106.6747730073135 10.79287978253698)</td>\n",
       "      <td>10.792880</td>\n",
       "      <td>106.674773</td>\n",
       "    </tr>\n",
       "    <tr>\n",
       "      <th>2</th>\n",
       "      <td>7820.0</td>\n",
       "      <td>27076</td>\n",
       "      <td>Phường 17</td>\n",
       "      <td>Phường</td>\n",
       "      <td>768</td>\n",
       "      <td>Quận Phú Nhuận</td>\n",
       "      <td>79</td>\n",
       "      <td>Thành phố Hồ Chí Minh</td>\n",
       "      <td>Phu Nhuan District</td>\n",
       "      <td>Ho Chi Minh City</td>\n",
       "      <td>Ward 17</td>\n",
       "      <td>POLYGON ((106.683584001 10.79242040200006, 106...</td>\n",
       "      <td>POINT (106.6826095315289 10.79346395171806)</td>\n",
       "      <td>10.793464</td>\n",
       "      <td>106.682610</td>\n",
       "    </tr>\n",
       "    <tr>\n",
       "      <th>3</th>\n",
       "      <td>9753.0</td>\n",
       "      <td>27181</td>\n",
       "      <td>Phường 9</td>\n",
       "      <td>Phường</td>\n",
       "      <td>771</td>\n",
       "      <td>Quận 10</td>\n",
       "      <td>79</td>\n",
       "      <td>Thành phố Hồ Chí Minh</td>\n",
       "      <td>District 10</td>\n",
       "      <td>Ho Chi Minh City</td>\n",
       "      <td>Ward 9</td>\n",
       "      <td>POLYGON ((106.6724178520001 10.76481844300002,...</td>\n",
       "      <td>POINT (106.6706720390022 10.76655795112036)</td>\n",
       "      <td>10.766558</td>\n",
       "      <td>106.670672</td>\n",
       "    </tr>\n",
       "    <tr>\n",
       "      <th>4</th>\n",
       "      <td>7821.0</td>\n",
       "      <td>27079</td>\n",
       "      <td>Phường 14</td>\n",
       "      <td>Phường</td>\n",
       "      <td>768</td>\n",
       "      <td>Quận Phú Nhuận</td>\n",
       "      <td>79</td>\n",
       "      <td>Thành phố Hồ Chí Minh</td>\n",
       "      <td>Phu Nhuan District</td>\n",
       "      <td>Ho Chi Minh City</td>\n",
       "      <td>Ward 14</td>\n",
       "      <td>POLYGON ((106.668077957 10.78889551900005, 106...</td>\n",
       "      <td>POINT (106.6683269005768 10.79155555448789)</td>\n",
       "      <td>10.791556</td>\n",
       "      <td>106.668327</td>\n",
       "    </tr>\n",
       "  </tbody>\n",
       "</table>\n",
       "</div>"
      ],
      "text/plain": [
       "   OBJECTID     Ma        Ten     Cap MaQH       QuanHuyen MaTP  \\\n",
       "0    7818.0  27070  Phường 10  Phường  768  Quận Phú Nhuận   79   \n",
       "1    7819.0  27073  Phường 11  Phường  768  Quận Phú Nhuận   79   \n",
       "2    7820.0  27076  Phường 17  Phường  768  Quận Phú Nhuận   79   \n",
       "3    9753.0  27181   Phường 9  Phường  771         Quận 10   79   \n",
       "4    7821.0  27079  Phường 14  Phường  768  Quận Phú Nhuận   79   \n",
       "\n",
       "              Tinh_Thanh            District          Province     Name  \\\n",
       "0  Thành phố Hồ Chí Minh  Phu Nhuan District  Ho Chi Minh City  Ward 10   \n",
       "1  Thành phố Hồ Chí Minh  Phu Nhuan District  Ho Chi Minh City  Ward 11   \n",
       "2  Thành phố Hồ Chí Minh  Phu Nhuan District  Ho Chi Minh City  Ward 17   \n",
       "3  Thành phố Hồ Chí Minh         District 10  Ho Chi Minh City   Ward 9   \n",
       "4  Thành phố Hồ Chí Minh  Phu Nhuan District  Ho Chi Minh City  Ward 14   \n",
       "\n",
       "                                            geometry  \\\n",
       "0  POLYGON ((106.6699070440001 10.79892248100003,...   \n",
       "1  POLYGON ((106.6738949840001 10.79012047100002,...   \n",
       "2  POLYGON ((106.683584001 10.79242040200006, 106...   \n",
       "3  POLYGON ((106.6724178520001 10.76481844300002,...   \n",
       "4  POLYGON ((106.668077957 10.78889551900005, 106...   \n",
       "\n",
       "                                      centroid   latitude   longitude  \n",
       "0  POINT (106.6710375843309 10.79545185546063)  10.795452  106.671038  \n",
       "1  POINT (106.6747730073135 10.79287978253698)  10.792880  106.674773  \n",
       "2  POINT (106.6826095315289 10.79346395171806)  10.793464  106.682610  \n",
       "3  POINT (106.6706720390022 10.76655795112036)  10.766558  106.670672  \n",
       "4  POINT (106.6683269005768 10.79155555448789)  10.791556  106.668327  "
      ]
     },
     "execution_count": 6,
     "metadata": {},
     "output_type": "execute_result"
    }
   ],
   "source": [
    "HCMC_ward['latitude'] = HCMC_ward.centroid.y\n",
    "HCMC_ward['longitude'] = HCMC_ward.centroid.x\n",
    "HCMC_ward.head()"
   ]
  },
  {
   "cell_type": "markdown",
   "metadata": {},
   "source": [
    "Dropping unncecessary columns for simplicity."
   ]
  },
  {
   "cell_type": "code",
   "execution_count": 7,
   "metadata": {},
   "outputs": [
    {
     "data": {
      "text/html": [
       "<div>\n",
       "<style scoped>\n",
       "    .dataframe tbody tr th:only-of-type {\n",
       "        vertical-align: middle;\n",
       "    }\n",
       "\n",
       "    .dataframe tbody tr th {\n",
       "        vertical-align: top;\n",
       "    }\n",
       "\n",
       "    .dataframe thead th {\n",
       "        text-align: right;\n",
       "    }\n",
       "</style>\n",
       "<table border=\"1\" class=\"dataframe\">\n",
       "  <thead>\n",
       "    <tr style=\"text-align: right;\">\n",
       "      <th></th>\n",
       "      <th>District</th>\n",
       "      <th>Province</th>\n",
       "      <th>Neighborhood</th>\n",
       "      <th>geometry</th>\n",
       "      <th>centroid</th>\n",
       "      <th>latitude</th>\n",
       "      <th>longitude</th>\n",
       "    </tr>\n",
       "  </thead>\n",
       "  <tbody>\n",
       "    <tr>\n",
       "      <th>0</th>\n",
       "      <td>Phu Nhuan District</td>\n",
       "      <td>Ho Chi Minh City</td>\n",
       "      <td>Ward 10</td>\n",
       "      <td>POLYGON ((106.6699070440001 10.79892248100003,...</td>\n",
       "      <td>POINT (106.6710375843309 10.79545185546063)</td>\n",
       "      <td>10.795452</td>\n",
       "      <td>106.671038</td>\n",
       "    </tr>\n",
       "    <tr>\n",
       "      <th>1</th>\n",
       "      <td>Phu Nhuan District</td>\n",
       "      <td>Ho Chi Minh City</td>\n",
       "      <td>Ward 11</td>\n",
       "      <td>POLYGON ((106.6738949840001 10.79012047100002,...</td>\n",
       "      <td>POINT (106.6747730073135 10.79287978253698)</td>\n",
       "      <td>10.792880</td>\n",
       "      <td>106.674773</td>\n",
       "    </tr>\n",
       "    <tr>\n",
       "      <th>2</th>\n",
       "      <td>Phu Nhuan District</td>\n",
       "      <td>Ho Chi Minh City</td>\n",
       "      <td>Ward 17</td>\n",
       "      <td>POLYGON ((106.683584001 10.79242040200006, 106...</td>\n",
       "      <td>POINT (106.6826095315289 10.79346395171806)</td>\n",
       "      <td>10.793464</td>\n",
       "      <td>106.682610</td>\n",
       "    </tr>\n",
       "    <tr>\n",
       "      <th>3</th>\n",
       "      <td>District 10</td>\n",
       "      <td>Ho Chi Minh City</td>\n",
       "      <td>Ward 9</td>\n",
       "      <td>POLYGON ((106.6724178520001 10.76481844300002,...</td>\n",
       "      <td>POINT (106.6706720390022 10.76655795112036)</td>\n",
       "      <td>10.766558</td>\n",
       "      <td>106.670672</td>\n",
       "    </tr>\n",
       "    <tr>\n",
       "      <th>4</th>\n",
       "      <td>Phu Nhuan District</td>\n",
       "      <td>Ho Chi Minh City</td>\n",
       "      <td>Ward 14</td>\n",
       "      <td>POLYGON ((106.668077957 10.78889551900005, 106...</td>\n",
       "      <td>POINT (106.6683269005768 10.79155555448789)</td>\n",
       "      <td>10.791556</td>\n",
       "      <td>106.668327</td>\n",
       "    </tr>\n",
       "  </tbody>\n",
       "</table>\n",
       "</div>"
      ],
      "text/plain": [
       "             District          Province Neighborhood  \\\n",
       "0  Phu Nhuan District  Ho Chi Minh City      Ward 10   \n",
       "1  Phu Nhuan District  Ho Chi Minh City      Ward 11   \n",
       "2  Phu Nhuan District  Ho Chi Minh City      Ward 17   \n",
       "3         District 10  Ho Chi Minh City       Ward 9   \n",
       "4  Phu Nhuan District  Ho Chi Minh City      Ward 14   \n",
       "\n",
       "                                            geometry  \\\n",
       "0  POLYGON ((106.6699070440001 10.79892248100003,...   \n",
       "1  POLYGON ((106.6738949840001 10.79012047100002,...   \n",
       "2  POLYGON ((106.683584001 10.79242040200006, 106...   \n",
       "3  POLYGON ((106.6724178520001 10.76481844300002,...   \n",
       "4  POLYGON ((106.668077957 10.78889551900005, 106...   \n",
       "\n",
       "                                      centroid   latitude   longitude  \n",
       "0  POINT (106.6710375843309 10.79545185546063)  10.795452  106.671038  \n",
       "1  POINT (106.6747730073135 10.79287978253698)  10.792880  106.674773  \n",
       "2  POINT (106.6826095315289 10.79346395171806)  10.793464  106.682610  \n",
       "3  POINT (106.6706720390022 10.76655795112036)  10.766558  106.670672  \n",
       "4  POINT (106.6683269005768 10.79155555448789)  10.791556  106.668327  "
      ]
     },
     "execution_count": 7,
     "metadata": {},
     "output_type": "execute_result"
    }
   ],
   "source": [
    "HCMC_ward = HCMC_ward[['District', 'Province', 'Name', 'geometry', 'centroid', 'latitude', 'longitude']]\n",
    "HCMC_ward.columns = ['District', 'Province', 'Neighborhood', 'geometry', 'centroid', 'latitude', 'longitude']\n",
    "HCMC_ward.head()"
   ]
  },
  {
   "cell_type": "markdown",
   "metadata": {},
   "source": [
    "Let's visualize if it works."
   ]
  },
  {
   "cell_type": "code",
   "execution_count": 8,
   "metadata": {},
   "outputs": [
    {
     "data": {
      "text/plain": [
       "<matplotlib.axes._subplots.AxesSubplot at 0x231e5e09cc0>"
      ]
     },
     "execution_count": 8,
     "metadata": {},
     "output_type": "execute_result"
    },
    {
     "data": {
      "image/png": "[encoded data removed]",
      "text/plain": [
       "<Figure size 576x576 with 1 Axes>"
      ]
     },
     "metadata": {
      "needs_background": "light"
     },
     "output_type": "display_data"
    }
   ],
   "source": [
    "point = gpd.GeoDataFrame(HCMC_ward['centroid'])\n",
    "point.columns = ['geometry']\n",
    "fig, ax1 = plt.subplots(figsize = (8, 8))\n",
    "ax1 = HCMC_ward.plot(ax = ax1, facecolor = 'white', edgecolor = 'gray', linewidth = .5)\n",
    "ax1.set_title('Visualization of HCMC ward centroid', fontsize = 14)\n",
    "point.plot(ax = ax1, color = 'red', markersize = 2)"
   ]
  },
  {
   "cell_type": "markdown",
   "metadata": {},
   "source": [
    "## Step2:  Foursquare API\n",
    "Now I have created the basemap. We need POI data from Foursquare API to answer the problem set."
   ]
  },
  {
   "cell_type": "code",
   "execution_count": 9,
   "metadata": {},
   "outputs": [],
   "source": [
    "CLIENT_ID = '###########' # your Foursquare ID\n",
    "CLIENT_SECRET = '############' # your Foursquare Secret\n",
    "VERSION = '20180605' # Foursquare API version\n",
    "LIMIT = 100\n",
    "radius = 500"
   ]
  },
  {
   "cell_type": "markdown",
   "metadata": {},
   "source": [
    "Here is the function to extract POI data for all the neighborhood in HCMC."
   ]
  },
  {
   "cell_type": "code",
   "execution_count": 10,
   "metadata": {},
   "outputs": [],
   "source": [
    "def getNearbyVenues(names, latitudes, longitudes, radius=500):\n",
    "    \n",
    "    venues_list=[]\n",
    "    for name, lat, lng in zip(names, latitudes, longitudes):\n",
    "        print(name)\n",
    "            \n",
    "        # create the API request URL\n",
    "        url = 'https://api.foursquare.com/v2/venues/explore?&client_id={}&client_secret={}&v={}&ll={},{}&radius={}&limit={}'.format(\n",
    "            CLIENT_ID, \n",
    "            CLIENT_SECRET, \n",
    "            VERSION, \n",
    "            lat, \n",
    "            lng, \n",
    "            radius, \n",
    "            LIMIT)\n",
    "            \n",
    "        # make the GET request\n",
    "        results = requests.get(url, verify = False).json()['response']['groups'][0]['items']\n",
    "        \n",
    "        # return only relevant information for each nearby venue\n",
    "        venues_list.append([(\n",
    "            name, \n",
    "            lat, \n",
    "            lng, \n",
    "            v['venue']['name'], \n",
    "            v['venue']['location']['lat'], \n",
    "            v['venue']['location']['lng'],  \n",
    "            v['venue']['categories'][0]['name']) for v in results])\n",
    "\n",
    "    nearby_venues = pd.DataFrame([item for venue_list in venues_list for item in venue_list])\n",
    "    nearby_venues.columns = ['Neighborhood', \n",
    "                  'Neighborhood Latitude', \n",
    "                  'Neighborhood Longitude', \n",
    "                  'Venue', \n",
    "                  'Venue Latitude', \n",
    "                  'Venue Longitude', \n",
    "                  'Venue Category']\n",
    "    \n",
    "    return(nearby_venues)"
   ]
  },
  {
   "cell_type": "markdown",
   "metadata": {},
   "source": [
    "Applying the function to extract the foursquare data."
   ]
  },
  {
   "cell_type": "code",
   "execution_count": 11,
   "metadata": {},
   "outputs": [
    {
     "name": "stdout",
     "output_type": "stream",
     "text": [
      "Ward 10\n"
     ]
    },
    {
     "name": "stderr",
     "output_type": "stream",
     "text": [
      "C:\\WBG\\Anaconda\\lib\\site-packages\\urllib3\\connectionpool.py:847: InsecureRequestWarning: Unverified HTTPS request is being made. Adding certificate verification is strongly advised. See: https://urllib3.readthedocs.io/en/latest/advanced-usage.html#ssl-warnings\n",
      "  InsecureRequestWarning)\n"
     ]
    },
    {
     "name": "stdout",
     "output_type": "stream",
     "text": [
      "Ward 11\n"
     ]
    },
    {
     "name": "stderr",
     "output_type": "stream",
     "text": [
      "C:\\WBG\\Anaconda\\lib\\site-packages\\urllib3\\connectionpool.py:847: InsecureRequestWarning: Unverified HTTPS request is being made. Adding certificate verification is strongly advised. See: https://urllib3.readthedocs.io/en/latest/advanced-usage.html#ssl-warnings\n",
      "  InsecureRequestWarning)\n"
     ]
    },
    {
     "name": "stdout",
     "output_type": "stream",
     "text": [
      "Ward 17\n",
      "Ward 9\n"
     ]
    },
    {
     "name": "stderr",
     "output_type": "stream",
     "text": [
      "C:\\WBG\\Anaconda\\lib\\site-packages\\urllib3\\connectionpool.py:847: InsecureRequestWarning: Unverified HTTPS request is being made. Adding certificate verification is strongly advised. See: https://urllib3.readthedocs.io/en/latest/advanced-usage.html#ssl-warnings\n",
      "  InsecureRequestWarning)\n",
      "C:\\WBG\\Anaconda\\lib\\site-packages\\urllib3\\connectionpool.py:847: InsecureRequestWarning: Unverified HTTPS request is being made. Adding certificate verification is strongly advised. See: https://urllib3.readthedocs.io/en/latest/advanced-usage.html#ssl-warnings\n",
      "  InsecureRequestWarning)\n"
     ]
    },
    {
     "name": "stdout",
     "output_type": "stream",
     "text": [
      "Ward 14\n",
      "Ward 12\n"
     ]
    },
    {
     "name": "stderr",
     "output_type": "stream",
     "text": [
      "C:\\WBG\\Anaconda\\lib\\site-packages\\urllib3\\connectionpool.py:847: InsecureRequestWarning: Unverified HTTPS request is being made. Adding certificate verification is strongly advised. See: https://urllib3.readthedocs.io/en/latest/advanced-usage.html#ssl-warnings\n",
      "  InsecureRequestWarning)\n",
      "C:\\WBG\\Anaconda\\lib\\site-packages\\urllib3\\connectionpool.py:847: InsecureRequestWarning: Unverified HTTPS request is being made. Adding certificate verification is strongly advised. See: https://urllib3.readthedocs.io/en/latest/advanced-usage.html#ssl-warnings\n",
      "  InsecureRequestWarning)\n"
     ]
    },
    {
     "name": "stdout",
     "output_type": "stream",
     "text": [
      "Ward 1\n",
      "Ward 13\n"
     ]
    },
    {
     "name": "stderr",
     "output_type": "stream",
     "text": [
      "C:\\WBG\\Anaconda\\lib\\site-packages\\urllib3\\connectionpool.py:847: InsecureRequestWarning: Unverified HTTPS request is being made. Adding certificate verification is strongly advised. See: https://urllib3.readthedocs.io/en/latest/advanced-usage.html#ssl-warnings\n",
      "  InsecureRequestWarning)\n",
      "C:\\WBG\\Anaconda\\lib\\site-packages\\urllib3\\connectionpool.py:847: InsecureRequestWarning: Unverified HTTPS request is being made. Adding certificate verification is strongly advised. See: https://urllib3.readthedocs.io/en/latest/advanced-usage.html#ssl-warnings\n",
      "  InsecureRequestWarning)\n"
     ]
    },
    {
     "name": "stdout",
     "output_type": "stream",
     "text": [
      "Ward 14\n",
      "Ward 13\n"
     ]
    },
    {
     "name": "stderr",
     "output_type": "stream",
     "text": [
      "C:\\WBG\\Anaconda\\lib\\site-packages\\urllib3\\connectionpool.py:847: InsecureRequestWarning: Unverified HTTPS request is being made. Adding certificate verification is strongly advised. See: https://urllib3.readthedocs.io/en/latest/advanced-usage.html#ssl-warnings\n",
      "  InsecureRequestWarning)\n",
      "C:\\WBG\\Anaconda\\lib\\site-packages\\urllib3\\connectionpool.py:847: InsecureRequestWarning: Unverified HTTPS request is being made. Adding certificate verification is strongly advised. See: https://urllib3.readthedocs.io/en/latest/advanced-usage.html#ssl-warnings\n",
      "  InsecureRequestWarning)\n"
     ]
    },
    {
     "name": "stdout",
     "output_type": "stream",
     "text": [
      "Ward 9\n",
      "Ward 6\n"
     ]
    },
    {
     "name": "stderr",
     "output_type": "stream",
     "text": [
      "C:\\WBG\\Anaconda\\lib\\site-packages\\urllib3\\connectionpool.py:847: InsecureRequestWarning: Unverified HTTPS request is being made. Adding certificate verification is strongly advised. See: https://urllib3.readthedocs.io/en/latest/advanced-usage.html#ssl-warnings\n",
      "  InsecureRequestWarning)\n",
      "C:\\WBG\\Anaconda\\lib\\site-packages\\urllib3\\connectionpool.py:847: InsecureRequestWarning: Unverified HTTPS request is being made. Adding certificate verification is strongly advised. See: https://urllib3.readthedocs.io/en/latest/advanced-usage.html#ssl-warnings\n",
      "  InsecureRequestWarning)\n"
     ]
    },
    {
     "name": "stdout",
     "output_type": "stream",
     "text": [
      "Ward 12\n",
      "Ward 5\n"
     ]
    },
    {
     "name": "stderr",
     "output_type": "stream",
     "text": [
      "C:\\WBG\\Anaconda\\lib\\site-packages\\urllib3\\connectionpool.py:847: InsecureRequestWarning: Unverified HTTPS request is being made. Adding certificate verification is strongly advised. See: https://urllib3.readthedocs.io/en/latest/advanced-usage.html#ssl-warnings\n",
      "  InsecureRequestWarning)\n",
      "C:\\WBG\\Anaconda\\lib\\site-packages\\urllib3\\connectionpool.py:847: InsecureRequestWarning: Unverified HTTPS request is being made. Adding certificate verification is strongly advised. See: https://urllib3.readthedocs.io/en/latest/advanced-usage.html#ssl-warnings\n",
      "  InsecureRequestWarning)\n"
     ]
    },
    {
     "name": "stdout",
     "output_type": "stream",
     "text": [
      "Ward 11\n",
      "Ward 2\n"
     ]
    },
    {
     "name": "stderr",
     "output_type": "stream",
     "text": [
      "C:\\WBG\\Anaconda\\lib\\site-packages\\urllib3\\connectionpool.py:847: InsecureRequestWarning: Unverified HTTPS request is being made. Adding certificate verification is strongly advised. See: https://urllib3.readthedocs.io/en/latest/advanced-usage.html#ssl-warnings\n",
      "  InsecureRequestWarning)\n",
      "C:\\WBG\\Anaconda\\lib\\site-packages\\urllib3\\connectionpool.py:847: InsecureRequestWarning: Unverified HTTPS request is being made. Adding certificate verification is strongly advised. See: https://urllib3.readthedocs.io/en/latest/advanced-usage.html#ssl-warnings\n",
      "  InsecureRequestWarning)\n"
     ]
    },
    {
     "name": "stdout",
     "output_type": "stream",
     "text": [
      "Ward 8\n",
      "Ward 15"
     ]
    },
    {
     "name": "stderr",
     "output_type": "stream",
     "text": [
      "C:\\WBG\\Anaconda\\lib\\site-packages\\urllib3\\connectionpool.py:847: InsecureRequestWarning: Unverified HTTPS request is being made. Adding certificate verification is strongly advised. See: https://urllib3.readthedocs.io/en/latest/advanced-usage.html#ssl-warnings\n",
      "  InsecureRequestWarning)\n"
     ]
    },
    {
     "name": "stdout",
     "output_type": "stream",
     "text": [
      "\n",
      "Ward 7"
     ]
    },
    {
     "name": "stderr",
     "output_type": "stream",
     "text": [
      "C:\\WBG\\Anaconda\\lib\\site-packages\\urllib3\\connectionpool.py:847: InsecureRequestWarning: Unverified HTTPS request is being made. Adding certificate verification is strongly advised. See: https://urllib3.readthedocs.io/en/latest/advanced-usage.html#ssl-warnings\n",
      "  InsecureRequestWarning)\n",
      "C:\\WBG\\Anaconda\\lib\\site-packages\\urllib3\\connectionpool.py:847: InsecureRequestWarning: Unverified HTTPS request is being made. Adding certificate verification is strongly advised. See: https://urllib3.readthedocs.io/en/latest/advanced-usage.html#ssl-warnings\n",
      "  InsecureRequestWarning)\n"
     ]
    },
    {
     "name": "stdout",
     "output_type": "stream",
     "text": [
      "\n",
      "Ward 1\n",
      "Ward 11\n"
     ]
    },
    {
     "name": "stderr",
     "output_type": "stream",
     "text": [
      "C:\\WBG\\Anaconda\\lib\\site-packages\\urllib3\\connectionpool.py:847: InsecureRequestWarning: Unverified HTTPS request is being made. Adding certificate verification is strongly advised. See: https://urllib3.readthedocs.io/en/latest/advanced-usage.html#ssl-warnings\n",
      "  InsecureRequestWarning)\n",
      "C:\\WBG\\Anaconda\\lib\\site-packages\\urllib3\\connectionpool.py:847: InsecureRequestWarning: Unverified HTTPS request is being made. Adding certificate verification is strongly advised. See: https://urllib3.readthedocs.io/en/latest/advanced-usage.html#ssl-warnings\n",
      "  InsecureRequestWarning)\n"
     ]
    },
    {
     "name": "stdout",
     "output_type": "stream",
     "text": [
      "Ward 14\n"
     ]
    },
    {
     "name": "stderr",
     "output_type": "stream",
     "text": [
      "C:\\WBG\\Anaconda\\lib\\site-packages\\urllib3\\connectionpool.py:847: InsecureRequestWarning: Unverified HTTPS request is being made. Adding certificate verification is strongly advised. See: https://urllib3.readthedocs.io/en/latest/advanced-usage.html#ssl-warnings\n",
      "  InsecureRequestWarning)\n"
     ]
    },
    {
     "name": "stdout",
     "output_type": "stream",
     "text": [
      "Ward 5\n",
      "Ward 6\n"
     ]
    },
    {
     "name": "stderr",
     "output_type": "stream",
     "text": [
      "C:\\WBG\\Anaconda\\lib\\site-packages\\urllib3\\connectionpool.py:847: InsecureRequestWarning: Unverified HTTPS request is being made. Adding certificate verification is strongly advised. See: https://urllib3.readthedocs.io/en/latest/advanced-usage.html#ssl-warnings\n",
      "  InsecureRequestWarning)\n",
      "C:\\WBG\\Anaconda\\lib\\site-packages\\urllib3\\connectionpool.py:847: InsecureRequestWarning: Unverified HTTPS request is being made. Adding certificate verification is strongly advised. See: https://urllib3.readthedocs.io/en/latest/advanced-usage.html#ssl-warnings\n",
      "  InsecureRequestWarning)\n"
     ]
    },
    {
     "name": "stdout",
     "output_type": "stream",
     "text": [
      "Ward 10\n",
      "Ward 13\n"
     ]
    },
    {
     "name": "stderr",
     "output_type": "stream",
     "text": [
      "C:\\WBG\\Anaconda\\lib\\site-packages\\urllib3\\connectionpool.py:847: InsecureRequestWarning: Unverified HTTPS request is being made. Adding certificate verification is strongly advised. See: https://urllib3.readthedocs.io/en/latest/advanced-usage.html#ssl-warnings\n",
      "  InsecureRequestWarning)\n",
      "C:\\WBG\\Anaconda\\lib\\site-packages\\urllib3\\connectionpool.py:847: InsecureRequestWarning: Unverified HTTPS request is being made. Adding certificate verification is strongly advised. See: https://urllib3.readthedocs.io/en/latest/advanced-usage.html#ssl-warnings\n",
      "  InsecureRequestWarning)\n"
     ]
    },
    {
     "name": "stdout",
     "output_type": "stream",
     "text": [
      "Ben Thanh Ward\n"
     ]
    },
    {
     "name": "stderr",
     "output_type": "stream",
     "text": [
      "C:\\WBG\\Anaconda\\lib\\site-packages\\urllib3\\connectionpool.py:847: InsecureRequestWarning: Unverified HTTPS request is being made. Adding certificate verification is strongly advised. See: https://urllib3.readthedocs.io/en/latest/advanced-usage.html#ssl-warnings\n",
      "  InsecureRequestWarning)\n"
     ]
    },
    {
     "name": "stdout",
     "output_type": "stream",
     "text": [
      "Nguyen Thai Binh Ward\n"
     ]
    },
    {
     "name": "stderr",
     "output_type": "stream",
     "text": [
      "C:\\WBG\\Anaconda\\lib\\site-packages\\urllib3\\connectionpool.py:847: InsecureRequestWarning: Unverified HTTPS request is being made. Adding certificate verification is strongly advised. See: https://urllib3.readthedocs.io/en/latest/advanced-usage.html#ssl-warnings\n",
      "  InsecureRequestWarning)\n"
     ]
    },
    {
     "name": "stdout",
     "output_type": "stream",
     "text": [
      "Pham Ngu Lao Ward\n"
     ]
    },
    {
     "name": "stderr",
     "output_type": "stream",
     "text": [
      "C:\\WBG\\Anaconda\\lib\\site-packages\\urllib3\\connectionpool.py:847: InsecureRequestWarning: Unverified HTTPS request is being made. Adding certificate verification is strongly advised. See: https://urllib3.readthedocs.io/en/latest/advanced-usage.html#ssl-warnings\n",
      "  InsecureRequestWarning)\n"
     ]
    },
    {
     "name": "stdout",
     "output_type": "stream",
     "text": [
      "Cau Ong Lanh Ward\n"
     ]
    },
    {
     "name": "stderr",
     "output_type": "stream",
     "text": [
      "C:\\WBG\\Anaconda\\lib\\site-packages\\urllib3\\connectionpool.py:847: InsecureRequestWarning: Unverified HTTPS request is being made. Adding certificate verification is strongly advised. See: https://urllib3.readthedocs.io/en/latest/advanced-usage.html#ssl-warnings\n",
      "  InsecureRequestWarning)\n"
     ]
    },
    {
     "name": "stdout",
     "output_type": "stream",
     "text": [
      "Co Giang Ward\n",
      "Ward 13\n"
     ]
    },
    {
     "name": "stderr",
     "output_type": "stream",
     "text": [
      "C:\\WBG\\Anaconda\\lib\\site-packages\\urllib3\\connectionpool.py:847: InsecureRequestWarning: Unverified HTTPS request is being made. Adding certificate verification is strongly advised. See: https://urllib3.readthedocs.io/en/latest/advanced-usage.html#ssl-warnings\n",
      "  InsecureRequestWarning)\n",
      "C:\\WBG\\Anaconda\\lib\\site-packages\\urllib3\\connectionpool.py:847: InsecureRequestWarning: Unverified HTTPS request is being made. Adding certificate verification is strongly advised. See: https://urllib3.readthedocs.io/en/latest/advanced-usage.html#ssl-warnings\n",
      "  InsecureRequestWarning)\n"
     ]
    },
    {
     "name": "stdout",
     "output_type": "stream",
     "text": [
      "Nguyen Cu Trinh Ward\n"
     ]
    },
    {
     "name": "stderr",
     "output_type": "stream",
     "text": [
      "C:\\WBG\\Anaconda\\lib\\site-packages\\urllib3\\connectionpool.py:847: InsecureRequestWarning: Unverified HTTPS request is being made. Adding certificate verification is strongly advised. See: https://urllib3.readthedocs.io/en/latest/advanced-usage.html#ssl-warnings\n",
      "  InsecureRequestWarning)\n"
     ]
    },
    {
     "name": "stdout",
     "output_type": "stream",
     "text": [
      "Cau kho Ward\n"
     ]
    },
    {
     "name": "stderr",
     "output_type": "stream",
     "text": [
      "C:\\WBG\\Anaconda\\lib\\site-packages\\urllib3\\connectionpool.py:847: InsecureRequestWarning: Unverified HTTPS request is being made. Adding certificate verification is strongly advised. See: https://urllib3.readthedocs.io/en/latest/advanced-usage.html#ssl-warnings\n",
      "  InsecureRequestWarning)\n"
     ]
    },
    {
     "name": "stdout",
     "output_type": "stream",
     "text": [
      "Ward 8\n",
      "Ward 9\n"
     ]
    },
    {
     "name": "stderr",
     "output_type": "stream",
     "text": [
      "C:\\WBG\\Anaconda\\lib\\site-packages\\urllib3\\connectionpool.py:847: InsecureRequestWarning: Unverified HTTPS request is being made. Adding certificate verification is strongly advised. See: https://urllib3.readthedocs.io/en/latest/advanced-usage.html#ssl-warnings\n",
      "  InsecureRequestWarning)\n",
      "C:\\WBG\\Anaconda\\lib\\site-packages\\urllib3\\connectionpool.py:847: InsecureRequestWarning: Unverified HTTPS request is being made. Adding certificate verification is strongly advised. See: https://urllib3.readthedocs.io/en/latest/advanced-usage.html#ssl-warnings\n",
      "  InsecureRequestWarning)\n"
     ]
    },
    {
     "name": "stdout",
     "output_type": "stream",
     "text": [
      "Ward 12\n",
      "Ward 12\n"
     ]
    },
    {
     "name": "stderr",
     "output_type": "stream",
     "text": [
      "C:\\WBG\\Anaconda\\lib\\site-packages\\urllib3\\connectionpool.py:847: InsecureRequestWarning: Unverified HTTPS request is being made. Adding certificate verification is strongly advised. See: https://urllib3.readthedocs.io/en/latest/advanced-usage.html#ssl-warnings\n",
      "  InsecureRequestWarning)\n",
      "C:\\WBG\\Anaconda\\lib\\site-packages\\urllib3\\connectionpool.py:847: InsecureRequestWarning: Unverified HTTPS request is being made. Adding certificate verification is strongly advised. See: https://urllib3.readthedocs.io/en/latest/advanced-usage.html#ssl-warnings\n",
      "  InsecureRequestWarning)\n"
     ]
    },
    {
     "name": "stdout",
     "output_type": "stream",
     "text": [
      "Ward 12\n",
      "Ward 11\n"
     ]
    },
    {
     "name": "stderr",
     "output_type": "stream",
     "text": [
      "C:\\WBG\\Anaconda\\lib\\site-packages\\urllib3\\connectionpool.py:847: InsecureRequestWarning: Unverified HTTPS request is being made. Adding certificate verification is strongly advised. See: https://urllib3.readthedocs.io/en/latest/advanced-usage.html#ssl-warnings\n",
      "  InsecureRequestWarning)\n",
      "C:\\WBG\\Anaconda\\lib\\site-packages\\urllib3\\connectionpool.py:847: InsecureRequestWarning: Unverified HTTPS request is being made. Adding certificate verification is strongly advised. See: https://urllib3.readthedocs.io/en/latest/advanced-usage.html#ssl-warnings\n",
      "  InsecureRequestWarning)\n"
     ]
    },
    {
     "name": "stdout",
     "output_type": "stream",
     "text": [
      "Ward 13\n"
     ]
    },
    {
     "name": "stderr",
     "output_type": "stream",
     "text": [
      "C:\\WBG\\Anaconda\\lib\\site-packages\\urllib3\\connectionpool.py:847: InsecureRequestWarning: Unverified HTTPS request is being made. Adding certificate verification is strongly advised. See: https://urllib3.readthedocs.io/en/latest/advanced-usage.html#ssl-warnings\n",
      "  InsecureRequestWarning)\n"
     ]
    },
    {
     "name": "stdout",
     "output_type": "stream",
     "text": [
      "Ward 6\n"
     ]
    },
    {
     "name": "stderr",
     "output_type": "stream",
     "text": [
      "C:\\WBG\\Anaconda\\lib\\site-packages\\urllib3\\connectionpool.py:847: InsecureRequestWarning: Unverified HTTPS request is being made. Adding certificate verification is strongly advised. See: https://urllib3.readthedocs.io/en/latest/advanced-usage.html#ssl-warnings\n",
      "  InsecureRequestWarning)\n"
     ]
    },
    {
     "name": "stdout",
     "output_type": "stream",
     "text": [
      "Ward 9\n",
      "Ward 10\n"
     ]
    },
    {
     "name": "stderr",
     "output_type": "stream",
     "text": [
      "C:\\WBG\\Anaconda\\lib\\site-packages\\urllib3\\connectionpool.py:847: InsecureRequestWarning: Unverified HTTPS request is being made. Adding certificate verification is strongly advised. See: https://urllib3.readthedocs.io/en/latest/advanced-usage.html#ssl-warnings\n",
      "  InsecureRequestWarning)\n",
      "C:\\WBG\\Anaconda\\lib\\site-packages\\urllib3\\connectionpool.py:847: InsecureRequestWarning: Unverified HTTPS request is being made. Adding certificate verification is strongly advised. See: https://urllib3.readthedocs.io/en/latest/advanced-usage.html#ssl-warnings\n",
      "  InsecureRequestWarning)\n",
      "C:\\WBG\\Anaconda\\lib\\site-packages\\urllib3\\connectionpool.py:847: InsecureRequestWarning: Unverified HTTPS request is being made. Adding certificate verification is strongly advised. See: https://urllib3.readthedocs.io/en/latest/advanced-usage.html#ssl-warnings\n",
      "  InsecureRequestWarning)\n"
     ]
    },
    {
     "name": "stdout",
     "output_type": "stream",
     "text": [
      "Ward 13\n",
      "Ward 1\n"
     ]
    },
    {
     "name": "stderr",
     "output_type": "stream",
     "text": [
      "C:\\WBG\\Anaconda\\lib\\site-packages\\urllib3\\connectionpool.py:847: InsecureRequestWarning: Unverified HTTPS request is being made. Adding certificate verification is strongly advised. See: https://urllib3.readthedocs.io/en/latest/advanced-usage.html#ssl-warnings\n",
      "  InsecureRequestWarning)\n",
      "C:\\WBG\\Anaconda\\lib\\site-packages\\urllib3\\connectionpool.py:847: InsecureRequestWarning: Unverified HTTPS request is being made. Adding certificate verification is strongly advised. See: https://urllib3.readthedocs.io/en/latest/advanced-usage.html#ssl-warnings\n",
      "  InsecureRequestWarning)\n"
     ]
    },
    {
     "name": "stdout",
     "output_type": "stream",
     "text": [
      "Hiep Thanh Ward\n",
      "Ward 3\n"
     ]
    },
    {
     "name": "stderr",
     "output_type": "stream",
     "text": [
      "C:\\WBG\\Anaconda\\lib\\site-packages\\urllib3\\connectionpool.py:847: InsecureRequestWarning: Unverified HTTPS request is being made. Adding certificate verification is strongly advised. See: https://urllib3.readthedocs.io/en/latest/advanced-usage.html#ssl-warnings\n",
      "  InsecureRequestWarning)\n",
      "C:\\WBG\\Anaconda\\lib\\site-packages\\urllib3\\connectionpool.py:847: InsecureRequestWarning: Unverified HTTPS request is being made. Adding certificate verification is strongly advised. See: https://urllib3.readthedocs.io/en/latest/advanced-usage.html#ssl-warnings\n",
      "  InsecureRequestWarning)\n"
     ]
    },
    {
     "name": "stdout",
     "output_type": "stream",
     "text": [
      "An Lac A Ward\n",
      "Tan Thuan Dong Ward\n"
     ]
    },
    {
     "name": "stderr",
     "output_type": "stream",
     "text": [
      "C:\\WBG\\Anaconda\\lib\\site-packages\\urllib3\\connectionpool.py:847: InsecureRequestWarning: Unverified HTTPS request is being made. Adding certificate verification is strongly advised. See: https://urllib3.readthedocs.io/en/latest/advanced-usage.html#ssl-warnings\n",
      "  InsecureRequestWarning)\n",
      "C:\\WBG\\Anaconda\\lib\\site-packages\\urllib3\\connectionpool.py:847: InsecureRequestWarning: Unverified HTTPS request is being made. Adding certificate verification is strongly advised. See: https://urllib3.readthedocs.io/en/latest/advanced-usage.html#ssl-warnings\n",
      "  InsecureRequestWarning)\n"
     ]
    },
    {
     "name": "stdout",
     "output_type": "stream",
     "text": [
      "Ward 11\n",
      "Ward 7\n"
     ]
    },
    {
     "name": "stderr",
     "output_type": "stream",
     "text": [
      "C:\\WBG\\Anaconda\\lib\\site-packages\\urllib3\\connectionpool.py:847: InsecureRequestWarning: Unverified HTTPS request is being made. Adding certificate verification is strongly advised. See: https://urllib3.readthedocs.io/en/latest/advanced-usage.html#ssl-warnings\n",
      "  InsecureRequestWarning)\n",
      "C:\\WBG\\Anaconda\\lib\\site-packages\\urllib3\\connectionpool.py:847: InsecureRequestWarning: Unverified HTTPS request is being made. Adding certificate verification is strongly advised. See: https://urllib3.readthedocs.io/en/latest/advanced-usage.html#ssl-warnings\n",
      "  InsecureRequestWarning)\n"
     ]
    },
    {
     "name": "stdout",
     "output_type": "stream",
     "text": [
      "Thanh Xuan Ward\n",
      "Truong Tho Ward\n"
     ]
    },
    {
     "name": "stderr",
     "output_type": "stream",
     "text": [
      "C:\\WBG\\Anaconda\\lib\\site-packages\\urllib3\\connectionpool.py:847: InsecureRequestWarning: Unverified HTTPS request is being made. Adding certificate verification is strongly advised. See: https://urllib3.readthedocs.io/en/latest/advanced-usage.html#ssl-warnings\n",
      "  InsecureRequestWarning)\n",
      "C:\\WBG\\Anaconda\\lib\\site-packages\\urllib3\\connectionpool.py:847: InsecureRequestWarning: Unverified HTTPS request is being made. Adding certificate verification is strongly advised. See: https://urllib3.readthedocs.io/en/latest/advanced-usage.html#ssl-warnings\n",
      "  InsecureRequestWarning)\n"
     ]
    },
    {
     "name": "stdout",
     "output_type": "stream",
     "text": [
      "Phu Tho Hoa Ward\n",
      "Long Binh Ward\n"
     ]
    },
    {
     "name": "stderr",
     "output_type": "stream",
     "text": [
      "C:\\WBG\\Anaconda\\lib\\site-packages\\urllib3\\connectionpool.py:847: InsecureRequestWarning: Unverified HTTPS request is being made. Adding certificate verification is strongly advised. See: https://urllib3.readthedocs.io/en/latest/advanced-usage.html#ssl-warnings\n",
      "  InsecureRequestWarning)\n",
      "C:\\WBG\\Anaconda\\lib\\site-packages\\urllib3\\connectionpool.py:847: InsecureRequestWarning: Unverified HTTPS request is being made. Adding certificate verification is strongly advised. See: https://urllib3.readthedocs.io/en/latest/advanced-usage.html#ssl-warnings\n",
      "  InsecureRequestWarning)\n"
     ]
    },
    {
     "name": "stdout",
     "output_type": "stream",
     "text": [
      "Long Thanh My Ward\n",
      "Tan Phu Ward\n"
     ]
    },
    {
     "name": "stderr",
     "output_type": "stream",
     "text": [
      "C:\\WBG\\Anaconda\\lib\\site-packages\\urllib3\\connectionpool.py:847: InsecureRequestWarning: Unverified HTTPS request is being made. Adding certificate verification is strongly advised. See: https://urllib3.readthedocs.io/en/latest/advanced-usage.html#ssl-warnings\n",
      "  InsecureRequestWarning)\n",
      "C:\\WBG\\Anaconda\\lib\\site-packages\\urllib3\\connectionpool.py:847: InsecureRequestWarning: Unverified HTTPS request is being made. Adding certificate verification is strongly advised. See: https://urllib3.readthedocs.io/en/latest/advanced-usage.html#ssl-warnings\n",
      "  InsecureRequestWarning)\n"
     ]
    },
    {
     "name": "stdout",
     "output_type": "stream",
     "text": [
      "Hiep Phu Ward\n",
      "Tang Nhon Phu A Ward\n"
     ]
    },
    {
     "name": "stderr",
     "output_type": "stream",
     "text": [
      "C:\\WBG\\Anaconda\\lib\\site-packages\\urllib3\\connectionpool.py:847: InsecureRequestWarning: Unverified HTTPS request is being made. Adding certificate verification is strongly advised. See: https://urllib3.readthedocs.io/en/latest/advanced-usage.html#ssl-warnings\n",
      "  InsecureRequestWarning)\n",
      "C:\\WBG\\Anaconda\\lib\\site-packages\\urllib3\\connectionpool.py:847: InsecureRequestWarning: Unverified HTTPS request is being made. Adding certificate verification is strongly advised. See: https://urllib3.readthedocs.io/en/latest/advanced-usage.html#ssl-warnings\n",
      "  InsecureRequestWarning)\n"
     ]
    },
    {
     "name": "stdout",
     "output_type": "stream",
     "text": [
      "Tang Nhon Phu B Ward\n",
      "Phuoc Long B Ward\n"
     ]
    },
    {
     "name": "stderr",
     "output_type": "stream",
     "text": [
      "C:\\WBG\\Anaconda\\lib\\site-packages\\urllib3\\connectionpool.py:847: InsecureRequestWarning: Unverified HTTPS request is being made. Adding certificate verification is strongly advised. See: https://urllib3.readthedocs.io/en/latest/advanced-usage.html#ssl-warnings\n",
      "  InsecureRequestWarning)\n",
      "C:\\WBG\\Anaconda\\lib\\site-packages\\urllib3\\connectionpool.py:847: InsecureRequestWarning: Unverified HTTPS request is being made. Adding certificate verification is strongly advised. See: https://urllib3.readthedocs.io/en/latest/advanced-usage.html#ssl-warnings\n",
      "  InsecureRequestWarning)\n"
     ]
    },
    {
     "name": "stdout",
     "output_type": "stream",
     "text": [
      "Phuoc Long A Ward\n",
      "Truong Thanh Ward\n"
     ]
    },
    {
     "name": "stderr",
     "output_type": "stream",
     "text": [
      "C:\\WBG\\Anaconda\\lib\\site-packages\\urllib3\\connectionpool.py:847: InsecureRequestWarning: Unverified HTTPS request is being made. Adding certificate verification is strongly advised. See: https://urllib3.readthedocs.io/en/latest/advanced-usage.html#ssl-warnings\n",
      "  InsecureRequestWarning)\n",
      "C:\\WBG\\Anaconda\\lib\\site-packages\\urllib3\\connectionpool.py:847: InsecureRequestWarning: Unverified HTTPS request is being made. Adding certificate verification is strongly advised. See: https://urllib3.readthedocs.io/en/latest/advanced-usage.html#ssl-warnings\n",
      "  InsecureRequestWarning)\n"
     ]
    },
    {
     "name": "stdout",
     "output_type": "stream",
     "text": [
      "Long Phuoc Ward\n",
      "Long Truong Ward\n"
     ]
    },
    {
     "name": "stderr",
     "output_type": "stream",
     "text": [
      "C:\\WBG\\Anaconda\\lib\\site-packages\\urllib3\\connectionpool.py:847: InsecureRequestWarning: Unverified HTTPS request is being made. Adding certificate verification is strongly advised. See: https://urllib3.readthedocs.io/en/latest/advanced-usage.html#ssl-warnings\n",
      "  InsecureRequestWarning)\n",
      "C:\\WBG\\Anaconda\\lib\\site-packages\\urllib3\\connectionpool.py:847: InsecureRequestWarning: Unverified HTTPS request is being made. Adding certificate verification is strongly advised. See: https://urllib3.readthedocs.io/en/latest/advanced-usage.html#ssl-warnings\n",
      "  InsecureRequestWarning)\n"
     ]
    },
    {
     "name": "stdout",
     "output_type": "stream",
     "text": [
      "Phuoc Binh Ward\n",
      "Phu Huu Ward\n"
     ]
    },
    {
     "name": "stderr",
     "output_type": "stream",
     "text": [
      "C:\\WBG\\Anaconda\\lib\\site-packages\\urllib3\\connectionpool.py:847: InsecureRequestWarning: Unverified HTTPS request is being made. Adding certificate verification is strongly advised. See: https://urllib3.readthedocs.io/en/latest/advanced-usage.html#ssl-warnings\n",
      "  InsecureRequestWarning)\n",
      "C:\\WBG\\Anaconda\\lib\\site-packages\\urllib3\\connectionpool.py:847: InsecureRequestWarning: Unverified HTTPS request is being made. Adding certificate verification is strongly advised. See: https://urllib3.readthedocs.io/en/latest/advanced-usage.html#ssl-warnings\n",
      "  InsecureRequestWarning)\n"
     ]
    },
    {
     "name": "stdout",
     "output_type": "stream",
     "text": [
      "Ward 15\n",
      "Phu Thanh Ward\n"
     ]
    },
    {
     "name": "stderr",
     "output_type": "stream",
     "text": [
      "C:\\WBG\\Anaconda\\lib\\site-packages\\urllib3\\connectionpool.py:847: InsecureRequestWarning: Unverified HTTPS request is being made. Adding certificate verification is strongly advised. See: https://urllib3.readthedocs.io/en/latest/advanced-usage.html#ssl-warnings\n",
      "  InsecureRequestWarning)\n",
      "C:\\WBG\\Anaconda\\lib\\site-packages\\urllib3\\connectionpool.py:847: InsecureRequestWarning: Unverified HTTPS request is being made. Adding certificate verification is strongly advised. See: https://urllib3.readthedocs.io/en/latest/advanced-usage.html#ssl-warnings\n",
      "  InsecureRequestWarning)\n"
     ]
    },
    {
     "name": "stdout",
     "output_type": "stream",
     "text": [
      "Long Thoi Ward\n",
      "Hiep Phuoc Ward\n"
     ]
    },
    {
     "name": "stderr",
     "output_type": "stream",
     "text": [
      "C:\\WBG\\Anaconda\\lib\\site-packages\\urllib3\\connectionpool.py:847: InsecureRequestWarning: Unverified HTTPS request is being made. Adding certificate verification is strongly advised. See: https://urllib3.readthedocs.io/en/latest/advanced-usage.html#ssl-warnings\n",
      "  InsecureRequestWarning)\n"
     ]
    },
    {
     "name": "stdout",
     "output_type": "stream",
     "text": [
      "Thi Tran Can Thanh\n",
      "Binh Khanh Ward\n"
     ]
    },
    {
     "name": "stderr",
     "output_type": "stream",
     "text": [
      "C:\\WBG\\Anaconda\\lib\\site-packages\\urllib3\\connectionpool.py:847: InsecureRequestWarning: Unverified HTTPS request is being made. Adding certificate verification is strongly advised. See: https://urllib3.readthedocs.io/en/latest/advanced-usage.html#ssl-warnings\n",
      "  InsecureRequestWarning)\n",
      "C:\\WBG\\Anaconda\\lib\\site-packages\\urllib3\\connectionpool.py:847: InsecureRequestWarning: Unverified HTTPS request is being made. Adding certificate verification is strongly advised. See: https://urllib3.readthedocs.io/en/latest/advanced-usage.html#ssl-warnings\n",
      "  InsecureRequestWarning)\n"
     ]
    },
    {
     "name": "stdout",
     "output_type": "stream",
     "text": [
      "Tam Thon Hiep Ward\n",
      "An Thoi Dong Ward\n"
     ]
    },
    {
     "name": "stderr",
     "output_type": "stream",
     "text": [
      "C:\\WBG\\Anaconda\\lib\\site-packages\\urllib3\\connectionpool.py:847: InsecureRequestWarning: Unverified HTTPS request is being made. Adding certificate verification is strongly advised. See: https://urllib3.readthedocs.io/en/latest/advanced-usage.html#ssl-warnings\n",
      "  InsecureRequestWarning)\n",
      "C:\\WBG\\Anaconda\\lib\\site-packages\\urllib3\\connectionpool.py:847: InsecureRequestWarning: Unverified HTTPS request is being made. Adding certificate verification is strongly advised. See: https://urllib3.readthedocs.io/en/latest/advanced-usage.html#ssl-warnings\n",
      "  InsecureRequestWarning)\n"
     ]
    },
    {
     "name": "stdout",
     "output_type": "stream",
     "text": [
      "Thanh An Ward\n",
      "Long Hoa Ward\n",
      "Ly Nhon Ward\n"
     ]
    },
    {
     "name": "stderr",
     "output_type": "stream",
     "text": [
      "C:\\WBG\\Anaconda\\lib\\site-packages\\urllib3\\connectionpool.py:847: InsecureRequestWarning: Unverified HTTPS request is being made. Adding certificate verification is strongly advised. See: https://urllib3.readthedocs.io/en/latest/advanced-usage.html#ssl-warnings\n",
      "  InsecureRequestWarning)\n",
      "C:\\WBG\\Anaconda\\lib\\site-packages\\urllib3\\connectionpool.py:847: InsecureRequestWarning: Unverified HTTPS request is being made. Adding certificate verification is strongly advised. See: https://urllib3.readthedocs.io/en/latest/advanced-usage.html#ssl-warnings\n",
      "  InsecureRequestWarning)\n",
      "C:\\WBG\\Anaconda\\lib\\site-packages\\urllib3\\connectionpool.py:847: InsecureRequestWarning: Unverified HTTPS request is being made. Adding certificate verification is strongly advised. See: https://urllib3.readthedocs.io/en/latest/advanced-usage.html#ssl-warnings\n",
      "  InsecureRequestWarning)\n",
      "C:\\WBG\\Anaconda\\lib\\site-packages\\urllib3\\connectionpool.py:847: InsecureRequestWarning: Unverified HTTPS request is being made. Adding certificate verification is strongly advised. See: https://urllib3.readthedocs.io/en/latest/advanced-usage.html#ssl-warnings\n",
      "  InsecureRequestWarning)\n"
     ]
    },
    {
     "name": "stdout",
     "output_type": "stream",
     "text": [
      "Thoi An Ward\n",
      "Tan Chanh Hiep Ward\n"
     ]
    },
    {
     "name": "stderr",
     "output_type": "stream",
     "text": [
      "C:\\WBG\\Anaconda\\lib\\site-packages\\urllib3\\connectionpool.py:847: InsecureRequestWarning: Unverified HTTPS request is being made. Adding certificate verification is strongly advised. See: https://urllib3.readthedocs.io/en/latest/advanced-usage.html#ssl-warnings\n",
      "  InsecureRequestWarning)\n",
      "C:\\WBG\\Anaconda\\lib\\site-packages\\urllib3\\connectionpool.py:847: InsecureRequestWarning: Unverified HTTPS request is being made. Adding certificate verification is strongly advised. See: https://urllib3.readthedocs.io/en/latest/advanced-usage.html#ssl-warnings\n",
      "  InsecureRequestWarning)\n"
     ]
    },
    {
     "name": "stdout",
     "output_type": "stream",
     "text": [
      "An Phu Dong Ward\n",
      "Tan Thoi Hiep Ward\n"
     ]
    },
    {
     "name": "stderr",
     "output_type": "stream",
     "text": [
      "C:\\WBG\\Anaconda\\lib\\site-packages\\urllib3\\connectionpool.py:847: InsecureRequestWarning: Unverified HTTPS request is being made. Adding certificate verification is strongly advised. See: https://urllib3.readthedocs.io/en/latest/advanced-usage.html#ssl-warnings\n",
      "  InsecureRequestWarning)\n",
      "C:\\WBG\\Anaconda\\lib\\site-packages\\urllib3\\connectionpool.py:847: InsecureRequestWarning: Unverified HTTPS request is being made. Adding certificate verification is strongly advised. See: https://urllib3.readthedocs.io/en/latest/advanced-usage.html#ssl-warnings\n",
      "  InsecureRequestWarning)\n"
     ]
    },
    {
     "name": "stdout",
     "output_type": "stream",
     "text": [
      "Trung My Tay Ward\n",
      "Tan Hung Thuan Ward\n"
     ]
    },
    {
     "name": "stderr",
     "output_type": "stream",
     "text": [
      "C:\\WBG\\Anaconda\\lib\\site-packages\\urllib3\\connectionpool.py:847: InsecureRequestWarning: Unverified HTTPS request is being made. Adding certificate verification is strongly advised. See: https://urllib3.readthedocs.io/en/latest/advanced-usage.html#ssl-warnings\n",
      "  InsecureRequestWarning)\n",
      "C:\\WBG\\Anaconda\\lib\\site-packages\\urllib3\\connectionpool.py:847: InsecureRequestWarning: Unverified HTTPS request is being made. Adding certificate verification is strongly advised. See: https://urllib3.readthedocs.io/en/latest/advanced-usage.html#ssl-warnings\n",
      "  InsecureRequestWarning)\n"
     ]
    },
    {
     "name": "stdout",
     "output_type": "stream",
     "text": [
      "Dong Hung Thuan Ward\n",
      "Tan Thoi Nhat Ward\n"
     ]
    },
    {
     "name": "stderr",
     "output_type": "stream",
     "text": [
      "C:\\WBG\\Anaconda\\lib\\site-packages\\urllib3\\connectionpool.py:847: InsecureRequestWarning: Unverified HTTPS request is being made. Adding certificate verification is strongly advised. See: https://urllib3.readthedocs.io/en/latest/advanced-usage.html#ssl-warnings\n",
      "  InsecureRequestWarning)\n",
      "C:\\WBG\\Anaconda\\lib\\site-packages\\urllib3\\connectionpool.py:847: InsecureRequestWarning: Unverified HTTPS request is being made. Adding certificate verification is strongly advised. See: https://urllib3.readthedocs.io/en/latest/advanced-usage.html#ssl-warnings\n",
      "  InsecureRequestWarning)\n"
     ]
    },
    {
     "name": "stdout",
     "output_type": "stream",
     "text": [
      "Linh Xuan Ward\n",
      "Binh Chieu Ward\n"
     ]
    },
    {
     "name": "stderr",
     "output_type": "stream",
     "text": [
      "C:\\WBG\\Anaconda\\lib\\site-packages\\urllib3\\connectionpool.py:847: InsecureRequestWarning: Unverified HTTPS request is being made. Adding certificate verification is strongly advised. See: https://urllib3.readthedocs.io/en/latest/advanced-usage.html#ssl-warnings\n",
      "  InsecureRequestWarning)\n",
      "C:\\WBG\\Anaconda\\lib\\site-packages\\urllib3\\connectionpool.py:847: InsecureRequestWarning: Unverified HTTPS request is being made. Adding certificate verification is strongly advised. See: https://urllib3.readthedocs.io/en/latest/advanced-usage.html#ssl-warnings\n",
      "  InsecureRequestWarning)\n"
     ]
    },
    {
     "name": "stdout",
     "output_type": "stream",
     "text": [
      "Linh Trung Ward\n",
      "Phu Trung Ward\n"
     ]
    },
    {
     "name": "stderr",
     "output_type": "stream",
     "text": [
      "C:\\WBG\\Anaconda\\lib\\site-packages\\urllib3\\connectionpool.py:847: InsecureRequestWarning: Unverified HTTPS request is being made. Adding certificate verification is strongly advised. See: https://urllib3.readthedocs.io/en/latest/advanced-usage.html#ssl-warnings\n",
      "  InsecureRequestWarning)\n",
      "C:\\WBG\\Anaconda\\lib\\site-packages\\urllib3\\connectionpool.py:847: InsecureRequestWarning: Unverified HTTPS request is being made. Adding certificate verification is strongly advised. See: https://urllib3.readthedocs.io/en/latest/advanced-usage.html#ssl-warnings\n",
      "  InsecureRequestWarning)\n"
     ]
    },
    {
     "name": "stdout",
     "output_type": "stream",
     "text": [
      "Phu My Ward\n",
      "Tan Tao A Ward\n"
     ]
    },
    {
     "name": "stderr",
     "output_type": "stream",
     "text": [
      "C:\\WBG\\Anaconda\\lib\\site-packages\\urllib3\\connectionpool.py:847: InsecureRequestWarning: Unverified HTTPS request is being made. Adding certificate verification is strongly advised. See: https://urllib3.readthedocs.io/en/latest/advanced-usage.html#ssl-warnings\n",
      "  InsecureRequestWarning)\n",
      "C:\\WBG\\Anaconda\\lib\\site-packages\\urllib3\\connectionpool.py:847: InsecureRequestWarning: Unverified HTTPS request is being made. Adding certificate verification is strongly advised. See: https://urllib3.readthedocs.io/en/latest/advanced-usage.html#ssl-warnings\n",
      "  InsecureRequestWarning)\n"
     ]
    },
    {
     "name": "stdout",
     "output_type": "stream",
     "text": [
      "An Lac Ward\n",
      "Ward 10\n"
     ]
    },
    {
     "name": "stderr",
     "output_type": "stream",
     "text": [
      "C:\\WBG\\Anaconda\\lib\\site-packages\\urllib3\\connectionpool.py:847: InsecureRequestWarning: Unverified HTTPS request is being made. Adding certificate verification is strongly advised. See: https://urllib3.readthedocs.io/en/latest/advanced-usage.html#ssl-warnings\n",
      "  InsecureRequestWarning)\n",
      "C:\\WBG\\Anaconda\\lib\\site-packages\\urllib3\\connectionpool.py:847: InsecureRequestWarning: Unverified HTTPS request is being made. Adding certificate verification is strongly advised. See: https://urllib3.readthedocs.io/en/latest/advanced-usage.html#ssl-warnings\n",
      "  InsecureRequestWarning)\n"
     ]
    },
    {
     "name": "stdout",
     "output_type": "stream",
     "text": [
      "Ward 28\n",
      "Hiep Tan Ward\n"
     ]
    },
    {
     "name": "stderr",
     "output_type": "stream",
     "text": [
      "C:\\WBG\\Anaconda\\lib\\site-packages\\urllib3\\connectionpool.py:847: InsecureRequestWarning: Unverified HTTPS request is being made. Adding certificate verification is strongly advised. See: https://urllib3.readthedocs.io/en/latest/advanced-usage.html#ssl-warnings\n",
      "  InsecureRequestWarning)\n",
      "C:\\WBG\\Anaconda\\lib\\site-packages\\urllib3\\connectionpool.py:847: InsecureRequestWarning: Unverified HTTPS request is being made. Adding certificate verification is strongly advised. See: https://urllib3.readthedocs.io/en/latest/advanced-usage.html#ssl-warnings\n",
      "  InsecureRequestWarning)\n"
     ]
    },
    {
     "name": "stdout",
     "output_type": "stream",
     "text": [
      "Tan Thoi Hoa Ward\n",
      "Ward 4\n"
     ]
    },
    {
     "name": "stderr",
     "output_type": "stream",
     "text": [
      "C:\\WBG\\Anaconda\\lib\\site-packages\\urllib3\\connectionpool.py:847: InsecureRequestWarning: Unverified HTTPS request is being made. Adding certificate verification is strongly advised. See: https://urllib3.readthedocs.io/en/latest/advanced-usage.html#ssl-warnings\n",
      "  InsecureRequestWarning)\n",
      "C:\\WBG\\Anaconda\\lib\\site-packages\\urllib3\\connectionpool.py:847: InsecureRequestWarning: Unverified HTTPS request is being made. Adding certificate verification is strongly advised. See: https://urllib3.readthedocs.io/en/latest/advanced-usage.html#ssl-warnings\n",
      "  InsecureRequestWarning)\n"
     ]
    },
    {
     "name": "stdout",
     "output_type": "stream",
     "text": [
      "Ward 16\n",
      "Ward 7\n"
     ]
    },
    {
     "name": "stderr",
     "output_type": "stream",
     "text": [
      "C:\\WBG\\Anaconda\\lib\\site-packages\\urllib3\\connectionpool.py:847: InsecureRequestWarning: Unverified HTTPS request is being made. Adding certificate verification is strongly advised. See: https://urllib3.readthedocs.io/en/latest/advanced-usage.html#ssl-warnings\n",
      "  InsecureRequestWarning)\n",
      "C:\\WBG\\Anaconda\\lib\\site-packages\\urllib3\\connectionpool.py:847: InsecureRequestWarning: Unverified HTTPS request is being made. Adding certificate verification is strongly advised. See: https://urllib3.readthedocs.io/en/latest/advanced-usage.html#ssl-warnings\n",
      "  InsecureRequestWarning)\n"
     ]
    },
    {
     "name": "stdout",
     "output_type": "stream",
     "text": [
      "Binh Hung Hoa Ward\n",
      "Binh Hung Hoa A Ward\n"
     ]
    },
    {
     "name": "stderr",
     "output_type": "stream",
     "text": [
      "C:\\WBG\\Anaconda\\lib\\site-packages\\urllib3\\connectionpool.py:847: InsecureRequestWarning: Unverified HTTPS request is being made. Adding certificate verification is strongly advised. See: https://urllib3.readthedocs.io/en/latest/advanced-usage.html#ssl-warnings\n",
      "  InsecureRequestWarning)\n",
      "C:\\WBG\\Anaconda\\lib\\site-packages\\urllib3\\connectionpool.py:847: InsecureRequestWarning: Unverified HTTPS request is being made. Adding certificate verification is strongly advised. See: https://urllib3.readthedocs.io/en/latest/advanced-usage.html#ssl-warnings\n",
      "  InsecureRequestWarning)\n"
     ]
    },
    {
     "name": "stdout",
     "output_type": "stream",
     "text": [
      "Binh Hung Hoa B Ward\n",
      "Binh Tri Dong Ward\n"
     ]
    },
    {
     "name": "stderr",
     "output_type": "stream",
     "text": [
      "C:\\WBG\\Anaconda\\lib\\site-packages\\urllib3\\connectionpool.py:847: InsecureRequestWarning: Unverified HTTPS request is being made. Adding certificate verification is strongly advised. See: https://urllib3.readthedocs.io/en/latest/advanced-usage.html#ssl-warnings\n",
      "  InsecureRequestWarning)\n",
      "C:\\WBG\\Anaconda\\lib\\site-packages\\urllib3\\connectionpool.py:847: InsecureRequestWarning: Unverified HTTPS request is being made. Adding certificate verification is strongly advised. See: https://urllib3.readthedocs.io/en/latest/advanced-usage.html#ssl-warnings\n",
      "  InsecureRequestWarning)\n"
     ]
    },
    {
     "name": "stdout",
     "output_type": "stream",
     "text": [
      "Thao Dien Ward\n",
      "Hoa Thanh Ward\n",
      "Ward 24\n"
     ]
    },
    {
     "name": "stderr",
     "output_type": "stream",
     "text": [
      "C:\\WBG\\Anaconda\\lib\\site-packages\\urllib3\\connectionpool.py:847: InsecureRequestWarning: Unverified HTTPS request is being made. Adding certificate verification is strongly advised. See: https://urllib3.readthedocs.io/en/latest/advanced-usage.html#ssl-warnings\n",
      "  InsecureRequestWarning)\n",
      "C:\\WBG\\Anaconda\\lib\\site-packages\\urllib3\\connectionpool.py:847: InsecureRequestWarning: Unverified HTTPS request is being made. Adding certificate verification is strongly advised. See: https://urllib3.readthedocs.io/en/latest/advanced-usage.html#ssl-warnings\n",
      "  InsecureRequestWarning)\n"
     ]
    },
    {
     "name": "stdout",
     "output_type": "stream",
     "text": [
      "Ward 6\n",
      "Ward 14\n"
     ]
    },
    {
     "name": "stderr",
     "output_type": "stream",
     "text": [
      "C:\\WBG\\Anaconda\\lib\\site-packages\\urllib3\\connectionpool.py:847: InsecureRequestWarning: Unverified HTTPS request is being made. Adding certificate verification is strongly advised. See: https://urllib3.readthedocs.io/en/latest/advanced-usage.html#ssl-warnings\n",
      "  InsecureRequestWarning)\n",
      "C:\\WBG\\Anaconda\\lib\\site-packages\\urllib3\\connectionpool.py:847: InsecureRequestWarning: Unverified HTTPS request is being made. Adding certificate verification is strongly advised. See: https://urllib3.readthedocs.io/en/latest/advanced-usage.html#ssl-warnings\n",
      "  InsecureRequestWarning)\n"
     ]
    },
    {
     "name": "stdout",
     "output_type": "stream",
     "text": [
      "Ward 15\n",
      "Ward 2\n"
     ]
    },
    {
     "name": "stderr",
     "output_type": "stream",
     "text": [
      "C:\\WBG\\Anaconda\\lib\\site-packages\\urllib3\\connectionpool.py:847: InsecureRequestWarning: Unverified HTTPS request is being made. Adding certificate verification is strongly advised. See: https://urllib3.readthedocs.io/en/latest/advanced-usage.html#ssl-warnings\n",
      "  InsecureRequestWarning)\n",
      "C:\\WBG\\Anaconda\\lib\\site-packages\\urllib3\\connectionpool.py:847: InsecureRequestWarning: Unverified HTTPS request is being made. Adding certificate verification is strongly advised. See: https://urllib3.readthedocs.io/en/latest/advanced-usage.html#ssl-warnings\n",
      "  InsecureRequestWarning)\n"
     ]
    },
    {
     "name": "stdout",
     "output_type": "stream",
     "text": [
      "Ward 1\n",
      "Ward 3\n"
     ]
    },
    {
     "name": "stderr",
     "output_type": "stream",
     "text": [
      "C:\\WBG\\Anaconda\\lib\\site-packages\\urllib3\\connectionpool.py:847: InsecureRequestWarning: Unverified HTTPS request is being made. Adding certificate verification is strongly advised. See: https://urllib3.readthedocs.io/en/latest/advanced-usage.html#ssl-warnings\n",
      "  InsecureRequestWarning)\n",
      "C:\\WBG\\Anaconda\\lib\\site-packages\\urllib3\\connectionpool.py:847: InsecureRequestWarning: Unverified HTTPS request is being made. Adding certificate verification is strongly advised. See: https://urllib3.readthedocs.io/en/latest/advanced-usage.html#ssl-warnings\n",
      "  InsecureRequestWarning)\n",
      "C:\\WBG\\Anaconda\\lib\\site-packages\\urllib3\\connectionpool.py:847: InsecureRequestWarning: Unverified HTTPS request is being made. Adding certificate verification is strongly advised. See: https://urllib3.readthedocs.io/en/latest/advanced-usage.html#ssl-warnings\n",
      "  InsecureRequestWarning)\n"
     ]
    },
    {
     "name": "stdout",
     "output_type": "stream",
     "text": [
      "Ward 17\n",
      "Ward 21\n"
     ]
    },
    {
     "name": "stderr",
     "output_type": "stream",
     "text": [
      "C:\\WBG\\Anaconda\\lib\\site-packages\\urllib3\\connectionpool.py:847: InsecureRequestWarning: Unverified HTTPS request is being made. Adding certificate verification is strongly advised. See: https://urllib3.readthedocs.io/en/latest/advanced-usage.html#ssl-warnings\n",
      "  InsecureRequestWarning)\n",
      "C:\\WBG\\Anaconda\\lib\\site-packages\\urllib3\\connectionpool.py:847: InsecureRequestWarning: Unverified HTTPS request is being made. Adding certificate verification is strongly advised. See: https://urllib3.readthedocs.io/en/latest/advanced-usage.html#ssl-warnings\n",
      "  InsecureRequestWarning)\n"
     ]
    },
    {
     "name": "stdout",
     "output_type": "stream",
     "text": [
      "Ward 22\n",
      "Ward 19\n"
     ]
    },
    {
     "name": "stderr",
     "output_type": "stream",
     "text": [
      "C:\\WBG\\Anaconda\\lib\\site-packages\\urllib3\\connectionpool.py:847: InsecureRequestWarning: Unverified HTTPS request is being made. Adding certificate verification is strongly advised. See: https://urllib3.readthedocs.io/en/latest/advanced-usage.html#ssl-warnings\n",
      "  InsecureRequestWarning)\n"
     ]
    },
    {
     "name": "stdout",
     "output_type": "stream",
     "text": [
      "Ward 5\n",
      "Ward 7\n"
     ]
    },
    {
     "name": "stderr",
     "output_type": "stream",
     "text": [
      "C:\\WBG\\Anaconda\\lib\\site-packages\\urllib3\\connectionpool.py:847: InsecureRequestWarning: Unverified HTTPS request is being made. Adding certificate verification is strongly advised. See: https://urllib3.readthedocs.io/en/latest/advanced-usage.html#ssl-warnings\n",
      "  InsecureRequestWarning)\n",
      "C:\\WBG\\Anaconda\\lib\\site-packages\\urllib3\\connectionpool.py:847: InsecureRequestWarning: Unverified HTTPS request is being made. Adding certificate verification is strongly advised. See: https://urllib3.readthedocs.io/en/latest/advanced-usage.html#ssl-warnings\n",
      "  InsecureRequestWarning)\n"
     ]
    },
    {
     "name": "stdout",
     "output_type": "stream",
     "text": [
      "Ward 7\n",
      "Ward 6\n"
     ]
    },
    {
     "name": "stderr",
     "output_type": "stream",
     "text": [
      "C:\\WBG\\Anaconda\\lib\\site-packages\\urllib3\\connectionpool.py:847: InsecureRequestWarning: Unverified HTTPS request is being made. Adding certificate verification is strongly advised. See: https://urllib3.readthedocs.io/en/latest/advanced-usage.html#ssl-warnings\n",
      "  InsecureRequestWarning)\n",
      "C:\\WBG\\Anaconda\\lib\\site-packages\\urllib3\\connectionpool.py:847: InsecureRequestWarning: Unverified HTTPS request is being made. Adding certificate verification is strongly advised. See: https://urllib3.readthedocs.io/en/latest/advanced-usage.html#ssl-warnings\n",
      "  InsecureRequestWarning)\n"
     ]
    },
    {
     "name": "stdout",
     "output_type": "stream",
     "text": [
      "Ward 4\n",
      "Tan Dinh Ward\n"
     ]
    },
    {
     "name": "stderr",
     "output_type": "stream",
     "text": [
      "C:\\WBG\\Anaconda\\lib\\site-packages\\urllib3\\connectionpool.py:847: InsecureRequestWarning: Unverified HTTPS request is being made. Adding certificate verification is strongly advised. See: https://urllib3.readthedocs.io/en/latest/advanced-usage.html#ssl-warnings\n",
      "  InsecureRequestWarning)\n",
      "C:\\WBG\\Anaconda\\lib\\site-packages\\urllib3\\connectionpool.py:847: InsecureRequestWarning: Unverified HTTPS request is being made. Adding certificate verification is strongly advised. See: https://urllib3.readthedocs.io/en/latest/advanced-usage.html#ssl-warnings\n",
      "  InsecureRequestWarning)\n"
     ]
    },
    {
     "name": "stdout",
     "output_type": "stream",
     "text": [
      "Da Kao Ward\n"
     ]
    },
    {
     "name": "stderr",
     "output_type": "stream",
     "text": [
      "C:\\WBG\\Anaconda\\lib\\site-packages\\urllib3\\connectionpool.py:847: InsecureRequestWarning: Unverified HTTPS request is being made. Adding certificate verification is strongly advised. See: https://urllib3.readthedocs.io/en/latest/advanced-usage.html#ssl-warnings\n",
      "  InsecureRequestWarning)\n"
     ]
    },
    {
     "name": "stdout",
     "output_type": "stream",
     "text": [
      "Ben Nghe Ward\n"
     ]
    },
    {
     "name": "stderr",
     "output_type": "stream",
     "text": [
      "C:\\WBG\\Anaconda\\lib\\site-packages\\urllib3\\connectionpool.py:847: InsecureRequestWarning: Unverified HTTPS request is being made. Adding certificate verification is strongly advised. See: https://urllib3.readthedocs.io/en/latest/advanced-usage.html#ssl-warnings\n",
      "  InsecureRequestWarning)\n"
     ]
    },
    {
     "name": "stdout",
     "output_type": "stream",
     "text": [
      "Tam Binh Ward\n",
      "Tam Phu Ward\n"
     ]
    },
    {
     "name": "stderr",
     "output_type": "stream",
     "text": [
      "C:\\WBG\\Anaconda\\lib\\site-packages\\urllib3\\connectionpool.py:847: InsecureRequestWarning: Unverified HTTPS request is being made. Adding certificate verification is strongly advised. See: https://urllib3.readthedocs.io/en/latest/advanced-usage.html#ssl-warnings\n",
      "  InsecureRequestWarning)\n",
      "C:\\WBG\\Anaconda\\lib\\site-packages\\urllib3\\connectionpool.py:847: InsecureRequestWarning: Unverified HTTPS request is being made. Adding certificate verification is strongly advised. See: https://urllib3.readthedocs.io/en/latest/advanced-usage.html#ssl-warnings\n",
      "  InsecureRequestWarning)\n"
     ]
    },
    {
     "name": "stdout",
     "output_type": "stream",
     "text": [
      "Hiep Binh Phuoc Ward\n",
      "Hiep Binh Chanh Ward\n"
     ]
    },
    {
     "name": "stderr",
     "output_type": "stream",
     "text": [
      "C:\\WBG\\Anaconda\\lib\\site-packages\\urllib3\\connectionpool.py:847: InsecureRequestWarning: Unverified HTTPS request is being made. Adding certificate verification is strongly advised. See: https://urllib3.readthedocs.io/en/latest/advanced-usage.html#ssl-warnings\n",
      "  InsecureRequestWarning)\n",
      "C:\\WBG\\Anaconda\\lib\\site-packages\\urllib3\\connectionpool.py:847: InsecureRequestWarning: Unverified HTTPS request is being made. Adding certificate verification is strongly advised. See: https://urllib3.readthedocs.io/en/latest/advanced-usage.html#ssl-warnings\n",
      "  InsecureRequestWarning)\n"
     ]
    },
    {
     "name": "stdout",
     "output_type": "stream",
     "text": [
      "Ward 16\n",
      "Ward 12\n"
     ]
    },
    {
     "name": "stderr",
     "output_type": "stream",
     "text": [
      "C:\\WBG\\Anaconda\\lib\\site-packages\\urllib3\\connectionpool.py:847: InsecureRequestWarning: Unverified HTTPS request is being made. Adding certificate verification is strongly advised. See: https://urllib3.readthedocs.io/en/latest/advanced-usage.html#ssl-warnings\n",
      "  InsecureRequestWarning)\n",
      "C:\\WBG\\Anaconda\\lib\\site-packages\\urllib3\\connectionpool.py:847: InsecureRequestWarning: Unverified HTTPS request is being made. Adding certificate verification is strongly advised. See: https://urllib3.readthedocs.io/en/latest/advanced-usage.html#ssl-warnings\n",
      "  InsecureRequestWarning)\n"
     ]
    },
    {
     "name": "stdout",
     "output_type": "stream",
     "text": [
      "Ward 14\n",
      "Thanh Loc Ward\n"
     ]
    },
    {
     "name": "stderr",
     "output_type": "stream",
     "text": [
      "C:\\WBG\\Anaconda\\lib\\site-packages\\urllib3\\connectionpool.py:847: InsecureRequestWarning: Unverified HTTPS request is being made. Adding certificate verification is strongly advised. See: https://urllib3.readthedocs.io/en/latest/advanced-usage.html#ssl-warnings\n",
      "  InsecureRequestWarning)\n",
      "C:\\WBG\\Anaconda\\lib\\site-packages\\urllib3\\connectionpool.py:847: InsecureRequestWarning: Unverified HTTPS request is being made. Adding certificate verification is strongly advised. See: https://urllib3.readthedocs.io/en/latest/advanced-usage.html#ssl-warnings\n",
      "  InsecureRequestWarning)\n"
     ]
    },
    {
     "name": "stdout",
     "output_type": "stream",
     "text": [
      "Nhon Duc Ward\n",
      "Phu Xuan Ward\n"
     ]
    },
    {
     "name": "stderr",
     "output_type": "stream",
     "text": [
      "C:\\WBG\\Anaconda\\lib\\site-packages\\urllib3\\connectionpool.py:847: InsecureRequestWarning: Unverified HTTPS request is being made. Adding certificate verification is strongly advised. See: https://urllib3.readthedocs.io/en/latest/advanced-usage.html#ssl-warnings\n",
      "  InsecureRequestWarning)\n",
      "C:\\WBG\\Anaconda\\lib\\site-packages\\urllib3\\connectionpool.py:847: InsecureRequestWarning: Unverified HTTPS request is being made. Adding certificate verification is strongly advised. See: https://urllib3.readthedocs.io/en/latest/advanced-usage.html#ssl-warnings\n",
      "  InsecureRequestWarning)\n"
     ]
    },
    {
     "name": "stdout",
     "output_type": "stream",
     "text": [
      "Binh Thuan Ward\n",
      "Tan Quy Ward\n"
     ]
    },
    {
     "name": "stderr",
     "output_type": "stream",
     "text": [
      "C:\\WBG\\Anaconda\\lib\\site-packages\\urllib3\\connectionpool.py:847: InsecureRequestWarning: Unverified HTTPS request is being made. Adding certificate verification is strongly advised. See: https://urllib3.readthedocs.io/en/latest/advanced-usage.html#ssl-warnings\n",
      "  InsecureRequestWarning)\n",
      "C:\\WBG\\Anaconda\\lib\\site-packages\\urllib3\\connectionpool.py:847: InsecureRequestWarning: Unverified HTTPS request is being made. Adding certificate verification is strongly advised. See: https://urllib3.readthedocs.io/en/latest/advanced-usage.html#ssl-warnings\n",
      "  InsecureRequestWarning)\n"
     ]
    },
    {
     "name": "stdout",
     "output_type": "stream",
     "text": [
      "Phu Thuan Ward\n",
      "Tan Phu Ward\n"
     ]
    },
    {
     "name": "stderr",
     "output_type": "stream",
     "text": [
      "C:\\WBG\\Anaconda\\lib\\site-packages\\urllib3\\connectionpool.py:847: InsecureRequestWarning: Unverified HTTPS request is being made. Adding certificate verification is strongly advised. See: https://urllib3.readthedocs.io/en/latest/advanced-usage.html#ssl-warnings\n",
      "  InsecureRequestWarning)\n",
      "C:\\WBG\\Anaconda\\lib\\site-packages\\urllib3\\connectionpool.py:847: InsecureRequestWarning: Unverified HTTPS request is being made. Adding certificate verification is strongly advised. See: https://urllib3.readthedocs.io/en/latest/advanced-usage.html#ssl-warnings\n",
      "  InsecureRequestWarning)\n"
     ]
    },
    {
     "name": "stdout",
     "output_type": "stream",
     "text": [
      "Tan Phong Ward\n"
     ]
    },
    {
     "name": "stderr",
     "output_type": "stream",
     "text": [
      "C:\\WBG\\Anaconda\\lib\\site-packages\\urllib3\\connectionpool.py:847: InsecureRequestWarning: Unverified HTTPS request is being made. Adding certificate verification is strongly advised. See: https://urllib3.readthedocs.io/en/latest/advanced-usage.html#ssl-warnings\n",
      "  InsecureRequestWarning)\n"
     ]
    },
    {
     "name": "stdout",
     "output_type": "stream",
     "text": [
      "Tan Thuan Tay Ward\n",
      "Tan Kieng Ward\n"
     ]
    },
    {
     "name": "stderr",
     "output_type": "stream",
     "text": [
      "C:\\WBG\\Anaconda\\lib\\site-packages\\urllib3\\connectionpool.py:847: InsecureRequestWarning: Unverified HTTPS request is being made. Adding certificate verification is strongly advised. See: https://urllib3.readthedocs.io/en/latest/advanced-usage.html#ssl-warnings\n",
      "  InsecureRequestWarning)\n",
      "C:\\WBG\\Anaconda\\lib\\site-packages\\urllib3\\connectionpool.py:847: InsecureRequestWarning: Unverified HTTPS request is being made. Adding certificate verification is strongly advised. See: https://urllib3.readthedocs.io/en/latest/advanced-usage.html#ssl-warnings\n",
      "  InsecureRequestWarning)\n"
     ]
    },
    {
     "name": "stdout",
     "output_type": "stream",
     "text": [
      "Tan Hung Ward\n",
      "Thi Tran Cu Chi\n"
     ]
    },
    {
     "name": "stderr",
     "output_type": "stream",
     "text": [
      "C:\\WBG\\Anaconda\\lib\\site-packages\\urllib3\\connectionpool.py:847: InsecureRequestWarning: Unverified HTTPS request is being made. Adding certificate verification is strongly advised. See: https://urllib3.readthedocs.io/en/latest/advanced-usage.html#ssl-warnings\n",
      "  InsecureRequestWarning)\n",
      "C:\\WBG\\Anaconda\\lib\\site-packages\\urllib3\\connectionpool.py:847: InsecureRequestWarning: Unverified HTTPS request is being made. Adding certificate verification is strongly advised. See: https://urllib3.readthedocs.io/en/latest/advanced-usage.html#ssl-warnings\n",
      "  InsecureRequestWarning)\n"
     ]
    },
    {
     "name": "stdout",
     "output_type": "stream",
     "text": [
      "Phu My Hung Ward\n",
      "An Phu Ward\n"
     ]
    },
    {
     "name": "stderr",
     "output_type": "stream",
     "text": [
      "C:\\WBG\\Anaconda\\lib\\site-packages\\urllib3\\connectionpool.py:847: InsecureRequestWarning: Unverified HTTPS request is being made. Adding certificate verification is strongly advised. See: https://urllib3.readthedocs.io/en/latest/advanced-usage.html#ssl-warnings\n",
      "  InsecureRequestWarning)\n",
      "C:\\WBG\\Anaconda\\lib\\site-packages\\urllib3\\connectionpool.py:847: InsecureRequestWarning: Unverified HTTPS request is being made. Adding certificate verification is strongly advised. See: https://urllib3.readthedocs.io/en/latest/advanced-usage.html#ssl-warnings\n",
      "  InsecureRequestWarning)\n"
     ]
    },
    {
     "name": "stdout",
     "output_type": "stream",
     "text": [
      "Trung Lap Thuong Ward\n",
      "An Nhon Tay Ward\n"
     ]
    },
    {
     "name": "stderr",
     "output_type": "stream",
     "text": [
      "C:\\WBG\\Anaconda\\lib\\site-packages\\urllib3\\connectionpool.py:847: InsecureRequestWarning: Unverified HTTPS request is being made. Adding certificate verification is strongly advised. See: https://urllib3.readthedocs.io/en/latest/advanced-usage.html#ssl-warnings\n",
      "  InsecureRequestWarning)\n",
      "C:\\WBG\\Anaconda\\lib\\site-packages\\urllib3\\connectionpool.py:847: InsecureRequestWarning: Unverified HTTPS request is being made. Adding certificate verification is strongly advised. See: https://urllib3.readthedocs.io/en/latest/advanced-usage.html#ssl-warnings\n",
      "  InsecureRequestWarning)\n"
     ]
    },
    {
     "name": "stdout",
     "output_type": "stream",
     "text": [
      "Nhuan Duc Ward\n",
      "Pham Van Coi Ward\n"
     ]
    },
    {
     "name": "stderr",
     "output_type": "stream",
     "text": [
      "C:\\WBG\\Anaconda\\lib\\site-packages\\urllib3\\connectionpool.py:847: InsecureRequestWarning: Unverified HTTPS request is being made. Adding certificate verification is strongly advised. See: https://urllib3.readthedocs.io/en/latest/advanced-usage.html#ssl-warnings\n",
      "  InsecureRequestWarning)\n",
      "C:\\WBG\\Anaconda\\lib\\site-packages\\urllib3\\connectionpool.py:847: InsecureRequestWarning: Unverified HTTPS request is being made. Adding certificate verification is strongly advised. See: https://urllib3.readthedocs.io/en/latest/advanced-usage.html#ssl-warnings\n",
      "  InsecureRequestWarning)\n"
     ]
    },
    {
     "name": "stdout",
     "output_type": "stream",
     "text": [
      "Linh Chieu Ward\n",
      "Linh Tay Ward\n"
     ]
    },
    {
     "name": "stderr",
     "output_type": "stream",
     "text": [
      "C:\\WBG\\Anaconda\\lib\\site-packages\\urllib3\\connectionpool.py:847: InsecureRequestWarning: Unverified HTTPS request is being made. Adding certificate verification is strongly advised. See: https://urllib3.readthedocs.io/en/latest/advanced-usage.html#ssl-warnings\n",
      "  InsecureRequestWarning)\n",
      "C:\\WBG\\Anaconda\\lib\\site-packages\\urllib3\\connectionpool.py:847: InsecureRequestWarning: Unverified HTTPS request is being made. Adding certificate verification is strongly advised. See: https://urllib3.readthedocs.io/en/latest/advanced-usage.html#ssl-warnings\n",
      "  InsecureRequestWarning)\n"
     ]
    },
    {
     "name": "stdout",
     "output_type": "stream",
     "text": [
      "Linh Dong Ward\n",
      "Binh Tho Ward\n"
     ]
    },
    {
     "name": "stderr",
     "output_type": "stream",
     "text": [
      "C:\\WBG\\Anaconda\\lib\\site-packages\\urllib3\\connectionpool.py:847: InsecureRequestWarning: Unverified HTTPS request is being made. Adding certificate verification is strongly advised. See: https://urllib3.readthedocs.io/en/latest/advanced-usage.html#ssl-warnings\n",
      "  InsecureRequestWarning)\n",
      "C:\\WBG\\Anaconda\\lib\\site-packages\\urllib3\\connectionpool.py:847: InsecureRequestWarning: Unverified HTTPS request is being made. Adding certificate verification is strongly advised. See: https://urllib3.readthedocs.io/en/latest/advanced-usage.html#ssl-warnings\n",
      "  InsecureRequestWarning)\n"
     ]
    },
    {
     "name": "stdout",
     "output_type": "stream",
     "text": [
      "Hung Long Ward\n",
      "Ward 12\n"
     ]
    },
    {
     "name": "stderr",
     "output_type": "stream",
     "text": [
      "C:\\WBG\\Anaconda\\lib\\site-packages\\urllib3\\connectionpool.py:847: InsecureRequestWarning: Unverified HTTPS request is being made. Adding certificate verification is strongly advised. See: https://urllib3.readthedocs.io/en/latest/advanced-usage.html#ssl-warnings\n",
      "  InsecureRequestWarning)\n",
      "C:\\WBG\\Anaconda\\lib\\site-packages\\urllib3\\connectionpool.py:847: InsecureRequestWarning: Unverified HTTPS request is being made. Adding certificate verification is strongly advised. See: https://urllib3.readthedocs.io/en/latest/advanced-usage.html#ssl-warnings\n",
      "  InsecureRequestWarning)\n"
     ]
    },
    {
     "name": "stdout",
     "output_type": "stream",
     "text": [
      "Ward 5\n",
      "Ward 14\n"
     ]
    },
    {
     "name": "stderr",
     "output_type": "stream",
     "text": [
      "C:\\WBG\\Anaconda\\lib\\site-packages\\urllib3\\connectionpool.py:847: InsecureRequestWarning: Unverified HTTPS request is being made. Adding certificate verification is strongly advised. See: https://urllib3.readthedocs.io/en/latest/advanced-usage.html#ssl-warnings\n",
      "  InsecureRequestWarning)\n",
      "C:\\WBG\\Anaconda\\lib\\site-packages\\urllib3\\connectionpool.py:847: InsecureRequestWarning: Unverified HTTPS request is being made. Adding certificate verification is strongly advised. See: https://urllib3.readthedocs.io/en/latest/advanced-usage.html#ssl-warnings\n",
      "  InsecureRequestWarning)\n"
     ]
    },
    {
     "name": "stdout",
     "output_type": "stream",
     "text": [
      "Ward 6\n",
      "Ward 15\n"
     ]
    },
    {
     "name": "stderr",
     "output_type": "stream",
     "text": [
      "C:\\WBG\\Anaconda\\lib\\site-packages\\urllib3\\connectionpool.py:847: InsecureRequestWarning: Unverified HTTPS request is being made. Adding certificate verification is strongly advised. See: https://urllib3.readthedocs.io/en/latest/advanced-usage.html#ssl-warnings\n",
      "  InsecureRequestWarning)\n",
      "C:\\WBG\\Anaconda\\lib\\site-packages\\urllib3\\connectionpool.py:847: InsecureRequestWarning: Unverified HTTPS request is being made. Adding certificate verification is strongly advised. See: https://urllib3.readthedocs.io/en/latest/advanced-usage.html#ssl-warnings\n",
      "  InsecureRequestWarning)\n"
     ]
    },
    {
     "name": "stdout",
     "output_type": "stream",
     "text": [
      "Da Phuoc Ward\n",
      "Tan Quy Tay Ward\n"
     ]
    },
    {
     "name": "stderr",
     "output_type": "stream",
     "text": [
      "C:\\WBG\\Anaconda\\lib\\site-packages\\urllib3\\connectionpool.py:847: InsecureRequestWarning: Unverified HTTPS request is being made. Adding certificate verification is strongly advised. See: https://urllib3.readthedocs.io/en/latest/advanced-usage.html#ssl-warnings\n",
      "  InsecureRequestWarning)\n",
      "C:\\WBG\\Anaconda\\lib\\site-packages\\urllib3\\connectionpool.py:847: InsecureRequestWarning: Unverified HTTPS request is being made. Adding certificate verification is strongly advised. See: https://urllib3.readthedocs.io/en/latest/advanced-usage.html#ssl-warnings\n",
      "  InsecureRequestWarning)\n"
     ]
    },
    {
     "name": "stdout",
     "output_type": "stream",
     "text": [
      "Binh Chanh Ward\n",
      "Quy Duc Ward\n"
     ]
    },
    {
     "name": "stderr",
     "output_type": "stream",
     "text": [
      "C:\\WBG\\Anaconda\\lib\\site-packages\\urllib3\\connectionpool.py:847: InsecureRequestWarning: Unverified HTTPS request is being made. Adding certificate verification is strongly advised. See: https://urllib3.readthedocs.io/en/latest/advanced-usage.html#ssl-warnings\n",
      "  InsecureRequestWarning)\n",
      "C:\\WBG\\Anaconda\\lib\\site-packages\\urllib3\\connectionpool.py:847: InsecureRequestWarning: Unverified HTTPS request is being made. Adding certificate verification is strongly advised. See: https://urllib3.readthedocs.io/en/latest/advanced-usage.html#ssl-warnings\n",
      "  InsecureRequestWarning)\n"
     ]
    },
    {
     "name": "stdout",
     "output_type": "stream",
     "text": [
      "Thi Tran Nha Be\n",
      "Phuoc Kien Ward\n"
     ]
    },
    {
     "name": "stderr",
     "output_type": "stream",
     "text": [
      "C:\\WBG\\Anaconda\\lib\\site-packages\\urllib3\\connectionpool.py:847: InsecureRequestWarning: Unverified HTTPS request is being made. Adding certificate verification is strongly advised. See: https://urllib3.readthedocs.io/en/latest/advanced-usage.html#ssl-warnings\n",
      "  InsecureRequestWarning)\n",
      "C:\\WBG\\Anaconda\\lib\\site-packages\\urllib3\\connectionpool.py:847: InsecureRequestWarning: Unverified HTTPS request is being made. Adding certificate verification is strongly advised. See: https://urllib3.readthedocs.io/en/latest/advanced-usage.html#ssl-warnings\n",
      "  InsecureRequestWarning)\n"
     ]
    },
    {
     "name": "stdout",
     "output_type": "stream",
     "text": [
      "Phuoc Loc Ward\n",
      "Xuan Thoi Dong Ward\n"
     ]
    },
    {
     "name": "stderr",
     "output_type": "stream",
     "text": [
      "C:\\WBG\\Anaconda\\lib\\site-packages\\urllib3\\connectionpool.py:847: InsecureRequestWarning: Unverified HTTPS request is being made. Adding certificate verification is strongly advised. See: https://urllib3.readthedocs.io/en/latest/advanced-usage.html#ssl-warnings\n",
      "  InsecureRequestWarning)\n",
      "C:\\WBG\\Anaconda\\lib\\site-packages\\urllib3\\connectionpool.py:847: InsecureRequestWarning: Unverified HTTPS request is being made. Adding certificate verification is strongly advised. See: https://urllib3.readthedocs.io/en/latest/advanced-usage.html#ssl-warnings\n",
      "  InsecureRequestWarning)\n"
     ]
    },
    {
     "name": "stdout",
     "output_type": "stream",
     "text": [
      "Trung Chanh Ward\n",
      "Ward 14\n"
     ]
    },
    {
     "name": "stderr",
     "output_type": "stream",
     "text": [
      "C:\\WBG\\Anaconda\\lib\\site-packages\\urllib3\\connectionpool.py:847: InsecureRequestWarning: Unverified HTTPS request is being made. Adding certificate verification is strongly advised. See: https://urllib3.readthedocs.io/en/latest/advanced-usage.html#ssl-warnings\n",
      "  InsecureRequestWarning)\n",
      "C:\\WBG\\Anaconda\\lib\\site-packages\\urllib3\\connectionpool.py:847: InsecureRequestWarning: Unverified HTTPS request is being made. Adding certificate verification is strongly advised. See: https://urllib3.readthedocs.io/en/latest/advanced-usage.html#ssl-warnings\n",
      "  InsecureRequestWarning)\n"
     ]
    },
    {
     "name": "stdout",
     "output_type": "stream",
     "text": [
      "Xuan Thoi Thuong Ward\n",
      "Ba Diem Ward\n"
     ]
    },
    {
     "name": "stderr",
     "output_type": "stream",
     "text": [
      "C:\\WBG\\Anaconda\\lib\\site-packages\\urllib3\\connectionpool.py:847: InsecureRequestWarning: Unverified HTTPS request is being made. Adding certificate verification is strongly advised. See: https://urllib3.readthedocs.io/en/latest/advanced-usage.html#ssl-warnings\n",
      "  InsecureRequestWarning)\n",
      "C:\\WBG\\Anaconda\\lib\\site-packages\\urllib3\\connectionpool.py:847: InsecureRequestWarning: Unverified HTTPS request is being made. Adding certificate verification is strongly advised. See: https://urllib3.readthedocs.io/en/latest/advanced-usage.html#ssl-warnings\n",
      "  InsecureRequestWarning)\n"
     ]
    },
    {
     "name": "stdout",
     "output_type": "stream",
     "text": [
      "Thi Tran Tan Tuc\n",
      "Pham Van Hai Ward\n"
     ]
    },
    {
     "name": "stderr",
     "output_type": "stream",
     "text": [
      "C:\\WBG\\Anaconda\\lib\\site-packages\\urllib3\\connectionpool.py:847: InsecureRequestWarning: Unverified HTTPS request is being made. Adding certificate verification is strongly advised. See: https://urllib3.readthedocs.io/en/latest/advanced-usage.html#ssl-warnings\n",
      "  InsecureRequestWarning)\n",
      "C:\\WBG\\Anaconda\\lib\\site-packages\\urllib3\\connectionpool.py:847: InsecureRequestWarning: Unverified HTTPS request is being made. Adding certificate verification is strongly advised. See: https://urllib3.readthedocs.io/en/latest/advanced-usage.html#ssl-warnings\n",
      "  InsecureRequestWarning)\n"
     ]
    },
    {
     "name": "stdout",
     "output_type": "stream",
     "text": [
      "Vinh Loc A Ward\n",
      "Vinh Loc B Ward\n"
     ]
    },
    {
     "name": "stderr",
     "output_type": "stream",
     "text": [
      "C:\\WBG\\Anaconda\\lib\\site-packages\\urllib3\\connectionpool.py:847: InsecureRequestWarning: Unverified HTTPS request is being made. Adding certificate verification is strongly advised. See: https://urllib3.readthedocs.io/en/latest/advanced-usage.html#ssl-warnings\n",
      "  InsecureRequestWarning)\n",
      "C:\\WBG\\Anaconda\\lib\\site-packages\\urllib3\\connectionpool.py:847: InsecureRequestWarning: Unverified HTTPS request is being made. Adding certificate verification is strongly advised. See: https://urllib3.readthedocs.io/en/latest/advanced-usage.html#ssl-warnings\n",
      "  InsecureRequestWarning)\n"
     ]
    },
    {
     "name": "stdout",
     "output_type": "stream",
     "text": [
      "Binh Loi Ward\n",
      "Le Minh Xuan Ward\n"
     ]
    },
    {
     "name": "stderr",
     "output_type": "stream",
     "text": [
      "C:\\WBG\\Anaconda\\lib\\site-packages\\urllib3\\connectionpool.py:847: InsecureRequestWarning: Unverified HTTPS request is being made. Adding certificate verification is strongly advised. See: https://urllib3.readthedocs.io/en/latest/advanced-usage.html#ssl-warnings\n",
      "  InsecureRequestWarning)\n",
      "C:\\WBG\\Anaconda\\lib\\site-packages\\urllib3\\connectionpool.py:847: InsecureRequestWarning: Unverified HTTPS request is being made. Adding certificate verification is strongly advised. See: https://urllib3.readthedocs.io/en/latest/advanced-usage.html#ssl-warnings\n",
      "  InsecureRequestWarning)\n"
     ]
    },
    {
     "name": "stdout",
     "output_type": "stream",
     "text": [
      "Tan Nhut Ward\n",
      "Tan Kien Ward\n"
     ]
    },
    {
     "name": "stderr",
     "output_type": "stream",
     "text": [
      "C:\\WBG\\Anaconda\\lib\\site-packages\\urllib3\\connectionpool.py:847: InsecureRequestWarning: Unverified HTTPS request is being made. Adding certificate verification is strongly advised. See: https://urllib3.readthedocs.io/en/latest/advanced-usage.html#ssl-warnings\n",
      "  InsecureRequestWarning)\n",
      "C:\\WBG\\Anaconda\\lib\\site-packages\\urllib3\\connectionpool.py:847: InsecureRequestWarning: Unverified HTTPS request is being made. Adding certificate verification is strongly advised. See: https://urllib3.readthedocs.io/en/latest/advanced-usage.html#ssl-warnings\n",
      "  InsecureRequestWarning)\n"
     ]
    },
    {
     "name": "stdout",
     "output_type": "stream",
     "text": [
      "Binh Hung Ward\n",
      "Phong Phu Ward\n",
      "An Phu Tay Ward\n"
     ]
    },
    {
     "name": "stderr",
     "output_type": "stream",
     "text": [
      "C:\\WBG\\Anaconda\\lib\\site-packages\\urllib3\\connectionpool.py:847: InsecureRequestWarning: Unverified HTTPS request is being made. Adding certificate verification is strongly advised. See: https://urllib3.readthedocs.io/en/latest/advanced-usage.html#ssl-warnings\n",
      "  InsecureRequestWarning)\n",
      "C:\\WBG\\Anaconda\\lib\\site-packages\\urllib3\\connectionpool.py:847: InsecureRequestWarning: Unverified HTTPS request is being made. Adding certificate verification is strongly advised. See: https://urllib3.readthedocs.io/en/latest/advanced-usage.html#ssl-warnings\n",
      "  InsecureRequestWarning)\n",
      "C:\\WBG\\Anaconda\\lib\\site-packages\\urllib3\\connectionpool.py:847: InsecureRequestWarning: Unverified HTTPS request is being made. Adding certificate verification is strongly advised. See: https://urllib3.readthedocs.io/en/latest/advanced-usage.html#ssl-warnings\n",
      "  InsecureRequestWarning)\n",
      "C:\\WBG\\Anaconda\\lib\\site-packages\\urllib3\\connectionpool.py:847: InsecureRequestWarning: Unverified HTTPS request is being made. Adding certificate verification is strongly advised. See: https://urllib3.readthedocs.io/en/latest/advanced-usage.html#ssl-warnings\n",
      "  InsecureRequestWarning)\n"
     ]
    },
    {
     "name": "stdout",
     "output_type": "stream",
     "text": [
      "Ward 7\n",
      "Ward 8\n"
     ]
    },
    {
     "name": "stderr",
     "output_type": "stream",
     "text": [
      "C:\\WBG\\Anaconda\\lib\\site-packages\\urllib3\\connectionpool.py:847: InsecureRequestWarning: Unverified HTTPS request is being made. Adding certificate verification is strongly advised. See: https://urllib3.readthedocs.io/en/latest/advanced-usage.html#ssl-warnings\n",
      "  InsecureRequestWarning)\n"
     ]
    },
    {
     "name": "stdout",
     "output_type": "stream",
     "text": [
      "Ward 2\n"
     ]
    },
    {
     "name": "stderr",
     "output_type": "stream",
     "text": [
      "C:\\WBG\\Anaconda\\lib\\site-packages\\urllib3\\connectionpool.py:847: InsecureRequestWarning: Unverified HTTPS request is being made. Adding certificate verification is strongly advised. See: https://urllib3.readthedocs.io/en/latest/advanced-usage.html#ssl-warnings\n",
      "  InsecureRequestWarning)\n"
     ]
    },
    {
     "name": "stdout",
     "output_type": "stream",
     "text": [
      "Ward 4\n"
     ]
    },
    {
     "name": "stderr",
     "output_type": "stream",
     "text": [
      "C:\\WBG\\Anaconda\\lib\\site-packages\\urllib3\\connectionpool.py:847: InsecureRequestWarning: Unverified HTTPS request is being made. Adding certificate verification is strongly advised. See: https://urllib3.readthedocs.io/en/latest/advanced-usage.html#ssl-warnings\n",
      "  InsecureRequestWarning)\n"
     ]
    },
    {
     "name": "stdout",
     "output_type": "stream",
     "text": [
      "Ward 7\n",
      "Ward 5\n"
     ]
    },
    {
     "name": "stderr",
     "output_type": "stream",
     "text": [
      "C:\\WBG\\Anaconda\\lib\\site-packages\\urllib3\\connectionpool.py:847: InsecureRequestWarning: Unverified HTTPS request is being made. Adding certificate verification is strongly advised. See: https://urllib3.readthedocs.io/en/latest/advanced-usage.html#ssl-warnings\n",
      "  InsecureRequestWarning)\n",
      "C:\\WBG\\Anaconda\\lib\\site-packages\\urllib3\\connectionpool.py:847: InsecureRequestWarning: Unverified HTTPS request is being made. Adding certificate verification is strongly advised. See: https://urllib3.readthedocs.io/en/latest/advanced-usage.html#ssl-warnings\n",
      "  InsecureRequestWarning)\n"
     ]
    },
    {
     "name": "stdout",
     "output_type": "stream",
     "text": [
      "Ward 6\n",
      "Ward 3\n"
     ]
    },
    {
     "name": "stderr",
     "output_type": "stream",
     "text": [
      "C:\\WBG\\Anaconda\\lib\\site-packages\\urllib3\\connectionpool.py:847: InsecureRequestWarning: Unverified HTTPS request is being made. Adding certificate verification is strongly advised. See: https://urllib3.readthedocs.io/en/latest/advanced-usage.html#ssl-warnings\n",
      "  InsecureRequestWarning)\n",
      "C:\\WBG\\Anaconda\\lib\\site-packages\\urllib3\\connectionpool.py:847: InsecureRequestWarning: Unverified HTTPS request is being made. Adding certificate verification is strongly advised. See: https://urllib3.readthedocs.io/en/latest/advanced-usage.html#ssl-warnings\n",
      "  InsecureRequestWarning)\n"
     ]
    },
    {
     "name": "stdout",
     "output_type": "stream",
     "text": [
      "Ward 15\n",
      "Ward 5\n"
     ]
    },
    {
     "name": "stderr",
     "output_type": "stream",
     "text": [
      "C:\\WBG\\Anaconda\\lib\\site-packages\\urllib3\\connectionpool.py:847: InsecureRequestWarning: Unverified HTTPS request is being made. Adding certificate verification is strongly advised. See: https://urllib3.readthedocs.io/en/latest/advanced-usage.html#ssl-warnings\n",
      "  InsecureRequestWarning)\n",
      "C:\\WBG\\Anaconda\\lib\\site-packages\\urllib3\\connectionpool.py:847: InsecureRequestWarning: Unverified HTTPS request is being made. Adding certificate verification is strongly advised. See: https://urllib3.readthedocs.io/en/latest/advanced-usage.html#ssl-warnings\n",
      "  InsecureRequestWarning)\n"
     ]
    },
    {
     "name": "stdout",
     "output_type": "stream",
     "text": [
      "Ward 14\n"
     ]
    },
    {
     "name": "stderr",
     "output_type": "stream",
     "text": [
      "C:\\WBG\\Anaconda\\lib\\site-packages\\urllib3\\connectionpool.py:847: InsecureRequestWarning: Unverified HTTPS request is being made. Adding certificate verification is strongly advised. See: https://urllib3.readthedocs.io/en/latest/advanced-usage.html#ssl-warnings\n",
      "  InsecureRequestWarning)\n"
     ]
    },
    {
     "name": "stdout",
     "output_type": "stream",
     "text": [
      "Ward 11\n",
      "Ward 3\n"
     ]
    },
    {
     "name": "stderr",
     "output_type": "stream",
     "text": [
      "C:\\WBG\\Anaconda\\lib\\site-packages\\urllib3\\connectionpool.py:847: InsecureRequestWarning: Unverified HTTPS request is being made. Adding certificate verification is strongly advised. See: https://urllib3.readthedocs.io/en/latest/advanced-usage.html#ssl-warnings\n",
      "  InsecureRequestWarning)\n",
      "C:\\WBG\\Anaconda\\lib\\site-packages\\urllib3\\connectionpool.py:847: InsecureRequestWarning: Unverified HTTPS request is being made. Adding certificate verification is strongly advised. See: https://urllib3.readthedocs.io/en/latest/advanced-usage.html#ssl-warnings\n",
      "  InsecureRequestWarning)\n"
     ]
    },
    {
     "name": "stdout",
     "output_type": "stream",
     "text": [
      "Ward 10\n"
     ]
    },
    {
     "name": "stderr",
     "output_type": "stream",
     "text": [
      "C:\\WBG\\Anaconda\\lib\\site-packages\\urllib3\\connectionpool.py:847: InsecureRequestWarning: Unverified HTTPS request is being made. Adding certificate verification is strongly advised. See: https://urllib3.readthedocs.io/en/latest/advanced-usage.html#ssl-warnings\n",
      "  InsecureRequestWarning)\n"
     ]
    },
    {
     "name": "stdout",
     "output_type": "stream",
     "text": [
      "Ward 8\n",
      "Ward 2\n"
     ]
    },
    {
     "name": "stderr",
     "output_type": "stream",
     "text": [
      "C:\\WBG\\Anaconda\\lib\\site-packages\\urllib3\\connectionpool.py:847: InsecureRequestWarning: Unverified HTTPS request is being made. Adding certificate verification is strongly advised. See: https://urllib3.readthedocs.io/en/latest/advanced-usage.html#ssl-warnings\n",
      "  InsecureRequestWarning)\n",
      "C:\\WBG\\Anaconda\\lib\\site-packages\\urllib3\\connectionpool.py:847: InsecureRequestWarning: Unverified HTTPS request is being made. Adding certificate verification is strongly advised. See: https://urllib3.readthedocs.io/en/latest/advanced-usage.html#ssl-warnings\n",
      "  InsecureRequestWarning)\n"
     ]
    },
    {
     "name": "stdout",
     "output_type": "stream",
     "text": [
      "Ward 1\n",
      "Ward 3\n"
     ]
    },
    {
     "name": "stderr",
     "output_type": "stream",
     "text": [
      "C:\\WBG\\Anaconda\\lib\\site-packages\\urllib3\\connectionpool.py:847: InsecureRequestWarning: Unverified HTTPS request is being made. Adding certificate verification is strongly advised. See: https://urllib3.readthedocs.io/en/latest/advanced-usage.html#ssl-warnings\n",
      "  InsecureRequestWarning)\n",
      "C:\\WBG\\Anaconda\\lib\\site-packages\\urllib3\\connectionpool.py:847: InsecureRequestWarning: Unverified HTTPS request is being made. Adding certificate verification is strongly advised. See: https://urllib3.readthedocs.io/en/latest/advanced-usage.html#ssl-warnings\n",
      "  InsecureRequestWarning)\n"
     ]
    },
    {
     "name": "stdout",
     "output_type": "stream",
     "text": [
      "Ward 11\n",
      "Ward 9\n"
     ]
    },
    {
     "name": "stderr",
     "output_type": "stream",
     "text": [
      "C:\\WBG\\Anaconda\\lib\\site-packages\\urllib3\\connectionpool.py:847: InsecureRequestWarning: Unverified HTTPS request is being made. Adding certificate verification is strongly advised. See: https://urllib3.readthedocs.io/en/latest/advanced-usage.html#ssl-warnings\n",
      "  InsecureRequestWarning)\n",
      "C:\\WBG\\Anaconda\\lib\\site-packages\\urllib3\\connectionpool.py:847: InsecureRequestWarning: Unverified HTTPS request is being made. Adding certificate verification is strongly advised. See: https://urllib3.readthedocs.io/en/latest/advanced-usage.html#ssl-warnings\n",
      "  InsecureRequestWarning)\n"
     ]
    },
    {
     "name": "stdout",
     "output_type": "stream",
     "text": [
      "Ward 10\n",
      "Ward 4\n"
     ]
    },
    {
     "name": "stderr",
     "output_type": "stream",
     "text": [
      "C:\\WBG\\Anaconda\\lib\\site-packages\\urllib3\\connectionpool.py:847: InsecureRequestWarning: Unverified HTTPS request is being made. Adding certificate verification is strongly advised. See: https://urllib3.readthedocs.io/en/latest/advanced-usage.html#ssl-warnings\n",
      "  InsecureRequestWarning)\n",
      "C:\\WBG\\Anaconda\\lib\\site-packages\\urllib3\\connectionpool.py:847: InsecureRequestWarning: Unverified HTTPS request is being made. Adding certificate verification is strongly advised. See: https://urllib3.readthedocs.io/en/latest/advanced-usage.html#ssl-warnings\n",
      "  InsecureRequestWarning)\n"
     ]
    },
    {
     "name": "stdout",
     "output_type": "stream",
     "text": [
      "Ward 13\n"
     ]
    },
    {
     "name": "stderr",
     "output_type": "stream",
     "text": [
      "C:\\WBG\\Anaconda\\lib\\site-packages\\urllib3\\connectionpool.py:847: InsecureRequestWarning: Unverified HTTPS request is being made. Adding certificate verification is strongly advised. See: https://urllib3.readthedocs.io/en/latest/advanced-usage.html#ssl-warnings\n",
      "  InsecureRequestWarning)\n"
     ]
    },
    {
     "name": "stdout",
     "output_type": "stream",
     "text": [
      "Ward 2\n"
     ]
    },
    {
     "name": "stderr",
     "output_type": "stream",
     "text": [
      "C:\\WBG\\Anaconda\\lib\\site-packages\\urllib3\\connectionpool.py:847: InsecureRequestWarning: Unverified HTTPS request is being made. Adding certificate verification is strongly advised. See: https://urllib3.readthedocs.io/en/latest/advanced-usage.html#ssl-warnings\n",
      "  InsecureRequestWarning)\n"
     ]
    },
    {
     "name": "stdout",
     "output_type": "stream",
     "text": [
      "Ward 15\n",
      "Ward 1\n"
     ]
    },
    {
     "name": "stderr",
     "output_type": "stream",
     "text": [
      "C:\\WBG\\Anaconda\\lib\\site-packages\\urllib3\\connectionpool.py:847: InsecureRequestWarning: Unverified HTTPS request is being made. Adding certificate verification is strongly advised. See: https://urllib3.readthedocs.io/en/latest/advanced-usage.html#ssl-warnings\n",
      "  InsecureRequestWarning)\n",
      "C:\\WBG\\Anaconda\\lib\\site-packages\\urllib3\\connectionpool.py:847: InsecureRequestWarning: Unverified HTTPS request is being made. Adding certificate verification is strongly advised. See: https://urllib3.readthedocs.io/en/latest/advanced-usage.html#ssl-warnings\n",
      "  InsecureRequestWarning)\n"
     ]
    },
    {
     "name": "stdout",
     "output_type": "stream",
     "text": [
      "Ward 4\n"
     ]
    },
    {
     "name": "stderr",
     "output_type": "stream",
     "text": [
      "C:\\WBG\\Anaconda\\lib\\site-packages\\urllib3\\connectionpool.py:847: InsecureRequestWarning: Unverified HTTPS request is being made. Adding certificate verification is strongly advised. See: https://urllib3.readthedocs.io/en/latest/advanced-usage.html#ssl-warnings\n",
      "  InsecureRequestWarning)\n"
     ]
    },
    {
     "name": "stdout",
     "output_type": "stream",
     "text": [
      "Ward 9\n",
      "Ward 3\n"
     ]
    },
    {
     "name": "stderr",
     "output_type": "stream",
     "text": [
      "C:\\WBG\\Anaconda\\lib\\site-packages\\urllib3\\connectionpool.py:847: InsecureRequestWarning: Unverified HTTPS request is being made. Adding certificate verification is strongly advised. See: https://urllib3.readthedocs.io/en/latest/advanced-usage.html#ssl-warnings\n",
      "  InsecureRequestWarning)\n",
      "C:\\WBG\\Anaconda\\lib\\site-packages\\urllib3\\connectionpool.py:847: InsecureRequestWarning: Unverified HTTPS request is being made. Adding certificate verification is strongly advised. See: https://urllib3.readthedocs.io/en/latest/advanced-usage.html#ssl-warnings\n",
      "  InsecureRequestWarning)\n"
     ]
    },
    {
     "name": "stdout",
     "output_type": "stream",
     "text": [
      "Ward 10\n",
      "Ward 5\n"
     ]
    },
    {
     "name": "stderr",
     "output_type": "stream",
     "text": [
      "C:\\WBG\\Anaconda\\lib\\site-packages\\urllib3\\connectionpool.py:847: InsecureRequestWarning: Unverified HTTPS request is being made. Adding certificate verification is strongly advised. See: https://urllib3.readthedocs.io/en/latest/advanced-usage.html#ssl-warnings\n",
      "  InsecureRequestWarning)\n",
      "C:\\WBG\\Anaconda\\lib\\site-packages\\urllib3\\connectionpool.py:847: InsecureRequestWarning: Unverified HTTPS request is being made. Adding certificate verification is strongly advised. See: https://urllib3.readthedocs.io/en/latest/advanced-usage.html#ssl-warnings\n",
      "  InsecureRequestWarning)\n"
     ]
    },
    {
     "name": "stdout",
     "output_type": "stream",
     "text": [
      "Ward 18\n",
      "Ward 14\n"
     ]
    },
    {
     "name": "stderr",
     "output_type": "stream",
     "text": [
      "C:\\WBG\\Anaconda\\lib\\site-packages\\urllib3\\connectionpool.py:847: InsecureRequestWarning: Unverified HTTPS request is being made. Adding certificate verification is strongly advised. See: https://urllib3.readthedocs.io/en/latest/advanced-usage.html#ssl-warnings\n",
      "  InsecureRequestWarning)\n",
      "C:\\WBG\\Anaconda\\lib\\site-packages\\urllib3\\connectionpool.py:847: InsecureRequestWarning: Unverified HTTPS request is being made. Adding certificate verification is strongly advised. See: https://urllib3.readthedocs.io/en/latest/advanced-usage.html#ssl-warnings\n",
      "  InsecureRequestWarning)\n"
     ]
    },
    {
     "name": "stdout",
     "output_type": "stream",
     "text": [
      "Ward 4\n",
      "Ward 3\n"
     ]
    },
    {
     "name": "stderr",
     "output_type": "stream",
     "text": [
      "C:\\WBG\\Anaconda\\lib\\site-packages\\urllib3\\connectionpool.py:847: InsecureRequestWarning: Unverified HTTPS request is being made. Adding certificate verification is strongly advised. See: https://urllib3.readthedocs.io/en/latest/advanced-usage.html#ssl-warnings\n",
      "  InsecureRequestWarning)\n",
      "C:\\WBG\\Anaconda\\lib\\site-packages\\urllib3\\connectionpool.py:847: InsecureRequestWarning: Unverified HTTPS request is being made. Adding certificate verification is strongly advised. See: https://urllib3.readthedocs.io/en/latest/advanced-usage.html#ssl-warnings\n",
      "  InsecureRequestWarning)\n"
     ]
    },
    {
     "name": "stdout",
     "output_type": "stream",
     "text": [
      "Ward 16\n",
      "Ward 15\n"
     ]
    },
    {
     "name": "stderr",
     "output_type": "stream",
     "text": [
      "C:\\WBG\\Anaconda\\lib\\site-packages\\urllib3\\connectionpool.py:847: InsecureRequestWarning: Unverified HTTPS request is being made. Adding certificate verification is strongly advised. See: https://urllib3.readthedocs.io/en/latest/advanced-usage.html#ssl-warnings\n",
      "  InsecureRequestWarning)\n",
      "C:\\WBG\\Anaconda\\lib\\site-packages\\urllib3\\connectionpool.py:847: InsecureRequestWarning: Unverified HTTPS request is being made. Adding certificate verification is strongly advised. See: https://urllib3.readthedocs.io/en/latest/advanced-usage.html#ssl-warnings\n",
      "  InsecureRequestWarning)\n"
     ]
    },
    {
     "name": "stdout",
     "output_type": "stream",
     "text": [
      "Ward 1\n",
      "Ward 2\n"
     ]
    },
    {
     "name": "stderr",
     "output_type": "stream",
     "text": [
      "C:\\WBG\\Anaconda\\lib\\site-packages\\urllib3\\connectionpool.py:847: InsecureRequestWarning: Unverified HTTPS request is being made. Adding certificate verification is strongly advised. See: https://urllib3.readthedocs.io/en/latest/advanced-usage.html#ssl-warnings\n",
      "  InsecureRequestWarning)\n",
      "C:\\WBG\\Anaconda\\lib\\site-packages\\urllib3\\connectionpool.py:847: InsecureRequestWarning: Unverified HTTPS request is being made. Adding certificate verification is strongly advised. See: https://urllib3.readthedocs.io/en/latest/advanced-usage.html#ssl-warnings\n",
      "  InsecureRequestWarning)\n"
     ]
    },
    {
     "name": "stdout",
     "output_type": "stream",
     "text": [
      "Ward 16\n",
      "Ward 12\n"
     ]
    },
    {
     "name": "stderr",
     "output_type": "stream",
     "text": [
      "C:\\WBG\\Anaconda\\lib\\site-packages\\urllib3\\connectionpool.py:847: InsecureRequestWarning: Unverified HTTPS request is being made. Adding certificate verification is strongly advised. See: https://urllib3.readthedocs.io/en/latest/advanced-usage.html#ssl-warnings\n",
      "  InsecureRequestWarning)\n",
      "C:\\WBG\\Anaconda\\lib\\site-packages\\urllib3\\connectionpool.py:847: InsecureRequestWarning: Unverified HTTPS request is being made. Adding certificate verification is strongly advised. See: https://urllib3.readthedocs.io/en/latest/advanced-usage.html#ssl-warnings\n",
      "  InsecureRequestWarning)\n"
     ]
    },
    {
     "name": "stdout",
     "output_type": "stream",
     "text": [
      "Ward 13\n",
      "Ward 9\n"
     ]
    },
    {
     "name": "stderr",
     "output_type": "stream",
     "text": [
      "C:\\WBG\\Anaconda\\lib\\site-packages\\urllib3\\connectionpool.py:847: InsecureRequestWarning: Unverified HTTPS request is being made. Adding certificate verification is strongly advised. See: https://urllib3.readthedocs.io/en/latest/advanced-usage.html#ssl-warnings\n",
      "  InsecureRequestWarning)\n",
      "C:\\WBG\\Anaconda\\lib\\site-packages\\urllib3\\connectionpool.py:847: InsecureRequestWarning: Unverified HTTPS request is being made. Adding certificate verification is strongly advised. See: https://urllib3.readthedocs.io/en/latest/advanced-usage.html#ssl-warnings\n",
      "  InsecureRequestWarning)\n"
     ]
    },
    {
     "name": "stdout",
     "output_type": "stream",
     "text": [
      "Ward 6\n",
      "Ward 8\n"
     ]
    },
    {
     "name": "stderr",
     "output_type": "stream",
     "text": [
      "C:\\WBG\\Anaconda\\lib\\site-packages\\urllib3\\connectionpool.py:847: InsecureRequestWarning: Unverified HTTPS request is being made. Adding certificate verification is strongly advised. See: https://urllib3.readthedocs.io/en/latest/advanced-usage.html#ssl-warnings\n",
      "  InsecureRequestWarning)\n",
      "C:\\WBG\\Anaconda\\lib\\site-packages\\urllib3\\connectionpool.py:847: InsecureRequestWarning: Unverified HTTPS request is being made. Adding certificate verification is strongly advised. See: https://urllib3.readthedocs.io/en/latest/advanced-usage.html#ssl-warnings\n",
      "  InsecureRequestWarning)\n"
     ]
    },
    {
     "name": "stdout",
     "output_type": "stream",
     "text": [
      "Ward 13\n",
      "Ward 17\n"
     ]
    },
    {
     "name": "stderr",
     "output_type": "stream",
     "text": [
      "C:\\WBG\\Anaconda\\lib\\site-packages\\urllib3\\connectionpool.py:847: InsecureRequestWarning: Unverified HTTPS request is being made. Adding certificate verification is strongly advised. See: https://urllib3.readthedocs.io/en/latest/advanced-usage.html#ssl-warnings\n",
      "  InsecureRequestWarning)\n",
      "C:\\WBG\\Anaconda\\lib\\site-packages\\urllib3\\connectionpool.py:847: InsecureRequestWarning: Unverified HTTPS request is being made. Adding certificate verification is strongly advised. See: https://urllib3.readthedocs.io/en/latest/advanced-usage.html#ssl-warnings\n",
      "  InsecureRequestWarning)\n"
     ]
    },
    {
     "name": "stdout",
     "output_type": "stream",
     "text": [
      "Ward 6\n",
      "Ward 5\n"
     ]
    },
    {
     "name": "stderr",
     "output_type": "stream",
     "text": [
      "C:\\WBG\\Anaconda\\lib\\site-packages\\urllib3\\connectionpool.py:847: InsecureRequestWarning: Unverified HTTPS request is being made. Adding certificate verification is strongly advised. See: https://urllib3.readthedocs.io/en/latest/advanced-usage.html#ssl-warnings\n",
      "  InsecureRequestWarning)\n",
      "C:\\WBG\\Anaconda\\lib\\site-packages\\urllib3\\connectionpool.py:847: InsecureRequestWarning: Unverified HTTPS request is being made. Adding certificate verification is strongly advised. See: https://urllib3.readthedocs.io/en/latest/advanced-usage.html#ssl-warnings\n",
      "  InsecureRequestWarning)\n"
     ]
    },
    {
     "name": "stdout",
     "output_type": "stream",
     "text": [
      "Ward 9\n",
      "Ward 7\n"
     ]
    },
    {
     "name": "stderr",
     "output_type": "stream",
     "text": [
      "C:\\WBG\\Anaconda\\lib\\site-packages\\urllib3\\connectionpool.py:847: InsecureRequestWarning: Unverified HTTPS request is being made. Adding certificate verification is strongly advised. See: https://urllib3.readthedocs.io/en/latest/advanced-usage.html#ssl-warnings\n",
      "  InsecureRequestWarning)\n",
      "C:\\WBG\\Anaconda\\lib\\site-packages\\urllib3\\connectionpool.py:847: InsecureRequestWarning: Unverified HTTPS request is being made. Adding certificate verification is strongly advised. See: https://urllib3.readthedocs.io/en/latest/advanced-usage.html#ssl-warnings\n",
      "  InsecureRequestWarning)\n"
     ]
    },
    {
     "name": "stdout",
     "output_type": "stream",
     "text": [
      "Ward 3\n",
      "Ward 1\n"
     ]
    },
    {
     "name": "stderr",
     "output_type": "stream",
     "text": [
      "C:\\WBG\\Anaconda\\lib\\site-packages\\urllib3\\connectionpool.py:847: InsecureRequestWarning: Unverified HTTPS request is being made. Adding certificate verification is strongly advised. See: https://urllib3.readthedocs.io/en/latest/advanced-usage.html#ssl-warnings\n",
      "  InsecureRequestWarning)\n",
      "C:\\WBG\\Anaconda\\lib\\site-packages\\urllib3\\connectionpool.py:847: InsecureRequestWarning: Unverified HTTPS request is being made. Adding certificate verification is strongly advised. See: https://urllib3.readthedocs.io/en/latest/advanced-usage.html#ssl-warnings\n",
      "  InsecureRequestWarning)\n"
     ]
    },
    {
     "name": "stdout",
     "output_type": "stream",
     "text": [
      "Ward 2\n"
     ]
    },
    {
     "name": "stderr",
     "output_type": "stream",
     "text": [
      "C:\\WBG\\Anaconda\\lib\\site-packages\\urllib3\\connectionpool.py:847: InsecureRequestWarning: Unverified HTTPS request is being made. Adding certificate verification is strongly advised. See: https://urllib3.readthedocs.io/en/latest/advanced-usage.html#ssl-warnings\n",
      "  InsecureRequestWarning)\n"
     ]
    },
    {
     "name": "stdout",
     "output_type": "stream",
     "text": [
      "Ward 8\n"
     ]
    },
    {
     "name": "stderr",
     "output_type": "stream",
     "text": [
      "C:\\WBG\\Anaconda\\lib\\site-packages\\urllib3\\connectionpool.py:847: InsecureRequestWarning: Unverified HTTPS request is being made. Adding certificate verification is strongly advised. See: https://urllib3.readthedocs.io/en/latest/advanced-usage.html#ssl-warnings\n",
      "  InsecureRequestWarning)\n"
     ]
    },
    {
     "name": "stdout",
     "output_type": "stream",
     "text": [
      "Binh Tri Dong B Ward\n",
      "Tan Tao Ward\n"
     ]
    },
    {
     "name": "stderr",
     "output_type": "stream",
     "text": [
      "C:\\WBG\\Anaconda\\lib\\site-packages\\urllib3\\connectionpool.py:847: InsecureRequestWarning: Unverified HTTPS request is being made. Adding certificate verification is strongly advised. See: https://urllib3.readthedocs.io/en/latest/advanced-usage.html#ssl-warnings\n",
      "  InsecureRequestWarning)\n",
      "C:\\WBG\\Anaconda\\lib\\site-packages\\urllib3\\connectionpool.py:847: InsecureRequestWarning: Unverified HTTPS request is being made. Adding certificate verification is strongly advised. See: https://urllib3.readthedocs.io/en/latest/advanced-usage.html#ssl-warnings\n",
      "  InsecureRequestWarning)\n"
     ]
    },
    {
     "name": "stdout",
     "output_type": "stream",
     "text": [
      "An Phu Ward\n",
      "Binh An Ward\n"
     ]
    },
    {
     "name": "stderr",
     "output_type": "stream",
     "text": [
      "C:\\WBG\\Anaconda\\lib\\site-packages\\urllib3\\connectionpool.py:847: InsecureRequestWarning: Unverified HTTPS request is being made. Adding certificate verification is strongly advised. See: https://urllib3.readthedocs.io/en/latest/advanced-usage.html#ssl-warnings\n",
      "  InsecureRequestWarning)\n",
      "C:\\WBG\\Anaconda\\lib\\site-packages\\urllib3\\connectionpool.py:847: InsecureRequestWarning: Unverified HTTPS request is being made. Adding certificate verification is strongly advised. See: https://urllib3.readthedocs.io/en/latest/advanced-usage.html#ssl-warnings\n",
      "  InsecureRequestWarning)\n"
     ]
    },
    {
     "name": "stdout",
     "output_type": "stream",
     "text": [
      "Binh Trung Dong Ward\n",
      "Binh Trung Tay Ward\n"
     ]
    },
    {
     "name": "stderr",
     "output_type": "stream",
     "text": [
      "C:\\WBG\\Anaconda\\lib\\site-packages\\urllib3\\connectionpool.py:847: InsecureRequestWarning: Unverified HTTPS request is being made. Adding certificate verification is strongly advised. See: https://urllib3.readthedocs.io/en/latest/advanced-usage.html#ssl-warnings\n",
      "  InsecureRequestWarning)\n",
      "C:\\WBG\\Anaconda\\lib\\site-packages\\urllib3\\connectionpool.py:847: InsecureRequestWarning: Unverified HTTPS request is being made. Adding certificate verification is strongly advised. See: https://urllib3.readthedocs.io/en/latest/advanced-usage.html#ssl-warnings\n",
      "  InsecureRequestWarning)\n"
     ]
    },
    {
     "name": "stdout",
     "output_type": "stream",
     "text": [
      "Binh Khanh Ward\n",
      "An Khanh Ward\n"
     ]
    },
    {
     "name": "stderr",
     "output_type": "stream",
     "text": [
      "C:\\WBG\\Anaconda\\lib\\site-packages\\urllib3\\connectionpool.py:847: InsecureRequestWarning: Unverified HTTPS request is being made. Adding certificate verification is strongly advised. See: https://urllib3.readthedocs.io/en/latest/advanced-usage.html#ssl-warnings\n",
      "  InsecureRequestWarning)\n",
      "C:\\WBG\\Anaconda\\lib\\site-packages\\urllib3\\connectionpool.py:847: InsecureRequestWarning: Unverified HTTPS request is being made. Adding certificate verification is strongly advised. See: https://urllib3.readthedocs.io/en/latest/advanced-usage.html#ssl-warnings\n",
      "  InsecureRequestWarning)\n"
     ]
    },
    {
     "name": "stdout",
     "output_type": "stream",
     "text": [
      "Cat Lai Ward\n",
      "Thanh My Loi Ward\n"
     ]
    },
    {
     "name": "stderr",
     "output_type": "stream",
     "text": [
      "C:\\WBG\\Anaconda\\lib\\site-packages\\urllib3\\connectionpool.py:847: InsecureRequestWarning: Unverified HTTPS request is being made. Adding certificate verification is strongly advised. See: https://urllib3.readthedocs.io/en/latest/advanced-usage.html#ssl-warnings\n",
      "  InsecureRequestWarning)\n",
      "C:\\WBG\\Anaconda\\lib\\site-packages\\urllib3\\connectionpool.py:847: InsecureRequestWarning: Unverified HTTPS request is being made. Adding certificate verification is strongly advised. See: https://urllib3.readthedocs.io/en/latest/advanced-usage.html#ssl-warnings\n",
      "  InsecureRequestWarning)\n"
     ]
    },
    {
     "name": "stdout",
     "output_type": "stream",
     "text": [
      "An Loi Dong Ward\n",
      "Thu Thiem Ward\n"
     ]
    },
    {
     "name": "stderr",
     "output_type": "stream",
     "text": [
      "C:\\WBG\\Anaconda\\lib\\site-packages\\urllib3\\connectionpool.py:847: InsecureRequestWarning: Unverified HTTPS request is being made. Adding certificate verification is strongly advised. See: https://urllib3.readthedocs.io/en/latest/advanced-usage.html#ssl-warnings\n",
      "  InsecureRequestWarning)\n",
      "C:\\WBG\\Anaconda\\lib\\site-packages\\urllib3\\connectionpool.py:847: InsecureRequestWarning: Unverified HTTPS request is being made. Adding certificate verification is strongly advised. See: https://urllib3.readthedocs.io/en/latest/advanced-usage.html#ssl-warnings\n",
      "  InsecureRequestWarning)\n"
     ]
    },
    {
     "name": "stdout",
     "output_type": "stream",
     "text": [
      "Ward 8\n"
     ]
    },
    {
     "name": "stderr",
     "output_type": "stream",
     "text": [
      "C:\\WBG\\Anaconda\\lib\\site-packages\\urllib3\\connectionpool.py:847: InsecureRequestWarning: Unverified HTTPS request is being made. Adding certificate verification is strongly advised. See: https://urllib3.readthedocs.io/en/latest/advanced-usage.html#ssl-warnings\n",
      "  InsecureRequestWarning)\n"
     ]
    },
    {
     "name": "stdout",
     "output_type": "stream",
     "text": [
      "Ward 2\n",
      "Ward 1\n"
     ]
    },
    {
     "name": "stderr",
     "output_type": "stream",
     "text": [
      "C:\\WBG\\Anaconda\\lib\\site-packages\\urllib3\\connectionpool.py:847: InsecureRequestWarning: Unverified HTTPS request is being made. Adding certificate verification is strongly advised. See: https://urllib3.readthedocs.io/en/latest/advanced-usage.html#ssl-warnings\n",
      "  InsecureRequestWarning)\n",
      "C:\\WBG\\Anaconda\\lib\\site-packages\\urllib3\\connectionpool.py:847: InsecureRequestWarning: Unverified HTTPS request is being made. Adding certificate verification is strongly advised. See: https://urllib3.readthedocs.io/en/latest/advanced-usage.html#ssl-warnings\n",
      "  InsecureRequestWarning)\n"
     ]
    },
    {
     "name": "stdout",
     "output_type": "stream",
     "text": [
      "Ward 4\n"
     ]
    },
    {
     "name": "stderr",
     "output_type": "stream",
     "text": [
      "C:\\WBG\\Anaconda\\lib\\site-packages\\urllib3\\connectionpool.py:847: InsecureRequestWarning: Unverified HTTPS request is being made. Adding certificate verification is strongly advised. See: https://urllib3.readthedocs.io/en/latest/advanced-usage.html#ssl-warnings\n",
      "  InsecureRequestWarning)\n"
     ]
    },
    {
     "name": "stdout",
     "output_type": "stream",
     "text": [
      "Ward 8\n",
      "Ward 3\n"
     ]
    },
    {
     "name": "stderr",
     "output_type": "stream",
     "text": [
      "C:\\WBG\\Anaconda\\lib\\site-packages\\urllib3\\connectionpool.py:847: InsecureRequestWarning: Unverified HTTPS request is being made. Adding certificate verification is strongly advised. See: https://urllib3.readthedocs.io/en/latest/advanced-usage.html#ssl-warnings\n",
      "  InsecureRequestWarning)\n",
      "C:\\WBG\\Anaconda\\lib\\site-packages\\urllib3\\connectionpool.py:847: InsecureRequestWarning: Unverified HTTPS request is being made. Adding certificate verification is strongly advised. See: https://urllib3.readthedocs.io/en/latest/advanced-usage.html#ssl-warnings\n",
      "  InsecureRequestWarning)\n"
     ]
    },
    {
     "name": "stdout",
     "output_type": "stream",
     "text": [
      "Ward 7\n",
      "Ward 11\n"
     ]
    },
    {
     "name": "stderr",
     "output_type": "stream",
     "text": [
      "C:\\WBG\\Anaconda\\lib\\site-packages\\urllib3\\connectionpool.py:847: InsecureRequestWarning: Unverified HTTPS request is being made. Adding certificate verification is strongly advised. See: https://urllib3.readthedocs.io/en/latest/advanced-usage.html#ssl-warnings\n",
      "  InsecureRequestWarning)\n",
      "C:\\WBG\\Anaconda\\lib\\site-packages\\urllib3\\connectionpool.py:847: InsecureRequestWarning: Unverified HTTPS request is being made. Adding certificate verification is strongly advised. See: https://urllib3.readthedocs.io/en/latest/advanced-usage.html#ssl-warnings\n",
      "  InsecureRequestWarning)\n"
     ]
    },
    {
     "name": "stdout",
     "output_type": "stream",
     "text": [
      "Ward 27\n",
      "Ward 26\n"
     ]
    },
    {
     "name": "stderr",
     "output_type": "stream",
     "text": [
      "C:\\WBG\\Anaconda\\lib\\site-packages\\urllib3\\connectionpool.py:847: InsecureRequestWarning: Unverified HTTPS request is being made. Adding certificate verification is strongly advised. See: https://urllib3.readthedocs.io/en/latest/advanced-usage.html#ssl-warnings\n",
      "  InsecureRequestWarning)\n",
      "C:\\WBG\\Anaconda\\lib\\site-packages\\urllib3\\connectionpool.py:847: InsecureRequestWarning: Unverified HTTPS request is being made. Adding certificate verification is strongly advised. See: https://urllib3.readthedocs.io/en/latest/advanced-usage.html#ssl-warnings\n",
      "  InsecureRequestWarning)\n"
     ]
    },
    {
     "name": "stdout",
     "output_type": "stream",
     "text": [
      "Ward 12\n",
      "Ward 25\n"
     ]
    },
    {
     "name": "stderr",
     "output_type": "stream",
     "text": [
      "C:\\WBG\\Anaconda\\lib\\site-packages\\urllib3\\connectionpool.py:847: InsecureRequestWarning: Unverified HTTPS request is being made. Adding certificate verification is strongly advised. See: https://urllib3.readthedocs.io/en/latest/advanced-usage.html#ssl-warnings\n",
      "  InsecureRequestWarning)\n",
      "C:\\WBG\\Anaconda\\lib\\site-packages\\urllib3\\connectionpool.py:847: InsecureRequestWarning: Unverified HTTPS request is being made. Adding certificate verification is strongly advised. See: https://urllib3.readthedocs.io/en/latest/advanced-usage.html#ssl-warnings\n",
      "  InsecureRequestWarning)\n"
     ]
    },
    {
     "name": "stdout",
     "output_type": "stream",
     "text": [
      "Ward 10\n",
      "Ward 5\n"
     ]
    },
    {
     "name": "stderr",
     "output_type": "stream",
     "text": [
      "C:\\WBG\\Anaconda\\lib\\site-packages\\urllib3\\connectionpool.py:847: InsecureRequestWarning: Unverified HTTPS request is being made. Adding certificate verification is strongly advised. See: https://urllib3.readthedocs.io/en/latest/advanced-usage.html#ssl-warnings\n",
      "  InsecureRequestWarning)\n",
      "C:\\WBG\\Anaconda\\lib\\site-packages\\urllib3\\connectionpool.py:847: InsecureRequestWarning: Unverified HTTPS request is being made. Adding certificate verification is strongly advised. See: https://urllib3.readthedocs.io/en/latest/advanced-usage.html#ssl-warnings\n",
      "  InsecureRequestWarning)\n"
     ]
    },
    {
     "name": "stdout",
     "output_type": "stream",
     "text": [
      "Ward 7\n",
      "Ward 4\n"
     ]
    },
    {
     "name": "stderr",
     "output_type": "stream",
     "text": [
      "C:\\WBG\\Anaconda\\lib\\site-packages\\urllib3\\connectionpool.py:847: InsecureRequestWarning: Unverified HTTPS request is being made. Adding certificate verification is strongly advised. See: https://urllib3.readthedocs.io/en/latest/advanced-usage.html#ssl-warnings\n",
      "  InsecureRequestWarning)\n",
      "C:\\WBG\\Anaconda\\lib\\site-packages\\urllib3\\connectionpool.py:847: InsecureRequestWarning: Unverified HTTPS request is being made. Adding certificate verification is strongly advised. See: https://urllib3.readthedocs.io/en/latest/advanced-usage.html#ssl-warnings\n",
      "  InsecureRequestWarning)\n"
     ]
    },
    {
     "name": "stdout",
     "output_type": "stream",
     "text": [
      "Ward 1\n",
      "Ward 9\n"
     ]
    },
    {
     "name": "stderr",
     "output_type": "stream",
     "text": [
      "C:\\WBG\\Anaconda\\lib\\site-packages\\urllib3\\connectionpool.py:847: InsecureRequestWarning: Unverified HTTPS request is being made. Adding certificate verification is strongly advised. See: https://urllib3.readthedocs.io/en/latest/advanced-usage.html#ssl-warnings\n",
      "  InsecureRequestWarning)\n",
      "C:\\WBG\\Anaconda\\lib\\site-packages\\urllib3\\connectionpool.py:847: InsecureRequestWarning: Unverified HTTPS request is being made. Adding certificate verification is strongly advised. See: https://urllib3.readthedocs.io/en/latest/advanced-usage.html#ssl-warnings\n",
      "  InsecureRequestWarning)\n"
     ]
    },
    {
     "name": "stdout",
     "output_type": "stream",
     "text": [
      "Ward 8\n",
      "Ward 11\n"
     ]
    },
    {
     "name": "stderr",
     "output_type": "stream",
     "text": [
      "C:\\WBG\\Anaconda\\lib\\site-packages\\urllib3\\connectionpool.py:847: InsecureRequestWarning: Unverified HTTPS request is being made. Adding certificate verification is strongly advised. See: https://urllib3.readthedocs.io/en/latest/advanced-usage.html#ssl-warnings\n",
      "  InsecureRequestWarning)\n",
      "C:\\WBG\\Anaconda\\lib\\site-packages\\urllib3\\connectionpool.py:847: InsecureRequestWarning: Unverified HTTPS request is being made. Adding certificate verification is strongly advised. See: https://urllib3.readthedocs.io/en/latest/advanced-usage.html#ssl-warnings\n",
      "  InsecureRequestWarning)\n"
     ]
    },
    {
     "name": "stdout",
     "output_type": "stream",
     "text": [
      "Ward 3\n",
      "Ward 13\n"
     ]
    },
    {
     "name": "stderr",
     "output_type": "stream",
     "text": [
      "C:\\WBG\\Anaconda\\lib\\site-packages\\urllib3\\connectionpool.py:847: InsecureRequestWarning: Unverified HTTPS request is being made. Adding certificate verification is strongly advised. See: https://urllib3.readthedocs.io/en/latest/advanced-usage.html#ssl-warnings\n",
      "  InsecureRequestWarning)\n",
      "C:\\WBG\\Anaconda\\lib\\site-packages\\urllib3\\connectionpool.py:847: InsecureRequestWarning: Unverified HTTPS request is being made. Adding certificate verification is strongly advised. See: https://urllib3.readthedocs.io/en/latest/advanced-usage.html#ssl-warnings\n",
      "  InsecureRequestWarning)\n"
     ]
    },
    {
     "name": "stdout",
     "output_type": "stream",
     "text": [
      "Ward 12\n"
     ]
    },
    {
     "name": "stderr",
     "output_type": "stream",
     "text": [
      "C:\\WBG\\Anaconda\\lib\\site-packages\\urllib3\\connectionpool.py:847: InsecureRequestWarning: Unverified HTTPS request is being made. Adding certificate verification is strongly advised. See: https://urllib3.readthedocs.io/en/latest/advanced-usage.html#ssl-warnings\n",
      "  InsecureRequestWarning)\n"
     ]
    },
    {
     "name": "stdout",
     "output_type": "stream",
     "text": [
      "Ward 11\n"
     ]
    },
    {
     "name": "stderr",
     "output_type": "stream",
     "text": [
      "C:\\WBG\\Anaconda\\lib\\site-packages\\urllib3\\connectionpool.py:847: InsecureRequestWarning: Unverified HTTPS request is being made. Adding certificate verification is strongly advised. See: https://urllib3.readthedocs.io/en/latest/advanced-usage.html#ssl-warnings\n",
      "  InsecureRequestWarning)\n"
     ]
    },
    {
     "name": "stdout",
     "output_type": "stream",
     "text": [
      "Tan Quy Ward\n",
      "Tan Thanh Ward\n"
     ]
    },
    {
     "name": "stderr",
     "output_type": "stream",
     "text": [
      "C:\\WBG\\Anaconda\\lib\\site-packages\\urllib3\\connectionpool.py:847: InsecureRequestWarning: Unverified HTTPS request is being made. Adding certificate verification is strongly advised. See: https://urllib3.readthedocs.io/en/latest/advanced-usage.html#ssl-warnings\n",
      "  InsecureRequestWarning)\n",
      "C:\\WBG\\Anaconda\\lib\\site-packages\\urllib3\\connectionpool.py:847: InsecureRequestWarning: Unverified HTTPS request is being made. Adding certificate verification is strongly advised. See: https://urllib3.readthedocs.io/en/latest/advanced-usage.html#ssl-warnings\n",
      "  InsecureRequestWarning)\n"
     ]
    },
    {
     "name": "stdout",
     "output_type": "stream",
     "text": [
      "Ward 5\n",
      "Ward 10\n"
     ]
    },
    {
     "name": "stderr",
     "output_type": "stream",
     "text": [
      "C:\\WBG\\Anaconda\\lib\\site-packages\\urllib3\\connectionpool.py:847: InsecureRequestWarning: Unverified HTTPS request is being made. Adding certificate verification is strongly advised. See: https://urllib3.readthedocs.io/en/latest/advanced-usage.html#ssl-warnings\n",
      "  InsecureRequestWarning)\n",
      "C:\\WBG\\Anaconda\\lib\\site-packages\\urllib3\\connectionpool.py:847: InsecureRequestWarning: Unverified HTTPS request is being made. Adding certificate verification is strongly advised. See: https://urllib3.readthedocs.io/en/latest/advanced-usage.html#ssl-warnings\n",
      "  InsecureRequestWarning)\n"
     ]
    },
    {
     "name": "stdout",
     "output_type": "stream",
     "text": [
      "Ward 6\n",
      "Ward 8\n"
     ]
    },
    {
     "name": "stderr",
     "output_type": "stream",
     "text": [
      "C:\\WBG\\Anaconda\\lib\\site-packages\\urllib3\\connectionpool.py:847: InsecureRequestWarning: Unverified HTTPS request is being made. Adding certificate verification is strongly advised. See: https://urllib3.readthedocs.io/en/latest/advanced-usage.html#ssl-warnings\n",
      "  InsecureRequestWarning)\n",
      "C:\\WBG\\Anaconda\\lib\\site-packages\\urllib3\\connectionpool.py:847: InsecureRequestWarning: Unverified HTTPS request is being made. Adding certificate verification is strongly advised. See: https://urllib3.readthedocs.io/en/latest/advanced-usage.html#ssl-warnings\n",
      "  InsecureRequestWarning)\n"
     ]
    },
    {
     "name": "stdout",
     "output_type": "stream",
     "text": [
      "Ward 9\n",
      "Ward 14\n"
     ]
    },
    {
     "name": "stderr",
     "output_type": "stream",
     "text": [
      "C:\\WBG\\Anaconda\\lib\\site-packages\\urllib3\\connectionpool.py:847: InsecureRequestWarning: Unverified HTTPS request is being made. Adding certificate verification is strongly advised. See: https://urllib3.readthedocs.io/en/latest/advanced-usage.html#ssl-warnings\n",
      "  InsecureRequestWarning)\n",
      "C:\\WBG\\Anaconda\\lib\\site-packages\\urllib3\\connectionpool.py:847: InsecureRequestWarning: Unverified HTTPS request is being made. Adding certificate verification is strongly advised. See: https://urllib3.readthedocs.io/en/latest/advanced-usage.html#ssl-warnings\n",
      "  InsecureRequestWarning)\n"
     ]
    },
    {
     "name": "stdout",
     "output_type": "stream",
     "text": [
      "Ward 15\n",
      "Tan Son Nhi Ward\n"
     ]
    },
    {
     "name": "stderr",
     "output_type": "stream",
     "text": [
      "C:\\WBG\\Anaconda\\lib\\site-packages\\urllib3\\connectionpool.py:847: InsecureRequestWarning: Unverified HTTPS request is being made. Adding certificate verification is strongly advised. See: https://urllib3.readthedocs.io/en/latest/advanced-usage.html#ssl-warnings\n",
      "  InsecureRequestWarning)\n",
      "C:\\WBG\\Anaconda\\lib\\site-packages\\urllib3\\connectionpool.py:847: InsecureRequestWarning: Unverified HTTPS request is being made. Adding certificate verification is strongly advised. See: https://urllib3.readthedocs.io/en/latest/advanced-usage.html#ssl-warnings\n",
      "  InsecureRequestWarning)\n"
     ]
    },
    {
     "name": "stdout",
     "output_type": "stream",
     "text": [
      "Tay Thanh Ward\n",
      "Son Ky Ward\n"
     ]
    },
    {
     "name": "stderr",
     "output_type": "stream",
     "text": [
      "C:\\WBG\\Anaconda\\lib\\site-packages\\urllib3\\connectionpool.py:847: InsecureRequestWarning: Unverified HTTPS request is being made. Adding certificate verification is strongly advised. See: https://urllib3.readthedocs.io/en/latest/advanced-usage.html#ssl-warnings\n",
      "  InsecureRequestWarning)\n",
      "C:\\WBG\\Anaconda\\lib\\site-packages\\urllib3\\connectionpool.py:847: InsecureRequestWarning: Unverified HTTPS request is being made. Adding certificate verification is strongly advised. See: https://urllib3.readthedocs.io/en/latest/advanced-usage.html#ssl-warnings\n",
      "  InsecureRequestWarning)\n"
     ]
    },
    {
     "name": "stdout",
     "output_type": "stream",
     "text": [
      "Ward 10\n",
      "Ward 4\n"
     ]
    },
    {
     "name": "stderr",
     "output_type": "stream",
     "text": [
      "C:\\WBG\\Anaconda\\lib\\site-packages\\urllib3\\connectionpool.py:847: InsecureRequestWarning: Unverified HTTPS request is being made. Adding certificate verification is strongly advised. See: https://urllib3.readthedocs.io/en/latest/advanced-usage.html#ssl-warnings\n",
      "  InsecureRequestWarning)\n",
      "C:\\WBG\\Anaconda\\lib\\site-packages\\urllib3\\connectionpool.py:847: InsecureRequestWarning: Unverified HTTPS request is being made. Adding certificate verification is strongly advised. See: https://urllib3.readthedocs.io/en/latest/advanced-usage.html#ssl-warnings\n",
      "  InsecureRequestWarning)\n"
     ]
    },
    {
     "name": "stdout",
     "output_type": "stream",
     "text": [
      "Ward 5\n"
     ]
    },
    {
     "name": "stderr",
     "output_type": "stream",
     "text": [
      "C:\\WBG\\Anaconda\\lib\\site-packages\\urllib3\\connectionpool.py:847: InsecureRequestWarning: Unverified HTTPS request is being made. Adding certificate verification is strongly advised. See: https://urllib3.readthedocs.io/en/latest/advanced-usage.html#ssl-warnings\n",
      "  InsecureRequestWarning)\n"
     ]
    },
    {
     "name": "stdout",
     "output_type": "stream",
     "text": [
      "Ward 3\n",
      "Ward 2\n"
     ]
    },
    {
     "name": "stderr",
     "output_type": "stream",
     "text": [
      "C:\\WBG\\Anaconda\\lib\\site-packages\\urllib3\\connectionpool.py:847: InsecureRequestWarning: Unverified HTTPS request is being made. Adding certificate verification is strongly advised. See: https://urllib3.readthedocs.io/en/latest/advanced-usage.html#ssl-warnings\n",
      "  InsecureRequestWarning)\n",
      "C:\\WBG\\Anaconda\\lib\\site-packages\\urllib3\\connectionpool.py:847: InsecureRequestWarning: Unverified HTTPS request is being made. Adding certificate verification is strongly advised. See: https://urllib3.readthedocs.io/en/latest/advanced-usage.html#ssl-warnings\n",
      "  InsecureRequestWarning)\n"
     ]
    },
    {
     "name": "stdout",
     "output_type": "stream",
     "text": [
      "Ward 1\n",
      "Ward 15\n"
     ]
    },
    {
     "name": "stderr",
     "output_type": "stream",
     "text": [
      "C:\\WBG\\Anaconda\\lib\\site-packages\\urllib3\\connectionpool.py:847: InsecureRequestWarning: Unverified HTTPS request is being made. Adding certificate verification is strongly advised. See: https://urllib3.readthedocs.io/en/latest/advanced-usage.html#ssl-warnings\n",
      "  InsecureRequestWarning)\n",
      "C:\\WBG\\Anaconda\\lib\\site-packages\\urllib3\\connectionpool.py:847: InsecureRequestWarning: Unverified HTTPS request is being made. Adding certificate verification is strongly advised. See: https://urllib3.readthedocs.io/en/latest/advanced-usage.html#ssl-warnings\n",
      "  InsecureRequestWarning)\n"
     ]
    },
    {
     "name": "stdout",
     "output_type": "stream",
     "text": [
      "Ward 13\n",
      "Ward 14\n"
     ]
    },
    {
     "name": "stderr",
     "output_type": "stream",
     "text": [
      "C:\\WBG\\Anaconda\\lib\\site-packages\\urllib3\\connectionpool.py:847: InsecureRequestWarning: Unverified HTTPS request is being made. Adding certificate verification is strongly advised. See: https://urllib3.readthedocs.io/en/latest/advanced-usage.html#ssl-warnings\n",
      "  InsecureRequestWarning)\n",
      "C:\\WBG\\Anaconda\\lib\\site-packages\\urllib3\\connectionpool.py:847: InsecureRequestWarning: Unverified HTTPS request is being made. Adding certificate verification is strongly advised. See: https://urllib3.readthedocs.io/en/latest/advanced-usage.html#ssl-warnings\n",
      "  InsecureRequestWarning)\n"
     ]
    },
    {
     "name": "stdout",
     "output_type": "stream",
     "text": [
      "Ward 2\n"
     ]
    },
    {
     "name": "stderr",
     "output_type": "stream",
     "text": [
      "C:\\WBG\\Anaconda\\lib\\site-packages\\urllib3\\connectionpool.py:847: InsecureRequestWarning: Unverified HTTPS request is being made. Adding certificate verification is strongly advised. See: https://urllib3.readthedocs.io/en/latest/advanced-usage.html#ssl-warnings\n",
      "  InsecureRequestWarning)\n"
     ]
    },
    {
     "name": "stdout",
     "output_type": "stream",
     "text": [
      "Ward 4\n"
     ]
    },
    {
     "name": "stderr",
     "output_type": "stream",
     "text": [
      "C:\\WBG\\Anaconda\\lib\\site-packages\\urllib3\\connectionpool.py:847: InsecureRequestWarning: Unverified HTTPS request is being made. Adding certificate verification is strongly advised. See: https://urllib3.readthedocs.io/en/latest/advanced-usage.html#ssl-warnings\n",
      "  InsecureRequestWarning)\n",
      "C:\\WBG\\Anaconda\\lib\\site-packages\\urllib3\\connectionpool.py:847: InsecureRequestWarning: Unverified HTTPS request is being made. Adding certificate verification is strongly advised. See: https://urllib3.readthedocs.io/en/latest/advanced-usage.html#ssl-warnings\n",
      "  InsecureRequestWarning)\n"
     ]
    },
    {
     "name": "stdout",
     "output_type": "stream",
     "text": [
      "Ward 12\n",
      "Binh Tri Dong A Ward\n"
     ]
    },
    {
     "name": "stderr",
     "output_type": "stream",
     "text": [
      "C:\\WBG\\Anaconda\\lib\\site-packages\\urllib3\\connectionpool.py:847: InsecureRequestWarning: Unverified HTTPS request is being made. Adding certificate verification is strongly advised. See: https://urllib3.readthedocs.io/en/latest/advanced-usage.html#ssl-warnings\n",
      "  InsecureRequestWarning)\n",
      "C:\\WBG\\Anaconda\\lib\\site-packages\\urllib3\\connectionpool.py:847: InsecureRequestWarning: Unverified HTTPS request is being made. Adding certificate verification is strongly advised. See: https://urllib3.readthedocs.io/en/latest/advanced-usage.html#ssl-warnings\n",
      "  InsecureRequestWarning)\n"
     ]
    },
    {
     "name": "stdout",
     "output_type": "stream",
     "text": [
      "Phu Hoa Dong Ward\n",
      "Trung Lap Ha Ward\n"
     ]
    },
    {
     "name": "stderr",
     "output_type": "stream",
     "text": [
      "C:\\WBG\\Anaconda\\lib\\site-packages\\urllib3\\connectionpool.py:847: InsecureRequestWarning: Unverified HTTPS request is being made. Adding certificate verification is strongly advised. See: https://urllib3.readthedocs.io/en/latest/advanced-usage.html#ssl-warnings\n",
      "  InsecureRequestWarning)\n",
      "C:\\WBG\\Anaconda\\lib\\site-packages\\urllib3\\connectionpool.py:847: InsecureRequestWarning: Unverified HTTPS request is being made. Adding certificate verification is strongly advised. See: https://urllib3.readthedocs.io/en/latest/advanced-usage.html#ssl-warnings\n",
      "  InsecureRequestWarning)\n"
     ]
    },
    {
     "name": "stdout",
     "output_type": "stream",
     "text": [
      "Trung An Ward\n",
      "Phuoc Thanh Ward\n"
     ]
    },
    {
     "name": "stderr",
     "output_type": "stream",
     "text": [
      "C:\\WBG\\Anaconda\\lib\\site-packages\\urllib3\\connectionpool.py:847: InsecureRequestWarning: Unverified HTTPS request is being made. Adding certificate verification is strongly advised. See: https://urllib3.readthedocs.io/en/latest/advanced-usage.html#ssl-warnings\n",
      "  InsecureRequestWarning)\n",
      "C:\\WBG\\Anaconda\\lib\\site-packages\\urllib3\\connectionpool.py:847: InsecureRequestWarning: Unverified HTTPS request is being made. Adding certificate verification is strongly advised. See: https://urllib3.readthedocs.io/en/latest/advanced-usage.html#ssl-warnings\n",
      "  InsecureRequestWarning)\n",
      "C:\\WBG\\Anaconda\\lib\\site-packages\\urllib3\\connectionpool.py:847: InsecureRequestWarning: Unverified HTTPS request is being made. Adding certificate verification is strongly advised. See: https://urllib3.readthedocs.io/en/latest/advanced-usage.html#ssl-warnings\n",
      "  InsecureRequestWarning)\n"
     ]
    },
    {
     "name": "stdout",
     "output_type": "stream",
     "text": [
      "Phuoc Hiep Ward\n",
      "Tan An Hoi Ward\n"
     ]
    },
    {
     "name": "stderr",
     "output_type": "stream",
     "text": [
      "C:\\WBG\\Anaconda\\lib\\site-packages\\urllib3\\connectionpool.py:847: InsecureRequestWarning: Unverified HTTPS request is being made. Adding certificate verification is strongly advised. See: https://urllib3.readthedocs.io/en/latest/advanced-usage.html#ssl-warnings\n",
      "  InsecureRequestWarning)\n"
     ]
    },
    {
     "name": "stdout",
     "output_type": "stream",
     "text": [
      "Phuoc Vinh An Ward\n",
      "Thai My Ward\n",
      "Tan Thanh Tay Ward\n",
      "Hoa Phu Ward"
     ]
    },
    {
     "name": "stderr",
     "output_type": "stream",
     "text": [
      "C:\\WBG\\Anaconda\\lib\\site-packages\\urllib3\\connectionpool.py:847: InsecureRequestWarning: Unverified HTTPS request is being made. Adding certificate verification is strongly advised. See: https://urllib3.readthedocs.io/en/latest/advanced-usage.html#ssl-warnings\n",
      "  InsecureRequestWarning)\n",
      "C:\\WBG\\Anaconda\\lib\\site-packages\\urllib3\\connectionpool.py:847: InsecureRequestWarning: Unverified HTTPS request is being made. Adding certificate verification is strongly advised. See: https://urllib3.readthedocs.io/en/latest/advanced-usage.html#ssl-warnings\n",
      "  InsecureRequestWarning)\n"
     ]
    },
    {
     "name": "stdout",
     "output_type": "stream",
     "text": [
      "\n",
      "Tan Thanh Dong Ward\n"
     ]
    },
    {
     "name": "stderr",
     "output_type": "stream",
     "text": [
      "C:\\WBG\\Anaconda\\lib\\site-packages\\urllib3\\connectionpool.py:847: InsecureRequestWarning: Unverified HTTPS request is being made. Adding certificate verification is strongly advised. See: https://urllib3.readthedocs.io/en/latest/advanced-usage.html#ssl-warnings\n",
      "  InsecureRequestWarning)\n",
      "C:\\WBG\\Anaconda\\lib\\site-packages\\urllib3\\connectionpool.py:847: InsecureRequestWarning: Unverified HTTPS request is being made. Adding certificate verification is strongly advised. See: https://urllib3.readthedocs.io/en/latest/advanced-usage.html#ssl-warnings\n",
      "  InsecureRequestWarning)\n"
     ]
    },
    {
     "name": "stdout",
     "output_type": "stream",
     "text": [
      "Binh My Ward\n",
      "Tan Phu Trung Ward\n"
     ]
    },
    {
     "name": "stderr",
     "output_type": "stream",
     "text": [
      "C:\\WBG\\Anaconda\\lib\\site-packages\\urllib3\\connectionpool.py:847: InsecureRequestWarning: Unverified HTTPS request is being made. Adding certificate verification is strongly advised. See: https://urllib3.readthedocs.io/en/latest/advanced-usage.html#ssl-warnings\n",
      "  InsecureRequestWarning)\n",
      "C:\\WBG\\Anaconda\\lib\\site-packages\\urllib3\\connectionpool.py:847: InsecureRequestWarning: Unverified HTTPS request is being made. Adding certificate verification is strongly advised. See: https://urllib3.readthedocs.io/en/latest/advanced-usage.html#ssl-warnings\n",
      "  InsecureRequestWarning)\n"
     ]
    },
    {
     "name": "stdout",
     "output_type": "stream",
     "text": [
      "Tan Thong Hoi Ward\n",
      "Thi Tran Hoc Mon\n"
     ]
    },
    {
     "name": "stderr",
     "output_type": "stream",
     "text": [
      "C:\\WBG\\Anaconda\\lib\\site-packages\\urllib3\\connectionpool.py:847: InsecureRequestWarning: Unverified HTTPS request is being made. Adding certificate verification is strongly advised. See: https://urllib3.readthedocs.io/en/latest/advanced-usage.html#ssl-warnings\n",
      "  InsecureRequestWarning)\n",
      "C:\\WBG\\Anaconda\\lib\\site-packages\\urllib3\\connectionpool.py:847: InsecureRequestWarning: Unverified HTTPS request is being made. Adding certificate verification is strongly advised. See: https://urllib3.readthedocs.io/en/latest/advanced-usage.html#ssl-warnings\n",
      "  InsecureRequestWarning)\n"
     ]
    },
    {
     "name": "stdout",
     "output_type": "stream",
     "text": [
      "Tan Hiep Ward\n",
      "Nhi Binh Ward\n"
     ]
    },
    {
     "name": "stderr",
     "output_type": "stream",
     "text": [
      "C:\\WBG\\Anaconda\\lib\\site-packages\\urllib3\\connectionpool.py:847: InsecureRequestWarning: Unverified HTTPS request is being made. Adding certificate verification is strongly advised. See: https://urllib3.readthedocs.io/en/latest/advanced-usage.html#ssl-warnings\n",
      "  InsecureRequestWarning)\n",
      "C:\\WBG\\Anaconda\\lib\\site-packages\\urllib3\\connectionpool.py:847: InsecureRequestWarning: Unverified HTTPS request is being made. Adding certificate verification is strongly advised. See: https://urllib3.readthedocs.io/en/latest/advanced-usage.html#ssl-warnings\n",
      "  InsecureRequestWarning)\n"
     ]
    },
    {
     "name": "stdout",
     "output_type": "stream",
     "text": [
      "Dong Thanh Ward\n",
      "Tan Thoi Nhi Ward\n"
     ]
    },
    {
     "name": "stderr",
     "output_type": "stream",
     "text": [
      "C:\\WBG\\Anaconda\\lib\\site-packages\\urllib3\\connectionpool.py:847: InsecureRequestWarning: Unverified HTTPS request is being made. Adding certificate verification is strongly advised. See: https://urllib3.readthedocs.io/en/latest/advanced-usage.html#ssl-warnings\n",
      "  InsecureRequestWarning)\n",
      "C:\\WBG\\Anaconda\\lib\\site-packages\\urllib3\\connectionpool.py:847: InsecureRequestWarning: Unverified HTTPS request is being made. Adding certificate verification is strongly advised. See: https://urllib3.readthedocs.io/en/latest/advanced-usage.html#ssl-warnings\n",
      "  InsecureRequestWarning)\n"
     ]
    },
    {
     "name": "stdout",
     "output_type": "stream",
     "text": [
      "Thoi Tam Thon Ward\n"
     ]
    },
    {
     "name": "stderr",
     "output_type": "stream",
     "text": [
      "C:\\WBG\\Anaconda\\lib\\site-packages\\urllib3\\connectionpool.py:847: InsecureRequestWarning: Unverified HTTPS request is being made. Adding certificate verification is strongly advised. See: https://urllib3.readthedocs.io/en/latest/advanced-usage.html#ssl-warnings\n",
      "  InsecureRequestWarning)\n"
     ]
    },
    {
     "name": "stdout",
     "output_type": "stream",
     "text": [
      "Xuan Thoi Son Ward\n",
      "Tan Xuan Ward\n"
     ]
    },
    {
     "name": "stderr",
     "output_type": "stream",
     "text": [
      "C:\\WBG\\Anaconda\\lib\\site-packages\\urllib3\\connectionpool.py:847: InsecureRequestWarning: Unverified HTTPS request is being made. Adding certificate verification is strongly advised. See: https://urllib3.readthedocs.io/en/latest/advanced-usage.html#ssl-warnings\n",
      "  InsecureRequestWarning)\n",
      "C:\\WBG\\Anaconda\\lib\\site-packages\\urllib3\\connectionpool.py:847: InsecureRequestWarning: Unverified HTTPS request is being made. Adding certificate verification is strongly advised. See: https://urllib3.readthedocs.io/en/latest/advanced-usage.html#ssl-warnings\n",
      "  InsecureRequestWarning)\n"
     ]
    }
   ],
   "source": [
    "HCMC_venues = getNearbyVenues(names = HCMC_ward['Neighborhood'],\n",
    "                              latitudes = HCMC_ward['latitude'],\n",
    "                              longitudes = HCMC_ward['longitude'])"
   ]
  },
  {
   "cell_type": "markdown",
   "metadata": {},
   "source": [
    "Let's see the result."
   ]
  },
  {
   "cell_type": "code",
   "execution_count": 12,
   "metadata": {},
   "outputs": [
    {
     "name": "stdout",
     "output_type": "stream",
     "text": [
      "We have extracted 2955 data from foursquare API\n"
     ]
    },
    {
     "data": {
      "text/html": [
       "<div>\n",
       "<style scoped>\n",
       "    .dataframe tbody tr th:only-of-type {\n",
       "        vertical-align: middle;\n",
       "    }\n",
       "\n",
       "    .dataframe tbody tr th {\n",
       "        vertical-align: top;\n",
       "    }\n",
       "\n",
       "    .dataframe thead th {\n",
       "        text-align: right;\n",
       "    }\n",
       "</style>\n",
       "<table border=\"1\" class=\"dataframe\">\n",
       "  <thead>\n",
       "    <tr style=\"text-align: right;\">\n",
       "      <th></th>\n",
       "      <th>Neighborhood</th>\n",
       "      <th>Neighborhood Latitude</th>\n",
       "      <th>Neighborhood Longitude</th>\n",
       "      <th>Venue</th>\n",
       "      <th>Venue Latitude</th>\n",
       "      <th>Venue Longitude</th>\n",
       "      <th>Venue Category</th>\n",
       "    </tr>\n",
       "  </thead>\n",
       "  <tbody>\n",
       "    <tr>\n",
       "      <th>0</th>\n",
       "      <td>Ward 10</td>\n",
       "      <td>10.795452</td>\n",
       "      <td>106.671038</td>\n",
       "      <td>Cơm Tấm Ba Ghiền</td>\n",
       "      <td>10.794489</td>\n",
       "      <td>106.669443</td>\n",
       "      <td>Vietnamese Restaurant</td>\n",
       "    </tr>\n",
       "    <tr>\n",
       "      <th>1</th>\n",
       "      <td>Ward 10</td>\n",
       "      <td>10.795452</td>\n",
       "      <td>106.671038</td>\n",
       "      <td>EASTIN Grand Hotel Saigon</td>\n",
       "      <td>10.796807</td>\n",
       "      <td>106.673363</td>\n",
       "      <td>Hotel</td>\n",
       "    </tr>\n",
       "    <tr>\n",
       "      <th>2</th>\n",
       "      <td>Ward 10</td>\n",
       "      <td>10.795452</td>\n",
       "      <td>106.671038</td>\n",
       "      <td>Tung Garden</td>\n",
       "      <td>10.796832</td>\n",
       "      <td>106.673386</td>\n",
       "      <td>Cantonese Restaurant</td>\n",
       "    </tr>\n",
       "    <tr>\n",
       "      <th>3</th>\n",
       "      <td>Ward 10</td>\n",
       "      <td>10.795452</td>\n",
       "      <td>106.671038</td>\n",
       "      <td>Hoàng Ty</td>\n",
       "      <td>10.795368</td>\n",
       "      <td>106.672420</td>\n",
       "      <td>Vietnamese Restaurant</td>\n",
       "    </tr>\n",
       "    <tr>\n",
       "      <th>4</th>\n",
       "      <td>Ward 10</td>\n",
       "      <td>10.795452</td>\n",
       "      <td>106.671038</td>\n",
       "      <td>TEE Cafe</td>\n",
       "      <td>10.797190</td>\n",
       "      <td>106.670562</td>\n",
       "      <td>Café</td>\n",
       "    </tr>\n",
       "  </tbody>\n",
       "</table>\n",
       "</div>"
      ],
      "text/plain": [
       "  Neighborhood  Neighborhood Latitude  Neighborhood Longitude  \\\n",
       "0      Ward 10              10.795452              106.671038   \n",
       "1      Ward 10              10.795452              106.671038   \n",
       "2      Ward 10              10.795452              106.671038   \n",
       "3      Ward 10              10.795452              106.671038   \n",
       "4      Ward 10              10.795452              106.671038   \n",
       "\n",
       "                       Venue  Venue Latitude  Venue Longitude  \\\n",
       "0           Cơm Tấm Ba Ghiền       10.794489       106.669443   \n",
       "1  EASTIN Grand Hotel Saigon       10.796807       106.673363   \n",
       "2                Tung Garden       10.796832       106.673386   \n",
       "3                   Hoàng Ty       10.795368       106.672420   \n",
       "4                   TEE Cafe       10.797190       106.670562   \n",
       "\n",
       "          Venue Category  \n",
       "0  Vietnamese Restaurant  \n",
       "1                  Hotel  \n",
       "2   Cantonese Restaurant  \n",
       "3  Vietnamese Restaurant  \n",
       "4                   Café  "
      ]
     },
     "execution_count": 12,
     "metadata": {},
     "output_type": "execute_result"
    }
   ],
   "source": [
    "print('We have extracted {} data from foursquare API'.format(HCMC_venues.shape[0]))\n",
    "HCMC_venues.head()"
   ]
  },
  {
   "cell_type": "code",
   "execution_count": 13,
   "metadata": {},
   "outputs": [
    {
     "data": {
      "text/plain": [
       "Vietnamese Restaurant            0.137733\n",
       "Café                             0.136379\n",
       "Coffee Shop                      0.066328\n",
       "Asian Restaurant                 0.044332\n",
       "Chinese Restaurant               0.034518\n",
       "Seafood Restaurant               0.032487\n",
       "Hotel                            0.025719\n",
       "Vegetarian / Vegan Restaurant    0.019966\n",
       "Dessert Shop                     0.019289\n",
       "Noodle House                     0.017259\n",
       "Japanese Restaurant              0.016920\n",
       "BBQ Joint                        0.015567\n",
       "Food Truck                       0.014552\n",
       "Restaurant                       0.013536\n",
       "Flea Market                      0.012521\n",
       "Name: Venue Category, dtype: float64"
      ]
     },
     "execution_count": 13,
     "metadata": {},
     "output_type": "execute_result"
    }
   ],
   "source": [
    "# Observe the percentage of the venue category.\n",
    "HCMC_venues['Venue Category'].value_counts(normalize = True).head(15)"
   ]
  },
  {
   "cell_type": "markdown",
   "metadata": {},
   "source": [
    "#### Create dummy variable by venue category, and add and moving the number of columns of Neighborhood."
   ]
  },
  {
   "cell_type": "code",
   "execution_count": 14,
   "metadata": {},
   "outputs": [
    {
     "data": {
      "text/html": [
       "<div>\n",
       "<style scoped>\n",
       "    .dataframe tbody tr th:only-of-type {\n",
       "        vertical-align: middle;\n",
       "    }\n",
       "\n",
       "    .dataframe tbody tr th {\n",
       "        vertical-align: top;\n",
       "    }\n",
       "\n",
       "    .dataframe thead th {\n",
       "        text-align: right;\n",
       "    }\n",
       "</style>\n",
       "<table border=\"1\" class=\"dataframe\">\n",
       "  <thead>\n",
       "    <tr style=\"text-align: right;\">\n",
       "      <th></th>\n",
       "      <th>Afghan Restaurant</th>\n",
       "      <th>Airport Terminal</th>\n",
       "      <th>American Restaurant</th>\n",
       "      <th>Antique Shop</th>\n",
       "      <th>Argentinian Restaurant</th>\n",
       "      <th>Art Gallery</th>\n",
       "      <th>Arts &amp; Crafts Store</th>\n",
       "      <th>Arts &amp; Entertainment</th>\n",
       "      <th>Asian Restaurant</th>\n",
       "      <th>Athletics &amp; Sports</th>\n",
       "      <th>...</th>\n",
       "      <th>Tunnel</th>\n",
       "      <th>Udon Restaurant</th>\n",
       "      <th>Vegetarian / Vegan Restaurant</th>\n",
       "      <th>Video Game Store</th>\n",
       "      <th>Vietnamese Restaurant</th>\n",
       "      <th>Warehouse Store</th>\n",
       "      <th>Water Park</th>\n",
       "      <th>Whisky Bar</th>\n",
       "      <th>Women's Store</th>\n",
       "      <th>Yoga Studio</th>\n",
       "    </tr>\n",
       "  </thead>\n",
       "  <tbody>\n",
       "    <tr>\n",
       "      <th>0</th>\n",
       "      <td>0</td>\n",
       "      <td>0</td>\n",
       "      <td>0</td>\n",
       "      <td>0</td>\n",
       "      <td>0</td>\n",
       "      <td>0</td>\n",
       "      <td>0</td>\n",
       "      <td>0</td>\n",
       "      <td>0</td>\n",
       "      <td>0</td>\n",
       "      <td>...</td>\n",
       "      <td>0</td>\n",
       "      <td>0</td>\n",
       "      <td>0</td>\n",
       "      <td>0</td>\n",
       "      <td>1</td>\n",
       "      <td>0</td>\n",
       "      <td>0</td>\n",
       "      <td>0</td>\n",
       "      <td>0</td>\n",
       "      <td>0</td>\n",
       "    </tr>\n",
       "  </tbody>\n",
       "</table>\n",
       "<p>1 rows × 195 columns</p>\n",
       "</div>"
      ],
      "text/plain": [
       "   Afghan Restaurant  Airport Terminal  American Restaurant  Antique Shop  \\\n",
       "0                  0                 0                    0             0   \n",
       "\n",
       "   Argentinian Restaurant  Art Gallery  Arts & Crafts Store  \\\n",
       "0                       0            0                    0   \n",
       "\n",
       "   Arts & Entertainment  Asian Restaurant  Athletics & Sports  ...  Tunnel  \\\n",
       "0                     0                 0                   0  ...       0   \n",
       "\n",
       "   Udon Restaurant  Vegetarian / Vegan Restaurant  Video Game Store  \\\n",
       "0                0                              0                 0   \n",
       "\n",
       "   Vietnamese Restaurant  Warehouse Store  Water Park  Whisky Bar  \\\n",
       "0                      1                0           0           0   \n",
       "\n",
       "   Women's Store  Yoga Studio  \n",
       "0              0            0  \n",
       "\n",
       "[1 rows x 195 columns]"
      ]
     },
     "execution_count": 14,
     "metadata": {},
     "output_type": "execute_result"
    }
   ],
   "source": [
    "# Create dummy variables by venue category\n",
    "HCMC_dummy = pd.get_dummies(HCMC_venues[['Venue Category']], prefix=\"\", prefix_sep=\"\")\n",
    "HCMC_dummy.head(1)"
   ]
  },
  {
   "cell_type": "code",
   "execution_count": 15,
   "metadata": {},
   "outputs": [
    {
     "data": {
      "text/html": [
       "<div>\n",
       "<style scoped>\n",
       "    .dataframe tbody tr th:only-of-type {\n",
       "        vertical-align: middle;\n",
       "    }\n",
       "\n",
       "    .dataframe tbody tr th {\n",
       "        vertical-align: top;\n",
       "    }\n",
       "\n",
       "    .dataframe thead th {\n",
       "        text-align: right;\n",
       "    }\n",
       "</style>\n",
       "<table border=\"1\" class=\"dataframe\">\n",
       "  <thead>\n",
       "    <tr style=\"text-align: right;\">\n",
       "      <th></th>\n",
       "      <th>Afghan Restaurant</th>\n",
       "      <th>Airport Terminal</th>\n",
       "      <th>American Restaurant</th>\n",
       "      <th>Antique Shop</th>\n",
       "      <th>Argentinian Restaurant</th>\n",
       "      <th>Art Gallery</th>\n",
       "      <th>Arts &amp; Crafts Store</th>\n",
       "      <th>Arts &amp; Entertainment</th>\n",
       "      <th>Asian Restaurant</th>\n",
       "      <th>Athletics &amp; Sports</th>\n",
       "      <th>...</th>\n",
       "      <th>Udon Restaurant</th>\n",
       "      <th>Vegetarian / Vegan Restaurant</th>\n",
       "      <th>Video Game Store</th>\n",
       "      <th>Vietnamese Restaurant</th>\n",
       "      <th>Warehouse Store</th>\n",
       "      <th>Water Park</th>\n",
       "      <th>Whisky Bar</th>\n",
       "      <th>Women's Store</th>\n",
       "      <th>Yoga Studio</th>\n",
       "      <th>Neighborhood</th>\n",
       "    </tr>\n",
       "  </thead>\n",
       "  <tbody>\n",
       "    <tr>\n",
       "      <th>0</th>\n",
       "      <td>0</td>\n",
       "      <td>0</td>\n",
       "      <td>0</td>\n",
       "      <td>0</td>\n",
       "      <td>0</td>\n",
       "      <td>0</td>\n",
       "      <td>0</td>\n",
       "      <td>0</td>\n",
       "      <td>0</td>\n",
       "      <td>0</td>\n",
       "      <td>...</td>\n",
       "      <td>0</td>\n",
       "      <td>0</td>\n",
       "      <td>0</td>\n",
       "      <td>1</td>\n",
       "      <td>0</td>\n",
       "      <td>0</td>\n",
       "      <td>0</td>\n",
       "      <td>0</td>\n",
       "      <td>0</td>\n",
       "      <td>Ward 10</td>\n",
       "    </tr>\n",
       "  </tbody>\n",
       "</table>\n",
       "<p>1 rows × 196 columns</p>\n",
       "</div>"
      ],
      "text/plain": [
       "   Afghan Restaurant  Airport Terminal  American Restaurant  Antique Shop  \\\n",
       "0                  0                 0                    0             0   \n",
       "\n",
       "   Argentinian Restaurant  Art Gallery  Arts & Crafts Store  \\\n",
       "0                       0            0                    0   \n",
       "\n",
       "   Arts & Entertainment  Asian Restaurant  Athletics & Sports  ...  \\\n",
       "0                     0                 0                   0  ...   \n",
       "\n",
       "   Udon Restaurant  Vegetarian / Vegan Restaurant  Video Game Store  \\\n",
       "0                0                              0                 0   \n",
       "\n",
       "   Vietnamese Restaurant  Warehouse Store  Water Park  Whisky Bar  \\\n",
       "0                      1                0           0           0   \n",
       "\n",
       "   Women's Store  Yoga Studio  Neighborhood  \n",
       "0              0            0       Ward 10  \n",
       "\n",
       "[1 rows x 196 columns]"
      ]
     },
     "execution_count": 15,
     "metadata": {},
     "output_type": "execute_result"
    }
   ],
   "source": [
    "# Inseart Neighborhood column\n",
    "HCMC_dummy['Neighborhood'] = HCMC_venues['Neighborhood'] \n",
    "HCMC_dummy.head(1)"
   ]
  },
  {
   "cell_type": "code",
   "execution_count": 16,
   "metadata": {},
   "outputs": [
    {
     "name": "stdout",
     "output_type": "stream",
     "text": [
      "2955\n"
     ]
    },
    {
     "data": {
      "text/html": [
       "<div>\n",
       "<style scoped>\n",
       "    .dataframe tbody tr th:only-of-type {\n",
       "        vertical-align: middle;\n",
       "    }\n",
       "\n",
       "    .dataframe tbody tr th {\n",
       "        vertical-align: top;\n",
       "    }\n",
       "\n",
       "    .dataframe thead th {\n",
       "        text-align: right;\n",
       "    }\n",
       "</style>\n",
       "<table border=\"1\" class=\"dataframe\">\n",
       "  <thead>\n",
       "    <tr style=\"text-align: right;\">\n",
       "      <th></th>\n",
       "      <th>Neighborhood</th>\n",
       "      <th>Afghan Restaurant</th>\n",
       "      <th>Airport Terminal</th>\n",
       "      <th>American Restaurant</th>\n",
       "      <th>Antique Shop</th>\n",
       "      <th>Argentinian Restaurant</th>\n",
       "      <th>Art Gallery</th>\n",
       "      <th>Arts &amp; Crafts Store</th>\n",
       "      <th>Arts &amp; Entertainment</th>\n",
       "      <th>Asian Restaurant</th>\n",
       "      <th>...</th>\n",
       "      <th>Tunnel</th>\n",
       "      <th>Udon Restaurant</th>\n",
       "      <th>Vegetarian / Vegan Restaurant</th>\n",
       "      <th>Video Game Store</th>\n",
       "      <th>Vietnamese Restaurant</th>\n",
       "      <th>Warehouse Store</th>\n",
       "      <th>Water Park</th>\n",
       "      <th>Whisky Bar</th>\n",
       "      <th>Women's Store</th>\n",
       "      <th>Yoga Studio</th>\n",
       "    </tr>\n",
       "  </thead>\n",
       "  <tbody>\n",
       "    <tr>\n",
       "      <th>0</th>\n",
       "      <td>Ward 10</td>\n",
       "      <td>0</td>\n",
       "      <td>0</td>\n",
       "      <td>0</td>\n",
       "      <td>0</td>\n",
       "      <td>0</td>\n",
       "      <td>0</td>\n",
       "      <td>0</td>\n",
       "      <td>0</td>\n",
       "      <td>0</td>\n",
       "      <td>...</td>\n",
       "      <td>0</td>\n",
       "      <td>0</td>\n",
       "      <td>0</td>\n",
       "      <td>0</td>\n",
       "      <td>1</td>\n",
       "      <td>0</td>\n",
       "      <td>0</td>\n",
       "      <td>0</td>\n",
       "      <td>0</td>\n",
       "      <td>0</td>\n",
       "    </tr>\n",
       "    <tr>\n",
       "      <th>1</th>\n",
       "      <td>Ward 10</td>\n",
       "      <td>0</td>\n",
       "      <td>0</td>\n",
       "      <td>0</td>\n",
       "      <td>0</td>\n",
       "      <td>0</td>\n",
       "      <td>0</td>\n",
       "      <td>0</td>\n",
       "      <td>0</td>\n",
       "      <td>0</td>\n",
       "      <td>...</td>\n",
       "      <td>0</td>\n",
       "      <td>0</td>\n",
       "      <td>0</td>\n",
       "      <td>0</td>\n",
       "      <td>0</td>\n",
       "      <td>0</td>\n",
       "      <td>0</td>\n",
       "      <td>0</td>\n",
       "      <td>0</td>\n",
       "      <td>0</td>\n",
       "    </tr>\n",
       "    <tr>\n",
       "      <th>2</th>\n",
       "      <td>Ward 10</td>\n",
       "      <td>0</td>\n",
       "      <td>0</td>\n",
       "      <td>0</td>\n",
       "      <td>0</td>\n",
       "      <td>0</td>\n",
       "      <td>0</td>\n",
       "      <td>0</td>\n",
       "      <td>0</td>\n",
       "      <td>0</td>\n",
       "      <td>...</td>\n",
       "      <td>0</td>\n",
       "      <td>0</td>\n",
       "      <td>0</td>\n",
       "      <td>0</td>\n",
       "      <td>0</td>\n",
       "      <td>0</td>\n",
       "      <td>0</td>\n",
       "      <td>0</td>\n",
       "      <td>0</td>\n",
       "      <td>0</td>\n",
       "    </tr>\n",
       "    <tr>\n",
       "      <th>3</th>\n",
       "      <td>Ward 10</td>\n",
       "      <td>0</td>\n",
       "      <td>0</td>\n",
       "      <td>0</td>\n",
       "      <td>0</td>\n",
       "      <td>0</td>\n",
       "      <td>0</td>\n",
       "      <td>0</td>\n",
       "      <td>0</td>\n",
       "      <td>0</td>\n",
       "      <td>...</td>\n",
       "      <td>0</td>\n",
       "      <td>0</td>\n",
       "      <td>0</td>\n",
       "      <td>0</td>\n",
       "      <td>1</td>\n",
       "      <td>0</td>\n",
       "      <td>0</td>\n",
       "      <td>0</td>\n",
       "      <td>0</td>\n",
       "      <td>0</td>\n",
       "    </tr>\n",
       "    <tr>\n",
       "      <th>4</th>\n",
       "      <td>Ward 10</td>\n",
       "      <td>0</td>\n",
       "      <td>0</td>\n",
       "      <td>0</td>\n",
       "      <td>0</td>\n",
       "      <td>0</td>\n",
       "      <td>0</td>\n",
       "      <td>0</td>\n",
       "      <td>0</td>\n",
       "      <td>0</td>\n",
       "      <td>...</td>\n",
       "      <td>0</td>\n",
       "      <td>0</td>\n",
       "      <td>0</td>\n",
       "      <td>0</td>\n",
       "      <td>0</td>\n",
       "      <td>0</td>\n",
       "      <td>0</td>\n",
       "      <td>0</td>\n",
       "      <td>0</td>\n",
       "      <td>0</td>\n",
       "    </tr>\n",
       "  </tbody>\n",
       "</table>\n",
       "<p>5 rows × 196 columns</p>\n",
       "</div>"
      ],
      "text/plain": [
       "  Neighborhood  Afghan Restaurant  Airport Terminal  American Restaurant  \\\n",
       "0      Ward 10                  0                 0                    0   \n",
       "1      Ward 10                  0                 0                    0   \n",
       "2      Ward 10                  0                 0                    0   \n",
       "3      Ward 10                  0                 0                    0   \n",
       "4      Ward 10                  0                 0                    0   \n",
       "\n",
       "   Antique Shop  Argentinian Restaurant  Art Gallery  Arts & Crafts Store  \\\n",
       "0             0                       0            0                    0   \n",
       "1             0                       0            0                    0   \n",
       "2             0                       0            0                    0   \n",
       "3             0                       0            0                    0   \n",
       "4             0                       0            0                    0   \n",
       "\n",
       "   Arts & Entertainment  Asian Restaurant  ...  Tunnel  Udon Restaurant  \\\n",
       "0                     0                 0  ...       0                0   \n",
       "1                     0                 0  ...       0                0   \n",
       "2                     0                 0  ...       0                0   \n",
       "3                     0                 0  ...       0                0   \n",
       "4                     0                 0  ...       0                0   \n",
       "\n",
       "   Vegetarian / Vegan Restaurant  Video Game Store  Vietnamese Restaurant  \\\n",
       "0                              0                 0                      1   \n",
       "1                              0                 0                      0   \n",
       "2                              0                 0                      0   \n",
       "3                              0                 0                      1   \n",
       "4                              0                 0                      0   \n",
       "\n",
       "   Warehouse Store  Water Park  Whisky Bar  Women's Store  Yoga Studio  \n",
       "0                0           0           0              0            0  \n",
       "1                0           0           0              0            0  \n",
       "2                0           0           0              0            0  \n",
       "3                0           0           0              0            0  \n",
       "4                0           0           0              0            0  \n",
       "\n",
       "[5 rows x 196 columns]"
      ]
     },
     "execution_count": 16,
     "metadata": {},
     "output_type": "execute_result"
    }
   ],
   "source": [
    "# Moving Neighborhood column to the front\n",
    "fixed_columns = [HCMC_dummy.columns[-1]] + list(HCMC_dummy.columns[:-1])\n",
    "HCMC_dummy = HCMC_dummy[fixed_columns]\n",
    "print(HCMC_dummy.shape[0])\n",
    "HCMC_dummy.head()"
   ]
  },
  {
   "cell_type": "markdown",
   "metadata": {},
   "source": [
    "#### Obtaining mean value of each category by neighborhood"
   ]
  },
  {
   "cell_type": "code",
   "execution_count": 17,
   "metadata": {},
   "outputs": [
    {
     "name": "stdout",
     "output_type": "stream",
     "text": [
      "121\n"
     ]
    },
    {
     "data": {
      "text/html": [
       "<div>\n",
       "<style scoped>\n",
       "    .dataframe tbody tr th:only-of-type {\n",
       "        vertical-align: middle;\n",
       "    }\n",
       "\n",
       "    .dataframe tbody tr th {\n",
       "        vertical-align: top;\n",
       "    }\n",
       "\n",
       "    .dataframe thead th {\n",
       "        text-align: right;\n",
       "    }\n",
       "</style>\n",
       "<table border=\"1\" class=\"dataframe\">\n",
       "  <thead>\n",
       "    <tr style=\"text-align: right;\">\n",
       "      <th></th>\n",
       "      <th>Neighborhood</th>\n",
       "      <th>Afghan Restaurant</th>\n",
       "      <th>Airport Terminal</th>\n",
       "      <th>American Restaurant</th>\n",
       "      <th>Antique Shop</th>\n",
       "      <th>Argentinian Restaurant</th>\n",
       "      <th>Art Gallery</th>\n",
       "      <th>Arts &amp; Crafts Store</th>\n",
       "      <th>Arts &amp; Entertainment</th>\n",
       "      <th>Asian Restaurant</th>\n",
       "      <th>...</th>\n",
       "      <th>Tunnel</th>\n",
       "      <th>Udon Restaurant</th>\n",
       "      <th>Vegetarian / Vegan Restaurant</th>\n",
       "      <th>Video Game Store</th>\n",
       "      <th>Vietnamese Restaurant</th>\n",
       "      <th>Warehouse Store</th>\n",
       "      <th>Water Park</th>\n",
       "      <th>Whisky Bar</th>\n",
       "      <th>Women's Store</th>\n",
       "      <th>Yoga Studio</th>\n",
       "    </tr>\n",
       "  </thead>\n",
       "  <tbody>\n",
       "    <tr>\n",
       "      <th>0</th>\n",
       "      <td>An Khanh Ward</td>\n",
       "      <td>0.0</td>\n",
       "      <td>0.0</td>\n",
       "      <td>0.0</td>\n",
       "      <td>0.0</td>\n",
       "      <td>0.0</td>\n",
       "      <td>0.0</td>\n",
       "      <td>0.0</td>\n",
       "      <td>0.0</td>\n",
       "      <td>0.000000</td>\n",
       "      <td>...</td>\n",
       "      <td>0.0</td>\n",
       "      <td>0.0</td>\n",
       "      <td>0.0</td>\n",
       "      <td>0.0</td>\n",
       "      <td>1.0</td>\n",
       "      <td>0.0</td>\n",
       "      <td>0.0</td>\n",
       "      <td>0.0</td>\n",
       "      <td>0.0</td>\n",
       "      <td>0.0</td>\n",
       "    </tr>\n",
       "    <tr>\n",
       "      <th>1</th>\n",
       "      <td>An Lac A Ward</td>\n",
       "      <td>0.0</td>\n",
       "      <td>0.0</td>\n",
       "      <td>0.0</td>\n",
       "      <td>0.0</td>\n",
       "      <td>0.0</td>\n",
       "      <td>0.0</td>\n",
       "      <td>0.0</td>\n",
       "      <td>0.0</td>\n",
       "      <td>0.285714</td>\n",
       "      <td>...</td>\n",
       "      <td>0.0</td>\n",
       "      <td>0.0</td>\n",
       "      <td>0.0</td>\n",
       "      <td>0.0</td>\n",
       "      <td>0.0</td>\n",
       "      <td>0.0</td>\n",
       "      <td>0.0</td>\n",
       "      <td>0.0</td>\n",
       "      <td>0.0</td>\n",
       "      <td>0.0</td>\n",
       "    </tr>\n",
       "    <tr>\n",
       "      <th>2</th>\n",
       "      <td>An Loi Dong Ward</td>\n",
       "      <td>0.0</td>\n",
       "      <td>0.0</td>\n",
       "      <td>0.0</td>\n",
       "      <td>0.0</td>\n",
       "      <td>0.0</td>\n",
       "      <td>0.0</td>\n",
       "      <td>0.0</td>\n",
       "      <td>0.0</td>\n",
       "      <td>0.000000</td>\n",
       "      <td>...</td>\n",
       "      <td>0.0</td>\n",
       "      <td>0.0</td>\n",
       "      <td>0.0</td>\n",
       "      <td>0.0</td>\n",
       "      <td>0.2</td>\n",
       "      <td>0.0</td>\n",
       "      <td>0.0</td>\n",
       "      <td>0.0</td>\n",
       "      <td>0.0</td>\n",
       "      <td>0.0</td>\n",
       "    </tr>\n",
       "  </tbody>\n",
       "</table>\n",
       "<p>3 rows × 196 columns</p>\n",
       "</div>"
      ],
      "text/plain": [
       "       Neighborhood  Afghan Restaurant  Airport Terminal  American Restaurant  \\\n",
       "0     An Khanh Ward                0.0               0.0                  0.0   \n",
       "1     An Lac A Ward                0.0               0.0                  0.0   \n",
       "2  An Loi Dong Ward                0.0               0.0                  0.0   \n",
       "\n",
       "   Antique Shop  Argentinian Restaurant  Art Gallery  Arts & Crafts Store  \\\n",
       "0           0.0                     0.0          0.0                  0.0   \n",
       "1           0.0                     0.0          0.0                  0.0   \n",
       "2           0.0                     0.0          0.0                  0.0   \n",
       "\n",
       "   Arts & Entertainment  Asian Restaurant  ...  Tunnel  Udon Restaurant  \\\n",
       "0                   0.0          0.000000  ...     0.0              0.0   \n",
       "1                   0.0          0.285714  ...     0.0              0.0   \n",
       "2                   0.0          0.000000  ...     0.0              0.0   \n",
       "\n",
       "   Vegetarian / Vegan Restaurant  Video Game Store  Vietnamese Restaurant  \\\n",
       "0                            0.0               0.0                    1.0   \n",
       "1                            0.0               0.0                    0.0   \n",
       "2                            0.0               0.0                    0.2   \n",
       "\n",
       "   Warehouse Store  Water Park  Whisky Bar  Women's Store  Yoga Studio  \n",
       "0              0.0         0.0         0.0            0.0          0.0  \n",
       "1              0.0         0.0         0.0            0.0          0.0  \n",
       "2              0.0         0.0         0.0            0.0          0.0  \n",
       "\n",
       "[3 rows x 196 columns]"
      ]
     },
     "execution_count": 17,
     "metadata": {},
     "output_type": "execute_result"
    }
   ],
   "source": [
    "HCMC_grouped = HCMC_dummy.groupby('Neighborhood').mean().reset_index()\n",
    "print(HCMC_grouped.shape[0])\n",
    "HCMC_grouped.head(3)"
   ]
  },
  {
   "cell_type": "markdown",
   "metadata": {},
   "source": [
    "#### Sort most frequent category in each neighborhood."
   ]
  },
  {
   "cell_type": "code",
   "execution_count": 18,
   "metadata": {},
   "outputs": [],
   "source": [
    "# Function to return most common venues\n",
    "def return_most_common_venues(row, num_top_venues):\n",
    "    row_categories = row.iloc[1:]\n",
    "    row_categories_sorted = row_categories.sort_values(ascending=False)\n",
    "    \n",
    "    return row_categories_sorted.index.values[0:num_top_venues]"
   ]
  },
  {
   "cell_type": "code",
   "execution_count": 19,
   "metadata": {},
   "outputs": [
    {
     "name": "stdout",
     "output_type": "stream",
     "text": [
      "121\n"
     ]
    },
    {
     "data": {
      "text/html": [
       "<div>\n",
       "<style scoped>\n",
       "    .dataframe tbody tr th:only-of-type {\n",
       "        vertical-align: middle;\n",
       "    }\n",
       "\n",
       "    .dataframe tbody tr th {\n",
       "        vertical-align: top;\n",
       "    }\n",
       "\n",
       "    .dataframe thead th {\n",
       "        text-align: right;\n",
       "    }\n",
       "</style>\n",
       "<table border=\"1\" class=\"dataframe\">\n",
       "  <thead>\n",
       "    <tr style=\"text-align: right;\">\n",
       "      <th></th>\n",
       "      <th>Neighborhood</th>\n",
       "      <th>1st Most Common Venue</th>\n",
       "      <th>2nd Most Common Venue</th>\n",
       "      <th>3rd Most Common Venue</th>\n",
       "      <th>4th Most Common Venue</th>\n",
       "      <th>5th Most Common Venue</th>\n",
       "      <th>6th Most Common Venue</th>\n",
       "      <th>7th Most Common Venue</th>\n",
       "      <th>8th Most Common Venue</th>\n",
       "      <th>9th Most Common Venue</th>\n",
       "      <th>10th Most Common Venue</th>\n",
       "    </tr>\n",
       "  </thead>\n",
       "  <tbody>\n",
       "    <tr>\n",
       "      <th>0</th>\n",
       "      <td>An Khanh Ward</td>\n",
       "      <td>Vietnamese Restaurant</td>\n",
       "      <td>Yoga Studio</td>\n",
       "      <td>Diner</td>\n",
       "      <td>Flower Shop</td>\n",
       "      <td>Flea Market</td>\n",
       "      <td>Fish &amp; Chips Shop</td>\n",
       "      <td>Fast Food Restaurant</td>\n",
       "      <td>Farmers Market</td>\n",
       "      <td>Farm</td>\n",
       "      <td>Electronics Store</td>\n",
       "    </tr>\n",
       "    <tr>\n",
       "      <th>1</th>\n",
       "      <td>An Lac A Ward</td>\n",
       "      <td>Fast Food Restaurant</td>\n",
       "      <td>Asian Restaurant</td>\n",
       "      <td>Coffee Shop</td>\n",
       "      <td>Seafood Restaurant</td>\n",
       "      <td>Food</td>\n",
       "      <td>Flower Shop</td>\n",
       "      <td>Flea Market</td>\n",
       "      <td>Fish &amp; Chips Shop</td>\n",
       "      <td>Farmers Market</td>\n",
       "      <td>Farm</td>\n",
       "    </tr>\n",
       "    <tr>\n",
       "      <th>2</th>\n",
       "      <td>An Loi Dong Ward</td>\n",
       "      <td>Café</td>\n",
       "      <td>Convenience Store</td>\n",
       "      <td>Vietnamese Restaurant</td>\n",
       "      <td>Bubble Tea Shop</td>\n",
       "      <td>Yoga Studio</td>\n",
       "      <td>Dive Bar</td>\n",
       "      <td>Flea Market</td>\n",
       "      <td>Fish &amp; Chips Shop</td>\n",
       "      <td>Fast Food Restaurant</td>\n",
       "      <td>Farmers Market</td>\n",
       "    </tr>\n",
       "    <tr>\n",
       "      <th>3</th>\n",
       "      <td>An Phu Dong Ward</td>\n",
       "      <td>Resort</td>\n",
       "      <td>Yoga Studio</td>\n",
       "      <td>Diner</td>\n",
       "      <td>Flea Market</td>\n",
       "      <td>Fish &amp; Chips Shop</td>\n",
       "      <td>Fast Food Restaurant</td>\n",
       "      <td>Farmers Market</td>\n",
       "      <td>Farm</td>\n",
       "      <td>Electronics Store</td>\n",
       "      <td>Eastern European Restaurant</td>\n",
       "    </tr>\n",
       "    <tr>\n",
       "      <th>4</th>\n",
       "      <td>An Phu Ward</td>\n",
       "      <td>Vietnamese Restaurant</td>\n",
       "      <td>Yoga Studio</td>\n",
       "      <td>Diner</td>\n",
       "      <td>Flower Shop</td>\n",
       "      <td>Flea Market</td>\n",
       "      <td>Fish &amp; Chips Shop</td>\n",
       "      <td>Fast Food Restaurant</td>\n",
       "      <td>Farmers Market</td>\n",
       "      <td>Farm</td>\n",
       "      <td>Electronics Store</td>\n",
       "    </tr>\n",
       "  </tbody>\n",
       "</table>\n",
       "</div>"
      ],
      "text/plain": [
       "       Neighborhood  1st Most Common Venue 2nd Most Common Venue  \\\n",
       "0     An Khanh Ward  Vietnamese Restaurant           Yoga Studio   \n",
       "1     An Lac A Ward   Fast Food Restaurant      Asian Restaurant   \n",
       "2  An Loi Dong Ward                   Café     Convenience Store   \n",
       "3  An Phu Dong Ward                 Resort           Yoga Studio   \n",
       "4       An Phu Ward  Vietnamese Restaurant           Yoga Studio   \n",
       "\n",
       "   3rd Most Common Venue 4th Most Common Venue 5th Most Common Venue  \\\n",
       "0                  Diner           Flower Shop           Flea Market   \n",
       "1            Coffee Shop    Seafood Restaurant                  Food   \n",
       "2  Vietnamese Restaurant       Bubble Tea Shop           Yoga Studio   \n",
       "3                  Diner           Flea Market     Fish & Chips Shop   \n",
       "4                  Diner           Flower Shop           Flea Market   \n",
       "\n",
       "  6th Most Common Venue 7th Most Common Venue 8th Most Common Venue  \\\n",
       "0     Fish & Chips Shop  Fast Food Restaurant        Farmers Market   \n",
       "1           Flower Shop           Flea Market     Fish & Chips Shop   \n",
       "2              Dive Bar           Flea Market     Fish & Chips Shop   \n",
       "3  Fast Food Restaurant        Farmers Market                  Farm   \n",
       "4     Fish & Chips Shop  Fast Food Restaurant        Farmers Market   \n",
       "\n",
       "  9th Most Common Venue       10th Most Common Venue  \n",
       "0                  Farm            Electronics Store  \n",
       "1        Farmers Market                         Farm  \n",
       "2  Fast Food Restaurant               Farmers Market  \n",
       "3     Electronics Store  Eastern European Restaurant  \n",
       "4                  Farm            Electronics Store  "
      ]
     },
     "execution_count": 19,
     "metadata": {},
     "output_type": "execute_result"
    }
   ],
   "source": [
    "# Return most frequent venues\n",
    "num_top_venues = 10\n",
    "\n",
    "indicators = ['st', 'nd', 'rd']\n",
    "\n",
    "# create columns according to number of top venues\n",
    "columns = ['Neighborhood']\n",
    "for ind in np.arange(num_top_venues):\n",
    "    try:\n",
    "        columns.append('{}{} Most Common Venue'.format(ind+1, indicators[ind]))\n",
    "    except:\n",
    "        columns.append('{}th Most Common Venue'.format(ind+1))\n",
    "\n",
    "# create a new dataframe\n",
    "neighborhoods_venues_sorted = pd.DataFrame(columns=columns)\n",
    "neighborhoods_venues_sorted['Neighborhood'] = HCMC_grouped['Neighborhood']\n",
    "\n",
    "for ind in np.arange(HCMC_grouped.shape[0]):\n",
    "    neighborhoods_venues_sorted.iloc[ind, 1:] = return_most_common_venues(HCMC_grouped.iloc[ind, :], num_top_venues)\n",
    "\n",
    "print(neighborhoods_venues_sorted.shape[0])\n",
    "neighborhoods_venues_sorted.head()"
   ]
  },
  {
   "cell_type": "markdown",
   "metadata": {},
   "source": [
    "## Step3: Conduct K-means clustering"
   ]
  },
  {
   "cell_type": "markdown",
   "metadata": {},
   "source": []
  },
  {
   "cell_type": "code",
   "execution_count": 20,
   "metadata": {},
   "outputs": [
    {
     "data": {
      "text/plain": [
       "array([0, 4, 1, 4, 0, 4, 4, 4, 0, 4])"
      ]
     },
     "execution_count": 20,
     "metadata": {},
     "output_type": "execute_result"
    }
   ],
   "source": [
    "# set number of clusters\n",
    "kclusters = 5\n",
    "\n",
    "# Drop neighborhood as it is not related with scoring.\n",
    "HCMC_grouped_clustering = HCMC_grouped.drop('Neighborhood', 1)\n",
    "\n",
    "# run k-means clustering\n",
    "kmeans = KMeans(n_clusters = kclusters, random_state=0).fit(HCMC_grouped_clustering)\n",
    "\n",
    "# check cluster labels generated for each row in the dataframe\n",
    "kmeans.labels_[0:10] "
   ]
  },
  {
   "cell_type": "code",
   "execution_count": 21,
   "metadata": {},
   "outputs": [],
   "source": [
    "# Inseart clustering labels to the dataframe\n",
    "neighborhoods_venues_sorted.insert(0, 'Cluster Labels', kmeans.labels_)"
   ]
  },
  {
   "cell_type": "code",
   "execution_count": 22,
   "metadata": {},
   "outputs": [
    {
     "name": "stdout",
     "output_type": "stream",
     "text": [
      "Number of row is 322\n",
      "Number of observation by clusters is\n",
      "4.0    228\n",
      "0.0     20\n",
      "1.0     16\n",
      "2.0      3\n",
      "3.0      3\n",
      "Name: Cluster Labels, dtype: int64\n",
      "District                   0\n",
      "Province                   0\n",
      "Neighborhood               0\n",
      "geometry                   0\n",
      "centroid                   0\n",
      "latitude                   0\n",
      "longitude                  0\n",
      "Cluster Labels            52\n",
      "1st Most Common Venue     52\n",
      "2nd Most Common Venue     52\n",
      "3rd Most Common Venue     52\n",
      "4th Most Common Venue     52\n",
      "5th Most Common Venue     52\n",
      "6th Most Common Venue     52\n",
      "7th Most Common Venue     52\n",
      "8th Most Common Venue     52\n",
      "9th Most Common Venue     52\n",
      "10th Most Common Venue    52\n",
      "dtype: int64\n"
     ]
    },
    {
     "data": {
      "text/html": [
       "<div>\n",
       "<style scoped>\n",
       "    .dataframe tbody tr th:only-of-type {\n",
       "        vertical-align: middle;\n",
       "    }\n",
       "\n",
       "    .dataframe tbody tr th {\n",
       "        vertical-align: top;\n",
       "    }\n",
       "\n",
       "    .dataframe thead th {\n",
       "        text-align: right;\n",
       "    }\n",
       "</style>\n",
       "<table border=\"1\" class=\"dataframe\">\n",
       "  <thead>\n",
       "    <tr style=\"text-align: right;\">\n",
       "      <th></th>\n",
       "      <th>District</th>\n",
       "      <th>Province</th>\n",
       "      <th>Neighborhood</th>\n",
       "      <th>geometry</th>\n",
       "      <th>centroid</th>\n",
       "      <th>latitude</th>\n",
       "      <th>longitude</th>\n",
       "      <th>Cluster Labels</th>\n",
       "      <th>1st Most Common Venue</th>\n",
       "      <th>2nd Most Common Venue</th>\n",
       "      <th>3rd Most Common Venue</th>\n",
       "      <th>4th Most Common Venue</th>\n",
       "      <th>5th Most Common Venue</th>\n",
       "      <th>6th Most Common Venue</th>\n",
       "      <th>7th Most Common Venue</th>\n",
       "      <th>8th Most Common Venue</th>\n",
       "      <th>9th Most Common Venue</th>\n",
       "      <th>10th Most Common Venue</th>\n",
       "    </tr>\n",
       "  </thead>\n",
       "  <tbody>\n",
       "    <tr>\n",
       "      <th>0</th>\n",
       "      <td>Phu Nhuan District</td>\n",
       "      <td>Ho Chi Minh City</td>\n",
       "      <td>Ward 10</td>\n",
       "      <td>POLYGON ((106.6699070440001 10.79892248100003,...</td>\n",
       "      <td>POINT (106.6710375843309 10.79545185546063)</td>\n",
       "      <td>10.795452</td>\n",
       "      <td>106.671038</td>\n",
       "      <td>4.0</td>\n",
       "      <td>Café</td>\n",
       "      <td>Vietnamese Restaurant</td>\n",
       "      <td>Coffee Shop</td>\n",
       "      <td>Seafood Restaurant</td>\n",
       "      <td>Chinese Restaurant</td>\n",
       "      <td>Snack Place</td>\n",
       "      <td>Hotpot Restaurant</td>\n",
       "      <td>Dim Sum Restaurant</td>\n",
       "      <td>Bookstore</td>\n",
       "      <td>Breakfast Spot</td>\n",
       "    </tr>\n",
       "    <tr>\n",
       "      <th>1</th>\n",
       "      <td>Phu Nhuan District</td>\n",
       "      <td>Ho Chi Minh City</td>\n",
       "      <td>Ward 11</td>\n",
       "      <td>POLYGON ((106.6738949840001 10.79012047100002,...</td>\n",
       "      <td>POINT (106.6747730073135 10.79287978253698)</td>\n",
       "      <td>10.792880</td>\n",
       "      <td>106.674773</td>\n",
       "      <td>4.0</td>\n",
       "      <td>Café</td>\n",
       "      <td>Vietnamese Restaurant</td>\n",
       "      <td>Chinese Restaurant</td>\n",
       "      <td>Coffee Shop</td>\n",
       "      <td>Dessert Shop</td>\n",
       "      <td>Seafood Restaurant</td>\n",
       "      <td>BBQ Joint</td>\n",
       "      <td>Korean Restaurant</td>\n",
       "      <td>Ice Cream Shop</td>\n",
       "      <td>Supermarket</td>\n",
       "    </tr>\n",
       "    <tr>\n",
       "      <th>2</th>\n",
       "      <td>Phu Nhuan District</td>\n",
       "      <td>Ho Chi Minh City</td>\n",
       "      <td>Ward 17</td>\n",
       "      <td>POLYGON ((106.683584001 10.79242040200006, 106...</td>\n",
       "      <td>POINT (106.6826095315289 10.79346395171806)</td>\n",
       "      <td>10.793464</td>\n",
       "      <td>106.682610</td>\n",
       "      <td>4.0</td>\n",
       "      <td>Café</td>\n",
       "      <td>Vietnamese Restaurant</td>\n",
       "      <td>Coffee Shop</td>\n",
       "      <td>Seafood Restaurant</td>\n",
       "      <td>Vegetarian / Vegan Restaurant</td>\n",
       "      <td>Comfort Food Restaurant</td>\n",
       "      <td>BBQ Joint</td>\n",
       "      <td>Soup Place</td>\n",
       "      <td>Spa</td>\n",
       "      <td>Beer Garden</td>\n",
       "    </tr>\n",
       "    <tr>\n",
       "      <th>3</th>\n",
       "      <td>District 10</td>\n",
       "      <td>Ho Chi Minh City</td>\n",
       "      <td>Ward 9</td>\n",
       "      <td>POLYGON ((106.6724178520001 10.76481844300002,...</td>\n",
       "      <td>POINT (106.6706720390022 10.76655795112036)</td>\n",
       "      <td>10.766558</td>\n",
       "      <td>106.670672</td>\n",
       "      <td>4.0</td>\n",
       "      <td>Vietnamese Restaurant</td>\n",
       "      <td>Café</td>\n",
       "      <td>Seafood Restaurant</td>\n",
       "      <td>Coffee Shop</td>\n",
       "      <td>Noodle House</td>\n",
       "      <td>BBQ Joint</td>\n",
       "      <td>Vegetarian / Vegan Restaurant</td>\n",
       "      <td>Bookstore</td>\n",
       "      <td>Asian Restaurant</td>\n",
       "      <td>Market</td>\n",
       "    </tr>\n",
       "    <tr>\n",
       "      <th>4</th>\n",
       "      <td>Phu Nhuan District</td>\n",
       "      <td>Ho Chi Minh City</td>\n",
       "      <td>Ward 14</td>\n",
       "      <td>POLYGON ((106.668077957 10.78889551900005, 106...</td>\n",
       "      <td>POINT (106.6683269005768 10.79155555448789)</td>\n",
       "      <td>10.791556</td>\n",
       "      <td>106.668327</td>\n",
       "      <td>4.0</td>\n",
       "      <td>Vietnamese Restaurant</td>\n",
       "      <td>Café</td>\n",
       "      <td>Coffee Shop</td>\n",
       "      <td>Chinese Restaurant</td>\n",
       "      <td>Seafood Restaurant</td>\n",
       "      <td>Dessert Shop</td>\n",
       "      <td>Steakhouse</td>\n",
       "      <td>Flea Market</td>\n",
       "      <td>Vegetarian / Vegan Restaurant</td>\n",
       "      <td>Bakery</td>\n",
       "    </tr>\n",
       "  </tbody>\n",
       "</table>\n",
       "</div>"
      ],
      "text/plain": [
       "             District          Province Neighborhood  \\\n",
       "0  Phu Nhuan District  Ho Chi Minh City      Ward 10   \n",
       "1  Phu Nhuan District  Ho Chi Minh City      Ward 11   \n",
       "2  Phu Nhuan District  Ho Chi Minh City      Ward 17   \n",
       "3         District 10  Ho Chi Minh City       Ward 9   \n",
       "4  Phu Nhuan District  Ho Chi Minh City      Ward 14   \n",
       "\n",
       "                                            geometry  \\\n",
       "0  POLYGON ((106.6699070440001 10.79892248100003,...   \n",
       "1  POLYGON ((106.6738949840001 10.79012047100002,...   \n",
       "2  POLYGON ((106.683584001 10.79242040200006, 106...   \n",
       "3  POLYGON ((106.6724178520001 10.76481844300002,...   \n",
       "4  POLYGON ((106.668077957 10.78889551900005, 106...   \n",
       "\n",
       "                                      centroid   latitude   longitude  \\\n",
       "0  POINT (106.6710375843309 10.79545185546063)  10.795452  106.671038   \n",
       "1  POINT (106.6747730073135 10.79287978253698)  10.792880  106.674773   \n",
       "2  POINT (106.6826095315289 10.79346395171806)  10.793464  106.682610   \n",
       "3  POINT (106.6706720390022 10.76655795112036)  10.766558  106.670672   \n",
       "4  POINT (106.6683269005768 10.79155555448789)  10.791556  106.668327   \n",
       "\n",
       "   Cluster Labels  1st Most Common Venue  2nd Most Common Venue  \\\n",
       "0             4.0                   Café  Vietnamese Restaurant   \n",
       "1             4.0                   Café  Vietnamese Restaurant   \n",
       "2             4.0                   Café  Vietnamese Restaurant   \n",
       "3             4.0  Vietnamese Restaurant                   Café   \n",
       "4             4.0  Vietnamese Restaurant                   Café   \n",
       "\n",
       "  3rd Most Common Venue 4th Most Common Venue          5th Most Common Venue  \\\n",
       "0           Coffee Shop    Seafood Restaurant             Chinese Restaurant   \n",
       "1    Chinese Restaurant           Coffee Shop                   Dessert Shop   \n",
       "2           Coffee Shop    Seafood Restaurant  Vegetarian / Vegan Restaurant   \n",
       "3    Seafood Restaurant           Coffee Shop                   Noodle House   \n",
       "4           Coffee Shop    Chinese Restaurant             Seafood Restaurant   \n",
       "\n",
       "     6th Most Common Venue          7th Most Common Venue  \\\n",
       "0              Snack Place              Hotpot Restaurant   \n",
       "1       Seafood Restaurant                      BBQ Joint   \n",
       "2  Comfort Food Restaurant                      BBQ Joint   \n",
       "3                BBQ Joint  Vegetarian / Vegan Restaurant   \n",
       "4             Dessert Shop                     Steakhouse   \n",
       "\n",
       "  8th Most Common Venue          9th Most Common Venue 10th Most Common Venue  \n",
       "0    Dim Sum Restaurant                      Bookstore         Breakfast Spot  \n",
       "1     Korean Restaurant                 Ice Cream Shop            Supermarket  \n",
       "2            Soup Place                            Spa            Beer Garden  \n",
       "3             Bookstore               Asian Restaurant                 Market  \n",
       "4           Flea Market  Vegetarian / Vegan Restaurant                 Bakery  "
      ]
     },
     "execution_count": 22,
     "metadata": {},
     "output_type": "execute_result"
    }
   ],
   "source": [
    "# Merge the original neighborhood dataset and cluster labelled dataframe.\n",
    "HCMC_merged = HCMC_ward\n",
    "HCMC_merged = HCMC_merged.join(neighborhoods_venues_sorted.set_index('Neighborhood'), on='Neighborhood')\n",
    "print('Number of row is {}'.format(HCMC_merged.shape[0]))\n",
    "print('Number of observation by clusters is\\n{}'.format(HCMC_merged['Cluster Labels'].value_counts()))\n",
    "print(HCMC_merged.isnull().sum())\n",
    "HCMC_merged.head()"
   ]
  },
  {
   "cell_type": "code",
   "execution_count": 23,
   "metadata": {},
   "outputs": [
    {
     "name": "stdout",
     "output_type": "stream",
     "text": [
      "Number of row is 270.\n"
     ]
    },
    {
     "data": {
      "text/html": [
       "<div>\n",
       "<style scoped>\n",
       "    .dataframe tbody tr th:only-of-type {\n",
       "        vertical-align: middle;\n",
       "    }\n",
       "\n",
       "    .dataframe tbody tr th {\n",
       "        vertical-align: top;\n",
       "    }\n",
       "\n",
       "    .dataframe thead th {\n",
       "        text-align: right;\n",
       "    }\n",
       "</style>\n",
       "<table border=\"1\" class=\"dataframe\">\n",
       "  <thead>\n",
       "    <tr style=\"text-align: right;\">\n",
       "      <th></th>\n",
       "      <th>District</th>\n",
       "      <th>Province</th>\n",
       "      <th>Neighborhood</th>\n",
       "      <th>geometry</th>\n",
       "      <th>centroid</th>\n",
       "      <th>latitude</th>\n",
       "      <th>longitude</th>\n",
       "      <th>Cluster Labels</th>\n",
       "      <th>1st Most Common Venue</th>\n",
       "      <th>2nd Most Common Venue</th>\n",
       "      <th>3rd Most Common Venue</th>\n",
       "      <th>4th Most Common Venue</th>\n",
       "      <th>5th Most Common Venue</th>\n",
       "      <th>6th Most Common Venue</th>\n",
       "      <th>7th Most Common Venue</th>\n",
       "      <th>8th Most Common Venue</th>\n",
       "      <th>9th Most Common Venue</th>\n",
       "      <th>10th Most Common Venue</th>\n",
       "    </tr>\n",
       "  </thead>\n",
       "  <tbody>\n",
       "    <tr>\n",
       "      <th>0</th>\n",
       "      <td>Phu Nhuan District</td>\n",
       "      <td>Ho Chi Minh City</td>\n",
       "      <td>Ward 10</td>\n",
       "      <td>POLYGON ((106.6699070440001 10.79892248100003,...</td>\n",
       "      <td>POINT (106.6710375843309 10.79545185546063)</td>\n",
       "      <td>10.795452</td>\n",
       "      <td>106.671038</td>\n",
       "      <td>4</td>\n",
       "      <td>Café</td>\n",
       "      <td>Vietnamese Restaurant</td>\n",
       "      <td>Coffee Shop</td>\n",
       "      <td>Seafood Restaurant</td>\n",
       "      <td>Chinese Restaurant</td>\n",
       "      <td>Snack Place</td>\n",
       "      <td>Hotpot Restaurant</td>\n",
       "      <td>Dim Sum Restaurant</td>\n",
       "      <td>Bookstore</td>\n",
       "      <td>Breakfast Spot</td>\n",
       "    </tr>\n",
       "    <tr>\n",
       "      <th>1</th>\n",
       "      <td>Phu Nhuan District</td>\n",
       "      <td>Ho Chi Minh City</td>\n",
       "      <td>Ward 11</td>\n",
       "      <td>POLYGON ((106.6738949840001 10.79012047100002,...</td>\n",
       "      <td>POINT (106.6747730073135 10.79287978253698)</td>\n",
       "      <td>10.792880</td>\n",
       "      <td>106.674773</td>\n",
       "      <td>4</td>\n",
       "      <td>Café</td>\n",
       "      <td>Vietnamese Restaurant</td>\n",
       "      <td>Chinese Restaurant</td>\n",
       "      <td>Coffee Shop</td>\n",
       "      <td>Dessert Shop</td>\n",
       "      <td>Seafood Restaurant</td>\n",
       "      <td>BBQ Joint</td>\n",
       "      <td>Korean Restaurant</td>\n",
       "      <td>Ice Cream Shop</td>\n",
       "      <td>Supermarket</td>\n",
       "    </tr>\n",
       "    <tr>\n",
       "      <th>2</th>\n",
       "      <td>Phu Nhuan District</td>\n",
       "      <td>Ho Chi Minh City</td>\n",
       "      <td>Ward 17</td>\n",
       "      <td>POLYGON ((106.683584001 10.79242040200006, 106...</td>\n",
       "      <td>POINT (106.6826095315289 10.79346395171806)</td>\n",
       "      <td>10.793464</td>\n",
       "      <td>106.682610</td>\n",
       "      <td>4</td>\n",
       "      <td>Café</td>\n",
       "      <td>Vietnamese Restaurant</td>\n",
       "      <td>Coffee Shop</td>\n",
       "      <td>Seafood Restaurant</td>\n",
       "      <td>Vegetarian / Vegan Restaurant</td>\n",
       "      <td>Comfort Food Restaurant</td>\n",
       "      <td>BBQ Joint</td>\n",
       "      <td>Soup Place</td>\n",
       "      <td>Spa</td>\n",
       "      <td>Beer Garden</td>\n",
       "    </tr>\n",
       "    <tr>\n",
       "      <th>3</th>\n",
       "      <td>District 10</td>\n",
       "      <td>Ho Chi Minh City</td>\n",
       "      <td>Ward 9</td>\n",
       "      <td>POLYGON ((106.6724178520001 10.76481844300002,...</td>\n",
       "      <td>POINT (106.6706720390022 10.76655795112036)</td>\n",
       "      <td>10.766558</td>\n",
       "      <td>106.670672</td>\n",
       "      <td>4</td>\n",
       "      <td>Vietnamese Restaurant</td>\n",
       "      <td>Café</td>\n",
       "      <td>Seafood Restaurant</td>\n",
       "      <td>Coffee Shop</td>\n",
       "      <td>Noodle House</td>\n",
       "      <td>BBQ Joint</td>\n",
       "      <td>Vegetarian / Vegan Restaurant</td>\n",
       "      <td>Bookstore</td>\n",
       "      <td>Asian Restaurant</td>\n",
       "      <td>Market</td>\n",
       "    </tr>\n",
       "    <tr>\n",
       "      <th>4</th>\n",
       "      <td>Phu Nhuan District</td>\n",
       "      <td>Ho Chi Minh City</td>\n",
       "      <td>Ward 14</td>\n",
       "      <td>POLYGON ((106.668077957 10.78889551900005, 106...</td>\n",
       "      <td>POINT (106.6683269005768 10.79155555448789)</td>\n",
       "      <td>10.791556</td>\n",
       "      <td>106.668327</td>\n",
       "      <td>4</td>\n",
       "      <td>Vietnamese Restaurant</td>\n",
       "      <td>Café</td>\n",
       "      <td>Coffee Shop</td>\n",
       "      <td>Chinese Restaurant</td>\n",
       "      <td>Seafood Restaurant</td>\n",
       "      <td>Dessert Shop</td>\n",
       "      <td>Steakhouse</td>\n",
       "      <td>Flea Market</td>\n",
       "      <td>Vegetarian / Vegan Restaurant</td>\n",
       "      <td>Bakery</td>\n",
       "    </tr>\n",
       "  </tbody>\n",
       "</table>\n",
       "</div>"
      ],
      "text/plain": [
       "             District          Province Neighborhood  \\\n",
       "0  Phu Nhuan District  Ho Chi Minh City      Ward 10   \n",
       "1  Phu Nhuan District  Ho Chi Minh City      Ward 11   \n",
       "2  Phu Nhuan District  Ho Chi Minh City      Ward 17   \n",
       "3         District 10  Ho Chi Minh City       Ward 9   \n",
       "4  Phu Nhuan District  Ho Chi Minh City      Ward 14   \n",
       "\n",
       "                                            geometry  \\\n",
       "0  POLYGON ((106.6699070440001 10.79892248100003,...   \n",
       "1  POLYGON ((106.6738949840001 10.79012047100002,...   \n",
       "2  POLYGON ((106.683584001 10.79242040200006, 106...   \n",
       "3  POLYGON ((106.6724178520001 10.76481844300002,...   \n",
       "4  POLYGON ((106.668077957 10.78889551900005, 106...   \n",
       "\n",
       "                                      centroid   latitude   longitude  \\\n",
       "0  POINT (106.6710375843309 10.79545185546063)  10.795452  106.671038   \n",
       "1  POINT (106.6747730073135 10.79287978253698)  10.792880  106.674773   \n",
       "2  POINT (106.6826095315289 10.79346395171806)  10.793464  106.682610   \n",
       "3  POINT (106.6706720390022 10.76655795112036)  10.766558  106.670672   \n",
       "4  POINT (106.6683269005768 10.79155555448789)  10.791556  106.668327   \n",
       "\n",
       "   Cluster Labels  1st Most Common Venue  2nd Most Common Venue  \\\n",
       "0               4                   Café  Vietnamese Restaurant   \n",
       "1               4                   Café  Vietnamese Restaurant   \n",
       "2               4                   Café  Vietnamese Restaurant   \n",
       "3               4  Vietnamese Restaurant                   Café   \n",
       "4               4  Vietnamese Restaurant                   Café   \n",
       "\n",
       "  3rd Most Common Venue 4th Most Common Venue          5th Most Common Venue  \\\n",
       "0           Coffee Shop    Seafood Restaurant             Chinese Restaurant   \n",
       "1    Chinese Restaurant           Coffee Shop                   Dessert Shop   \n",
       "2           Coffee Shop    Seafood Restaurant  Vegetarian / Vegan Restaurant   \n",
       "3    Seafood Restaurant           Coffee Shop                   Noodle House   \n",
       "4           Coffee Shop    Chinese Restaurant             Seafood Restaurant   \n",
       "\n",
       "     6th Most Common Venue          7th Most Common Venue  \\\n",
       "0              Snack Place              Hotpot Restaurant   \n",
       "1       Seafood Restaurant                      BBQ Joint   \n",
       "2  Comfort Food Restaurant                      BBQ Joint   \n",
       "3                BBQ Joint  Vegetarian / Vegan Restaurant   \n",
       "4             Dessert Shop                     Steakhouse   \n",
       "\n",
       "  8th Most Common Venue          9th Most Common Venue 10th Most Common Venue  \n",
       "0    Dim Sum Restaurant                      Bookstore         Breakfast Spot  \n",
       "1     Korean Restaurant                 Ice Cream Shop            Supermarket  \n",
       "2            Soup Place                            Spa            Beer Garden  \n",
       "3             Bookstore               Asian Restaurant                 Market  \n",
       "4           Flea Market  Vegetarian / Vegan Restaurant                 Bakery  "
      ]
     },
     "execution_count": 23,
     "metadata": {},
     "output_type": "execute_result"
    }
   ],
   "source": [
    "# Drop null value and convert cluster labels into integer.\n",
    "HCMC_merged = HCMC_merged.dropna()\n",
    "HCMC_merged['Cluster Labels'] = HCMC_merged['Cluster Labels'].astype(int)\n",
    "print('Number of row is {}.'.format(HCMC_merged.shape[0]))\n",
    "HCMC_merged.head()"
   ]
  },
  {
   "cell_type": "markdown",
   "metadata": {},
   "source": [
    "## Step 4: Visualizing the K-mean cluster"
   ]
  },
  {
   "cell_type": "code",
   "execution_count": 24,
   "metadata": {},
   "outputs": [
    {
     "name": "stdout",
     "output_type": "stream",
     "text": [
      "The geograpical coordinate of Toront are 10.6497452, 106.761979373444.\n"
     ]
    }
   ],
   "source": [
    "# Obtain HCMC coordinates\n",
    "address = 'Ho Chi Minh City'\n",
    "\n",
    "geolocator = Nominatim(user_agent=\"hcmc_explorer\")\n",
    "location = geolocator.geocode(address)\n",
    "latitude = location.latitude\n",
    "longitude = location.longitude\n",
    "print('The geograpical coordinate of Toront are {}, {}.'.format(latitude, longitude))"
   ]
  },
  {
   "cell_type": "code",
   "execution_count": 25,
   "metadata": {},
   "outputs": [
    {
     "data": {
      "text/html": [
       "<div style=\"width:100%;\"><div style=\"position:relative;width:100%;height:0;padding-bottom:60%;\"><iframe src=\"data:text/html;charset=utf-8;base64,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\" style=\"position:absolute;width:100%;height:100%;left:0;top:0;border:none !important;\" allowfullscreen webkitallowfullscreen mozallowfullscreen></iframe></div></div>"
      ],
      "text/plain": [
       "<folium.folium.Map at 0x231e5e8e710>"
      ]
     },
     "execution_count": 25,
     "metadata": {},
     "output_type": "execute_result"
    }
   ],
   "source": [
    "# create map\n",
    "map_clusters = folium.Map(location=[latitude, longitude], zoom_start=11)\n",
    "\n",
    "# set color scheme for the clusters\n",
    "x = np.arange(kclusters)\n",
    "ys = [i + x + (i*x)**2 for i in range(kclusters)]\n",
    "colors_array = cm.rainbow(np.linspace(0, 1, len(ys)))\n",
    "rainbow = [colors.rgb2hex(i) for i in colors_array]\n",
    "\n",
    "# add markers to the map\n",
    "markers_colors = []\n",
    "for lat, lon, poi, cluster in zip(HCMC_merged['latitude'], HCMC_merged['longitude'], HCMC_merged['Neighborhood'], HCMC_merged['Cluster Labels']):\n",
    "    label = folium.Popup(str(poi) + ' Cluster ' + str(cluster), parse_html=True)\n",
    "    folium.CircleMarker(\n",
    "        [lat, lon],\n",
    "        radius=3,\n",
    "        popup=label,\n",
    "        color=rainbow[cluster-1],\n",
    "        fill=True,\n",
    "        fill_color=rainbow[cluster-1],\n",
    "        fill_opacity=0.7).add_to(map_clusters)\n",
    "       \n",
    "map_clusters"
   ]
  },
  {
   "cell_type": "markdown",
   "metadata": {},
   "source": [
    "Also, showing a static map."
   ]
  },
  {
   "cell_type": "code",
   "execution_count": 26,
   "metadata": {},
   "outputs": [],
   "source": [
    "# Extract centroid for visualization.\n",
    "cluster_point = gpd.GeoDataFrame(HCMC_merged[['Cluster Labels', 'centroid']])\n",
    "cluster_point.columns = ['Cluster Labels', 'geometry']"
   ]
  },
  {
   "cell_type": "code",
   "execution_count": 27,
   "metadata": {},
   "outputs": [
    {
     "data": {
      "text/plain": [
       "<matplotlib.legend.Legend at 0x231e5fafc50>"
      ]
     },
     "execution_count": 27,
     "metadata": {},
     "output_type": "execute_result"
    },
    {
     "data": {
      "image/png": "[encoded data removed]",
      "text/plain": [
       "<Figure size 1080x1080 with 1 Axes>"
      ]
     },
     "metadata": {
      "needs_background": "light"
     },
     "output_type": "display_data"
    }
   ],
   "source": [
    "# Show a static map of the cluster.\n",
    "fig, ax1 = plt.subplots(figsize = (15, 15))\n",
    "ax1 = cluster_point.plot(ax = ax1, markersize = 5, c = 'Cluster_Labels', marker=\"o\", cmap = 'rainbow', legend = True)\n",
    "HCMC_ward.plot(ax = ax1, facecolor = 'none', edgecolor = 'gray', linewidth = .5)\n",
    "ax1.set_title('HCMC Neighborhood K-means Cluster', fontsize = 14)\n",
    "plt.legend(cluster_point)"
   ]
  },
  {
   "cell_type": "markdown",
   "metadata": {},
   "source": [
    "## Step 5: Getting insights on the cluster to find the new cafe location"
   ]
  },
  {
   "cell_type": "markdown",
   "metadata": {},
   "source": [
    "## Analyze Cluster-wise score by category."
   ]
  },
  {
   "cell_type": "code",
   "execution_count": 28,
   "metadata": {},
   "outputs": [],
   "source": [
    "# Inseart clustering labels to the dataframe\n",
    "HCMC_cluster_analysis = HCMC_grouped.copy()\n",
    "HCMC_cluster_analysis.insert(0, 'Cluster Labels', kmeans.labels_)"
   ]
  },
  {
   "cell_type": "code",
   "execution_count": 29,
   "metadata": {},
   "outputs": [
    {
     "data": {
      "text/html": [
       "<div>\n",
       "<style scoped>\n",
       "    .dataframe tbody tr th:only-of-type {\n",
       "        vertical-align: middle;\n",
       "    }\n",
       "\n",
       "    .dataframe tbody tr th {\n",
       "        vertical-align: top;\n",
       "    }\n",
       "\n",
       "    .dataframe thead th {\n",
       "        text-align: right;\n",
       "    }\n",
       "</style>\n",
       "<table border=\"1\" class=\"dataframe\">\n",
       "  <thead>\n",
       "    <tr style=\"text-align: right;\">\n",
       "      <th></th>\n",
       "      <th>Neighborhood</th>\n",
       "      <th>Cluster Labels</th>\n",
       "      <th>Afghan Restaurant</th>\n",
       "      <th>Airport Terminal</th>\n",
       "      <th>American Restaurant</th>\n",
       "      <th>Antique Shop</th>\n",
       "      <th>Argentinian Restaurant</th>\n",
       "      <th>Art Gallery</th>\n",
       "      <th>Arts &amp; Crafts Store</th>\n",
       "      <th>Arts &amp; Entertainment</th>\n",
       "      <th>...</th>\n",
       "      <th>Tunnel</th>\n",
       "      <th>Udon Restaurant</th>\n",
       "      <th>Vegetarian / Vegan Restaurant</th>\n",
       "      <th>Video Game Store</th>\n",
       "      <th>Vietnamese Restaurant</th>\n",
       "      <th>Warehouse Store</th>\n",
       "      <th>Water Park</th>\n",
       "      <th>Whisky Bar</th>\n",
       "      <th>Women's Store</th>\n",
       "      <th>Yoga Studio</th>\n",
       "    </tr>\n",
       "  </thead>\n",
       "  <tbody>\n",
       "    <tr>\n",
       "      <th>0</th>\n",
       "      <td>An Khanh Ward</td>\n",
       "      <td>0</td>\n",
       "      <td>0.0</td>\n",
       "      <td>0.0</td>\n",
       "      <td>0.0</td>\n",
       "      <td>0.0</td>\n",
       "      <td>0.0</td>\n",
       "      <td>0.0</td>\n",
       "      <td>0.0</td>\n",
       "      <td>0.0</td>\n",
       "      <td>...</td>\n",
       "      <td>0.0</td>\n",
       "      <td>0.0</td>\n",
       "      <td>0.0</td>\n",
       "      <td>0.0</td>\n",
       "      <td>1.0</td>\n",
       "      <td>0.0</td>\n",
       "      <td>0.0</td>\n",
       "      <td>0.0</td>\n",
       "      <td>0.0</td>\n",
       "      <td>0.0</td>\n",
       "    </tr>\n",
       "    <tr>\n",
       "      <th>1</th>\n",
       "      <td>An Lac A Ward</td>\n",
       "      <td>4</td>\n",
       "      <td>0.0</td>\n",
       "      <td>0.0</td>\n",
       "      <td>0.0</td>\n",
       "      <td>0.0</td>\n",
       "      <td>0.0</td>\n",
       "      <td>0.0</td>\n",
       "      <td>0.0</td>\n",
       "      <td>0.0</td>\n",
       "      <td>...</td>\n",
       "      <td>0.0</td>\n",
       "      <td>0.0</td>\n",
       "      <td>0.0</td>\n",
       "      <td>0.0</td>\n",
       "      <td>0.0</td>\n",
       "      <td>0.0</td>\n",
       "      <td>0.0</td>\n",
       "      <td>0.0</td>\n",
       "      <td>0.0</td>\n",
       "      <td>0.0</td>\n",
       "    </tr>\n",
       "    <tr>\n",
       "      <th>2</th>\n",
       "      <td>An Loi Dong Ward</td>\n",
       "      <td>1</td>\n",
       "      <td>0.0</td>\n",
       "      <td>0.0</td>\n",
       "      <td>0.0</td>\n",
       "      <td>0.0</td>\n",
       "      <td>0.0</td>\n",
       "      <td>0.0</td>\n",
       "      <td>0.0</td>\n",
       "      <td>0.0</td>\n",
       "      <td>...</td>\n",
       "      <td>0.0</td>\n",
       "      <td>0.0</td>\n",
       "      <td>0.0</td>\n",
       "      <td>0.0</td>\n",
       "      <td>0.2</td>\n",
       "      <td>0.0</td>\n",
       "      <td>0.0</td>\n",
       "      <td>0.0</td>\n",
       "      <td>0.0</td>\n",
       "      <td>0.0</td>\n",
       "    </tr>\n",
       "    <tr>\n",
       "      <th>3</th>\n",
       "      <td>An Phu Dong Ward</td>\n",
       "      <td>4</td>\n",
       "      <td>0.0</td>\n",
       "      <td>0.0</td>\n",
       "      <td>0.0</td>\n",
       "      <td>0.0</td>\n",
       "      <td>0.0</td>\n",
       "      <td>0.0</td>\n",
       "      <td>0.0</td>\n",
       "      <td>0.0</td>\n",
       "      <td>...</td>\n",
       "      <td>0.0</td>\n",
       "      <td>0.0</td>\n",
       "      <td>0.0</td>\n",
       "      <td>0.0</td>\n",
       "      <td>0.0</td>\n",
       "      <td>0.0</td>\n",
       "      <td>0.0</td>\n",
       "      <td>0.0</td>\n",
       "      <td>0.0</td>\n",
       "      <td>0.0</td>\n",
       "    </tr>\n",
       "    <tr>\n",
       "      <th>4</th>\n",
       "      <td>An Phu Ward</td>\n",
       "      <td>0</td>\n",
       "      <td>0.0</td>\n",
       "      <td>0.0</td>\n",
       "      <td>0.0</td>\n",
       "      <td>0.0</td>\n",
       "      <td>0.0</td>\n",
       "      <td>0.0</td>\n",
       "      <td>0.0</td>\n",
       "      <td>0.0</td>\n",
       "      <td>...</td>\n",
       "      <td>0.0</td>\n",
       "      <td>0.0</td>\n",
       "      <td>0.0</td>\n",
       "      <td>0.0</td>\n",
       "      <td>1.0</td>\n",
       "      <td>0.0</td>\n",
       "      <td>0.0</td>\n",
       "      <td>0.0</td>\n",
       "      <td>0.0</td>\n",
       "      <td>0.0</td>\n",
       "    </tr>\n",
       "  </tbody>\n",
       "</table>\n",
       "<p>5 rows × 197 columns</p>\n",
       "</div>"
      ],
      "text/plain": [
       "       Neighborhood  Cluster Labels  Afghan Restaurant  Airport Terminal  \\\n",
       "0     An Khanh Ward               0                0.0               0.0   \n",
       "1     An Lac A Ward               4                0.0               0.0   \n",
       "2  An Loi Dong Ward               1                0.0               0.0   \n",
       "3  An Phu Dong Ward               4                0.0               0.0   \n",
       "4       An Phu Ward               0                0.0               0.0   \n",
       "\n",
       "   American Restaurant  Antique Shop  Argentinian Restaurant  Art Gallery  \\\n",
       "0                  0.0           0.0                     0.0          0.0   \n",
       "1                  0.0           0.0                     0.0          0.0   \n",
       "2                  0.0           0.0                     0.0          0.0   \n",
       "3                  0.0           0.0                     0.0          0.0   \n",
       "4                  0.0           0.0                     0.0          0.0   \n",
       "\n",
       "   Arts & Crafts Store  Arts & Entertainment  ...  Tunnel  Udon Restaurant  \\\n",
       "0                  0.0                   0.0  ...     0.0              0.0   \n",
       "1                  0.0                   0.0  ...     0.0              0.0   \n",
       "2                  0.0                   0.0  ...     0.0              0.0   \n",
       "3                  0.0                   0.0  ...     0.0              0.0   \n",
       "4                  0.0                   0.0  ...     0.0              0.0   \n",
       "\n",
       "   Vegetarian / Vegan Restaurant  Video Game Store  Vietnamese Restaurant  \\\n",
       "0                            0.0               0.0                    1.0   \n",
       "1                            0.0               0.0                    0.0   \n",
       "2                            0.0               0.0                    0.2   \n",
       "3                            0.0               0.0                    0.0   \n",
       "4                            0.0               0.0                    1.0   \n",
       "\n",
       "   Warehouse Store  Water Park  Whisky Bar  Women's Store  Yoga Studio  \n",
       "0              0.0         0.0         0.0            0.0          0.0  \n",
       "1              0.0         0.0         0.0            0.0          0.0  \n",
       "2              0.0         0.0         0.0            0.0          0.0  \n",
       "3              0.0         0.0         0.0            0.0          0.0  \n",
       "4              0.0         0.0         0.0            0.0          0.0  \n",
       "\n",
       "[5 rows x 197 columns]"
      ]
     },
     "execution_count": 29,
     "metadata": {},
     "output_type": "execute_result"
    }
   ],
   "source": [
    "# Moving Neighborhood column to the front \n",
    "fixed_columns = [HCMC_cluster_analysis.columns[1]] + [HCMC_cluster_analysis.columns[0]] + list(HCMC_cluster_analysis.columns[2:])\n",
    "HCMC_cluster_analysis = HCMC_cluster_analysis[fixed_columns]\n",
    "HCMC_cluster_analysis.head()"
   ]
  },
  {
   "cell_type": "code",
   "execution_count": 30,
   "metadata": {},
   "outputs": [],
   "source": [
    "# Create Dataframe for each cluster\n",
    "Cluster0 = pd.DataFrame(HCMC_cluster_analysis[HCMC_cluster_analysis['Cluster Labels'] == 0]).drop(['Neighborhood', 'Cluster Labels'], axis = 1).sum()\n",
    "Cluster0 = pd.DataFrame(Cluster0, columns = ['Frequency']).sort_values(by = 'Frequency', ascending = False).reset_index()\n",
    "\n",
    "Cluster1 = pd.DataFrame(HCMC_cluster_analysis[HCMC_cluster_analysis['Cluster Labels'] == 1]).drop(['Neighborhood', 'Cluster Labels'], axis = 1).sum()\n",
    "Cluster1 = pd.DataFrame(Cluster1, columns = ['Frequency']).sort_values(by = 'Frequency', ascending = False).reset_index()\n",
    "\n",
    "Cluster2 = pd.DataFrame(HCMC_cluster_analysis[HCMC_cluster_analysis['Cluster Labels'] == 2]).drop(['Neighborhood', 'Cluster Labels'], axis = 1).sum()\n",
    "Cluster2 = pd.DataFrame(Cluster2, columns = ['Frequency']).sort_values(by = 'Frequency', ascending = False).reset_index()\n",
    "\n",
    "Cluster3 = pd.DataFrame(HCMC_cluster_analysis[HCMC_cluster_analysis['Cluster Labels'] == 3]).drop(['Neighborhood', 'Cluster Labels'], axis = 1).sum()\n",
    "Cluster3 = pd.DataFrame(Cluster3, columns = ['Frequency']).sort_values(by = 'Frequency', ascending = False).reset_index()\n",
    "\n",
    "Cluster4 = pd.DataFrame(HCMC_cluster_analysis[HCMC_cluster_analysis['Cluster Labels'] == 4]).drop(['Neighborhood', 'Cluster Labels'], axis = 1).sum()\n",
    "Cluster4 = pd.DataFrame(Cluster4, columns = ['Frequency']).sort_values(by = 'Frequency', ascending = False).reset_index()"
   ]
  },
  {
   "cell_type": "markdown",
   "metadata": {},
   "source": [
    "#### Cluster 0 score"
   ]
  },
  {
   "cell_type": "code",
   "execution_count": 31,
   "metadata": {},
   "outputs": [
    {
     "name": "stdout",
     "output_type": "stream",
     "text": [
      "Number of observed variables: 12\n"
     ]
    },
    {
     "data": {
      "text/html": [
       "<div>\n",
       "<style scoped>\n",
       "    .dataframe tbody tr th:only-of-type {\n",
       "        vertical-align: middle;\n",
       "    }\n",
       "\n",
       "    .dataframe tbody tr th {\n",
       "        vertical-align: top;\n",
       "    }\n",
       "\n",
       "    .dataframe thead th {\n",
       "        text-align: right;\n",
       "    }\n",
       "</style>\n",
       "<table border=\"1\" class=\"dataframe\">\n",
       "  <thead>\n",
       "    <tr style=\"text-align: right;\">\n",
       "      <th></th>\n",
       "      <th>index</th>\n",
       "      <th>Frequency</th>\n",
       "    </tr>\n",
       "  </thead>\n",
       "  <tbody>\n",
       "    <tr>\n",
       "      <th>0</th>\n",
       "      <td>Vietnamese Restaurant</td>\n",
       "      <td>13.283333</td>\n",
       "    </tr>\n",
       "    <tr>\n",
       "      <th>1</th>\n",
       "      <td>Café</td>\n",
       "      <td>1.933333</td>\n",
       "    </tr>\n",
       "    <tr>\n",
       "      <th>2</th>\n",
       "      <td>Soup Place</td>\n",
       "      <td>0.500000</td>\n",
       "    </tr>\n",
       "    <tr>\n",
       "      <th>3</th>\n",
       "      <td>Tennis Court</td>\n",
       "      <td>0.500000</td>\n",
       "    </tr>\n",
       "    <tr>\n",
       "      <th>4</th>\n",
       "      <td>Home Service</td>\n",
       "      <td>0.500000</td>\n",
       "    </tr>\n",
       "    <tr>\n",
       "      <th>5</th>\n",
       "      <td>Mobile Phone Shop</td>\n",
       "      <td>0.500000</td>\n",
       "    </tr>\n",
       "    <tr>\n",
       "      <th>6</th>\n",
       "      <td>Restaurant</td>\n",
       "      <td>0.450000</td>\n",
       "    </tr>\n",
       "    <tr>\n",
       "      <th>7</th>\n",
       "      <td>Asian Restaurant</td>\n",
       "      <td>0.416667</td>\n",
       "    </tr>\n",
       "    <tr>\n",
       "      <th>8</th>\n",
       "      <td>Shopping Mall</td>\n",
       "      <td>0.250000</td>\n",
       "    </tr>\n",
       "    <tr>\n",
       "      <th>9</th>\n",
       "      <td>Convenience Store</td>\n",
       "      <td>0.250000</td>\n",
       "    </tr>\n",
       "    <tr>\n",
       "      <th>10</th>\n",
       "      <td>Diner</td>\n",
       "      <td>0.250000</td>\n",
       "    </tr>\n",
       "    <tr>\n",
       "      <th>11</th>\n",
       "      <td>Flea Market</td>\n",
       "      <td>0.166667</td>\n",
       "    </tr>\n",
       "  </tbody>\n",
       "</table>\n",
       "</div>"
      ],
      "text/plain": [
       "                    index  Frequency\n",
       "0   Vietnamese Restaurant  13.283333\n",
       "1                    Café   1.933333\n",
       "2              Soup Place   0.500000\n",
       "3            Tennis Court   0.500000\n",
       "4            Home Service   0.500000\n",
       "5       Mobile Phone Shop   0.500000\n",
       "6              Restaurant   0.450000\n",
       "7        Asian Restaurant   0.416667\n",
       "8           Shopping Mall   0.250000\n",
       "9       Convenience Store   0.250000\n",
       "10                  Diner   0.250000\n",
       "11            Flea Market   0.166667"
      ]
     },
     "execution_count": 31,
     "metadata": {},
     "output_type": "execute_result"
    }
   ],
   "source": [
    "print('Number of observed variables: {}'.format(len(Cluster0[Cluster0['Frequency']>0])))\n",
    "Cluster0[Cluster0['Frequency']>0]"
   ]
  },
  {
   "cell_type": "markdown",
   "metadata": {},
   "source": [
    "#### Cluster 1 score"
   ]
  },
  {
   "cell_type": "code",
   "execution_count": 32,
   "metadata": {},
   "outputs": [
    {
     "name": "stdout",
     "output_type": "stream",
     "text": [
      "Number of observed variables: 13\n"
     ]
    },
    {
     "data": {
      "text/html": [
       "<div>\n",
       "<style scoped>\n",
       "    .dataframe tbody tr th:only-of-type {\n",
       "        vertical-align: middle;\n",
       "    }\n",
       "\n",
       "    .dataframe tbody tr th {\n",
       "        vertical-align: top;\n",
       "    }\n",
       "\n",
       "    .dataframe thead th {\n",
       "        text-align: right;\n",
       "    }\n",
       "</style>\n",
       "<table border=\"1\" class=\"dataframe\">\n",
       "  <thead>\n",
       "    <tr style=\"text-align: right;\">\n",
       "      <th></th>\n",
       "      <th>index</th>\n",
       "      <th>Frequency</th>\n",
       "    </tr>\n",
       "  </thead>\n",
       "  <tbody>\n",
       "    <tr>\n",
       "      <th>0</th>\n",
       "      <td>Café</td>\n",
       "      <td>11.066667</td>\n",
       "    </tr>\n",
       "    <tr>\n",
       "      <th>1</th>\n",
       "      <td>Bakery</td>\n",
       "      <td>1.000000</td>\n",
       "    </tr>\n",
       "    <tr>\n",
       "      <th>2</th>\n",
       "      <td>Vietnamese Restaurant</td>\n",
       "      <td>0.850000</td>\n",
       "    </tr>\n",
       "    <tr>\n",
       "      <th>3</th>\n",
       "      <td>Park</td>\n",
       "      <td>0.500000</td>\n",
       "    </tr>\n",
       "    <tr>\n",
       "      <th>4</th>\n",
       "      <td>Chinese Restaurant</td>\n",
       "      <td>0.500000</td>\n",
       "    </tr>\n",
       "    <tr>\n",
       "      <th>5</th>\n",
       "      <td>Diner</td>\n",
       "      <td>0.500000</td>\n",
       "    </tr>\n",
       "    <tr>\n",
       "      <th>6</th>\n",
       "      <td>Asian Restaurant</td>\n",
       "      <td>0.333333</td>\n",
       "    </tr>\n",
       "    <tr>\n",
       "      <th>7</th>\n",
       "      <td>Steakhouse</td>\n",
       "      <td>0.250000</td>\n",
       "    </tr>\n",
       "    <tr>\n",
       "      <th>8</th>\n",
       "      <td>Convenience Store</td>\n",
       "      <td>0.200000</td>\n",
       "    </tr>\n",
       "    <tr>\n",
       "      <th>9</th>\n",
       "      <td>Bubble Tea Shop</td>\n",
       "      <td>0.200000</td>\n",
       "    </tr>\n",
       "    <tr>\n",
       "      <th>10</th>\n",
       "      <td>French Restaurant</td>\n",
       "      <td>0.200000</td>\n",
       "    </tr>\n",
       "    <tr>\n",
       "      <th>11</th>\n",
       "      <td>Dessert Shop</td>\n",
       "      <td>0.200000</td>\n",
       "    </tr>\n",
       "    <tr>\n",
       "      <th>12</th>\n",
       "      <td>Vegetarian / Vegan Restaurant</td>\n",
       "      <td>0.200000</td>\n",
       "    </tr>\n",
       "  </tbody>\n",
       "</table>\n",
       "</div>"
      ],
      "text/plain": [
       "                            index  Frequency\n",
       "0                            Café  11.066667\n",
       "1                          Bakery   1.000000\n",
       "2           Vietnamese Restaurant   0.850000\n",
       "3                            Park   0.500000\n",
       "4              Chinese Restaurant   0.500000\n",
       "5                           Diner   0.500000\n",
       "6                Asian Restaurant   0.333333\n",
       "7                      Steakhouse   0.250000\n",
       "8               Convenience Store   0.200000\n",
       "9                 Bubble Tea Shop   0.200000\n",
       "10              French Restaurant   0.200000\n",
       "11                   Dessert Shop   0.200000\n",
       "12  Vegetarian / Vegan Restaurant   0.200000"
      ]
     },
     "execution_count": 32,
     "metadata": {},
     "output_type": "execute_result"
    }
   ],
   "source": [
    "print('Number of observed variables: {}'.format(len(Cluster1[Cluster1['Frequency']>0])))\n",
    "Cluster1[Cluster1['Frequency']>0]"
   ]
  },
  {
   "cell_type": "markdown",
   "metadata": {},
   "source": [
    "#### Cluster 2 score"
   ]
  },
  {
   "cell_type": "code",
   "execution_count": 33,
   "metadata": {},
   "outputs": [
    {
     "name": "stdout",
     "output_type": "stream",
     "text": [
      "Number of observed variables: 1\n"
     ]
    },
    {
     "data": {
      "text/html": [
       "<div>\n",
       "<style scoped>\n",
       "    .dataframe tbody tr th:only-of-type {\n",
       "        vertical-align: middle;\n",
       "    }\n",
       "\n",
       "    .dataframe tbody tr th {\n",
       "        vertical-align: top;\n",
       "    }\n",
       "\n",
       "    .dataframe thead th {\n",
       "        text-align: right;\n",
       "    }\n",
       "</style>\n",
       "<table border=\"1\" class=\"dataframe\">\n",
       "  <thead>\n",
       "    <tr style=\"text-align: right;\">\n",
       "      <th></th>\n",
       "      <th>index</th>\n",
       "      <th>Frequency</th>\n",
       "    </tr>\n",
       "  </thead>\n",
       "  <tbody>\n",
       "    <tr>\n",
       "      <th>0</th>\n",
       "      <td>Bubble Tea Shop</td>\n",
       "      <td>2.0</td>\n",
       "    </tr>\n",
       "  </tbody>\n",
       "</table>\n",
       "</div>"
      ],
      "text/plain": [
       "             index  Frequency\n",
       "0  Bubble Tea Shop        2.0"
      ]
     },
     "execution_count": 33,
     "metadata": {},
     "output_type": "execute_result"
    }
   ],
   "source": [
    "print('Number of observed variables: {}'.format(len(Cluster2[Cluster2['Frequency']>0])))\n",
    "Cluster2[Cluster2['Frequency']>0]"
   ]
  },
  {
   "cell_type": "markdown",
   "metadata": {},
   "source": [
    "#### Cluster 3 score"
   ]
  },
  {
   "cell_type": "code",
   "execution_count": 34,
   "metadata": {},
   "outputs": [
    {
     "name": "stdout",
     "output_type": "stream",
     "text": [
      "Number of observed variables: 1\n"
     ]
    },
    {
     "data": {
      "text/html": [
       "<div>\n",
       "<style scoped>\n",
       "    .dataframe tbody tr th:only-of-type {\n",
       "        vertical-align: middle;\n",
       "    }\n",
       "\n",
       "    .dataframe tbody tr th {\n",
       "        vertical-align: top;\n",
       "    }\n",
       "\n",
       "    .dataframe thead th {\n",
       "        text-align: right;\n",
       "    }\n",
       "</style>\n",
       "<table border=\"1\" class=\"dataframe\">\n",
       "  <thead>\n",
       "    <tr style=\"text-align: right;\">\n",
       "      <th></th>\n",
       "      <th>index</th>\n",
       "      <th>Frequency</th>\n",
       "    </tr>\n",
       "  </thead>\n",
       "  <tbody>\n",
       "    <tr>\n",
       "      <th>0</th>\n",
       "      <td>Soccer Field</td>\n",
       "      <td>3.0</td>\n",
       "    </tr>\n",
       "  </tbody>\n",
       "</table>\n",
       "</div>"
      ],
      "text/plain": [
       "          index  Frequency\n",
       "0  Soccer Field        3.0"
      ]
     },
     "execution_count": 34,
     "metadata": {},
     "output_type": "execute_result"
    }
   ],
   "source": [
    "print('Number of observed variables: {}'.format(len(Cluster3[Cluster3['Frequency']>0])))\n",
    "Cluster3[Cluster3['Frequency']>0]"
   ]
  },
  {
   "cell_type": "markdown",
   "metadata": {},
   "source": [
    "#### Cluster 4 score"
   ]
  },
  {
   "cell_type": "code",
   "execution_count": 35,
   "metadata": {},
   "outputs": [
    {
     "name": "stdout",
     "output_type": "stream",
     "text": [
      "Number of observed variables: 193\n"
     ]
    },
    {
     "data": {
      "text/html": [
       "<div>\n",
       "<style scoped>\n",
       "    .dataframe tbody tr th:only-of-type {\n",
       "        vertical-align: middle;\n",
       "    }\n",
       "\n",
       "    .dataframe tbody tr th {\n",
       "        vertical-align: top;\n",
       "    }\n",
       "\n",
       "    .dataframe thead th {\n",
       "        text-align: right;\n",
       "    }\n",
       "</style>\n",
       "<table border=\"1\" class=\"dataframe\">\n",
       "  <thead>\n",
       "    <tr style=\"text-align: right;\">\n",
       "      <th></th>\n",
       "      <th>index</th>\n",
       "      <th>Frequency</th>\n",
       "    </tr>\n",
       "  </thead>\n",
       "  <tbody>\n",
       "    <tr>\n",
       "      <th>0</th>\n",
       "      <td>Café</td>\n",
       "      <td>7.169016</td>\n",
       "    </tr>\n",
       "    <tr>\n",
       "      <th>1</th>\n",
       "      <td>Vietnamese Restaurant</td>\n",
       "      <td>6.707545</td>\n",
       "    </tr>\n",
       "    <tr>\n",
       "      <th>2</th>\n",
       "      <td>Coffee Shop</td>\n",
       "      <td>4.336512</td>\n",
       "    </tr>\n",
       "    <tr>\n",
       "      <th>3</th>\n",
       "      <td>Asian Restaurant</td>\n",
       "      <td>3.296126</td>\n",
       "    </tr>\n",
       "    <tr>\n",
       "      <th>4</th>\n",
       "      <td>Seafood Restaurant</td>\n",
       "      <td>2.136586</td>\n",
       "    </tr>\n",
       "    <tr>\n",
       "      <th>5</th>\n",
       "      <td>Resort</td>\n",
       "      <td>2.066667</td>\n",
       "    </tr>\n",
       "    <tr>\n",
       "      <th>6</th>\n",
       "      <td>Mobile Phone Shop</td>\n",
       "      <td>1.783130</td>\n",
       "    </tr>\n",
       "    <tr>\n",
       "      <th>7</th>\n",
       "      <td>Furniture / Home Store</td>\n",
       "      <td>1.643427</td>\n",
       "    </tr>\n",
       "    <tr>\n",
       "      <th>8</th>\n",
       "      <td>Flea Market</td>\n",
       "      <td>1.545282</td>\n",
       "    </tr>\n",
       "    <tr>\n",
       "      <th>9</th>\n",
       "      <td>Market</td>\n",
       "      <td>1.341936</td>\n",
       "    </tr>\n",
       "    <tr>\n",
       "      <th>10</th>\n",
       "      <td>Music Store</td>\n",
       "      <td>1.341146</td>\n",
       "    </tr>\n",
       "    <tr>\n",
       "      <th>11</th>\n",
       "      <td>Restaurant</td>\n",
       "      <td>1.240575</td>\n",
       "    </tr>\n",
       "    <tr>\n",
       "      <th>12</th>\n",
       "      <td>Park</td>\n",
       "      <td>1.235723</td>\n",
       "    </tr>\n",
       "    <tr>\n",
       "      <th>13</th>\n",
       "      <td>Food Truck</td>\n",
       "      <td>1.171535</td>\n",
       "    </tr>\n",
       "    <tr>\n",
       "      <th>14</th>\n",
       "      <td>Convenience Store</td>\n",
       "      <td>1.142579</td>\n",
       "    </tr>\n",
       "    <tr>\n",
       "      <th>15</th>\n",
       "      <td>Women's Store</td>\n",
       "      <td>1.123306</td>\n",
       "    </tr>\n",
       "    <tr>\n",
       "      <th>16</th>\n",
       "      <td>Chinese Restaurant</td>\n",
       "      <td>1.123278</td>\n",
       "    </tr>\n",
       "    <tr>\n",
       "      <th>17</th>\n",
       "      <td>Fast Food Restaurant</td>\n",
       "      <td>1.120999</td>\n",
       "    </tr>\n",
       "    <tr>\n",
       "      <th>18</th>\n",
       "      <td>Multiplex</td>\n",
       "      <td>1.069574</td>\n",
       "    </tr>\n",
       "    <tr>\n",
       "      <th>19</th>\n",
       "      <td>Arts &amp; Crafts Store</td>\n",
       "      <td>1.062408</td>\n",
       "    </tr>\n",
       "    <tr>\n",
       "      <th>20</th>\n",
       "      <td>Flower Shop</td>\n",
       "      <td>1.054256</td>\n",
       "    </tr>\n",
       "    <tr>\n",
       "      <th>21</th>\n",
       "      <td>Breakfast Spot</td>\n",
       "      <td>1.047794</td>\n",
       "    </tr>\n",
       "    <tr>\n",
       "      <th>22</th>\n",
       "      <td>Garden Center</td>\n",
       "      <td>1.023774</td>\n",
       "    </tr>\n",
       "    <tr>\n",
       "      <th>23</th>\n",
       "      <td>Hotel</td>\n",
       "      <td>1.022768</td>\n",
       "    </tr>\n",
       "    <tr>\n",
       "      <th>24</th>\n",
       "      <td>Campground</td>\n",
       "      <td>1.020771</td>\n",
       "    </tr>\n",
       "    <tr>\n",
       "      <th>25</th>\n",
       "      <td>Cafeteria</td>\n",
       "      <td>1.012309</td>\n",
       "    </tr>\n",
       "    <tr>\n",
       "      <th>26</th>\n",
       "      <td>Tunnel</td>\n",
       "      <td>1.000000</td>\n",
       "    </tr>\n",
       "    <tr>\n",
       "      <th>27</th>\n",
       "      <td>Food</td>\n",
       "      <td>0.997833</td>\n",
       "    </tr>\n",
       "    <tr>\n",
       "      <th>28</th>\n",
       "      <td>Shopping Mall</td>\n",
       "      <td>0.942543</td>\n",
       "    </tr>\n",
       "    <tr>\n",
       "      <th>29</th>\n",
       "      <td>Bakery</td>\n",
       "      <td>0.889803</td>\n",
       "    </tr>\n",
       "    <tr>\n",
       "      <th>...</th>\n",
       "      <td>...</td>\n",
       "      <td>...</td>\n",
       "    </tr>\n",
       "    <tr>\n",
       "      <th>163</th>\n",
       "      <td>Jewelry Store</td>\n",
       "      <td>0.014756</td>\n",
       "    </tr>\n",
       "    <tr>\n",
       "      <th>164</th>\n",
       "      <td>Boutique</td>\n",
       "      <td>0.014401</td>\n",
       "    </tr>\n",
       "    <tr>\n",
       "      <th>165</th>\n",
       "      <td>Bagel Shop</td>\n",
       "      <td>0.014045</td>\n",
       "    </tr>\n",
       "    <tr>\n",
       "      <th>166</th>\n",
       "      <td>Outdoors &amp; Recreation</td>\n",
       "      <td>0.013593</td>\n",
       "    </tr>\n",
       "    <tr>\n",
       "      <th>167</th>\n",
       "      <td>Gourmet Shop</td>\n",
       "      <td>0.012195</td>\n",
       "    </tr>\n",
       "    <tr>\n",
       "      <th>168</th>\n",
       "      <td>Argentinian Restaurant</td>\n",
       "      <td>0.012195</td>\n",
       "    </tr>\n",
       "    <tr>\n",
       "      <th>169</th>\n",
       "      <td>North Indian Restaurant</td>\n",
       "      <td>0.012195</td>\n",
       "    </tr>\n",
       "    <tr>\n",
       "      <th>170</th>\n",
       "      <td>Building</td>\n",
       "      <td>0.011765</td>\n",
       "    </tr>\n",
       "    <tr>\n",
       "      <th>171</th>\n",
       "      <td>Airport Terminal</td>\n",
       "      <td>0.010870</td>\n",
       "    </tr>\n",
       "    <tr>\n",
       "      <th>172</th>\n",
       "      <td>Paper / Office Supplies Store</td>\n",
       "      <td>0.010870</td>\n",
       "    </tr>\n",
       "    <tr>\n",
       "      <th>173</th>\n",
       "      <td>Arts &amp; Entertainment</td>\n",
       "      <td>0.010000</td>\n",
       "    </tr>\n",
       "    <tr>\n",
       "      <th>174</th>\n",
       "      <td>Brazilian Restaurant</td>\n",
       "      <td>0.010000</td>\n",
       "    </tr>\n",
       "    <tr>\n",
       "      <th>175</th>\n",
       "      <td>Motel</td>\n",
       "      <td>0.010000</td>\n",
       "    </tr>\n",
       "    <tr>\n",
       "      <th>176</th>\n",
       "      <td>Sporting Goods Shop</td>\n",
       "      <td>0.009901</td>\n",
       "    </tr>\n",
       "    <tr>\n",
       "      <th>177</th>\n",
       "      <td>Garden</td>\n",
       "      <td>0.009901</td>\n",
       "    </tr>\n",
       "    <tr>\n",
       "      <th>178</th>\n",
       "      <td>Performing Arts Venue</td>\n",
       "      <td>0.009901</td>\n",
       "    </tr>\n",
       "    <tr>\n",
       "      <th>179</th>\n",
       "      <td>Lake</td>\n",
       "      <td>0.008621</td>\n",
       "    </tr>\n",
       "    <tr>\n",
       "      <th>180</th>\n",
       "      <td>Badminton Court</td>\n",
       "      <td>0.008065</td>\n",
       "    </tr>\n",
       "    <tr>\n",
       "      <th>181</th>\n",
       "      <td>Track Stadium</td>\n",
       "      <td>0.008065</td>\n",
       "    </tr>\n",
       "    <tr>\n",
       "      <th>182</th>\n",
       "      <td>Plaza</td>\n",
       "      <td>0.008065</td>\n",
       "    </tr>\n",
       "    <tr>\n",
       "      <th>183</th>\n",
       "      <td>Shop &amp; Service</td>\n",
       "      <td>0.008065</td>\n",
       "    </tr>\n",
       "    <tr>\n",
       "      <th>184</th>\n",
       "      <td>Auto Garage</td>\n",
       "      <td>0.007812</td>\n",
       "    </tr>\n",
       "    <tr>\n",
       "      <th>185</th>\n",
       "      <td>Men's Store</td>\n",
       "      <td>0.007812</td>\n",
       "    </tr>\n",
       "    <tr>\n",
       "      <th>186</th>\n",
       "      <td>Theme Park Ride / Attraction</td>\n",
       "      <td>0.007407</td>\n",
       "    </tr>\n",
       "    <tr>\n",
       "      <th>187</th>\n",
       "      <td>Theme Park</td>\n",
       "      <td>0.007407</td>\n",
       "    </tr>\n",
       "    <tr>\n",
       "      <th>188</th>\n",
       "      <td>Soccer Field</td>\n",
       "      <td>0.006452</td>\n",
       "    </tr>\n",
       "    <tr>\n",
       "      <th>189</th>\n",
       "      <td>Organic Grocery</td>\n",
       "      <td>0.006452</td>\n",
       "    </tr>\n",
       "    <tr>\n",
       "      <th>190</th>\n",
       "      <td>Buffet</td>\n",
       "      <td>0.006061</td>\n",
       "    </tr>\n",
       "    <tr>\n",
       "      <th>191</th>\n",
       "      <td>Pier</td>\n",
       "      <td>0.006061</td>\n",
       "    </tr>\n",
       "    <tr>\n",
       "      <th>192</th>\n",
       "      <td>Stadium</td>\n",
       "      <td>0.004902</td>\n",
       "    </tr>\n",
       "  </tbody>\n",
       "</table>\n",
       "<p>193 rows × 2 columns</p>\n",
       "</div>"
      ],
      "text/plain": [
       "                             index  Frequency\n",
       "0                             Café   7.169016\n",
       "1            Vietnamese Restaurant   6.707545\n",
       "2                      Coffee Shop   4.336512\n",
       "3                 Asian Restaurant   3.296126\n",
       "4               Seafood Restaurant   2.136586\n",
       "5                           Resort   2.066667\n",
       "6                Mobile Phone Shop   1.783130\n",
       "7           Furniture / Home Store   1.643427\n",
       "8                      Flea Market   1.545282\n",
       "9                           Market   1.341936\n",
       "10                     Music Store   1.341146\n",
       "11                      Restaurant   1.240575\n",
       "12                            Park   1.235723\n",
       "13                      Food Truck   1.171535\n",
       "14               Convenience Store   1.142579\n",
       "15                   Women's Store   1.123306\n",
       "16              Chinese Restaurant   1.123278\n",
       "17            Fast Food Restaurant   1.120999\n",
       "18                       Multiplex   1.069574\n",
       "19             Arts & Crafts Store   1.062408\n",
       "20                     Flower Shop   1.054256\n",
       "21                  Breakfast Spot   1.047794\n",
       "22                   Garden Center   1.023774\n",
       "23                           Hotel   1.022768\n",
       "24                      Campground   1.020771\n",
       "25                       Cafeteria   1.012309\n",
       "26                          Tunnel   1.000000\n",
       "27                            Food   0.997833\n",
       "28                   Shopping Mall   0.942543\n",
       "29                          Bakery   0.889803\n",
       "..                             ...        ...\n",
       "163                  Jewelry Store   0.014756\n",
       "164                       Boutique   0.014401\n",
       "165                     Bagel Shop   0.014045\n",
       "166          Outdoors & Recreation   0.013593\n",
       "167                   Gourmet Shop   0.012195\n",
       "168         Argentinian Restaurant   0.012195\n",
       "169        North Indian Restaurant   0.012195\n",
       "170                       Building   0.011765\n",
       "171               Airport Terminal   0.010870\n",
       "172  Paper / Office Supplies Store   0.010870\n",
       "173           Arts & Entertainment   0.010000\n",
       "174           Brazilian Restaurant   0.010000\n",
       "175                          Motel   0.010000\n",
       "176            Sporting Goods Shop   0.009901\n",
       "177                         Garden   0.009901\n",
       "178          Performing Arts Venue   0.009901\n",
       "179                           Lake   0.008621\n",
       "180                Badminton Court   0.008065\n",
       "181                  Track Stadium   0.008065\n",
       "182                          Plaza   0.008065\n",
       "183                 Shop & Service   0.008065\n",
       "184                    Auto Garage   0.007812\n",
       "185                    Men's Store   0.007812\n",
       "186   Theme Park Ride / Attraction   0.007407\n",
       "187                     Theme Park   0.007407\n",
       "188                   Soccer Field   0.006452\n",
       "189                Organic Grocery   0.006452\n",
       "190                         Buffet   0.006061\n",
       "191                           Pier   0.006061\n",
       "192                        Stadium   0.004902\n",
       "\n",
       "[193 rows x 2 columns]"
      ]
     },
     "execution_count": 35,
     "metadata": {},
     "output_type": "execute_result"
    }
   ],
   "source": [
    "print('Number of observed variables: {}'.format(len(Cluster4[Cluster4['Frequency']>0])))\n",
    "Cluster4[Cluster4['Frequency']>0]"
   ]
  },
  {
   "cell_type": "markdown",
   "metadata": {},
   "source": [
    "From the descriptive analysis, we can call each cluster as<br>\n",
    "**Cluster 0**: Commercial zone<br>\n",
    "**Cluster 1**: Cafe zone<br>\n",
    "**Cluster 2**: Tea shop<br>\n",
    "**Cluster 3**: Sport facility<br>\n",
    "**Cluster 4**: Most vibrant neighborhood<br><br>\n",
    "It seems that the extent of vibrance of neighrhood is ordered by **Cluster 4**, followed by **Cluster 0**.<br>\n",
    "We will look into the number of cafe in each neighborhood in the cluster whether the cafe is underrepresented in the neighborhood."
   ]
  },
  {
   "cell_type": "markdown",
   "metadata": {},
   "source": [
    "## Deeper analysis of finding a good cafe location where underrepresents the number of cafe."
   ]
  },
  {
   "cell_type": "code",
   "execution_count": 162,
   "metadata": {},
   "outputs": [],
   "source": [
    "# Create mask of finding cafe/coffee shop\n",
    "mask1 = HCMC_merged['1st Most Common Venue'].str.contains('Café', case = False)|HCMC_merged['1st Most Common Venue'].str.contains('Coffee', case = False)\n",
    "mask2 = HCMC_merged['2nd Most Common Venue'].str.contains('Café', case = False)|HCMC_merged['2nd Most Common Venue'].str.contains('Coffee', case = False)\n",
    "mask3 = HCMC_merged['3rd Most Common Venue'].str.contains('Café', case = False)|HCMC_merged['3rd Most Common Venue'].str.contains('Coffee', case = False)\n",
    "mask4 = HCMC_merged['4th Most Common Venue'].str.contains('Café', case = False)|HCMC_merged['4th Most Common Venue'].str.contains('Coffee', case = False)\n",
    "mask5 = HCMC_merged['5th Most Common Venue'].str.contains('Café', case = False)|HCMC_merged['5th Most Common Venue'].str.contains('Coffee', case = False)\n",
    "mask6 = HCMC_merged['6th Most Common Venue'].str.contains('Café', case = False)|HCMC_merged['6th Most Common Venue'].str.contains('Coffee', case = False)\n",
    "mask7 = HCMC_merged['7th Most Common Venue'].str.contains('Café', case = False)|HCMC_merged['7th Most Common Venue'].str.contains('Coffee', case = False)\n",
    "mask8 = HCMC_merged['8th Most Common Venue'].str.contains('Café', case = False)|HCMC_merged['8th Most Common Venue'].str.contains('Coffee', case = False)\n",
    "mask9 = HCMC_merged['9th Most Common Venue'].str.contains('Café', case = False)|HCMC_merged['9th Most Common Venue'].str.contains('Coffee', case = False)\n",
    "mask10 = HCMC_merged['10th Most Common Venue'].str.contains('Café', case = False)|HCMC_merged['10th Most Common Venue'].str.contains('Coffee', case = False)"
   ]
  },
  {
   "cell_type": "code",
   "execution_count": 150,
   "metadata": {},
   "outputs": [],
   "source": [
    "# Create multiple masks\n",
    "mask_merged = mask1 | mask2 | mask3 | mask4| mask5 | mask6 | mask7 | mask8 | mask9 | mask10"
   ]
  },
  {
   "cell_type": "code",
   "execution_count": 163,
   "metadata": {},
   "outputs": [
    {
     "name": "stdout",
     "output_type": "stream",
     "text": [
      "Number of neighborhood which underrepresents cafe: 50\n",
      "Number of neighborhood with less cafe by cluster:\n",
      "4    30\n",
      "0    14\n",
      "3     3\n",
      "2     3\n",
      "Name: Cluster Labels, dtype: int64\n"
     ]
    },
    {
     "data": {
      "text/html": [
       "<div>\n",
       "<style scoped>\n",
       "    .dataframe tbody tr th:only-of-type {\n",
       "        vertical-align: middle;\n",
       "    }\n",
       "\n",
       "    .dataframe tbody tr th {\n",
       "        vertical-align: top;\n",
       "    }\n",
       "\n",
       "    .dataframe thead th {\n",
       "        text-align: right;\n",
       "    }\n",
       "</style>\n",
       "<table border=\"1\" class=\"dataframe\">\n",
       "  <thead>\n",
       "    <tr style=\"text-align: right;\">\n",
       "      <th></th>\n",
       "      <th>District</th>\n",
       "      <th>Province</th>\n",
       "      <th>Neighborhood</th>\n",
       "      <th>geometry</th>\n",
       "      <th>centroid</th>\n",
       "      <th>latitude</th>\n",
       "      <th>longitude</th>\n",
       "      <th>Cluster Labels</th>\n",
       "      <th>1st Most Common Venue</th>\n",
       "      <th>2nd Most Common Venue</th>\n",
       "      <th>3rd Most Common Venue</th>\n",
       "      <th>4th Most Common Venue</th>\n",
       "      <th>5th Most Common Venue</th>\n",
       "      <th>6th Most Common Venue</th>\n",
       "      <th>7th Most Common Venue</th>\n",
       "      <th>8th Most Common Venue</th>\n",
       "      <th>9th Most Common Venue</th>\n",
       "      <th>10th Most Common Venue</th>\n",
       "    </tr>\n",
       "  </thead>\n",
       "  <tbody>\n",
       "    <tr>\n",
       "      <th>30</th>\n",
       "      <td>District 1</td>\n",
       "      <td>Ho Chi Minh City</td>\n",
       "      <td>Co Giang Ward</td>\n",
       "      <td>POLYGON ((106.692676706 10.75829129200002, 106...</td>\n",
       "      <td>POINT (106.6936450244931 10.76227690306983)</td>\n",
       "      <td>10.762277</td>\n",
       "      <td>106.693645</td>\n",
       "      <td>4</td>\n",
       "      <td>Vietnamese Restaurant</td>\n",
       "      <td>Hotel</td>\n",
       "      <td>Japanese Restaurant</td>\n",
       "      <td>Spa</td>\n",
       "      <td>Vegetarian / Vegan Restaurant</td>\n",
       "      <td>Italian Restaurant</td>\n",
       "      <td>Food</td>\n",
       "      <td>Steakhouse</td>\n",
       "      <td>Seafood Restaurant</td>\n",
       "      <td>Diner</td>\n",
       "    </tr>\n",
       "    <tr>\n",
       "      <th>46</th>\n",
       "      <td>District 12</td>\n",
       "      <td>Ho Chi Minh City</td>\n",
       "      <td>Hiep Thanh Ward</td>\n",
       "      <td>POLYGON ((106.648776566 10.88116467700007, 106...</td>\n",
       "      <td>POINT (106.6390836419628 10.88082166560549)</td>\n",
       "      <td>10.880822</td>\n",
       "      <td>106.639084</td>\n",
       "      <td>4</td>\n",
       "      <td>Supermarket</td>\n",
       "      <td>Flea Market</td>\n",
       "      <td>IT Services</td>\n",
       "      <td>Vietnamese Restaurant</td>\n",
       "      <td>Cosmetics Shop</td>\n",
       "      <td>Bus Station</td>\n",
       "      <td>Diner</td>\n",
       "      <td>Fish &amp; Chips Shop</td>\n",
       "      <td>Fast Food Restaurant</td>\n",
       "      <td>Farmers Market</td>\n",
       "    </tr>\n",
       "    <tr>\n",
       "      <th>49</th>\n",
       "      <td>District 7</td>\n",
       "      <td>Ho Chi Minh City</td>\n",
       "      <td>Tan Thuan Dong Ward</td>\n",
       "      <td>POLYGON ((106.7447795150001 10.75098199700005,...</td>\n",
       "      <td>POINT (106.738872758164 10.75845761954247)</td>\n",
       "      <td>10.758458</td>\n",
       "      <td>106.738873</td>\n",
       "      <td>0</td>\n",
       "      <td>Home Service</td>\n",
       "      <td>Vietnamese Restaurant</td>\n",
       "      <td>Yoga Studio</td>\n",
       "      <td>Diner</td>\n",
       "      <td>Flea Market</td>\n",
       "      <td>Fish &amp; Chips Shop</td>\n",
       "      <td>Fast Food Restaurant</td>\n",
       "      <td>Farmers Market</td>\n",
       "      <td>Farm</td>\n",
       "      <td>Electronics Store</td>\n",
       "    </tr>\n",
       "    <tr>\n",
       "      <th>56</th>\n",
       "      <td>District 9</td>\n",
       "      <td>Ho Chi Minh City</td>\n",
       "      <td>Long Thanh My Ward</td>\n",
       "      <td>POLYGON ((106.8362108490001 10.85404151100005,...</td>\n",
       "      <td>POINT (106.8215053558466 10.84416381322933)</td>\n",
       "      <td>10.844164</td>\n",
       "      <td>106.821505</td>\n",
       "      <td>4</td>\n",
       "      <td>Fountain</td>\n",
       "      <td>Furniture / Home Store</td>\n",
       "      <td>Yoga Studio</td>\n",
       "      <td>Dive Bar</td>\n",
       "      <td>Flea Market</td>\n",
       "      <td>Fish &amp; Chips Shop</td>\n",
       "      <td>Fast Food Restaurant</td>\n",
       "      <td>Farmers Market</td>\n",
       "      <td>Farm</td>\n",
       "      <td>Electronics Store</td>\n",
       "    </tr>\n",
       "    <tr>\n",
       "      <th>58</th>\n",
       "      <td>District 9</td>\n",
       "      <td>Ho Chi Minh City</td>\n",
       "      <td>Hiep Phu Ward</td>\n",
       "      <td>POLYGON ((106.7878689980001 10.85491180900004,...</td>\n",
       "      <td>POINT (106.7799119460613 10.84758357512883)</td>\n",
       "      <td>10.847584</td>\n",
       "      <td>106.779912</td>\n",
       "      <td>0</td>\n",
       "      <td>Vietnamese Restaurant</td>\n",
       "      <td>Convenience Store</td>\n",
       "      <td>Shopping Mall</td>\n",
       "      <td>Yoga Studio</td>\n",
       "      <td>Diner</td>\n",
       "      <td>Fish &amp; Chips Shop</td>\n",
       "      <td>Fast Food Restaurant</td>\n",
       "      <td>Farmers Market</td>\n",
       "      <td>Farm</td>\n",
       "      <td>Electronics Store</td>\n",
       "    </tr>\n",
       "  </tbody>\n",
       "</table>\n",
       "</div>"
      ],
      "text/plain": [
       "       District          Province         Neighborhood  \\\n",
       "30   District 1  Ho Chi Minh City        Co Giang Ward   \n",
       "46  District 12  Ho Chi Minh City      Hiep Thanh Ward   \n",
       "49   District 7  Ho Chi Minh City  Tan Thuan Dong Ward   \n",
       "56   District 9  Ho Chi Minh City   Long Thanh My Ward   \n",
       "58   District 9  Ho Chi Minh City        Hiep Phu Ward   \n",
       "\n",
       "                                             geometry  \\\n",
       "30  POLYGON ((106.692676706 10.75829129200002, 106...   \n",
       "46  POLYGON ((106.648776566 10.88116467700007, 106...   \n",
       "49  POLYGON ((106.7447795150001 10.75098199700005,...   \n",
       "56  POLYGON ((106.8362108490001 10.85404151100005,...   \n",
       "58  POLYGON ((106.7878689980001 10.85491180900004,...   \n",
       "\n",
       "                                       centroid   latitude   longitude  \\\n",
       "30  POINT (106.6936450244931 10.76227690306983)  10.762277  106.693645   \n",
       "46  POINT (106.6390836419628 10.88082166560549)  10.880822  106.639084   \n",
       "49   POINT (106.738872758164 10.75845761954247)  10.758458  106.738873   \n",
       "56  POINT (106.8215053558466 10.84416381322933)  10.844164  106.821505   \n",
       "58  POINT (106.7799119460613 10.84758357512883)  10.847584  106.779912   \n",
       "\n",
       "    Cluster Labels  1st Most Common Venue   2nd Most Common Venue  \\\n",
       "30               4  Vietnamese Restaurant                   Hotel   \n",
       "46               4            Supermarket             Flea Market   \n",
       "49               0           Home Service   Vietnamese Restaurant   \n",
       "56               4               Fountain  Furniture / Home Store   \n",
       "58               0  Vietnamese Restaurant       Convenience Store   \n",
       "\n",
       "   3rd Most Common Venue  4th Most Common Venue  \\\n",
       "30   Japanese Restaurant                    Spa   \n",
       "46           IT Services  Vietnamese Restaurant   \n",
       "49           Yoga Studio                  Diner   \n",
       "56           Yoga Studio               Dive Bar   \n",
       "58         Shopping Mall            Yoga Studio   \n",
       "\n",
       "            5th Most Common Venue 6th Most Common Venue 7th Most Common Venue  \\\n",
       "30  Vegetarian / Vegan Restaurant    Italian Restaurant                  Food   \n",
       "46                 Cosmetics Shop           Bus Station                 Diner   \n",
       "49                    Flea Market     Fish & Chips Shop  Fast Food Restaurant   \n",
       "56                    Flea Market     Fish & Chips Shop  Fast Food Restaurant   \n",
       "58                          Diner     Fish & Chips Shop  Fast Food Restaurant   \n",
       "\n",
       "   8th Most Common Venue 9th Most Common Venue 10th Most Common Venue  \n",
       "30            Steakhouse    Seafood Restaurant                  Diner  \n",
       "46     Fish & Chips Shop  Fast Food Restaurant         Farmers Market  \n",
       "49        Farmers Market                  Farm      Electronics Store  \n",
       "56        Farmers Market                  Farm      Electronics Store  \n",
       "58        Farmers Market                  Farm      Electronics Store  "
      ]
     },
     "execution_count": 163,
     "metadata": {},
     "output_type": "execute_result"
    }
   ],
   "source": [
    "# find underrepresenting cafe in HCMC\n",
    "HCMC_cafe_underrepresented = HCMC_merged[~mask_merged]\n",
    "print('Number of neighborhood which underrepresents cafe: {}'.format(HCMC_cafe_underrepresented.shape[0]))\n",
    "print('Number of neighborhood with less cafe by cluster:\\n{}'.format(HCMC_cafe_underrepresented['Cluster Labels'].value_counts()))\n",
    "HCMC_cafe_underrepresented.head()"
   ]
  },
  {
   "cell_type": "markdown",
   "metadata": {},
   "source": [
    "As is observed in the above, we have 30 neighborhoods in cluster 4 which have a higher likelihood that the cafe will thrive because of less competition in the neighborhood."
   ]
  },
  {
   "cell_type": "markdown",
   "metadata": {},
   "source": [
    "## Visualizing the final short-list neighborhood for opening a new cafe."
   ]
  },
  {
   "cell_type": "code",
   "execution_count": 165,
   "metadata": {},
   "outputs": [
    {
     "data": {
      "text/html": [
       "<div>\n",
       "<style scoped>\n",
       "    .dataframe tbody tr th:only-of-type {\n",
       "        vertical-align: middle;\n",
       "    }\n",
       "\n",
       "    .dataframe tbody tr th {\n",
       "        vertical-align: top;\n",
       "    }\n",
       "\n",
       "    .dataframe thead th {\n",
       "        text-align: right;\n",
       "    }\n",
       "</style>\n",
       "<table border=\"1\" class=\"dataframe\">\n",
       "  <thead>\n",
       "    <tr style=\"text-align: right;\">\n",
       "      <th></th>\n",
       "      <th>District</th>\n",
       "      <th>Province</th>\n",
       "      <th>Neighborhood</th>\n",
       "      <th>geometry</th>\n",
       "      <th>centroid</th>\n",
       "      <th>latitude</th>\n",
       "      <th>longitude</th>\n",
       "      <th>Cluster Labels</th>\n",
       "      <th>1st Most Common Venue</th>\n",
       "      <th>2nd Most Common Venue</th>\n",
       "      <th>3rd Most Common Venue</th>\n",
       "      <th>4th Most Common Venue</th>\n",
       "      <th>5th Most Common Venue</th>\n",
       "      <th>6th Most Common Venue</th>\n",
       "      <th>7th Most Common Venue</th>\n",
       "      <th>8th Most Common Venue</th>\n",
       "      <th>9th Most Common Venue</th>\n",
       "      <th>10th Most Common Venue</th>\n",
       "    </tr>\n",
       "  </thead>\n",
       "  <tbody>\n",
       "    <tr>\n",
       "      <th>30</th>\n",
       "      <td>District 1</td>\n",
       "      <td>Ho Chi Minh City</td>\n",
       "      <td>Co Giang Ward</td>\n",
       "      <td>POLYGON ((106.692676706 10.75829129200002, 106...</td>\n",
       "      <td>POINT (106.6936450244931 10.76227690306983)</td>\n",
       "      <td>10.762277</td>\n",
       "      <td>106.693645</td>\n",
       "      <td>4</td>\n",
       "      <td>Vietnamese Restaurant</td>\n",
       "      <td>Hotel</td>\n",
       "      <td>Japanese Restaurant</td>\n",
       "      <td>Spa</td>\n",
       "      <td>Vegetarian / Vegan Restaurant</td>\n",
       "      <td>Italian Restaurant</td>\n",
       "      <td>Food</td>\n",
       "      <td>Steakhouse</td>\n",
       "      <td>Seafood Restaurant</td>\n",
       "      <td>Diner</td>\n",
       "    </tr>\n",
       "    <tr>\n",
       "      <th>46</th>\n",
       "      <td>District 12</td>\n",
       "      <td>Ho Chi Minh City</td>\n",
       "      <td>Hiep Thanh Ward</td>\n",
       "      <td>POLYGON ((106.648776566 10.88116467700007, 106...</td>\n",
       "      <td>POINT (106.6390836419628 10.88082166560549)</td>\n",
       "      <td>10.880822</td>\n",
       "      <td>106.639084</td>\n",
       "      <td>4</td>\n",
       "      <td>Supermarket</td>\n",
       "      <td>Flea Market</td>\n",
       "      <td>IT Services</td>\n",
       "      <td>Vietnamese Restaurant</td>\n",
       "      <td>Cosmetics Shop</td>\n",
       "      <td>Bus Station</td>\n",
       "      <td>Diner</td>\n",
       "      <td>Fish &amp; Chips Shop</td>\n",
       "      <td>Fast Food Restaurant</td>\n",
       "      <td>Farmers Market</td>\n",
       "    </tr>\n",
       "    <tr>\n",
       "      <th>56</th>\n",
       "      <td>District 9</td>\n",
       "      <td>Ho Chi Minh City</td>\n",
       "      <td>Long Thanh My Ward</td>\n",
       "      <td>POLYGON ((106.8362108490001 10.85404151100005,...</td>\n",
       "      <td>POINT (106.8215053558466 10.84416381322933)</td>\n",
       "      <td>10.844164</td>\n",
       "      <td>106.821505</td>\n",
       "      <td>4</td>\n",
       "      <td>Fountain</td>\n",
       "      <td>Furniture / Home Store</td>\n",
       "      <td>Yoga Studio</td>\n",
       "      <td>Dive Bar</td>\n",
       "      <td>Flea Market</td>\n",
       "      <td>Fish &amp; Chips Shop</td>\n",
       "      <td>Fast Food Restaurant</td>\n",
       "      <td>Farmers Market</td>\n",
       "      <td>Farm</td>\n",
       "      <td>Electronics Store</td>\n",
       "    </tr>\n",
       "    <tr>\n",
       "      <th>62</th>\n",
       "      <td>District 9</td>\n",
       "      <td>Ho Chi Minh City</td>\n",
       "      <td>Phuoc Long A Ward</td>\n",
       "      <td>POLYGON ((106.769650873 10.81991894300006, 106...</td>\n",
       "      <td>POINT (106.7644933280875 10.82120817625989)</td>\n",
       "      <td>10.821208</td>\n",
       "      <td>106.764493</td>\n",
       "      <td>4</td>\n",
       "      <td>Campground</td>\n",
       "      <td>Yoga Studio</td>\n",
       "      <td>Diner</td>\n",
       "      <td>Flea Market</td>\n",
       "      <td>Fish &amp; Chips Shop</td>\n",
       "      <td>Fast Food Restaurant</td>\n",
       "      <td>Farmers Market</td>\n",
       "      <td>Farm</td>\n",
       "      <td>Electronics Store</td>\n",
       "      <td>Eastern European Restaurant</td>\n",
       "    </tr>\n",
       "    <tr>\n",
       "      <th>63</th>\n",
       "      <td>District 9</td>\n",
       "      <td>Ho Chi Minh City</td>\n",
       "      <td>Truong Thanh Ward</td>\n",
       "      <td>POLYGON ((106.8247377630001 10.82564057900004,...</td>\n",
       "      <td>POINT (106.8299168843199 10.81192604083095)</td>\n",
       "      <td>10.811926</td>\n",
       "      <td>106.829917</td>\n",
       "      <td>4</td>\n",
       "      <td>Furniture / Home Store</td>\n",
       "      <td>Yoga Studio</td>\n",
       "      <td>Food</td>\n",
       "      <td>Flea Market</td>\n",
       "      <td>Fish &amp; Chips Shop</td>\n",
       "      <td>Fast Food Restaurant</td>\n",
       "      <td>Farmers Market</td>\n",
       "      <td>Farm</td>\n",
       "      <td>Electronics Store</td>\n",
       "      <td>Eastern European Restaurant</td>\n",
       "    </tr>\n",
       "  </tbody>\n",
       "</table>\n",
       "</div>"
      ],
      "text/plain": [
       "       District          Province        Neighborhood  \\\n",
       "30   District 1  Ho Chi Minh City       Co Giang Ward   \n",
       "46  District 12  Ho Chi Minh City     Hiep Thanh Ward   \n",
       "56   District 9  Ho Chi Minh City  Long Thanh My Ward   \n",
       "62   District 9  Ho Chi Minh City   Phuoc Long A Ward   \n",
       "63   District 9  Ho Chi Minh City   Truong Thanh Ward   \n",
       "\n",
       "                                             geometry  \\\n",
       "30  POLYGON ((106.692676706 10.75829129200002, 106...   \n",
       "46  POLYGON ((106.648776566 10.88116467700007, 106...   \n",
       "56  POLYGON ((106.8362108490001 10.85404151100005,...   \n",
       "62  POLYGON ((106.769650873 10.81991894300006, 106...   \n",
       "63  POLYGON ((106.8247377630001 10.82564057900004,...   \n",
       "\n",
       "                                       centroid   latitude   longitude  \\\n",
       "30  POINT (106.6936450244931 10.76227690306983)  10.762277  106.693645   \n",
       "46  POINT (106.6390836419628 10.88082166560549)  10.880822  106.639084   \n",
       "56  POINT (106.8215053558466 10.84416381322933)  10.844164  106.821505   \n",
       "62  POINT (106.7644933280875 10.82120817625989)  10.821208  106.764493   \n",
       "63  POINT (106.8299168843199 10.81192604083095)  10.811926  106.829917   \n",
       "\n",
       "    Cluster Labels   1st Most Common Venue   2nd Most Common Venue  \\\n",
       "30               4   Vietnamese Restaurant                   Hotel   \n",
       "46               4             Supermarket             Flea Market   \n",
       "56               4                Fountain  Furniture / Home Store   \n",
       "62               4              Campground             Yoga Studio   \n",
       "63               4  Furniture / Home Store             Yoga Studio   \n",
       "\n",
       "   3rd Most Common Venue  4th Most Common Venue  \\\n",
       "30   Japanese Restaurant                    Spa   \n",
       "46           IT Services  Vietnamese Restaurant   \n",
       "56           Yoga Studio               Dive Bar   \n",
       "62                 Diner            Flea Market   \n",
       "63                  Food            Flea Market   \n",
       "\n",
       "            5th Most Common Venue 6th Most Common Venue 7th Most Common Venue  \\\n",
       "30  Vegetarian / Vegan Restaurant    Italian Restaurant                  Food   \n",
       "46                 Cosmetics Shop           Bus Station                 Diner   \n",
       "56                    Flea Market     Fish & Chips Shop  Fast Food Restaurant   \n",
       "62              Fish & Chips Shop  Fast Food Restaurant        Farmers Market   \n",
       "63              Fish & Chips Shop  Fast Food Restaurant        Farmers Market   \n",
       "\n",
       "   8th Most Common Venue 9th Most Common Venue       10th Most Common Venue  \n",
       "30            Steakhouse    Seafood Restaurant                        Diner  \n",
       "46     Fish & Chips Shop  Fast Food Restaurant               Farmers Market  \n",
       "56        Farmers Market                  Farm            Electronics Store  \n",
       "62                  Farm     Electronics Store  Eastern European Restaurant  \n",
       "63                  Farm     Electronics Store  Eastern European Restaurant  "
      ]
     },
     "execution_count": 165,
     "metadata": {},
     "output_type": "execute_result"
    }
   ],
   "source": [
    "# Select the neighborhood of Cluster 4 which underrepresents Cafe.\n",
    "Cluster4_no_cafe = HCMC_cafe_underrepresented[HCMC_cafe_underrepresented['Cluster Labels'] == 4]\n",
    "Cluster4_no_cafe.head()"
   ]
  },
  {
   "cell_type": "markdown",
   "metadata": {},
   "source": [
    "Visualizing the location with folium."
   ]
  },
  {
   "cell_type": "code",
   "execution_count": 161,
   "metadata": {},
   "outputs": [
    {
     "data": {
      "text/html": [
       "<div style=\"width:100%;\"><div style=\"position:relative;width:100%;height:0;padding-bottom:60%;\"><iframe src=\"data:text/html;charset=utf-8;base64,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\" style=\"position:absolute;width:100%;height:100%;left:0;top:0;border:none !important;\" allowfullscreen webkitallowfullscreen mozallowfullscreen></iframe></div></div>"
      ],
      "text/plain": [
       "<folium.folium.Map at 0x231e61a8710>"
      ]
     },
     "execution_count": 161,
     "metadata": {},
     "output_type": "execute_result"
    }
   ],
   "source": [
    "# create map\n",
    "map_clusters = folium.Map(location=[latitude, longitude], zoom_start=11)\n",
    "\n",
    "# set color scheme for the clusters\n",
    "x = np.arange(kclusters)\n",
    "ys = [i + x + (i*x)**2 for i in range(kclusters)]\n",
    "\n",
    "# add markers to the map\n",
    "markers_colors = []\n",
    "for lat, lon, poi, cluster in zip(Cluster4_no_cafe['latitude'], Cluster4_no_cafe['longitude'], Cluster4_no_cafe['Neighborhood'], Cluster4_no_cafe['Cluster Labels']):\n",
    "    label = folium.Popup(str(poi) + ' Cluster ' + str(cluster), parse_html=True)\n",
    "    folium.CircleMarker(\n",
    "        [lat, lon],\n",
    "        radius=5,\n",
    "        popup=label,\n",
    "        color='red',\n",
    "        fill=True,\n",
    "        fill_color=rainbow[cluster-1],\n",
    "        fill_opacity=0.7).add_to(map_clusters)\n",
    "       \n",
    "map_clusters"
   ]
  },
  {
   "cell_type": "code",
   "execution_count": null,
   "metadata": {},
   "outputs": [],
   "source": []
  }
 ],
 "metadata": {
  "kernelspec": {
   "display_name": "Python 3",
   "language": "python",
   "name": "python3"
  },
  "language_info": {
   "codemirror_mode": {
    "name": "ipython",
    "version": 3
   },
   "file_extension": ".py",
   "mimetype": "text/x-python",
   "name": "python",
   "nbconvert_exporter": "python",
   "pygments_lexer": "ipython3",
   "version": "3.6.7"
  }
 },
 "nbformat": 4,
 "nbformat_minor": 2
}
